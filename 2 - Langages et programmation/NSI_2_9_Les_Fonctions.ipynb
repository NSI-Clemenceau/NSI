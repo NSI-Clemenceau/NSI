{
 "cells": [
  {
   "cell_type": "markdown",
   "metadata": {},
   "source": [
    "# Les fonctions\n",
    "\n",
    "En informatique, __les fonctions servent à mieux structurer votre code. Par exemple, elles permettent d'éviter de répéter plusieurs fois des portions de codes identiques__. \n",
    "\n",
    "Ainsi, une fonction peut être vu comme un «petit» programme :\n",
    "\n",
    "- à qui on donne (le plus souvent) des __paramètres en entrée__,\n",
    "- puis qui effectue alors un __traitement sur ces paramètres__,\n",
    "- qui __renvoie enfin un résultat en sortie__.\n",
    "\n",
    "Une fonction qui modifie des variables mais __sans renvoyer de résultat est appelée une procédure__. Le langage Python ne fait pas de différence dans la syntaxe entre fonction et procédure.\n",
    "\n",
    "![Fonction schématisée](fonction_schema.png)\n",
    "\n",
    "## Les fonctions en Python\n",
    "\n",
    "En Python, une fonction est définie en suivant toujours le même formalisme :\n",
    "\n",
    "- Commencer par le __mot clé `def`__,\n",
    "- Poursuivre sur la même ligne par l'entête constituée des 3 éléments successifs suivants :\n",
    "  - le __nom de la fonction__\n",
    "  - entre __parenthèses, les paramètres__, avec pour chacun un nom\n",
    "  - terminer la première ligne par __deux points `:`__\n",
    "- En dessous, écrire le __blocs des instructions__. Attention il faut __indenter__ (décaler de 4 espaces avec la touche TAB) ce bloc !\n",
    "- Finir en dernière ligne par le __mot clé `return`__, suivi de ce que renvoie la fonction (ou `None` si la fonction ne retourne rien). Cette ligne est indentée également et marque la fin de la fonction.\n",
    "\n",
    "## Structure d'une fonction en Python\n",
    "\n",
    "```python\n",
    "def nom_fonction(liste des paramètres):\n",
    "\tblocs des instructions\n",
    "\treturn résultat\n",
    "```\n",
    "\n",
    "## Un exemple d'application : la fonction `carre()`"
   ]
  },
  {
   "cell_type": "code",
   "execution_count": null,
   "metadata": {},
   "outputs": [],
   "source": [
    "def carre(x):\n",
    "    return x ** 2   # l'opérateur ** correspond à une puissance"
   ]
  },
  {
   "cell_type": "markdown",
   "metadata": {},
   "source": [
    "> __Remarque :__ le symbole `#` apparaîtra à maintes reprises. Il marque le début d’un __commentaire__ que la fin de la ligne termine. Autrement dit, un commentaire est une information aidant à la compréhension du programme mais n’en faisant pas partie."
   ]
  },
  {
   "cell_type": "markdown",
   "metadata": {},
   "source": [
    "## Comment utiliser cette fonction ?\n",
    "\n",
    "Définir une fonction c'est bien, mais l'utiliser c'est mieux !\n",
    "\n",
    "Lorsqu'on veut utiliser une fonction, on dit qu'on __appelle la fonction__. Un appel de fonction est constitué du nom de la fonction suivi entre parenthèses des valeurs des arguments d'entrée."
   ]
  },
  {
   "cell_type": "code",
   "execution_count": null,
   "metadata": {},
   "outputs": [],
   "source": [
    "carre(6)"
   ]
  },
  {
   "cell_type": "markdown",
   "metadata": {},
   "source": [
    "Mais, le plus souvent, il est utile de conserver le résultat renvoyé par la fonction pour l'utiliser plus tard, ou à plusieurs reprises.\n",
    "\n",
    "Pour cela, __on affecte le résultat renvoyé par la fonction dans une nouvelle variable__.\n",
    "\n",
    "Voir l'exemple ci-dessous :"
   ]
  },
  {
   "cell_type": "code",
   "execution_count": null,
   "metadata": {},
   "outputs": [],
   "source": [
    "carre_de_7 = carre(7)\n",
    "\n",
    "print(f\"Le carré de 7 est égal à {carre_de_7}\")\n",
    "\n",
    "carre_du_carre_de_7 = carre(carre_de_7)\n",
    "\n",
    "print(f\"7 élevé à la puissance 4 est égal à {carre_du_carre_de_7}\")\n"
   ]
  },
  {
   "cell_type": "markdown",
   "metadata": {},
   "source": [
    "> __Remarque :__ les termes __paramètre__ et __argument__ sont souvent confondus ou utilisés de façon indistinctes. Il existe pourtant une nuance entre eux qu'il est préférable de connaître.\n",
    "- le __paramètre__ est la variable mise entre parenthèse __lors de la définition de la fonction__ (ici, c'est `x`).\n",
    "- l'__argument__ est la valeur mise entre parenthèse __lors de l'appel de la fonction__ (ici, c'est `6`).\n",
    "\n",
    "> __Bilan :__ quand elle  reçoit l'argument  `6`, __la  fonction substitue  le paramètre `x` par l'argument `6`__.\n",
    "\n",
    "## Où placer une fonction ?\n",
    "\n",
    "Dans la structure générale d'un programme, on place les définitions de fonctions avant de les utiliser. Incroyable non ?\n",
    "\n",
    "Plus généralement, voici un exemple type de structure d'un programme :\n",
    "\n",
    "```python\n",
    "# coding: utf-8\n",
    "'''\n",
    "Description du programme\n",
    "Auteurs\n",
    "Licence\n",
    "Numéro de version\n",
    "Date de dernière révision\n",
    "'''\n",
    "\n",
    "import des modules\n",
    "\n",
    "définition des constantes\n",
    "\n",
    "définition des fonctions dans l'ordre d'utilisation\n",
    "\n",
    "programme principal, avec appel des fonctions\n",
    "\n",
    "```\n",
    "\n",
    "## Des fonctions dans des fonctions\n",
    "\n",
    "On ne doit pas définir une autre fonction dans une définition de fonction. \n",
    "\n",
    "Par exemple, il faut éviter une structure de ce type :\n",
    "\n",
    "```python\n",
    "def fonction_1():\n",
    "\tdef fonction_2():\n",
    "        instructions\n",
    "        return résultat_2\n",
    "    résultat_1 = fonction_2() + 1\n",
    "\treturn résultat_1\n",
    "```\n",
    "\n",
    "Par contre, on utilise très souvent une fonction définie auparavant dans une autre fonction.\n",
    "\n",
    "Il est donc recommandé d'utiliser des structures comme celle-ci :\n",
    "\n",
    "```python\n",
    "def fonction_2():\n",
    "    instructions\n",
    "\treturn résultat_2\n",
    "\n",
    "def fonction_1():\n",
    "\trésultat_1 = fonction_2() + 1\n",
    "\treturn résultat_1\n",
    "```\n",
    "\n",
    "> __Remarque :__ en définissant les fonctions séparément, on peut ainsi plus facilement les réutiliser ailleurs.\n"
   ]
  },
  {
   "cell_type": "markdown",
   "metadata": {},
   "source": [
    "## Application : Calcul de l'indice de Masse Corporelle\n",
    "\n",
    "L'indice de Masse Corporelle est un nombre réel utilisé en médecine. Sa formule est pour une `masse` en kilos et une `taille` en mètres : $imc = \\frac{masse}{{taille}^2}$\n",
    "\n",
    "1. Écrire en langage Python dans Jupyter une fonction `imc(masse, taille)` qui affiche simplement l'IMC de l'utilisateur.\n",
    "\n",
    "```python\n",
    "imc(80, 1.80)\n",
    "24.691358024691358\n",
    "```\n",
    "\n",
    "> __Remarque :__ on ne demande pas de saisie à l'utilisateur. Les valeurs de masse et de taille sont simplement passées en arguments.\n",
    "\n",
    "2. Est-ce une fonction ou une procédure ? Pourquoi ?"
   ]
  },
  {
   "cell_type": "code",
   "execution_count": null,
   "metadata": {},
   "outputs": [],
   "source": []
  },
  {
   "cell_type": "markdown",
   "metadata": {},
   "source": [
    "3. Améliorer votre procédure pour obtenir un affichage sous la forme :\n",
    "\n",
    "```python\n",
    "imc(80, 1.80)\n",
    "Une personne de masse 80 kg et de taille 1.8 m a pour IMC : 24.691358024691358\n",
    "```"
   ]
  },
  {
   "cell_type": "code",
   "execution_count": null,
   "metadata": {},
   "outputs": [],
   "source": []
  },
  {
   "cell_type": "markdown",
   "metadata": {},
   "source": [
    "5. Transformer votre procédure en fonction qui renvoie l'IMC.\n",
    "\n",
    "```python\n",
    "print(\"L'IMC est de\", imc(80, 1.80))\n",
    "\"L'IMC est de 24.691358024691358\"\n",
    "```"
   ]
  },
  {
   "cell_type": "code",
   "execution_count": null,
   "metadata": {},
   "outputs": [],
   "source": []
  },
  {
   "cell_type": "markdown",
   "metadata": {},
   "source": [
    "## Documenter ses fonctions\n",
    "\n",
    "Il est important de documenter vos fonctions, c'est-à-dire de __décrire en quelques phrases le rôle de la fonction, de donner le lien entre les entrées et la sortie__.\n",
    "\n",
    "Pour cela, juste en dessous de la première ligne définissant la fonction, il suffit de mettre ses informations entre `\"\"\"` et `\"\"\"`. C'est ce que l'on appelle le `docstring` de la fonction. \n",
    "\n",
    "En reprenant l'exemple précédent, on peut écrire :\n",
    "\n",
    "```python\n",
    "def carre(x):\n",
    "    \"\"\" \n",
    "    Calcule le carré du nombre x entré en paramètre\n",
    "    \n",
    "    Entrée : tout nombre entier ou flottant\n",
    "    Sortie : le carré du nombre entré (entier ou flottant)\n",
    "    \"\"\"\n",
    "    return x ** 2\n",
    "```\n",
    "\n",
    "L'intérêt de l'auto-documentation d'une fonction par un texte est double :\n",
    "\n",
    "- Avant d'écrire la fonction, cela vous __oblige à réfléchir au contenu de la fonction__ : c'est un gain d'efficacité.\n",
    "- Après avoir écrit la fonction, cela permet de __mieux comprendre son fonctionnement__.\n",
    "\n",
    "Quand on saisit dans la console, après l'exécution de la fonction, __l'instruction `help(nom de la fonction)` affiche le `docstring` de la fonction__."
   ]
  },
  {
   "cell_type": "code",
   "execution_count": null,
   "metadata": {},
   "outputs": [],
   "source": [
    "def carre(x):\n",
    "    \"\"\" \n",
    "    Calcule et renvoye le carré du nombre x entré en argument\n",
    "    \n",
    "    Entrée : x, tout nombre entier ou flottant\n",
    "    Sortie : le carré du nombre entré (entier ou flottant)\n",
    "    \"\"\"\n",
    "    return x ** 2\n",
    "\n",
    "help(carre)"
   ]
  },
  {
   "cell_type": "markdown",
   "metadata": {},
   "source": [
    "> __Remarques :__ \n",
    "- On utilise aussi le terme __prototyper__. \n",
    "- Le prototype doit décrire...\n",
    "  - le rôle de la fonction.\n",
    "  - le type des paramètres.\n",
    "  - le type de la valeur de retour. \n",
    "- Avec Python, __on utilise les docstrings pour prototyper les fonctions__.\n",
    "- On peut toutefois être encore plus explicite pour le __typage dès la première ligne de définition de la fonction__. Voir ci-dessous."
   ]
  },
  {
   "cell_type": "code",
   "execution_count": null,
   "metadata": {
    "scrolled": true
   },
   "outputs": [],
   "source": [
    "def carre(x: float) -> float:\n",
    "    \"\"\" \n",
    "    Calcule et renvoye le carré du nombre x entré en argument\n",
    "    \n",
    "    Entrée : x, tout nombre entier ou flottant\n",
    "    Sortie : le carré du nombre entré (entier ou flottant)\n",
    "    \"\"\"\n",
    "    return x ** 2\n",
    "\n",
    "help(carre)"
   ]
  },
  {
   "cell_type": "markdown",
   "metadata": {},
   "source": [
    "> __Remarques :__ \n",
    "- Le typage sur la première ligne définissant le nom de fonction permet...\n",
    "  - de savoir quel type de paramètre on doit passer en argument.\n",
    "  - de savoir quel type sera renvoyé par la fonction\n",
    "  - d'être affiché clairement avec la fonction `help()`."
   ]
  },
  {
   "cell_type": "markdown",
   "metadata": {},
   "source": [
    "### Application : documenter une fonction\n",
    "\n",
    "Voici ci-dessous une __fonction qui donne le prix soldé d'un article__, connaissant le `prix` initial (en euros) et la réduction de `reduc` %.\n",
    "\n",
    "Améliorer le code ci-dessous en documentant la fonction."
   ]
  },
  {
   "cell_type": "code",
   "execution_count": null,
   "metadata": {},
   "outputs": [],
   "source": [
    "def solde(prix, reduc):\n",
    "    prix_solde = prix * (1 - reduc / 100)\n",
    "    return prix_solde\n",
    "\n",
    "help(solde)"
   ]
  },
  {
   "cell_type": "markdown",
   "metadata": {},
   "source": [
    "## Portée des variables\n",
    "\n",
    "Dans le dernier exemple, on a vu une variable, `prix_solde` qui n'était utilisée qu'à l'intérieur de la fonction. On a appelle ce type de variable une __variable locale__.\n",
    "\n",
    "Il faut faire la différence entre les variables utilisées dans le programme (__variables globales__) et les variables utilisées dans une fonction (__variables locales__).\n",
    "\n",
    "Interpréter puis commenter les exemples ci-dessous. "
   ]
  },
  {
   "cell_type": "code",
   "execution_count": null,
   "metadata": {},
   "outputs": [],
   "source": [
    "x = 5\n",
    "\n",
    "def carre(x):\n",
    "    x = x ** 2\n",
    "    return x\n",
    "\n",
    "carre(2)"
   ]
  },
  {
   "cell_type": "markdown",
   "metadata": {},
   "source": [
    "> __Commentaires :__"
   ]
  },
  {
   "cell_type": "code",
   "execution_count": null,
   "metadata": {},
   "outputs": [],
   "source": [
    "x = 5\n",
    "\n",
    "def carre_2():\n",
    "    x = x ** 2\n",
    "    return x\n",
    "\n",
    "carre_2()"
   ]
  },
  {
   "cell_type": "markdown",
   "metadata": {},
   "source": [
    "> __Commentaires :__"
   ]
  },
  {
   "cell_type": "code",
   "execution_count": null,
   "metadata": {},
   "outputs": [],
   "source": [
    "x = 5\n",
    "\n",
    "def carre_3():\n",
    "    global x\n",
    "    x = x ** 2\n",
    "    return x\n",
    "\n",
    "carre_3()"
   ]
  },
  {
   "cell_type": "markdown",
   "metadata": {},
   "source": [
    "> __Commentaires :__"
   ]
  },
  {
   "cell_type": "markdown",
   "metadata": {},
   "source": [
    "## Privilégier les variables locales\n",
    "\n",
    "Il faut __privilégier les variables locales__. La première écriture, celle de `carre()` est la définition à privilégier.\n",
    "\n",
    "Il existe des solutions pour utiliser des variables globales dans les fonctions, comme dans la fonction `carre_3()`. On utilise le mot clé `global`, qui impose l'utilisation d'une variable déjà définie au niveau global. Toutefois, il faut __éviter au maximum l'utilisation de variables globales__.\n",
    "\n",
    "Le danger des variables globales est quelle peuvent être modifiées à différents endroits d'un programme, ce qui rend plus difficile la prévision du comportement du programme.\n",
    "\n",
    "__En résumé, sauf exception, pas de variables globales !__\n",
    "\n",
    "Il faut donc créer des variables à l'intérieur des fonctions : des variables locales. __Si on a besoin d'utiliser une valeur qui vient de l'extérieur de la fonction, il suffit de passer cette valeur en paramètre__. Ainsi, cette valeur sera affectée dans une variable locale, qui disparaîtra à l'issue de l'interprétation de la fonction.\n",
    "\n",
    "> __Remarques :__ \n",
    "- il faut se méfier des exemples précedents, où la variable `x` a pour valeur un entier. On y voit que __la variable globale `x` garde sa valeur__ après l'appel de la fonction. __Ce cas n'est pas généralisable !__ En effet, si la variable passée en argument de la fonction a pour valeur un __objet mutable__ (ex : liste, dictionnaire,...), cet objet pourrait bien être modifié à la fin de l'appel de la fonction, ce qui amène parfois de mauvaises surprises. On appelle ce phénomène un __effet de bord__ et il faut s'en méfier.\n",
    "- dans la pratique, une variable mutable globale peut être utilisée dans une fonction sans le mot clé `global`. C'est pourtant une pratique à éviter autant que possible car cela peut entraîner des __effets de bord indésirables__."
   ]
  },
  {
   "cell_type": "markdown",
   "metadata": {},
   "source": [
    "### Application : de global à local\n",
    "\n",
    "Analyser puis interpréter le code suivant."
   ]
  },
  {
   "cell_type": "code",
   "execution_count": null,
   "metadata": {},
   "outputs": [],
   "source": [
    "score = 100\n",
    "\n",
    "def nouveau_score(points):\n",
    "    \"\"\"\n",
    "    Calcule et renvoie un score augmenté du nombre de points entré en argument\n",
    "\n",
    "    Entrée : points (entier), nombre de points à rajouter à la variable globale score\n",
    "    Sortie : nombre de points du score final (entier)\n",
    "    \"\"\"\n",
    "    global score\n",
    "    score = score + points\n",
    "    return score\n",
    "\n",
    "for _ in range(3):   # 3 répétitions de l'affichage suivant\n",
    "    print(f\"J'ai gagné 10 points ! Nouveau score : {nouveau_score(10)}\")"
   ]
  },
  {
   "cell_type": "markdown",
   "metadata": {},
   "source": [
    "On remarque que __les mêmes appels à `nouveau_score(10)` ne renvoient pas la même valeur__. La variable score est globale : elle est en effet  définie en dehors de la  fonction.  Mais elle  est  modifiée  par cette  fonction  :  c'est un  effet secondaire de l'appel de cette fonction.\n",
    "\n",
    "- Une __fonction pure__ est une fonction qui,  quand on lui passe les mêmes arguments, renverra toujours la même valeur.\n",
    "- Une __fonction impure__ va changer l'état du système.\n",
    "\n",
    "Il est très difficile de contrôler les fonctions impures et c'est pourquoi on privilégie la définition de fonctions pures.\n",
    "\n",
    "__Modifier le code de la cellule suivante afin de rendre la fonction pure__. Autrement dit afin de ne plus utiliser de variable globale dans la fonction.\n",
    "\n",
    "> __Aide (à ne lire que si nécessaire) :__ il faudra passer le score en paramètre de la fonction. La nouvelle fonction aura donc deux paramètres : le score et le nombre de points à ajouter."
   ]
  },
  {
   "cell_type": "code",
   "execution_count": null,
   "metadata": {},
   "outputs": [],
   "source": []
  },
  {
   "cell_type": "markdown",
   "metadata": {},
   "source": [
    "## Précondition\n",
    "\n",
    "Voici le code en Python d'une fonction nommée `get_unite(n)` qui prend comme paramètre un nombre entier et qui renvoie son chiffre des unités."
   ]
  },
  {
   "cell_type": "code",
   "execution_count": null,
   "metadata": {},
   "outputs": [],
   "source": [
    "def get_unite(n: int) -> int:\n",
    "    \"\"\"\n",
    "    Renvoie le chiffre des unités d'un entier n\n",
    "    \n",
    "    Entrée : n (entier)\n",
    "    Sortie : chiffre des unités de n (entier)\n",
    "    \"\"\"\n",
    "    while n >= 10 :\n",
    "        n = n - 10\n",
    "    return n"
   ]
  },
  {
   "cell_type": "markdown",
   "metadata": {},
   "source": [
    "Une documentation a été donnée afin d'expliciter le bon usage de la fonction. Mais on ne peut pas être certain qu'un utilisateur de la fonction respectera les contraintes implicites ou explicites de la documentation et du typage. \n",
    "\n",
    "Voici quelques exemples d'appel de la fonction :"
   ]
  },
  {
   "cell_type": "code",
   "execution_count": null,
   "metadata": {},
   "outputs": [],
   "source": [
    "get_unite(4567)"
   ]
  },
  {
   "cell_type": "code",
   "execution_count": null,
   "metadata": {},
   "outputs": [],
   "source": [
    "get_unite(45.67)"
   ]
  },
  {
   "cell_type": "code",
   "execution_count": null,
   "metadata": {},
   "outputs": [],
   "source": [
    "get_unite(-836)"
   ]
  },
  {
   "cell_type": "markdown",
   "metadata": {},
   "source": [
    "On voit que l'appel conduit à une réponse à chaque fois, mais que celle-ci ne correspond pas toujours à ce qui est attendu. Pour rendre \"robuste\" la fonction précédente, __on doit vérifier au début de celle-ci certaines contraintes de bon usage que l'on appelle précondition__.\n",
    "\n",
    "Dans l'exemple précédent, ces préconditions sont :\n",
    "- \"Précondition 1\" : n est de type entier (par exemple, le programme buggera si une chaîne de caractères est saisie comme argument),\n",
    "- \"Précondition 2\" : n est positif (sinon le résultat renvoyé est la valeur négative saisie).\n",
    "\n",
    "Pour cela, le langage Python possède l'instruction `assert` qui permet un mécanisme d'assertion.\n",
    "\n",
    "Les deux préconditions précédentes s'ajoutent à la fonction précédente ainsi :"
   ]
  },
  {
   "cell_type": "code",
   "execution_count": null,
   "metadata": {},
   "outputs": [],
   "source": [
    "def get_unite(n: int) -> int:\n",
    "    \"\"\"\n",
    "    Renvoie le chiffre des unités d'un entier n\n",
    "    \n",
    "    Entrée : n (entier)\n",
    "    Sortie : chiffre des unités de n (entier)\n",
    "    \"\"\"\n",
    "    # Précondition 1\n",
    "    assert type(n) == int, \"Vous devez entrer un nombre entier.\"\n",
    "    # Précondition 2\n",
    "    assert n >= 0, \"Le nombre étudié doit être positif ou nul.\"\n",
    "    \n",
    "    while n >= 10 :\n",
    "        n = n - 10\n",
    "    return n"
   ]
  },
  {
   "cell_type": "markdown",
   "metadata": {},
   "source": [
    "Une telle instruction `assert` est suivie :\n",
    "- d'une condition (une expression booléenne qui vaut `True` ou `False`)\n",
    "- éventuellement suivie d'une virgule , et d'une phrase en langue naturelle, sous forme d'une chaine de caractères\n",
    "\n",
    "L'instruction `assert` teste sa condition. \n",
    "\n",
    "Deux cas possibles :\n",
    "- si la condition est satisfaite, elle ne fait rien (l'interpréteur passe à la ligne suivante)\n",
    "- sinon elle arrête immédiatement l'exécution du programme en affichant la phrase qui lui est éventuellement associée. \n",
    "\n",
    "Ainsi, __grace aux préconditions imposées par l'instruction `assert`, l'interpréteur arrête l'exécution de la fonction plutôt que de faire planter le programme et affiche un message clair pour corriger l'erreur !__"
   ]
  },
  {
   "cell_type": "code",
   "execution_count": null,
   "metadata": {},
   "outputs": [],
   "source": [
    "get_unite(4567)"
   ]
  },
  {
   "cell_type": "code",
   "execution_count": null,
   "metadata": {},
   "outputs": [],
   "source": [
    "get_unite(45.67)"
   ]
  },
  {
   "cell_type": "code",
   "execution_count": null,
   "metadata": {
    "scrolled": false
   },
   "outputs": [],
   "source": [
    "get_unite(-836)"
   ]
  },
  {
   "cell_type": "markdown",
   "metadata": {},
   "source": [
    "__Application :__ Voici un fonction nommée `diviser(a, b)` qui réalise la division du premier argument par le second.\n",
    "\n",
    "- __Ajouter une ou plusieurs précondition(s)__ afin d'assurer le bon fonctionnement de la fonction.\n",
    "- Compléter la __documentation__."
   ]
  },
  {
   "cell_type": "code",
   "execution_count": null,
   "metadata": {},
   "outputs": [],
   "source": [
    "def diviser(a, b):\n",
    "    \"\"\"\n",
    "    Renvoie le résultat décimal de la division de a par b.\n",
    "    \n",
    "    \"\"\"\n",
    "    return a / b"
   ]
  },
  {
   "cell_type": "markdown",
   "metadata": {},
   "source": [
    "## Postcondition\n",
    "\n",
    "Souvent les fonctions sont appelées au cours de programme ; le type et la qualité du résultat renvoyé est important pour ne pas conduire à un plantage. \n",
    "\n",
    "__Des contraintes sur la variable renvoyée sont souvent nécessaires : on les appelle les postconditions__.\n",
    "\n",
    "Reprenons l'exemple précédent :\n",
    "\n",
    "```python\n",
    "def get_unite(n: int) -> int:\n",
    "    \"\"\"\n",
    "    Renvoie le chiffre des unités d'un entier n\n",
    "    \n",
    "    Entrée : n (entier)\n",
    "    Sortie : chiffre des unités de n (entier)\n",
    "    \"\"\"\n",
    "    while n >= 10 :\n",
    "        n = n - 10\n",
    "    return n\n",
    "```\n",
    "\n",
    "Voici le résultat de quelques appels effectués :\n",
    "\n",
    "```python\n",
    ">>> get_unite(4567)\n",
    "7\n",
    ">>> get_unite(45.67)\n",
    "5.670000000000002\n",
    ">>> get_unite(-6)\n",
    "-6\n",
    "```\n",
    "\n",
    "Comme le résultat renvoyé doit être un nombre entier compris entre 0 et 9, on va rajouter les postconditions suivantes :\n",
    "\n",
    "- \"postcondition 1\" : n est un entier naturel.\n",
    "- \"postcondition 2\" : n est positif.\n",
    "- \"postcondition 3\" : n est strictement inférieur à 10\n",
    "\n",
    "On utilise encore l'instruction `assert`, juste avant le `return` pour écrire ces postconditions :"
   ]
  },
  {
   "cell_type": "code",
   "execution_count": null,
   "metadata": {},
   "outputs": [],
   "source": [
    "def get_unite(n: int) -> int:\n",
    "    \"\"\"\n",
    "    Renvoie le chiffre des unités d'un entier n\n",
    "    \n",
    "    Entrée : n (entier)\n",
    "    Sortie : chiffre des unités de n (entier)\n",
    "    \"\"\"\n",
    "    while n >= 10 : \t\t# répétition tant que n est supérieur ou égal à 10\n",
    "        n = n - 10\n",
    "        \n",
    "    # \"Postcondition 1\"\n",
    "    assert type(n) == int, \"Le nombre renvoyé devrait être un entier.\"\n",
    "    # \"Postcondition 2\"\n",
    "    assert n >= 0, \"Le nombre renvoyé doit être positif ou nul.\"\n",
    "    # \"Postcondition 3\"\n",
    "    assert n < 10, \"Le nombre renvoyé doit être inférieur à 10.\"\n",
    "    return n"
   ]
  },
  {
   "cell_type": "code",
   "execution_count": null,
   "metadata": {},
   "outputs": [],
   "source": [
    "get_unite(4567)"
   ]
  },
  {
   "cell_type": "code",
   "execution_count": null,
   "metadata": {},
   "outputs": [],
   "source": [
    "get_unite(45.67)"
   ]
  },
  {
   "cell_type": "code",
   "execution_count": null,
   "metadata": {
    "scrolled": false
   },
   "outputs": [],
   "source": [
    "get_unite(-6)"
   ]
  },
  {
   "cell_type": "markdown",
   "metadata": {},
   "source": [
    "> __Remarques :__\n",
    "- On peut bien évidemment __cumuler les préconditions et les postconditions__.\n",
    "- Ce mécanisme d'assertion est __une aide au développeur__ qui permet de repérer des erreurs dans le code.\n",
    "- En supprimant toutes les assertions, le programme doit toujours fonctionner.\n",
    "- Normalement, lors de la finalisation du programme les différentes assertions doivent être ôtées."
   ]
  },
  {
   "cell_type": "markdown",
   "metadata": {},
   "source": [
    "## Exercices sur les fonctions"
   ]
  },
  {
   "cell_type": "markdown",
   "metadata": {},
   "source": [
    "### Un convertisseur horaire\n",
    "\n",
    "On veut __convertir une durée en minutes en une durée spéficiant le nombre d'heure et le nombre de minutes__. Pour cela, on va créer une fonction `convertir(duree_minute)`.\n",
    "\n",
    "Définir une fonction `convertir(duree_minute)` qui prend comme paramètre un entier `duree_minute` en renvoie un tuple formé des deux valeurs `nb_heures` et `nb_minutes`.\n",
    "\n",
    "> __Remarque :__ il peut vous être utile d'utiliser les deux opérateurs `//` et `%` définis ainsi :\n",
    "- `a // b` renvoie le quotient de la division euclidienne de a par b.\n",
    "  - exemple : `13 // 5` renvoie `2` car 13 = 5 × __2__ + 3\n",
    "- `a % b` renvoie le reste de la division euclidienne de a par b.\n",
    "  - exemple : `13 % 5` renvoie `3` car 13 = 5 × 2 + __3__\n",
    "\n",
    "Appeler cette fonction afin de convertir en nombres d'heures 1000 minutes. Vérifier que vous obtenez comme affichage :\n",
    "\n",
    "```python\n",
    "convertir(1000)\n",
    "(16, 40)\n",
    "```"
   ]
  },
  {
   "cell_type": "code",
   "execution_count": null,
   "metadata": {},
   "outputs": [],
   "source": []
  },
  {
   "cell_type": "markdown",
   "metadata": {},
   "source": [
    "### Une fonction polie\n",
    "\n",
    "1. Écrire une fonction `saisir_nom()`, qui ne prend pas de paramètre mais renvoie le nom saisi par l'utilisateur comme chaîne de caractères.\n",
    "\n",
    "Est-ce une fonction ou une procédure ? Pourquoi ?"
   ]
  },
  {
   "cell_type": "code",
   "execution_count": null,
   "metadata": {},
   "outputs": [],
   "source": []
  },
  {
   "cell_type": "markdown",
   "metadata": {},
   "source": [
    "2. Écrire une fonction nommée `dire_bonjour(mot)`, ayant comme paramètre un `mot` qui renvoie une chaîne de caractères \"Bonjour \" suivi du `mot`.\n",
    "\n",
    "Exemple : \n",
    "\n",
    "```python\n",
    "dire_bonjour(\"Casimir\")\n",
    "'Bonjour Casimir !'\n",
    "```\n",
    "\n",
    "Est-ce une fonction ou une procédure ? Pourquoi ?"
   ]
  },
  {
   "cell_type": "code",
   "execution_count": null,
   "metadata": {},
   "outputs": [],
   "source": []
  },
  {
   "cell_type": "markdown",
   "metadata": {},
   "source": [
    "3. Intégrer ces deux fonctions pour créer un script qui :\n",
    "  - demande à l'utilisateur son nom.\n",
    "  - renvoie une chaîne de caractères \"Bonjour \" suivi du nom de la personne."
   ]
  },
  {
   "cell_type": "code",
   "execution_count": null,
   "metadata": {},
   "outputs": [],
   "source": []
  },
  {
   "cell_type": "markdown",
   "metadata": {},
   "source": [
    "### Fonction de recherche de lettre\n",
    "\n",
    "Écrire une fonction appelée `trouve_dans(lettre, chaine)` qui :\n",
    ": \n",
    "- recherche la présence ou non d'une lettre (ou tout caractère) dans une chaîne de caractères.\n",
    "- renvoie le booléen `True` si la recherche est fructueuse\n",
    "- renvoie `False` si la lettre n'est pas dans la chaîne de caractères."
   ]
  },
  {
   "cell_type": "code",
   "execution_count": null,
   "metadata": {},
   "outputs": [],
   "source": []
  },
  {
   "cell_type": "markdown",
   "metadata": {},
   "source": [
    "### Division euclidienne\n",
    "\n",
    "1. Écrire une fonction `div_euclidienne(a, b)` qui prend en paramètre deux nombres entiers `a` et `b`, qui effectue la division euclidienne de `a` par `b` et qui renvoie un tuple `(q, r)`, respectivement le quotient et le reste de cette division euclidienne.\n",
    "\n",
    "2. Proposer des préconditions sur les paramètres `a` et `b` afin d'assurer le bon usage de la fonction `div_euclidienne(a, b)`.\n",
    "\n",
    "3. Proposer des postconditions sur les deux valeurs renvoyées (`r` et `q`) afin d'assurer le bon usage de la fonction div_euclidienne.\n",
    "\n",
    "4. Ajouter une documentation à la fonction."
   ]
  },
  {
   "cell_type": "code",
   "execution_count": null,
   "metadata": {},
   "outputs": [],
   "source": []
  },
  {
   "cell_type": "markdown",
   "metadata": {},
   "source": [
    "## Que retenir ?\n",
    "### À minima...\n",
    "\n",
    "- Les fonctions servent à mieux structurer le code, par exemple en évitant les répétitions inutiles.\n",
    "- Une fonction prend, le plus souvent, des paramètres en entrée. \n",
    "- Après traitement des ces paramètres, la fonction renvoie un résultat en sortie (`return`).\n",
    "- On définit la structure d’une fonction ainsi :\n",
    "```python\n",
    "def nom_fonction(liste des paramètres):\n",
    "\tblocs des instructions\n",
    "\treturn résultat\n",
    "```\n",
    "- On définit une fonction après le mot clé `def`. On y mentionne :\n",
    "    - son nom\n",
    "    - ses paramètres entre parenthèses\n",
    "    - on termine la ligne par `:`\n",
    "    - on indente les lignes suivantes pour décrire le bloc d’instructions à exécuter (traitement).\n",
    "    - on termine en renvoyant le résultat après le mot clé `return`.\n",
    "- Après avoir été définie, on peut appeler la fonction pour l’utiliser. Il suffit pour cela d'écrire son nom, suivi de parenthèses contenant les arguments (valeur des paramètres). On peut ainsi utiliser le résultat qui a été renvoyé par la fonction (à l'aide de `return`)\n",
    "- Les variables définies dans une fonction sont appelées des variables locales. Elle « disparaissent » lorsque l’exécution de la fonction est terminée.\n",
    "- Il ne faut pas les confondre avec les variables globales, définies hors de toute fonction.\n",
    "- L’utilisation d’assertions permet de s’assurer de l’exécution adéquate d’une fonction :\n",
    "    - à l’aide de préconditions, on vérifie que les arguments sont compatible avec le traitement voulu.\n",
    "    - à l’aide de postconditions, on vérifie que le résultat renvoyé est crédible.\n",
    "\n",
    "### Au mieux...\n",
    "\n",
    "- Une fonction qui modifie des variables mais sans renvoyer de résultat est appelée une procédure. Dans ce cas, on peut la terminer par `return None`.\n",
    "- Le paramètre est la variable mise entre parenthèse lors de la définition de la fonction.\n",
    "- L'argument est la valeur mise entre parenthèse lors de l'appel de la fonction.\n",
    "- Une fonction doit être documentée dans un `docstring`, situé entre `\"\"\"` et `\"\"\"`, au tout début de sa définition. On parle aussi de prototype.\n",
    "- Le prototype doit décrire :\n",
    "  - le rôle de la fonction.\n",
    "  - le type des paramètres.\n",
    "  - le type de la valeur de retour.\n",
    "- Il est encore mieux de préciser le typage de la fonction (types des paramètres et du résultat renvoyé) sur la première ligne de définition.\n",
    "- Il faut éviter au maximum d’utiliser des variables globales.\n",
    "- Il faut toujours privilégier l’utilisation de variables locales."
   ]
  },
  {
   "cell_type": "markdown",
   "metadata": {},
   "source": [
    "---\n",
    "[![Licence CC BY NC SA](https://licensebuttons.net/l/by-nc-sa/3.0/88x31.png \"licence Creative Commons CC BY-NC-SA\")](http://creativecommons.org/licenses/by-nc-sa/3.0/fr/)\n",
    "<p style=\"text-align: center;\">Auteur : David Landry, Lycée Clemenceau - Nantes</p>\n",
    "<p style=\"text-align: center;\">D'après des documents partagés par...</p>\n",
    "<p style=\"text-align: center;\"><a  href=http://www.monlyceenumerique.fr/index_nsi.html#premiere>Jean-Christophe Gérard, Thomas Lourdet, Johan Monteillet, Pascal Thérèse</a></p>\n",
    "<p style=\"text-align: center;\">Guillaume Connan sur <a  href=https://gitlab.com/lyceeND/1ere>le Gitlab du lycée Notre Dame, à Rezé</a></p>"
   ]
  }
 ],
 "metadata": {
  "kernelspec": {
   "display_name": "Python 3",
   "language": "python",
   "name": "python3"
  },
  "language_info": {
   "codemirror_mode": {
    "name": "ipython",
    "version": 3
   },
   "file_extension": ".py",
   "mimetype": "text/x-python",
   "name": "python",
   "nbconvert_exporter": "python",
   "pygments_lexer": "ipython3",
   "version": "3.8.3"
  }
 },
 "nbformat": 4,
 "nbformat_minor": 2
}
