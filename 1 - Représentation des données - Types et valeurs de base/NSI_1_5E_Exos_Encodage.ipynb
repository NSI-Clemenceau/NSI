{
 "cells": [
  {
   "cell_type": "markdown",
   "metadata": {},
   "source": [
    "# Exercices : encodage des caractères"
   ]
  },
  {
   "cell_type": "markdown",
   "metadata": {},
   "source": [
    "## Exercice 1 - Décodage ASCII\n",
    "\n",
    "La table ci-dessous donne le code associé à chacun des caractères ASCII imprimables.\n",
    "**Le code du caractère en hexadécimal s'obtient  en écrivant le numéro de la ligne\n",
    "suivi du numéro de la colonne**. \n",
    "\n",
    "Par  exemple, la lettre M a pour code hexadécimal `4D`, c'est à dire `77` en décimal.\n",
    "\n",
    "\n",
    "![Fichier image Table_ASCII manquant](Table_ASCII.png)\n",
    "\n",
    "\n",
    "\n",
    "À quel nom correspond la liste des codes ASCII suivants, donnés en hexadécimal ?\n",
    "\n",
    "`47 65 6F 72 67 65 20 42 6F 6F 6C 65`"
   ]
  },
  {
   "cell_type": "markdown",
   "metadata": {},
   "source": [
    "## Exercice 2 - Décodage UTF-8 \n",
    "\n",
    "En UTF-8, le codage des caractères coïncide avec l'ASCII pour les 128 premiers caractères (table donnée plus haut). Les autres caractères sont représentés par plusieurs octets.\n",
    "\n",
    "![Martine écrit en UTF_8](Martine_UTF-8.png)\n",
    "\n",
    "La série d'octets suivants, donnés en hexadécimal, a été relevée dans un fichier codé en UTF-8 :\n",
    "\n",
    "`\n",
    "43 6F 64 C3 A9 20 65 6E 20 55 54 46 2D 38\n",
    "`\n",
    "\n",
    "Il contient des caractères de la table ASCII ainsi qu'un « é ». \n",
    "\n",
    "- Dans la série d'octets précédente, déterminer quelle est la séquence d'octets qui représente le « é ».\n",
    "\n",
    "- Qu'est ce qui est inscrit dans le fichier ?\n",
    "\n",
    "- Vérifier sur [ce site](https://www.utf8-chartable.de/) que le codage UTF-8 utilisé dans cette série d'octets correspond bien au caractère `é`.\n",
    "\n",
    "- Si le fichier avait été interprété en __Latin-1 (table ci-dessous)__, qu'est ce qui se serait affiché ?\n",
    "\n",
    "![Fichier image Table_latin1 manquant](Table_Latin1.png)\n",
    "\n",
    "- En utilisant à nouveau la table Latin-1 ci-dessus, trouver l'encodage du caractère `é`.\n",
    "\n",
    "- Vérifier sur la table Latin-1 que la table ASCII y est est bien incluse"
   ]
  },
  {
   "cell_type": "markdown",
   "metadata": {},
   "source": [
    "\n",
    "## Exercice 3 - Lecture de tables\n",
    "\n",
    "À quels caractères correspondent les codes ASCII suivants ?\n",
    "\n",
    "1. `1000001` (binaire)\n",
    "2. `118` (décimal)\n",
    "3. `7E` (hexadécimal)\n",
    "\n",
    "À quels caractères correspondent les codes ISO-8859-1 (Latin-1) suivants ?\n",
    "\n",
    "1. `01000001` (binaire)\n",
    "2. `118` (décimal)\n",
    "3. `A9` (hexadécimal)\n",
    "\n",
    "À quels caractères correspondent les points de code unicode suivants ?\n",
    "([Lien vers la table Unicode](https://unicode-table.com/fr/))\n",
    "\n",
    "> **Remarque :** le [**point de code**](https://fr.wikipedia.org/wiki/Point_de_code) Unicode n'est pas l'encodage UTF-8. Le point de code correspond à la référence d'un caractère (ou d'un glyphe, émoticone,...) mais celui-ci peut s'encoder ensuite de différentes façons (UTF-8, UTF-16,...)\n",
    "\n",
    "1. `41` (hexadécimal)\n",
    "2. `A9` (hexadécimal)\n",
    "3. `20AC` (hexadécimal)\n",
    "4. `424` (hexadécimal)\n",
    "5. `2620` (hexadécimal)\n"
   ]
  },
  {
   "cell_type": "markdown",
   "metadata": {},
   "source": [
    "\n",
    "## Exercice 4 - Décodage UTF-8 (approfondissement)\n",
    "\n",
    "Décoder le caractère é, vu dans l'exercice 2 sous sa forme UTF-8 hexadécimale : C3 A9\n",
    "\n",
    "> **Conseils :** vous pourrez...\n",
    "- convertir ces octets en binaire\n",
    "- repérer les bits d'encodage à retirer, ce sont ceux définissant le nombre d'octets utilisés (au besoin, revoir le notebook 1_5, chapitre Unicode)\n",
    "- convertir le nombre binaire restant en nombre hexadécimal\n",
    "- vérifier que ce nombre héxadécimal correspond bien au **point de code du \"é\"**\n",
    "- vérifier que ce point de code est cohérent dans la table latin1 (voir la table latin1 ci-dessus)."
   ]
  },
  {
   "cell_type": "markdown",
   "metadata": {},
   "source": [
    "## Exercice 5 - Décodage UTF8 (approfondissement)\n",
    "\n",
    "Les séquences  d’octets suivantes  (données en hexadécimal)  sont des morceaux textes  encodés en  UTF-8.  \n",
    "\n",
    "Pour  chacune d’entre  elles,  indiquer sur  combien d’octets est codé le premier  caractère, puis donner le caratère ou symbole correspondant.\n",
    "\n",
    "1. `3F EA 8C A2`\n",
    "2. `CF 80 CD B4`\n",
    "3. `E2 9C 8C 45`\n",
    "4. `F0 9F 90 BC`\n",
    "\n",
    "> __Remarques :__ en UTF-8...\n",
    "- lorsqu'un caractère est codé sur un seul octet, on peut le décoder directement à partir de la valeur de cet octet car le premier bit étant égal à `0`, cela n'interfère pas sur la valeur de l'octet.\n",
    "- lorsqu'un caractère est codé sur deux octets, il ne faut pas tenir compte des premiers bits de chaque octet (`110` et `10`).\n",
    "- lorsqu'un caractère est codé sur trois octets, il ne faut pas tenir compte des premiers bits de chaque octet (`1110` puis `10` pour les suivants).\n",
    "- lorsqu'un caractère est codé sur quatre octets..."
   ]
  },
  {
   "cell_type": "markdown",
   "metadata": {},
   "source": [
    "## Exercice 6 - ISO-8859-1 (approfondissement)\n",
    "\n",
    "Le texte suivant a été encodé en ISO-8859-1, décodez-le.\n",
    "```\n",
    "010000010111010001110100011001010110111001110100011010010110\n",
    "111101101110001011000010000001100011011001010010000001101101\n",
    "011001010111001101110011011000010110011101100101001000000110\n",
    "000100100000011001010110111000100000011001100110000101101001\n",
    "011101000010000011000011101010010111010011000011101010010010\n",
    "000001100101011011100110001101101111011001001100001110101001\n",
    "001000000110010101101110001000000101010101010100010001100010\n",
    "110100111000001000000010000100001010010101010110111000100000\n",
    "011100000110000101101110011001110111001001100001011011010110\n",
    "110101100101001000000011101000100000110000101010101100100000\n",
    "011101100110111101101001011110000010000001100001011011010110\n",
    "001001101001011001110111010111000011101010110010000001100100\n",
    "001001110111010101101110001000000110001111000101010100110111\n",
    "010101110010001000000111000101110101011010010010110000100000\n",
    "011000010111010100100000011110101100001110101001011100000110\n",
    "100001111001011100100010110000100000011100000111001011000011\n",
    "101010010110011011000011101010000111001001100101001000000110\n",
    "110001100101011100110010000001101010011000010111010001110100\n",
    "011001010111001100100000011001000110010100100000011010110110\n",
    "100101110111011010010111001100100000110000101011101100101110\n",
    "000010100101000001101111011101010111001000100000011011000110\n",
    "100101110010011001010010000001100011011011110111001001110010\n",
    "011001010110001101110100011001010110110101100101011011100111\n",
    "010000100000011000110110010100100000011011010110010101110011\n",
    "011100110110000101100111011001010010110000100000110000111010\n",
    "000000100000011101100110111101110101011100110010000001100100\n",
    "011001010010000001101100011001010010000001100100110000111010\n",
    "100101100011011011110110010001100101011100100010000001101101\n",
    "011000010110111001110101011001010110110001101100011001010110\n",
    "110101100101011011100111010000100000011001010110111000100000\n",
    "```\n",
    "\n",
    "Pour faciliter votre décodage automatisé, le message est recopié dans la cellule ci-dessous, sur une seule ligne."
   ]
  },
  {
   "cell_type": "code",
   "execution_count": null,
   "metadata": {},
   "outputs": [],
   "source": [
    "'''\n",
    "Décodage manuel en ISO-8859-1\n",
    "On part donc du principe que chaque caractère est codé sur un octet\n",
    "'''\n",
    "\n",
    "message_binaire = '010000010111010001110100011001010110111001110100011010010110111101101110001011000010000001100011011001010010000001101101011001010111001101110011011000010110011101100101001000000110000100100000011001010110111000100000011001100110000101101001011101000010000011000011101010010111010011000011101010010010000001100101011011100110001101101111011001001100001110101001001000000110010101101110001000000101010101010100010001100010110100111000001000000010000100001010000010100101010101101110001000000111000001100001011011100110011101110010011000010110110101101101011001010010000000111010001000001100001010101011110000101010000001110110011011110110100101111000001000000110000101101101011000100110100101100111011101011100001110101011001000000110010000100111011101010110111000100000011000111100010110010011011101010111001000100000011100010111010101101001001011000010000001100001011101010010000001111010110000111010100101110000011010000111100101110010001011000010000001110000011100101100001110101001011001101100001110101000011100100110010100100000011011000110010101110011001000000110101001100001011101000111010001100101011100110010000001100100011001010010000001101011011010010111011101101001011100111100001010100000110000101011101100101110000010100000101001000101011011100110001101101111011001000110010101111010001000000110110001100001001000000111000001101000011100100110000101110011011001010010000001100100001001110110100101101110011101000111001001101111011001000111010101100011011101000110100101101111011011100010000001100100011001010010000001100011011001010111010000100000011001010111100001100101011100100110001101101001011000110110010100100000011001010110111000100000010101010101010001000110001011010011100000101110'\n"
   ]
  },
  {
   "cell_type": "markdown",
   "metadata": {},
   "source": [
    "## Exercice 7 - Gros défi ! (approfondissement)\n",
    "\n",
    "L'objectif de ce défi est d’écrire un petit programme Python qui soit capable de coder et décoder du texte en\n",
    "UTF8.  Ce programme,  que  nous  nommerons utf8,  se  comportera  de la  manière\n",
    "suivante :\n",
    "\n",
    "* si on l'appelle avec pour arguments `encode` et un texte, il affichera le codage de ce texte en UTF8 (représenté en hexadécimal),\n",
    "* si on l'appelle avec pour arguments `decode` et une séquence d'octets représentés en héxadécimal, il considérera cette  séquence comme le codage  d'un texte en UTF8  et affichera ce texte en clair.\n",
    "\n",
    "`>>> utf8('encode', \"bonjour\")`  \n",
    "L'encodage de \"bonjour\" donne \"62 6F 6E 6A 6F 75 72\"\n",
    "\n",
    "`>>> utf8('decode', \"62 6f 6e 6a 6f 75 72\")`  \n",
    "Le décodage de \"62 6f 6e 6a 6f 75 72\" donne \"bonjour\"\n",
    "\n",
    "`>>> utf8('encode', \"ÀÉÈËÇ\")`  \n",
    "L'encodage de \"ÀÉÈËÇ\" donne \"C3 80 C3 89 C3 88 C3 8B C3 87\"\n",
    "\n",
    "`>>> utf8('decode', \"C3 80 C3 89 C3 88 C3 8B C3 87\")`  \n",
    "Le décodage de \"C3 80 C3 89 C3 88 C3 8B C3 87\" donne \"ÀÉÈËÇ\""
   ]
  },
  {
   "cell_type": "markdown",
   "metadata": {},
   "source": [
    "---\n",
    "[![Licence CC BY NC SA](https://licensebuttons.net/l/by-nc-sa/3.0/88x31.png \"licence Creative Commons CC BY-NC-SA\")](http://creativecommons.org/licenses/by-nc-sa/3.0/fr/)\n",
    "<p style=\"text-align: center;\">Auteur : David Landry, Lycée Clemenceau - Nantes</p>\n",
    "<p style=\"text-align: center;\">D'après des documents partagés par Guillaume Connan sur <a  href=https://gitlab.com/lyceeND/1ere>le Gitlab du lycée Notre Dame, à Rezé</a></p>"
   ]
  }
 ],
 "metadata": {
  "kernelspec": {
   "display_name": "Python 3",
   "language": "python",
   "name": "python3"
  },
  "language_info": {
   "codemirror_mode": {
    "name": "ipython",
    "version": 3
   },
   "file_extension": ".py",
   "mimetype": "text/x-python",
   "name": "python",
   "nbconvert_exporter": "python",
   "pygments_lexer": "ipython3",
   "version": "3.8.3"
  }
 },
 "nbformat": 4,
 "nbformat_minor": 2
}
