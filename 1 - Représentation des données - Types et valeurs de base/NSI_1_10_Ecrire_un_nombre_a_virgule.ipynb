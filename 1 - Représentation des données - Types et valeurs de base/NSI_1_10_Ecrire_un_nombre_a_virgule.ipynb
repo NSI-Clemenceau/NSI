{
 "cells": [
  {
   "cell_type": "markdown",
   "metadata": {},
   "source": [
    "# Comment écrire un nombre à virgule ?\n",
    "## L'encodage des nombres, un choix numérique\n",
    "\n",
    "Nous avons appris à encoder des nombres entiers naturels et relatifs, et nous avons vu que __les limites physiques des machines imposent des limites sur l'étendue des valeurs__. \n",
    "\n",
    "Par exemple, sur un octet on dispose de 2$^8$ = 256 valeurs distinctes qui permettent d'encoder, au choix :\n",
    "\n",
    "- des nombres entiers naturels entre 0 et 255.\n",
    "- des nombres entiers relatifs entre -128 et 127.\n",
    "\n",
    "Maintenant que nous allons tenter de __coder les réels__, les limites de notre machine vont encore entraîner des __limites__ sur l'étendue des valeurs, mais également sur la __précision des valeurs__.\n",
    "\n",
    "Malgré sont apparente rigueur, les exemples suivants devraient vous convaincre que l'encodage utilisé par Python présente des failles..."
   ]
  },
  {
   "cell_type": "code",
   "execution_count": null,
   "metadata": {},
   "outputs": [],
   "source": [
    "0.2 + 0.1 == 0.3"
   ]
  },
  {
   "cell_type": "code",
   "execution_count": null,
   "metadata": {
    "scrolled": true
   },
   "outputs": [],
   "source": [
    "0.2 + 0.1"
   ]
  },
  {
   "cell_type": "markdown",
   "metadata": {},
   "source": [
    "Maintenant qu'il est acté qu'un encodage parfait dans ce domaine n'a pas été trouvé pour Python, voyons les alternatives qui s'ouvraient pour coder un nombre à virgule."
   ]
  },
  {
   "cell_type": "markdown",
   "metadata": {},
   "source": [
    "## Virgule fixe ou virgule flottante ?\n",
    "\n",
    "Il existe deux façons de coder les nombres à virgule.\n",
    "\n",
    "### Codage en virgule fixe\n",
    "\n",
    "Le codage en virgule fixe consiste à __fixer la position de la virgule__. \n",
    "\n",
    "Par exemple, __sur un octet__, on peut décider de consacrer :\n",
    "\n",
    "- les 4 premiers bits pour la partie entière du nombre.\n",
    "- les 4 derniers bits pour la partie décimale.\n",
    "\n",
    "> __Exemple :__ (1010, 1100)$_2$ = 2$³$ + 2$¹$ + 2$^{−1}$ + 2$^{−2}$ = (8 + 2),(0,5 + 0,25) = (10,75)$_{10}$\n",
    "\n",
    "#### Application\n",
    "\n",
    "1. Convertir `111, 001101` en notation décimale.\n",
    "\n",
    "2. Convertir 0,54 en notation binaire à virgule fixe, avec la partie fractionnaire exprimée sur 4 bits. On présentera un résultat arrondi, au plus près.\n",
    "\n",
    "### Codage en virgule flottante\n",
    "\n",
    "Dans le codage __en virgule flottante, on privilégie un nombre fixe de chiffres significatifs__ et on réserve l'autre partie du codage à l'exposant. C'est une méthode __semblable à la notation scientifique__ utilisée en physique par exemple. Mais, au lieu de se baser sur des puissances de 10, on utilisera des __puissances de 2__ :\n",
    "\n",
    "> ± m×2$^e$\n",
    "- avec m ∈ $[1, 2[$\n",
    "- m sera appelée __la mantisse__\n",
    "- $n$ sera appelé __l'exposant__\n",
    "\n",
    "C'est ce codage qui sera souvent privilégié dans les langages de programmation et, en particulier, avec Python : __les nombres flottants, de type `float`__.\n",
    "\n",
    "## Principe du codage en virgule flottante\n",
    "\n",
    "On représente un nombre à virgule flottante sous la forme : __(−1)$^s$×m×2$^e$__\n",
    "\n",
    "[![By GMjeanmatt - Own work, CC BY-SA 3.0](IEEE754_Format_General.png)](https://commons.wikimedia.org/w/index.php?curid=7318209)\n",
    "\n",
    "Supposons un nombre flottant codé sur __un octet__ utilisant __1 bit de signe, 3 bits pour l'exposant et 4 bits pour la mantisse__ : `1 101 1011`\n",
    "\n",
    "- __s est le signe__, représenté par le bit de poids fort:\n",
    "  - s=0 : signe +\n",
    "  - s=1 : signe −\n",
    "  \n",
    "Notre exemple de codage représente donc un nombre négatif.\n",
    "\n",
    "- __e est l'exposant, un entier compris entre e$_{min}$ et e$_{max}$ représenté par un entier relatif décalé__ et non en complément à deux, afin de faciliter la comparaison des exposants. Ce __décalage est de 2$^{n-1}$ - 1__ (n représente le nombre de bits utilisé pour coder l'exposant).\n",
    "\n",
    "Dans notre exemple, l'exposant a pour valeur `101`, codé sur 3 bits, il doit être décalé de 2$^{3-1}$ - 1 = 3.  \n",
    "Ainsi, puisque (101)$_2$ = (5)$_{10}$, l'exposant `101` correspond à un exposant de 5-3 = 2.\n",
    "\n",
    "- __m est la mantisse qui est un nombre binaire à virgule compris entre 1 inclus et 2 exclus__. Le seul __chiffre avant la virgule étant toujours 1, il n'est pas représenté__ (on le dit \"implicite\"), et le codage binaire de la mantisse représente donc uniquement les chiffres après la virgule. Ces chiffres représentent un nombre codé en base 2 : __la somme des demis (2$^{−1}$), des quarts (2$^{−2}$), des huitièmes (2$^{−3}$),...__\n",
    "\n",
    "Dans notre exemple, la mantisse est : `1011`, elle représentera le nombre : 2$^{−1}$ + 2$^{−3}$ + 2$^{−4}$ = 0,5 + 0,125 + 0,0625 = 0,6875.\n",
    "\n",
    "__Le code `1 101 1011` sur un octet__, utilisant 1 bit de signe, 3 bits pour l'exposant et 4 bits pour la mantisse représente donc : −1,6875×2$^2$ = __−6,75__\n",
    "\n",
    "## La norme IEEE 754\n",
    "\n",
    "> L’IEEE 754 est une norme pour la représentation des nombres à virgule flottante en binaire. Elle est la __norme la plus employée actuellement__ pour le calcul des nombres à virgule flottante dans le domaine informatique. [Source Wikipedia](https://fr.wikipedia.org/wiki/IEEE_754)\n",
    "\n",
    "Cette norme définit notamment __2 formats__ pour représenter des nombres à virgule flottante.\n",
    "\n",
    "- __simple précision__ (__32 bits__ : 1 bit de signe, 8 bits d'exposant (-126 à 127), 23 bits de mantisse).\n",
    "\n",
    "[![By GMjeanmatt - Own work, CC BY-SA 3.0](IEEE754_simple_precision.png)](https://commons.wikimedia.org/w/index.php?curid=7318385)\n",
    "\n",
    "- __double précision (utilisé par défaut par Python)__ (__64 bits__ : 1 bit de signe, 11 bits d'exposant (-1022 à 1023), 52 bits de mantisse).\n",
    "  \n",
    "[![By GMjeanmatt - Own work, CC BY-SA 3.0](IEEE754_double_precision.png)](https://commons.wikimedia.org/w/index.php?curid=7318466)\n",
    "\n",
    "#### Application (Approfondissement)\n",
    "\n",
    "1. __Calculer__ le nombre représenté en __double précision__ par `1 10110100000 011101100000 ... 0`.\n",
    "\n",
    "2. Réaliser la __conversion en flottant simple précision__ du nombre -10,125.\n",
    "  \n",
    "## Retour sur les tests d'égalité sur les flottants\n",
    "\n",
    "Comme nous sommes limités sur la précision des flottants, __on transforme les tests d'égalités en tests d'inégalités, à une précision donnée__.\n",
    "\n",
    "Si on retente le test initial, plus de surprise..."
   ]
  },
  {
   "cell_type": "code",
   "execution_count": null,
   "metadata": {
    "scrolled": false
   },
   "outputs": [],
   "source": [
    "0.2 + 0.1 == 0.3"
   ]
  },
  {
   "cell_type": "markdown",
   "metadata": {},
   "source": [
    "Par contre, en utilisant une précision du millionième :"
   ]
  },
  {
   "cell_type": "code",
   "execution_count": null,
   "metadata": {},
   "outputs": [],
   "source": [
    "precision = 1e-6\n",
    "abs((0.2 + 0.1) - 0.3)  < precision"
   ]
  },
  {
   "cell_type": "markdown",
   "metadata": {},
   "source": [
    "D'ailleurs la bibliothèque `math` de Python inclut à cet effet la [fonction `math.isclose()`](https://docs.python.org/3/library/math.html#math.isclose)."
   ]
  },
  {
   "cell_type": "code",
   "execution_count": null,
   "metadata": {},
   "outputs": [],
   "source": [
    "from math import isclose\n",
    "isclose(0.2 + 0.1, 0.3)"
   ]
  },
  {
   "cell_type": "markdown",
   "metadata": {},
   "source": [
    "## Que retenir ?\n",
    "### À minima...\n",
    "\n",
    "- Python utilise un codage à virgule flottante pour représenter les nombres à virgule.\n",
    "- La méthode à virgule flottante représente un nombre en écriture scientifique, en utlisant des puissances de 2 à la place des puissances de 10.\n",
    "- La méthode à virgule flottante privilégie la précision à l'exactitude.\n",
    "- Le codage des nombres flottants étant rarement exact, il faut éviter de les comparer en cherchant à savoir s'ils sont égaux entre eux.\n",
    "\n",
    "### Au mieux...\n",
    "\n",
    "- On peut représenter un nombre à virgule flottante de la manière suivante : (−1)$^s$×m×2$^e$\n",
    "  - s est le signe\n",
    "  - m est la mantisse\n",
    "  - e est l'exposant\n",
    "- Python utilise par défaut 64 bits pour coder un nombre flottant (double précision).\n",
    "- Python utilise :\n",
    "  - le bit de poids fort pour coder le signe.\n",
    "  - quelques bits pour coder l'exposant (qui détermine l'ordre de grandeur du nombre).\n",
    "  - la majorité des bits pour coder la mantisse (qui détermine le nombre de chiffres significatifs du nombre, donc sa précision).\n",
    "- L’IEEE 754 est une norme pour la représentation des nombres à virgule flottante en binaire.\n",
    "- Si on veut savoir si deux nombres flottants sont \"égaux\", on cherche à le déterminer avec un certain niveau d'imprécision, avec la fonction `isclose()` par exemple.\n",
    "- Savoir représenter des nombres à virgules en nombres flottants à 8 bits.\n",
    "- Savoir déterminer la valeur décimale de nombres flottants à 8 bits."
   ]
  },
  {
   "cell_type": "markdown",
   "metadata": {},
   "source": [
    "---\n",
    "[![Licence CC BY NC SA](https://licensebuttons.net/l/by-nc-sa/3.0/88x31.png \"licence Creative Commons CC BY-NC-SA\")](http://creativecommons.org/licenses/by-nc-sa/3.0/fr/)\n",
    "\n",
    "<p style=\"text-align: center;\">David Landry, Lycée Clemenceau - Nantes</p>\n",
    "\n",
    "<p style=\"text-align: center;\">D'après des cours partagés par...</p>\n",
    "<p style=\"text-align: center;\"><a  href=https://pixees.fr/informatiquelycee/n_site/nsi_prem.html>David Roche</a> sous la licence CC BY-SA</p>\n",
    "<p style=\"text-align: center;\"><a  href=https://www.lyceum.fr/1g/nsi>Benjamin Abel</a> sous la licence CC BY-SA</p>"
   ]
  }
 ],
 "metadata": {
  "kernelspec": {
   "display_name": "Python 3",
   "language": "python",
   "name": "python3"
  },
  "language_info": {
   "codemirror_mode": {
    "name": "ipython",
    "version": 3
   },
   "file_extension": ".py",
   "mimetype": "text/x-python",
   "name": "python",
   "nbconvert_exporter": "python",
   "pygments_lexer": "ipython3",
   "version": "3.8.3"
  }
 },
 "nbformat": 4,
 "nbformat_minor": 2
}
