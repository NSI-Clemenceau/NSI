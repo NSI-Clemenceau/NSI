{
 "cells": [
  {
   "cell_type": "markdown",
   "metadata": {},
   "source": [
    "# Comment convertir un nombre d'une base à une autre ?"
   ]
  },
  {
   "cell_type": "markdown",
   "metadata": {},
   "source": [
    "## Comment convertir un nombre avec Python ?\n",
    "Dans le précédent notebook, nous avons découvert les fonctions `bin()`et `int()` de Python.\n",
    "> **Rappel :** Réutiliser ces fonctions pour effectuer les conversions suivantes...\n",
    "- $(165)_{10} = (...)_2$\n",
    "- $(2564834)_{10} = (...)_2$\n",
    "- $(10011011)_2 = (...)_{10}$\n",
    "- $(10111110)_2 = (...)_{10}$"
   ]
  },
  {
   "cell_type": "code",
   "execution_count": null,
   "metadata": {},
   "outputs": [],
   "source": []
  },
  {
   "cell_type": "markdown",
   "metadata": {},
   "source": [
    "**Mais comment convertir ces nombres sans Python ?** \n",
    "\n",
    "Nous avons vu que cette notion de *base* n'est qu'une convention pour représenter un nombre. Mais comment passer d'une base à une autre, manuellement ?\n",
    "\n",
    "# Comment convertir manuellement un nombre ?\n",
    "## Conversion du binaire vers le décimal\n",
    "\n",
    "En prenant l'exemple d'un **octet**, c'est à dire une représentation binaire à **8 bits**, nous avons vu que pour représenter un nombre binaire, il est simple de le décomposer sur ce format :\n",
    "\n",
    "$? × 2^7 + ? × 2^6 + ? × 2^5 + ? × 2^4 + ? × 2^3 + ? × 2^2 + ? × 2^1 + ? × 2^0$\n",
    "\n",
    "Les points d'interrogation peuvent prendre uniquement deux valeurs : 0 ou 1\n",
    "\n",
    "Au final, chaque bit donne au nombre une valeur nulle ou maximale $2^n$\n",
    "\n",
    "> Remarques :\n",
    "- dans un nombre binaire à plusieurs bits, tous les bits ont des valeurs différentes\n",
    "- les bits de droite ont une valeur plus petite que ceux de gauche, on les appelle les **bits de poids faibles**\n",
    "- les bits de gauche ont une valeur plus grande que ceux de droite, on les appelle les **bits de poids forts**\n",
    "\n",
    "Un dernier exemple avant de se lancer :\n",
    "\n",
    "![Octet](Octet_décimal.png)\n",
    "\n",
    "### Entraînement manuel à la conversion binaire - décimal\n",
    "\n",
    "Au brouillon, convertir les nombres binaires suivants en décimal :\n",
    "\n",
    "> - $(11)_2 = (...)_{10}$\n",
    "- $(110)_2 = (...)_{10}$\n",
    "- $(1100101)_2 = (...)_{10}$\n",
    "- $(1000100110)_2 = (...)_{10}$\n",
    "\n",
    "Vérifier dans la cellule ci-dessous que vos conversions sont exactes à l'aide des fonctions Python vues précédemment. Refaire vos conversions en cas d'erreur et corriger votre notebook."
   ]
  },
  {
   "cell_type": "code",
   "execution_count": null,
   "metadata": {},
   "outputs": [],
   "source": []
  },
  {
   "cell_type": "markdown",
   "metadata": {},
   "source": [
    "## Conversion du décimal vers le binaire\n",
    "\n",
    "La conversion inverse est plus délicate. Plusieurs méthodes sont possibles, mais la plus classique consiste à utiliser des divisions euclidiennes.\n",
    "\n",
    "On procède par **divisions par 2 des quotients, puis on récupère les restes** :\n",
    "- On considère un entier en base 10.\n",
    "- On le divise par 2 et on note le reste de la division (c’est soit un 1 soit un 0).\n",
    "- On refait la même chose avec le quotient précédent, et on met de nouveau le reste de coté.\n",
    "- On re-itère la division, et ce jusqu’à ce que le quotient soit égal à 0.\n",
    "- Le nombre en binaire apparaît : le premier à placer est le dernier reste non nul.\n",
    "- Ensuite, on remonte en plaçant les restes que l’on avait. On les place à droite du premier 1.\n",
    "\n",
    "> **Un exemple**, avec une division posée :\n",
    "On cherche la **représentation binaire du nombre décimal 77**\n",
    "![Division_euclidienne](Division_euclidienne.png)\n",
    "On obtient : $(77)_{10} = (1001101)_2$\n",
    "\n",
    "### Entraînement manuel à la conversion décimal - binaire\n",
    "\n",
    "Au brouillon, convertir les nombres décimaux suivants en binaire :\n",
    "\n",
    "> - $(13)_{10} = (...)_2$\n",
    "- $(22)_{10} = (...)_2$\n",
    "- $(45)_{10} = (...)_2$\n",
    "- $(184)_{10} = (...)_2$\n",
    "\n",
    "Vérifier dans la cellule ci-dessous que vos conversions sont exactes à l'aide des fonctions Python vues précédemment. Refaire vos conversions en cas d'erreur et corriger votre notebook."
   ]
  },
  {
   "cell_type": "code",
   "execution_count": null,
   "metadata": {},
   "outputs": [],
   "source": []
  },
  {
   "cell_type": "markdown",
   "metadata": {},
   "source": [
    "## Que retenir ?\n",
    "### À minima...\n",
    "\n",
    "- Savoir utiliser les fonctions `bin()`et `int()` de Python.\n",
    "- Un octet est un \"mot\" binaire de 8 bits.\n",
    "- Dans un \"mot\" binaire, chaque bit a une valeur différente : il y a les bits de poids faible à droite et des bits de poids à gauche.\n",
    "- Savoir convertir manuellement (papier / crayon) un nombre décimal en nombre binaire... et inversement !\n",
    "\n",
    "### Au mieux...\n",
    "\n",
    "- Connaître par coeur toutes les valeurs des bits dans un octet, de 1 à 128."
   ]
  },
  {
   "cell_type": "markdown",
   "metadata": {},
   "source": [
    "---\n",
    "[![Licence CC BY NC SA](https://licensebuttons.net/l/by-nc-sa/3.0/88x31.png \"licence Creative Commons CC BY-NC-SA\")](http://creativecommons.org/licenses/by-nc-sa/3.0/fr/)\n",
    "<p style=\"text-align: center;\">Auteur : David Landry, Lycée Clemenceau - Nantes</p>\n",
    "<p style=\"text-align: center;\">D'après des documents partagés par <a  href=https://math93.com/lycee/nsi-1ere/nsi-1ere.html>M. Duffaud et M. Courtois</a></p>\n"
   ]
  }
 ],
 "metadata": {
  "kernelspec": {
   "display_name": "Python 3",
   "language": "python",
   "name": "python3"
  },
  "language_info": {
   "codemirror_mode": {
    "name": "ipython",
    "version": 3
   },
   "file_extension": ".py",
   "mimetype": "text/x-python",
   "name": "python",
   "nbconvert_exporter": "python",
   "pygments_lexer": "ipython3",
   "version": "3.8.3"
  }
 },
 "nbformat": 4,
 "nbformat_minor": 2
}
