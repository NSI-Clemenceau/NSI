{
 "cells": [
  {
   "cell_type": "markdown",
   "metadata": {},
   "source": [
    "# Au coeur des variables et affectations"
   ]
  },
  {
   "cell_type": "markdown",
   "metadata": {},
   "source": [
    ">**Remarque :** ce notebook aborde des notions plus complexes pour mieux comprendre la notion de variable et d'affectation. Il est à noter que ces notions se situent en marge du programme de première NSI, voire souvent bien au delà..."
   ]
  },
  {
   "cell_type": "markdown",
   "metadata": {},
   "source": [
    "## Le problème de la copie des variables\n",
    "\n",
    "Nous allons explorer, dans les entrailles de la machine, la gestion de la copie de variables, en fonction de leur type (mutable ou immuable).  \n",
    "\n",
    "Nous utiliserons l'instruction qui donne l' \"identité\" d'une variable : `id(variable)`. C'est en fait l'adresse mémoire de la variable. Cette adresse est renvoyée en décimal (base 10). Nous privilégierons l'adresse en hexadécimal, ce qui est plus standard.\n",
    "\n",
    "Nous utiliserons régulièrement une double affectation pour obtenir en une ligne l'adresse et le type d'une variable."
   ]
  },
  {
   "cell_type": "code",
   "execution_count": null,
   "metadata": {},
   "outputs": [],
   "source": [
    "# Un exemple de double affectation\n",
    "a = 3\n",
    "adr, typ = hex(id(a)), type(a)\n",
    "print(\"la variable a est un \", typ, \" d'adresse \", adr)"
   ]
  },
  {
   "cell_type": "markdown",
   "metadata": {},
   "source": [
    "\n",
    "## Copie et modification des entiers, flottants, chaînes de caractères.\n",
    "Exécuter la cellule de code suivante. Changer la variable `var_1` en un flottant (ex : 3.5), puis une chaîne de caractères.  "
   ]
  },
  {
   "cell_type": "code",
   "execution_count": null,
   "metadata": {},
   "outputs": [],
   "source": [
    "var_1 = 3\n",
    "var_2 = var_1    # TEST de la copie de variable\n",
    "adr_1, typ_1 = hex(id(var_1)), type(var_1)\n",
    "adr_2, typ_2 = hex(id(var_2)), type(var_2)\n",
    "print(\"la variable var_1 est un \", typ_1, \" d'adresse \", adr_1)\n",
    "print(\"la variable var_2 est un \", typ_2, \" d'adresse \", adr_2)"
   ]
  },
  {
   "cell_type": "markdown",
   "metadata": {},
   "source": [
    "Modifions la valeur de `var_2`"
   ]
  },
  {
   "cell_type": "code",
   "execution_count": null,
   "metadata": {},
   "outputs": [],
   "source": [
    "var_1 = 3\n",
    "var_2 = var_1    # TEST de la copie de variable\n",
    "adr_1, typ_1 = hex(id(var_1)), type(var_1)\n",
    "adr_2, typ_2 = hex(id(var_2)), type(var_2)\n",
    "print(\"la variable var_1 est un \", typ_1, \" d'adresse \", adr_1)\n",
    "print(\"la variable var_2 est un \", typ_2, \" d'adresse \", adr_2)\n",
    "print(\"modification de la valeur de var_2\")\n",
    "var_2 = var_2 + 1\n",
    "adr_2, typ_2 = hex(id(var_2)), type(var_2)\n",
    "print(\"la variable var_2 est un \", typ_2, \" d'adresse \", adr_2)"
   ]
  },
  {
   "cell_type": "markdown",
   "metadata": {},
   "source": [
    "Nous venons de revérifier ce que l'on avait déjà vu dans un précédent notebook :  \n",
    "\n",
    "Lors d'une modification de variable de type entier, flottant ou chaîne de caractère, la valeur (l'objet entier, flottant,...) n'est en fait pas modifiée. Python crée un nouvel objet pour affecter une nouvelle valeur à la variable.\n",
    "\n",
    "> **Remarque :**\n",
    "- Pour mieux comprendre la situation, vous pouvez utiliser [Python tutor](http://pythontutor.com/visualize.html#mode=edit).\n",
    "- Deux méthodes différentes permettent d'utiliser [Python tutor](http://pythontutor.com/visualize.html#mode=edit) :\n",
    "  - Copier le contenu de la dernière cellule de code dans un nouvel onglet contenant [Python tutor](http://pythontutor.com/visualize.html#mode=edit).\n",
    "  - Intégrer Python tutor à ce notebook en exécutant les 3 cellules suivantes\n",
    "  \n",
    "> **Tuto d'utilisation de Python tutor :**\n",
    "- Cliquer sur \"Visualize execution\".\n",
    "- Pour une meilleure clarté, choisissez \"Customize visualization\" pour supprimer l'affichage des variables temporaires adr_1, typ_1, adr_2, typ_2 (champ \"Hide these variables\")\n",
    "- \"Update visualization\" puis cliquer sur \"Next\" pour passer chaque ligne de code une à une."
   ]
  },
  {
   "cell_type": "code",
   "execution_count": null,
   "metadata": {
    "scrolled": true
   },
   "outputs": [],
   "source": [
    "# installation de la librairie metakernel dans le notebook courant\n",
    "# à n'exécuter qu'une seule fois\n",
    "!pip install metakernel "
   ]
  },
  {
   "cell_type": "code",
   "execution_count": null,
   "metadata": {},
   "outputs": [],
   "source": [
    "# Redémarrer le noyau avant d'éxecuter le code suivant !\n",
    "# Import des modules nécessaire à l'intégration de Python tutor\n",
    "from metakernel import register_ipython_magics\n",
    "register_ipython_magics()"
   ]
  },
  {
   "cell_type": "code",
   "execution_count": null,
   "metadata": {},
   "outputs": [],
   "source": [
    "%%tutor # Ajouter %%tutor sur la 1ère la ligne pour intégration de Python tutor\n",
    "\n",
    "# Le code suivant sera interprété dans Python tutor\n",
    "var_1 = 3\n",
    "var_2 = var_1    # TEST de la copie de variable\n",
    "adr_1, typ_1 = hex(id(var_1)), type(var_1)\n",
    "adr_2, typ_2 = hex(id(var_2)), type(var_2)\n",
    "print(\"la variable var_1 est un \", typ_1, \" d'adresse \", adr_1)\n",
    "print(\"la variable var_2 est un \", typ_2, \" d'adresse \", adr_2)\n",
    "print(\"modification de la valeur de var_2\")\n",
    "var_2 = var_2 + 1\n",
    "adr_2, typ_2 = hex(id(var_2)), type(var_2)\n",
    "print(\"la variable var_2 est un \", typ_2, \" d'adresse \", adr_2)"
   ]
  },
  {
   "cell_type": "markdown",
   "metadata": {},
   "source": [
    "## Types immuables\n",
    "\n",
    "Les variables var_1 et var_2 sont dites __immuables__ (immutable in english) : on ne peut pas les \"modifier\", dans le sens où l'**on ne peut pas modifier le contenu de leur adresse mémoire**. A chaque modification, Python crée une nouvelle variable de même nom, à un autre emplacement mémoire. L'avantage est la sécurité (pas de modification involontaire de la valeur de la variable), l'inconvénient une certain inefficacité (perte de temps et d'espace mémoire)."
   ]
  },
  {
   "cell_type": "markdown",
   "metadata": {},
   "source": [
    "## Copie et modification des listes (dictionnaires, tuples, ...)\n",
    "Reprenons le code précédent, avec une liste"
   ]
  },
  {
   "cell_type": "code",
   "execution_count": null,
   "metadata": {},
   "outputs": [],
   "source": [
    "var_1 = [1, 2, 3]\n",
    "var_2 = var_1    #TEST de la copie de variable\n",
    "adr_1, typ_1 = hex(id(var_1)), type(var_1)\n",
    "adr_2, typ_2 = hex(id(var_2)), type(var_2)\n",
    "print(\"la variable var_1 est un \", typ_1, \" d'adresse \", adr_1)\n",
    "print(\"la variable var_2 est un \", typ_2, \" d'adresse \", adr_2)\n",
    "print(\"modification de la valeur de var_2\")\n",
    "var_2[2] = 5\n",
    "print(\"var_1 \", var_1)\n",
    "print(\"var_2 \", var_2)\n",
    "adr_2, typ_2 = hex(id(var_2)), type(var_2)\n",
    "print(\"la variable var_1 est un \", typ_1, \" d'adresse \", adr_1)\n",
    "print(\"la variable var_2 est un \", typ_2, \" d'adresse \", adr_2)"
   ]
  },
  {
   "cell_type": "markdown",
   "metadata": {},
   "source": [
    "> **Remarque :**\n",
    "- Pour mieux comprendre la situation, utiliser à nouveau [Python tutor](http://pythontutor.com/visualize.html#mode=edit). \n",
    "\n",
    "Lors d'une modification de la valeur d'une liste, seules les variables muables contenues dans la liste sont nouvellement crées en cas de modification de la liste. Les deux variables, copies l'une de l'autre, pointe vers la même adresse et cette adresse reste à la même.\n",
    "\n",
    "**La modification du contenu d'une liste via une variable affecte donc l'autre variable, si cette seconde est une copie de la première**.\n",
    "\n",
    "Ces variables de type `list` sont dites __mutables__ : on change le contenu de leur adresse mémoire à chaque modification dans l'exécution d'un programme. Par rapport à une variable immuable, on gagne en efficacté et on perd en sécurité."
   ]
  },
  {
   "cell_type": "markdown",
   "metadata": {},
   "source": [
    "## Copie de liste par slicing\n",
    "\n",
    "On va utiliser un cas particulier de slicing pour copier une liste. En ne mettant aucun indice de part et d'autre des `:`, on reprend l'ensemble de la liste \"sclicée\".\n",
    "\n",
    "Observons le résultat de l'instruction `liste_2 = liste_1[:]`"
   ]
  },
  {
   "cell_type": "code",
   "execution_count": null,
   "metadata": {},
   "outputs": [],
   "source": [
    "var_1 = [1, 2, 3]\n",
    "var_2 = var_1[:]    # TEST de la copie de variable\n",
    "adr_1, typ_1 = hex(id(var_1)), type(var_1)\n",
    "adr_2, typ_2 = hex(id(var_2)), type(var_2)\n",
    "print(\"la variable var_1 est un \", typ_1, \" d'adresse \", adr_1)\n",
    "print(\"la variable var_2 est un \", typ_2, \" d'adresse \", adr_2)\n",
    "print(\"modification de la valeur de var_2\")\n",
    "var_2[2] = 5\n",
    "print(\"var_1 \", var_1)\n",
    "print(\"var_2 \", var_2)"
   ]
  },
  {
   "cell_type": "markdown",
   "metadata": {},
   "source": [
    "> **Commentaires :**"
   ]
  },
  {
   "cell_type": "markdown",
   "metadata": {},
   "source": [
    "## Copie de liste par la méthode .copy()\n",
    "\n",
    "La méthode `var_2 = var_1.copy()` permet également de faire une copie \"propre\" de la liste."
   ]
  },
  {
   "cell_type": "code",
   "execution_count": null,
   "metadata": {},
   "outputs": [],
   "source": [
    "var_1 = [1, 2, 3]\n",
    "var_2 = var_1.copy()    # TEST de la copie de variable\n",
    "adr_1, typ_1 = hex(id(var_1)), type(var_1)\n",
    "adr_2, typ_2 = hex(id(var_2)), type(var_2)\n",
    "print(\"la variable var_1 est un \", typ_1, \" d'adresse \", adr_1)\n",
    "print(\"la variable var_2 est un \", typ_2, \" d'adresse \", adr_2)\n",
    "print(\"modification de la valeur de var_2\")\n",
    "var_2[2] = 5\n",
    "print(\"var_1 \", var_1)\n",
    "print(\"var_2 \", var_2)"
   ]
  },
  {
   "cell_type": "markdown",
   "metadata": {},
   "source": [
    "## Passage des paramètres dans une fonction (approfondissement)\n",
    "La fonction ci-dessous est construite pour fonctionner avec des entiers, des flottants, des chaînes ou des listes.  \n",
    "\n",
    "Testez-là avec tous ces types de variables, et écrivez votre conclusion dans l'encadré ci-après. \n",
    "\n",
    "Lors de l'écriture d'un programme (et donc du ou des projets) la manière dont sont passés les paramètres a une grande importance."
   ]
  },
  {
   "cell_type": "code",
   "execution_count": null,
   "metadata": {},
   "outputs": [],
   "source": [
    "from copy import copy\n",
    "\n",
    "def double_ou_rien(variable, adres):\n",
    "    \"\"\"\n",
    "    Est censé renvoyer la variable non modifiée\n",
    "    \n",
    "    A l'intérieur de la fonction:\n",
    "        Un nombre est multiplié par deux\n",
    "        Une chaine ou une liste est concaténée à elle-même\n",
    "    \"\"\"\n",
    "\n",
    "    if type(variable) is list:\n",
    "        variable.append(\"truc\")\n",
    "    else:\n",
    "        variable = variable * 2\n",
    "    adr_var, typ_var = hex(id(variable)), type(variable)\n",
    "    if adr_var != adres:\n",
    "        print(\"La variable a été recréée à l'intérieur de la fonction :\")\n",
    "        print(\"\\tSon type est \", typ_var)\n",
    "        print(\"\\tL'adresse locale (dans la fonction) est \", adr_var,\" alors que l'adresse dans le programme principal est \", adres)\n",
    "    else:\n",
    "        print(\"La variable n'a pas été recréée à l'intérieur de la fonction\")\n",
    "        print(\"\\tLa variable a pour adresse globale \", adres, \\\n",
    "              \" aussi bien dans la fonction que dans le programme principal\")\n",
    "    return\n",
    "\n",
    "var = 1    # à tester avec entier, flottant, chaîne, liste\n",
    "\n",
    "sauve_var = copy(var)\n",
    "adr_v, typ_v = hex(id(var)), type(var)\n",
    "print(\"la variable var est un \", typ_v, \" d'adresse \", adr_v)\n",
    "\n",
    "double_ou_rien(var, adr_v)\n",
    "\n",
    "print(\"\\nRetour de fonction \")\n",
    "if var == sauve_var :\n",
    "    print(\"Pour une variable de type \", typ_v,\" la fonction n'a pas modifié la valeur de la variable.\")\n",
    "    print(\"Avant ou après exécution, var = \", var)\n",
    "else:\n",
    "    print(\"Pour une variable de type \", typ_v,\" la fonction a modifié la valeur de la variable.\")\n",
    "    print(\"Avant exécution, var = \", sauve_var)\n",
    "    print(\"Après exécution var = \", var)"
   ]
  },
  {
   "cell_type": "markdown",
   "metadata": {},
   "source": [
    "> **Commentaires :**  \n",
    "- __Lors du passage d'une liste en paramètre, on dit qu'il y a _effet de bord_.__"
   ]
  },
  {
   "cell_type": "markdown",
   "metadata": {},
   "source": [
    "## Copie de matrice\n",
    "### Copie de matrice par slicing\n",
    "\n",
    "Testons le résultat de l'instruction `matrice_2 = matrice_1[:]`"
   ]
  },
  {
   "cell_type": "code",
   "execution_count": null,
   "metadata": {},
   "outputs": [],
   "source": [
    "matrice_1 = [[1, 2, 3],[10, 20, 30]]\n",
    "matrice_2 = matrice_1[:]     # TEST de la copie\n",
    "adr_1, typ_1 = hex(id(matrice_1)), type(matrice_1)\n",
    "adr_2, typ_2 = hex(id(matrice_2)), type(matrice_2)\n",
    "print(\"la variable matrice_1 est un \", typ_1, \" d'adresse \", adr_1)\n",
    "print(\"la variable matrice_2 est un \", typ_2, \" d'adresse \", adr_2)\n",
    "print(\"Adresses des lignes\")\n",
    "adr_10, typ_10 = hex(id(matrice_1[0])), type(matrice_1[0])\n",
    "adr_11, typ_11 = hex(id(matrice_1[1])), type(matrice_1[1])\n",
    "adr_20, typ_20 = hex(id(matrice_2[0])), type(matrice_2[0])\n",
    "adr_21, typ_21 = hex(id(matrice_2[1])), type(matrice_2[1])\n",
    "print(\"adresse de la ligne 0 de matrice_1\", adr_10)\n",
    "print(\"adresse de la ligne 1 de matrice_1\", adr_11)\n",
    "print(\"adresse de la ligne 0 de matrice_2\", adr_20)\n",
    "print(\"adresse de la ligne 1 de matrice_2\", adr_21)\n",
    "print(\"essai de modification de la valeur de matrice_2 uniquement : \")\n",
    "matrice_2[1][0] = 35\n",
    "print(\"matrice_1 \", matrice_1)\n",
    "print(\"matrice_2 \", matrice_2)"
   ]
  },
  {
   "cell_type": "markdown",
   "metadata": {},
   "source": [
    "Le résultat est-il celui attendu ?  \n",
    "\n",
    "Quel est le problème rencontré :\n",
    "\n",
    "> **Remarque :** en cas de difficulté, penser à [Python tutor](http://pythontutor.com/visualize.html#mode=edit). "
   ]
  },
  {
   "cell_type": "markdown",
   "metadata": {},
   "source": [
    "### Copie de matrice par la méthode .copy()\n",
    "\n",
    "Testez avec la méthode `.copy()`, puis commenter."
   ]
  },
  {
   "cell_type": "code",
   "execution_count": null,
   "metadata": {},
   "outputs": [],
   "source": [
    "matrice_1 = [[1, 2, 3],[10, 20, 30]]\n",
    "matrice_2 = matrice_1.copy()     # TEST de la copie\n",
    "adr_1, typ_1 = hex(id(matrice_1)), type(matrice_1)\n",
    "adr_2, typ_2 = hex(id(matrice_2)), type(matrice_2)\n",
    "print(\"la variable matrice_1 est un \", typ_1, \" d'adresse \", adr_1)\n",
    "print(\"la variable matrice_2 est un \", typ_2, \" d'adresse \", adr_2)\n",
    "print(\"Adresses des lignes\")\n",
    "adr_10, typ_10 = hex(id(matrice_1[0])), type(matrice_1[0])\n",
    "adr_11, typ_11 = hex(id(matrice_1[1])), type(matrice_1[1])\n",
    "adr_20, typ_20 = hex(id(matrice_2[0])), type(matrice_2[0])\n",
    "adr_21, typ_21 = hex(id(matrice_2[1])), type(matrice_2[1])\n",
    "print(\"adresse de la ligne 0 de matrice_1\", adr_10)\n",
    "print(\"adresse de la ligne 1 de matrice_1\", adr_11)\n",
    "print(\"adresse de la ligne 0 de matrice_2\", adr_20)\n",
    "print(\"adresse de la ligne 1 de matrice_2\", adr_21)\n",
    "print(\"essai de modification de la valeur de matrice_2 uniquement : \")\n",
    "matrice_2[1][0] = 35\n",
    "print(\"matrice_1 \", matrice_1)\n",
    "print(\"matrice_2 \", matrice_2)"
   ]
  },
  {
   "cell_type": "markdown",
   "metadata": {},
   "source": [
    "> **Commentaires :**"
   ]
  },
  {
   "cell_type": "markdown",
   "metadata": {},
   "source": [
    "> **Exercice :**  \n",
    "- Ecrire un programme qui permet de faire une copie dite \"profonde\", c'est à dire dans laquelle la matrice 1 n'est pas modifiée si l'on modifie la matrice 2"
   ]
  },
  {
   "cell_type": "code",
   "execution_count": null,
   "metadata": {},
   "outputs": [],
   "source": []
  },
  {
   "cell_type": "markdown",
   "metadata": {},
   "source": [
    "### Copie profonde de matrice par la méthode .deepcopy()\n",
    "\n",
    "Il existe une méthode pour copier correctement les matrices : `.deepcopy()`\n",
    "Testez ci-dessous"
   ]
  },
  {
   "cell_type": "code",
   "execution_count": null,
   "metadata": {
    "scrolled": true
   },
   "outputs": [],
   "source": [
    "from copy import deepcopy\n",
    "matrice_1 = [[1, 2, 3], [10, 20, 30]]\n",
    "matrice_2 = deepcopy(matrice_1)\n",
    "adr_1, typ_1 = hex(id(matrice_1)), type(matrice_1)\n",
    "adr_2, typ_2 = hex(id(matrice_2)), type(matrice_2)\n",
    "print(\"la variable matrice_1 est un \", typ_1, \" d'adresse \", adr_1)\n",
    "print(\"la variable matrice_2 est un \", typ_2, \" d'adresse \", adr_2)\n",
    "print(\"Adresses des lignes\")\n",
    "adr_10, typ_10 = hex(id(matrice_1[0])), type(matrice_1[0])\n",
    "adr_11, typ_11 = hex(id(matrice_1[1])), type(matrice_1[1])\n",
    "adr_20, typ_20 = hex(id(matrice_2[0])), type(matrice_2[0])\n",
    "adr_21, typ_21 = hex(id(matrice_2[1])), type(matrice_2[1])\n",
    "print(\"adresse de la ligne 0 de matrice_1\", adr_10)\n",
    "print(\"adresse de la ligne 1 de matrice_1\", adr_11)\n",
    "print(\"adresse de la ligne 0 de matrice_2\", adr_20)\n",
    "print(\"adresse de la ligne 1 de matrice_2\", adr_21)\n",
    "print(\"essai de modification de la valeur de matrice_2 uniquement : \")\n",
    "matrice_2[1][0] = 35\n",
    "print(\"matrice_1 \", matrice_1)\n",
    "print(\"matrice_2 \", matrice_2)\n",
    "adr_2, typ_2 = hex(id(matrice_2)), type(matrice_2)\n",
    "print(\"la variable matrice_1 est un \", typ_1, \" d'adresse \", adr_1)\n",
    "print(\"la variable matrice_2 est un \", typ_2, \" d'adresse \", adr_2)"
   ]
  },
  {
   "cell_type": "markdown",
   "metadata": {},
   "source": [
    "> **Commentaires :**"
   ]
  },
  {
   "cell_type": "markdown",
   "metadata": {},
   "source": [
    "---\n",
    "[![Licence CC BY NC SA](https://licensebuttons.net/l/by-nc-sa/3.0/88x31.png \"licence Creative Commons CC BY-NC-SA\")](http://creativecommons.org/licenses/by-nc-sa/3.0/fr/)\n",
    "<p style=\"text-align: center;\">Auteur : David Landry, Lycée Clemenceau - Nantes</p>\n",
    "<p style=\"text-align: center;\">D'après des documents partagés par <a  href=https://maths-info-lycee.fr/>Frédéric Mandon</a></p>"
   ]
  }
 ],
 "metadata": {
  "kernelspec": {
   "display_name": "Python 3",
   "language": "python",
   "name": "python3"
  },
  "language_info": {
   "codemirror_mode": {
    "name": "ipython",
    "version": 3
   },
   "file_extension": ".py",
   "mimetype": "text/x-python",
   "name": "python",
   "nbconvert_exporter": "python",
   "pygments_lexer": "ipython3",
   "version": "3.8.3"
  }
 },
 "nbformat": 4,
 "nbformat_minor": 2
}
