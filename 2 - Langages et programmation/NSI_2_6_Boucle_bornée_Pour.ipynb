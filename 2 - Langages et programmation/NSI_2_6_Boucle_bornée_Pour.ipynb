{
 "cells": [
  {
   "cell_type": "markdown",
   "metadata": {},
   "source": [
    "# La boucle : une structure de contrôle\n",
    "## Introduction et définition\n",
    "\n",
    "La __boucle__ est l'une des structures de base de la programmation informatique : une __structure de contôle__. Elle est parmi les plus basiques et les plus puissantes des concepts de programmation. \n",
    "\n",
    "> __Définition : une boucle est une structure de contrôle permettant à un bloc d'instructions de se répéter jusqu'à ce qu'une condition spécifiée soit atteinte__.\n",
    "\n",
    "## La boucle bornée : _Pour_... *Fin_Pour*\n",
    "\n",
    "On utilise une __boucle bornée _Pour_ (`for`... `in` en Python)__ lorsqu'on connaît exactement le nombre de tâches répétitives que le programme doit exécuter. On parle aussi de __boucle itérative__.\n",
    "\n",
    ">**A retenir : la boucle _Pour_ permet de répéter un bloc d'instructions un nombre déterminé de fois**.\n",
    "\n",
    "Voici une écriture d'une boucle bornée en __pseudo-code__ :\n",
    "\n",
    ">POUR compteur DE début À fin  \n",
    "&emsp;Bloc d'instructions  \n",
    "FIN_POUR\n",
    "\n",
    "On retiendra que `for _ in range(n):` permet de faire n tours de boucles.\n",
    "\n",
    "```python\n",
    "for _ in range(n):\n",
    "    # Bloc d'intruction à éxécuter n fois\n",
    "```\n",
    "\n",
    "Un exemple ci-dessous..."
   ]
  },
  {
   "cell_type": "code",
   "execution_count": null,
   "metadata": {},
   "outputs": [],
   "source": [
    "for _ in range(5):\n",
    "    print(\"Hello World !\")"
   ]
  },
  {
   "cell_type": "markdown",
   "metadata": {},
   "source": [
    "> **Remarques :**\n",
    "- le caractère `_` est obligatoire. On verra très bientôt que l'on peut parfoir tirer avantage à le remplacer par une variable (on choisit souvent `i`), clarifiant l'itération.\n",
    "- le double point `:` est lui aussi obligatoire. Comme on l'a vu précédemment, il caractérise le début d'un **bloc d'instructions**.\n",
    "- le bloc d'instructions doit être **indenté** (décalage de 4 espaces par rapport à la marge), pour faire partie de la boucle. Il n'y a pas de *Fin_Pour* : c'est l'indentation qui sert de limitateur de boucle.\n",
    "\n",
    "Si le caractère `_` est remplacé par une variable (traditionnelement `i`, `j` ou `k`), cette variable prendra, tour à tour, toutes les valeurs crées par la fonction `range()`."
   ]
  },
  {
   "cell_type": "code",
   "execution_count": null,
   "metadata": {},
   "outputs": [],
   "source": [
    "for i in range(5):\n",
    "    print(f\"Lors de ce tour de boucle, la variable i vaut {i}\")"
   ]
  },
  {
   "cell_type": "markdown",
   "metadata": {},
   "source": [
    "## La fonction `range()`\n",
    "\n",
    "La fonction `range()` est essentielle en programmation python. Elle est tout particulièrement importante dans beaucoup de boucles `for`.\n",
    "\n",
    "__La fonction `range()` produit une structure de donnée (qu'on appelle un itérable), contenant tous les entiers entre une borne inférieure et une borne supérieure__. \n",
    "\n",
    "La fonction range est utilisable avec 1, 2 ou 3 paramètres :\n",
    "- avec __un seul argument, elle renvoie une liste comprise entre 0 et n-1__ \n",
    "  - ex : `range(3)` renvoie l'équivalent de (0, 1, 2)\n",
    "- s'il y a __deux arguments, ils spécifient la borne inférieure (inclue) et supérieure (exclue)__\n",
    "  - ex : `range(2, 6)` renvoie l'équivalent de (2, 3, 4, 5)\n",
    "- un __troisième argument spécifiera l'incrément (le _pas_)__ entre deux éléments de la séquence (la valeur de \"saut\", d'une valeur à la suivante)\n",
    "  - ex : `range(7, 18, 3)` renvoie l'équivalent de (7, 10, 13, 16)"
   ]
  },
  {
   "cell_type": "markdown",
   "metadata": {},
   "source": [
    "## La fonction `range()`au service de la boucle `for`\n",
    "\n",
    "Voir ci-dessous quelques exemples d'utilisation de `range()` dans une boucle."
   ]
  },
  {
   "cell_type": "code",
   "execution_count": null,
   "metadata": {},
   "outputs": [],
   "source": [
    "for i in range(5, 10):\n",
    "    print(f\"Lors de ce tour de boucle, la variable i vaut {i}\")"
   ]
  },
  {
   "cell_type": "code",
   "execution_count": null,
   "metadata": {},
   "outputs": [],
   "source": [
    "for i in range(5, 10, 2):\n",
    "    print(f\"Lors de ce tour de boucle, la variable i vaut {i}\")"
   ]
  },
  {
   "cell_type": "code",
   "execution_count": null,
   "metadata": {},
   "outputs": [],
   "source": [
    "for i in range(12, 7, -1):\n",
    "    print(f\"Lors de ce tour de boucle, la variable i vaut {i}\")"
   ]
  },
  {
   "cell_type": "code",
   "execution_count": null,
   "metadata": {
    "scrolled": true
   },
   "outputs": [],
   "source": [
    "for i in range(12, 7, -1):\n",
    "    print(f\"Lors de ce tour de boucle, la variable i vaut {i}\")\n",
    "    print(\"On remarque que l'on peut mettre autant de lignes que l'on veut dans le bloc d'instructions\")"
   ]
  },
  {
   "cell_type": "markdown",
   "metadata": {},
   "source": [
    "> __Remarque :__ si une chaîne de caractères est trop longue (ce qui ne respecterait pas la PEP-8, préconisant des lignes d'une longueur inférieure à 80 caractères), on peut la découper sur plusieurs lignes, à condition de la fermer et de la rouvrir à chaque ligne (avec des guillements ou des apostrophes). Python concatenera ces lignes."
   ]
  },
  {
   "cell_type": "code",
   "execution_count": null,
   "metadata": {},
   "outputs": [],
   "source": [
    "for i in range(12, 7, -1):\n",
    "    print(f\"Lors de ce tour de boucle, la variable i vaut {i}\")\n",
    "    print(\"On remarque que l'on peut mettre autant de lignes\"\n",
    "          \" que l'on veut dans le bloc d'instructions\")"
   ]
  },
  {
   "cell_type": "markdown",
   "metadata": {},
   "source": [
    "__Exercice :__ utiliser une boucle `for` pour afficher __toutes les doubles des entiers__ de 1 jusqu'à 10."
   ]
  },
  {
   "cell_type": "code",
   "execution_count": null,
   "metadata": {},
   "outputs": [],
   "source": []
  },
  {
   "cell_type": "markdown",
   "metadata": {},
   "source": [
    "__Exercice :__ utiliser une boucle `for` pour afficher __toutes les puissances de 2__, de $2^0$ à $2^7$"
   ]
  },
  {
   "cell_type": "code",
   "execution_count": null,
   "metadata": {},
   "outputs": [],
   "source": []
  },
  {
   "cell_type": "markdown",
   "metadata": {},
   "source": [
    "__Exercice :__ on veut un algorithme qui donne la __somme des n premiers entiers naturels__.\n",
    "\n",
    "Par exemple, pour n = 4, on veut obtenir la valeur de 0 + 1 + 2 + 3 = 6.\n",
    "\n",
    "Voici une écriture du programme de cet exemple en __pseudo-code__ :\n",
    "\n",
    ">DEMANDER À L'UTILISATEUR LA SAISIE D'UN NOMBRE n  \n",
    "somme ← 0  \n",
    "POUR i DE 0 À n - 1  \n",
    "&emsp;somme ← somme + i  \n",
    "FIN_POUR  \n",
    "ÉCRIRE somme"
   ]
  },
  {
   "cell_type": "code",
   "execution_count": null,
   "metadata": {},
   "outputs": [],
   "source": []
  },
  {
   "cell_type": "markdown",
   "metadata": {},
   "source": [
    "> __Remarques :__ \n",
    "- Dans ce dernier exemple, la variable `somme` est appelée un __accumulateur__ : c'est une variable qu'on initialise avant la boucle, puis dont on remet à jour la valeur à chaque tour de boucle.\n",
    "- En pseudo-code, les bornes de la boucle POUR sont incluses. Dans notre exemple, `i` prendra donc les valeurs de `0` à `n-1` inclus."
   ]
  },
  {
   "cell_type": "markdown",
   "metadata": {},
   "source": [
    "__Exercice :__ modifier votre programme précédent pour afficher la __somme de tous les nombres entiers impairs inférieurs ou égaux à n__."
   ]
  },
  {
   "cell_type": "code",
   "execution_count": null,
   "metadata": {},
   "outputs": [],
   "source": []
  },
  {
   "cell_type": "markdown",
   "metadata": {},
   "source": [
    "## La boucle _Pour_ utilisée sur des itérables\n",
    "\n",
    "Dans tous les exemples précédents, la boucle `for` s'appuie sur la fonction `range()`, dont on a dit qu'elle renvoyait une structure de données __itérable__.\n",
    "\n",
    "Comme son nom l'indique, et il est inutile d'aller plus loin à ce stade, un `itérable` est conçu pour être... itéré ! C'est à dire qu'il servira à parcourir un certain nombre de valeurs : une propriété parfaite pour une boucle itérative !\n",
    "\n",
    "Avant de découvrir d'autres __structures de données itérables, commes les listes et les dictionnaires, on va utiliser une structure de données itérable déjà bien connue : les chaînes de caractères__."
   ]
  },
  {
   "cell_type": "code",
   "execution_count": null,
   "metadata": {},
   "outputs": [],
   "source": [
    "mot = \"abracadabra\"\n",
    "for lettre in mot:\n",
    "    print(lettre)"
   ]
  },
  {
   "cell_type": "markdown",
   "metadata": {},
   "source": [
    ">__Commentaire :__"
   ]
  },
  {
   "cell_type": "markdown",
   "metadata": {},
   "source": [
    "## Les boucles imbriquées"
   ]
  },
  {
   "cell_type": "markdown",
   "metadata": {},
   "source": [
    "Le bloc d'instructions répété par une boucle `for`peut contenir n'importe quelle instruction python légale, y compris une autre boucle `for`. On parle alors de __boucles imbriquées_.\n",
    "\n",
    "Dans ce cas, il faudra être __très vigilant sur l'indentation__. Il faudra également penser à utiliser un autre nom de variable pour l'indice de boucle de la boucle imbriquée : si la boucle mère utilise `i`, on peut alors utiliser `j`, puis`k`,...\n",
    "\n",
    "Un exemple..."
   ]
  },
  {
   "cell_type": "code",
   "execution_count": null,
   "metadata": {},
   "outputs": [],
   "source": [
    "for i in range(3):\n",
    "    print(\"Début du bloc d'instructions de la première boucle\")\n",
    "    for j in range (5):\n",
    "        print(f'i = {i} et j = {j}')"
   ]
  },
  {
   "cell_type": "markdown",
   "metadata": {},
   "source": [
    "__Exercice :__ écrire un programme qui affichera la table de multiplication des nombres de 1 à 10. Un simple affichage, ligne à ligne, suffira."
   ]
  },
  {
   "cell_type": "code",
   "execution_count": null,
   "metadata": {},
   "outputs": [],
   "source": []
  },
  {
   "cell_type": "markdown",
   "metadata": {},
   "source": [
    "__Exercice (approfondissement) :__ mettre en forme le programme précédent pour afficher une vraie table de multiplication.\n",
    "\n",
    "\n",
    "|X|1|2|3|4|5|6|7|8|9|10|\n",
    "|:---:|:---:|:---:|:---:|:---:|:---:|:---:|:---:|:---:|:---:|:---:|\n",
    "|1|1|2|3|4|5|6|7|8|9|10|\n",
    "|2|2|4|6|8|10|12|14|16|18|20|\n",
    "|3|etc.|etc.|etc.|etc.|etc.|etc.|etc.|etc.|etc.|etc.|"
   ]
  },
  {
   "cell_type": "code",
   "execution_count": null,
   "metadata": {},
   "outputs": [],
   "source": []
  },
  {
   "cell_type": "markdown",
   "metadata": {},
   "source": [
    "## Les limites des boucles bornées\n",
    "\n",
    "On utilisera donc une boucle _Pour_ dès que l'on sait combien de fois on veut réaliser une action.\n",
    "\n",
    "> __Remarque :__ \n",
    "- On ne sort pas prématurément d'une boucle `for`. Pas de `break`, pas de modification de la variable de boucle à l'intérieur de la boucle. \n",
    "- Si on est tenté de sortir prématurément de la boucle ou de modifier la variable de boucle, cela signifie très probablement que l'on aurait dû utiliser __une boucle non bornée : la boucle \"Tant que\" (`while` en Python)__. Ce sera l'objet du prochain notebook."
   ]
  },
  {
   "cell_type": "markdown",
   "metadata": {},
   "source": [
    "## Que retenir ?\n",
    "### À minima...\n",
    "\n",
    "- Une boucle est une structure de contrôle permettant à un bloc d'instructions de se répéter jusqu'à ce qu'une condition spécifiée soit atteinte.\n",
    "- Une boucle _Pour_ est dite bornée (`for`... `in` en Python) lorsqu'on connaît exactement le nombre de tâches répétitives que le programme doit exécuter.\n",
    "- `for _ in range(n):` permet de faire n tours de boucles.\n",
    "- À chaque tour de boucle, on exécute l'ensemble du bloc d'instructions qui est indenté sous `for _ in range(n):`.\n",
    "- On peut aussi utiliser un compteur pour incrémenter une valeur à chaque tour de boucle (ex : `i` est le compteur de la boucle `for i in range(n):`).\n",
    "- la fonction `range()` prend un, deux ou trois paramètres pour définir les bornes et le pas d'incrémentation.\n",
    "- la fonction `range()` n'inclue pas la borne supérieure (ex : `range(1, 10)` incrémente de 1 à 9).\n",
    "- On peut imbriquer des boucles dans d'autres boucles. Dans ce cas, il faut être très attentif à l'indentation des blocs d'instructions.\n",
    "\n",
    "### Au mieux...\n",
    "\n",
    "- On parle aussi de boucle itérative pour désigner une boucle bornée.\n",
    "- la boucle `for` permet aussi d'utiliser les différentes valeurs d'un itérable (ex : liste ou chaîne de caractères) à chaque tour de boucle (ex `for lettre in 'texte':`).\n",
    "- le troisième paramètre de la fonction `range()` fournit le pas d'incrémentation (ex : `range(1, 10, 3)` incrémente de 1 à 7, par pas de 3)."
   ]
  },
  {
   "cell_type": "markdown",
   "metadata": {},
   "source": [
    "---\n",
    "[![Licence CC BY NC SA](https://licensebuttons.net/l/by-nc-sa/3.0/88x31.png \"licence Creative Commons CC BY-NC-SA\")](http://creativecommons.org/licenses/by-nc-sa/3.0/fr/)\n",
    "<p style=\"text-align: center;\">Auteur : David Landry, Lycée Clemenceau - Nantes</p>\n",
    "<p style=\"text-align: center;\">D'après des documents partagés par...</p>\n",
    "<p style=\"text-align: center;\"><a  href=http://www.monlyceenumerique.fr/index_nsi.html#premiere>Jean-Christophe Gérard, Thomas Lourdet, Johan Monteillet, Pascal Thérèse</a></p>\n",
    "<p style=\"text-align: center;\"><a  href=https://www.numerique-sciences-informatiques.fr/>Numerique-sciences-informatiques.fr, du Lycée Clemenceau à Montpellier</a></p>\n",
    "<p style=\"text-align: center;\"><a  href=https://isncaju.wixsite.com/isncaju/python>Christophe Casseau, du Lycée Camille Jullian à Bordeaux</a></p>"
   ]
  }
 ],
 "metadata": {
  "kernelspec": {
   "display_name": "Python 3",
   "language": "python",
   "name": "python3"
  },
  "language_info": {
   "codemirror_mode": {
    "name": "ipython",
    "version": 3
   },
   "file_extension": ".py",
   "mimetype": "text/x-python",
   "name": "python",
   "nbconvert_exporter": "python",
   "pygments_lexer": "ipython3",
   "version": "3.8.3"
  },
  "vscode": {
   "interpreter": {
    "hash": "916dbcbb3f70747c44a77c7bcd40155683ae19c65e1c03b4aa3499c5328201f1"
   }
  }
 },
 "nbformat": 4,
 "nbformat_minor": 2
}
