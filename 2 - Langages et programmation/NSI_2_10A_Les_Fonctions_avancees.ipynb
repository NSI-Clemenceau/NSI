{
 "cells": [
  {
   "cell_type": "markdown",
   "metadata": {},
   "source": [
    "# Les fonctions (Approfondissement)\n",
    "\n",
    "## Préciser le typage de chacun des paramètres\n",
    "\n",
    "Le langage Python est plus aisé pour démarrer la programmation pour la concision des codes écrits et pour la gestion automatique du typage par l'interpréteur. Cependant, le but est que vous puissiez à terme __être capable de faire basculer vos compétences acquises en NSI sur Python vers d'autres langages de programmation__.\n",
    "\n",
    "Ce n'est pas le cas en Python, mais __la plupart des langages de programmation nécessitent la spécification du typage des variables__. \n",
    "\n",
    "Il peut être utile de prendre de bonnes habitudes, même en Python, lorsque vous codez une fonction, __en précisant le type de chaque entrée et sortie__ en suivant le même formalisme que ci-dessous :\n",
    "\n",
    "```python\n",
    "def nom_fonction(liste des arguments: type) -> typeRetour:\n",
    "\tblocs des instructions\n",
    "\treturn résultat\n",
    "```\n",
    "\n",
    "> __Remarque :__ il ne vous est pas demandé de typer vos fonctions en classe de première. Vous êtes toutefois libres de le faire si vous le souhaitez.\n",
    "\n",
    "La cellule ci-dessous reprend le premier exemple du notebook précédent, avec cette fois-ci un typage explicite :"
   ]
  },
  {
   "cell_type": "code",
   "execution_count": null,
   "metadata": {},
   "outputs": [],
   "source": [
    "def carre(x: float) -> float:\n",
    "    return x ** 2\n",
    "carre(3)"
   ]
  },
  {
   "cell_type": "markdown",
   "metadata": {},
   "source": [
    "__Application :__ Typez la fonction présente dans la cellule suivante."
   ]
  },
  {
   "cell_type": "code",
   "execution_count": null,
   "metadata": {},
   "outputs": [],
   "source": [
    "def cherche_lettre(nom, lettre):\n",
    "    if lettre in nom:\n",
    "        print(lettre,\" est dans le nom \", nom)\n",
    "    else:\n",
    "        print(lettre,\"n' est pas dans le nom \", nom)\n",
    "    return None "
   ]
  },
  {
   "cell_type": "markdown",
   "metadata": {},
   "source": [
    "> __Remarque :__ on remarque ci-dessus une autre __bonne pratique__. Même si on a ici une procédure, avec `def` on définit une fonction \"au sens python\", donc on doit renvoyer quelque chose, même si ce n'est que... `None`. "
   ]
  },
  {
   "cell_type": "markdown",
   "metadata": {},
   "source": [
    "## Tester une fonction\n",
    "\n",
    "On peut réaliser des tests automatisés dans un fichier python grâce à la bibliothèque `doctest`. \n",
    "\n",
    "Le module `doctest` permet de détecter automatiquement les tests écrits dans la `docstring` d'une fonction, de les lancer et d’afficher un rapport.\n",
    "\n",
    "Pour utiliser le module `doctest`, il suffit :\n",
    "- de commencer une ligne dans le `docstring` par `>>>` puis d'y écrire une assertion à tester.\n",
    "- d'écrire le résultat attendu en début de ligne suivante.\n",
    "\n",
    "Voici un exemple pour la fonction `est_parfait()` :"
   ]
  },
  {
   "cell_type": "code",
   "execution_count": null,
   "metadata": {},
   "outputs": [],
   "source": [
    "def est_parfait(n):\n",
    "    '''\n",
    "    n est un entier strictement positif\n",
    "    parfait(n) vaut True si l'entier n est parfait ou False sinon.\n",
    "    Un nombre parfait est tel que la somme de ses diviseurs est égale à son double.\n",
    "    \n",
    "    >>> est_parfait(2)\n",
    "    False\n",
    "    >>> est_parfait(6)\n",
    "    True\n",
    "    >>> est_parfait(27)\n",
    "    False\n",
    "    >>> est_parfait(28)\n",
    "    True\n",
    "    '''\n",
    "\n",
    "    assert(n > 0 and type(n) == int), \"L'argument doit être un entier strictement positif\"\n",
    "\n",
    "    diviseurs = [i for i in range(1, n + 1) if n % i == 0]\n",
    "    return sum(diviseurs) == 2 * n"
   ]
  },
  {
   "cell_type": "markdown",
   "metadata": {},
   "source": [
    "Il suffit ensuite d'écrire les deux lignes suivantes pour __lancer le test sur l'ensemble du notebook__..."
   ]
  },
  {
   "cell_type": "code",
   "execution_count": null,
   "metadata": {},
   "outputs": [],
   "source": [
    "import doctest\n",
    "doctest.testmod()"
   ]
  },
  {
   "cell_type": "markdown",
   "metadata": {},
   "source": [
    "On constate qu'un rapport concis des tests est affiché (attention, les tests sont lancés sur l’ensemble du notebook) :\n",
    "\n",
    "TestResults(failed=0, attempted=4)\n",
    "\n",
    "Ce qui signifie ici que les 4 tests n’ont donné lieu à aucun échec.\n",
    "\n",
    "On peut ajouter l’argument `verbose=True` en écrivant `doctest.testmod(verbose=True)` pour obtenir un rapport plus explicite :"
   ]
  },
  {
   "cell_type": "code",
   "execution_count": null,
   "metadata": {
    "scrolled": false
   },
   "outputs": [],
   "source": [
    "doctest.testmod(verbose=True)  # Inutile d'importer une seconde fois le module"
   ]
  },
  {
   "cell_type": "markdown",
   "metadata": {},
   "source": [
    "__Application :__ reprendre les fonctions créees dans le notebook précédent et y __ajouter des tests__. Bien réfléchir aux tests judicieux, en pensant aux cas limites.\n",
    "\n",
    "En profiter pour ajouter...\n",
    "- un docstring complet s'il n'y en a pas.\n",
    "- des préconditions judicieuses.\n",
    "- des postconditions judicieuses.\n",
    "\n",
    "> __Remarques :__ dans certains cas, les doctests peuvent être redondants avec les préconditions et / ou postconditions."
   ]
  },
  {
   "cell_type": "code",
   "execution_count": null,
   "metadata": {},
   "outputs": [],
   "source": [
    "def imc(masse, taille):\n",
    "    # Reprendre ici votre travail précédent et ajouter des tests"
   ]
  },
  {
   "cell_type": "code",
   "execution_count": null,
   "metadata": {},
   "outputs": [],
   "source": [
    "def carre(x):\n",
    "    \"\"\" \n",
    "    Calcule et renvoye le carré du nombre x entré en argument\n",
    "    \n",
    "    Entrée : x, tout nombre entier ou flottant\n",
    "    Sortie : le carré du nombre entré\n",
    "    \"\"\"\n",
    "    return x ** 2\n",
    "\n",
    "help(carre)"
   ]
  },
  {
   "cell_type": "code",
   "execution_count": null,
   "metadata": {},
   "outputs": [],
   "source": [
    "def solde(prix, reduc):\n",
    "    prix_solde = prix * (1 - reduc/100)\n",
    "    return prix_solde"
   ]
  },
  {
   "cell_type": "markdown",
   "metadata": {},
   "source": [
    "> __Remarques :__ les __docstrings__ et les __doctests__ sont un excellent moyen de bien coder une fonction. C'est pourquoi __il est même fortement conseillé de les écrire AVANT l'écriture de la fonction elle-même !__"
   ]
  },
  {
   "cell_type": "markdown",
   "metadata": {},
   "source": [
    "## Les paramètres par défaut\n",
    "\n",
    "Certains  paramètres  d'une fonction  peuvent  avoir  le  plus souvent  la  même valeur. \n",
    "\n",
    "On leur donne alors cette valeur par défaut dans [la signature de la fonction](https://fr.wikipedia.org/wiki/Signature_de_type).\n",
    "\n",
    "Par  exemple,  voici la  fonction  `les_donnees_de()`, qui renvoie les coordonnées d'un utilisateur lorsqu'on entre en paramètres ses prénom, nom et nom de domaine."
   ]
  },
  {
   "cell_type": "code",
   "execution_count": null,
   "metadata": {},
   "outputs": [],
   "source": [
    "def les_donnees_de(prenom: str, nom: str, domaine: str) -> str:\n",
    "    donnees = f\"{prenom}\\n{nom}\\n\"\n",
    "    donnees += f\"{prenom[0].lower()}{nom.lower()}@{domaine}\"\n",
    "    return donnees\n",
    "\n",
    "print(les_donnees_de(\"Ada\", \"Lovelace\", \"algokiller.us\"))"
   ]
  },
  {
   "cell_type": "markdown",
   "metadata": {},
   "source": [
    "Supposons  que  nous travaillions pour une entreprise dont tous les employés ont pour nom de domaine `maboite.fr`. \n",
    "\n",
    "Nous  pouvons nous éviter  de toujours  rentrer le nom  de domaine\n",
    "pour gagner du temps :"
   ]
  },
  {
   "cell_type": "code",
   "execution_count": null,
   "metadata": {
    "scrolled": false
   },
   "outputs": [],
   "source": [
    "def les_donnees_de(prenom: str, nom: str, domaine: str = \"maboite.fr\") -> str:\n",
    "    donnees = f\"{prenom}\\n{nom}\\n\"\n",
    "    donnees += f\"{prenom[0].lower()}{nom.lower()}@{domaine}\"\n",
    "    return donnees\n",
    "\n",
    "print(les_donnees_de(\"Charles\", \"Babbage\"))\n",
    "print()\n",
    "print(les_donnees_de(\"Ada\", \"Lovelace\", \"algokiller.us\"))"
   ]
  },
  {
   "cell_type": "markdown",
   "metadata": {},
   "source": [
    "## Exercices"
   ]
  },
  {
   "cell_type": "markdown",
   "metadata": {},
   "source": [
    "### Calcul de moyenne\n",
    "\n",
    "1. __Documenter__ la fonction suivante en ajoutant un __docstring__.\n",
    "\n",
    "2. Proposer des préconditions écrites sur les variables x, y, z et t en utilisant l'instruction `assert` qui assurent le bon usage de cette fonction `examen()`.\n",
    "\n",
    "3. Typer la fonction\n",
    "\n",
    "4. Ajouter des doctests judicieux."
   ]
  },
  {
   "cell_type": "code",
   "execution_count": null,
   "metadata": {},
   "outputs": [],
   "source": [
    "def examen(x, y, z, t):\n",
    "    m=(2*x + 2*y + z + t) / 6\n",
    "    if m >= 10:\n",
    "        print(\"Le candidat est reçu\")\n",
    "    else:\n",
    "        print(\"Le candidat est refusé\")\n",
    "    return None"
   ]
  },
  {
   "cell_type": "markdown",
   "metadata": {},
   "source": [
    "### Recherche du maximum\n",
    "\n",
    "1. Écrire une fonction `get_max_position(liste)` qui prend en paramètre une liste et qui renvoie le tuple `(max, indice)`, respectivement la plus grande valeur de la liste et la position de cette valeur maximale dans la liste.\n",
    "\n",
    "2. Proposer des postconditions sur la valeur renvoyée ̀`max` afin d'assurer le bon usage de la fonction `get_max_position(liste)`."
   ]
  },
  {
   "cell_type": "markdown",
   "metadata": {},
   "source": [
    "### Plouf !\n",
    "\n",
    "Un moyen d'estimer la profondeur d'un puits est de lâcher une pierre au dessus du puits et de compter le nombre de secondes avant d'entendre le bruit du \"plouf\" de son entrée dans l'eau. On note \n",
    "`t` la durée d'attente du \"plouf\" (en seconde) et `p` la profondeur du puits (en mètre).\n",
    "\n",
    "On admet que les paramètres `t` et `p` sont liés par la relation physique suivante : $t = \\frac{√p}{4.9} + \\frac{p}{330}$\n",
    "\n",
    "1. Proposer une fonction `temps()` qui prend en paramètre la profondeur \n",
    "`p` du puits et renvoie le temps `t`d'attente du \"plouf\".\n",
    "\n",
    "    Penser à importer la fonction `sqrt()` du module `math`.\n",
    "\n",
    "2. Rajouter une documentation à la fonction temps.\n",
    "\n",
    "3. A l'aide d'un doctest, vérifier que l'on obtient l'affichage suivant pour l'exécution du script suivant :\n",
    "\n",
    "```python\n",
    ">>>temps(30)\n",
    "2.5652673874360583\n",
    "```\n",
    "\n",
    "4. Rajouter à votre programme deux préconditions sur `p`.\n",
    "\n",
    "5. Rajouter à votre programme une postcondition sur la valeur renvoyée."
   ]
  },
  {
   "cell_type": "markdown",
   "metadata": {},
   "source": [
    "---\n",
    "[![Licence CC BY NC SA](https://licensebuttons.net/l/by-nc-sa/3.0/88x31.png \"licence Creative Commons CC BY-NC-SA\")](http://creativecommons.org/licenses/by-nc-sa/3.0/fr/)\n",
    "<p style=\"text-align: center;\">Auteur : David Landry, Lycée Clemenceau - Nantes</p>\n",
    "<p style=\"text-align: center;\">D'après des documents partagés par...</p>\n",
    "<p style=\"text-align: center;\"><a  href=http://www.monlyceenumerique.fr/index_nsi.html#premiere>Jean-Christophe Gérard, Thomas Lourdet, Johan Monteillet, Pascal Thérèse</a></p>\n",
    "<p style=\"text-align: center;\">Guillaume Connan sur <a  href=https://gitlab.com/lyceeND/1ere>le Gitlab du lycée Notre Dame, à Rezé</a></p>\n",
    "<p style=\"text-align: center;\"><a  href=https://numerique-sciences-informatiques.discip.ac-caen.fr/effectuer-des-tests-automatises-avec-doctest>Nathalie Weibel</a></p>"
   ]
  }
 ],
 "metadata": {
  "kernelspec": {
   "display_name": "Python 3",
   "language": "python",
   "name": "python3"
  },
  "language_info": {
   "codemirror_mode": {
    "name": "ipython",
    "version": 3
   },
   "file_extension": ".py",
   "mimetype": "text/x-python",
   "name": "python",
   "nbconvert_exporter": "python",
   "pygments_lexer": "ipython3",
   "version": "3.8.3"
  }
 },
 "nbformat": 4,
 "nbformat_minor": 2
}
