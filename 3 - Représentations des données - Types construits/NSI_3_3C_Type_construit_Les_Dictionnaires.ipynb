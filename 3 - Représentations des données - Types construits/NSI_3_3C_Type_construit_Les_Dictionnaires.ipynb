{
 "cells": [
  {
   "cell_type": "markdown",
   "metadata": {},
   "source": [
    "# Structures de données de type construit : les p-uplets nommés\n",
    "\n",
    "Un p-uplet nommé est un p-uplet, dont les valeurs sont appelées via un __descripteur__ au lieu d’un indice. \n",
    "\n",
    "Le principal intérêt de ce type est d’__améliorer la lisibilité du code__, et donc de réduire les risque d’erreurs. Un autre intérêt majeur vient de l'__efficacité de recherche__ dans une grosse structure de donnée, par rapport aux autres types construits.\n",
    "\n",
    "Le type des __p-uplets nommés n’existe pas nativement dans Python__. Nous utiliserons des __dictionnaires__.\n",
    "\n",
    "## Les dictionnaires\n",
    "\n",
    "Attention toutefois, il existe de petites nuances entre les p-uplets nommés et les dictionnaires : les p-uplets nommés sont normalement immuables alors que __les dictionnaires (que nous utiliserons en Python pour les représenter) sont mutables__.\n",
    "\n",
    "Le __dictionnaire est un type de conteneur__, comme les listes et les tuples mais ce n'est pas une séquence. Au sens où les valeurs des tableaux ne sont pas indexés par des entiers. __Les dictionnaires ne sont donc pas des types ordonnés__.\n",
    "\n",
    "> __Définition :__\n",
    "- Le __dictionnaire, de type `dict`__ en Python, est une structure de données permettant d’associer des __valeurs__ à des __clés__.  \n",
    "- Les __clés peuvent être de type : str, entier, flottant, tuple__ ( à conditions que les tuples ne contiennent que des entiers, des flottants ou des n-uplets et pas des listes).  \n",
    "- Les __valeurs peuvent être de n'importe quel type__.  \n",
    "- __À partir d’une clé, on peut alors accéder directement à la valeur qui lui est associée__.\n",
    "\n",
    "## Comments _construire_ un dictionnaire ?\n",
    "\n",
    "Il est très simple de créer un dictionnaire, il suffit de lui __affecter une suite de clés : valeurs, séparées par des virgules, le tout entre accolades__.\n",
    "\n",
    "### Créer un dictionnaire manuellement"
   ]
  },
  {
   "cell_type": "code",
   "execution_count": null,
   "metadata": {},
   "outputs": [],
   "source": [
    "dico_poudlard = {'Harry Potter': 'Griffondor', 'Drago Malefoy': 'Serpentard', 'Luna Lovegood': 'Serdaigle', 'Cédric Diggory': 'Poufsouffle'}\n",
    "print(dico_poudlard)"
   ]
  },
  {
   "cell_type": "markdown",
   "metadata": {},
   "source": [
    "On obtient une structure de données comprenant des __couples clé : valeur__. Dans ce cas, la clé est le _nom d'un personnage_ et sa valeur est sa _Maison_.\n",
    "\n",
    "On constate alors que l'on a bien crée une variable de type `dict` :"
   ]
  },
  {
   "cell_type": "code",
   "execution_count": null,
   "metadata": {
    "scrolled": true
   },
   "outputs": [],
   "source": [
    "print(f'La variable \"dico_poudlard\" est de type {type(dico_poudlard)}')"
   ]
  },
  {
   "cell_type": "markdown",
   "metadata": {},
   "source": [
    "### Créer un dictionnaire petit à petit : création en extension\n",
    "\n",
    "On verra aussi qu'il est souvent plus utile d'ajouter les éléments un a un.\n",
    "\n",
    "On parle alors de __création de dictionnaire en extension__.\n",
    "\n",
    "Pour ajouter un __couple de clé, valeur__ il suffit d'écrire : `nom_du_dico[nouvelle_cle] = nouvelle_valeur`"
   ]
  },
  {
   "cell_type": "code",
   "execution_count": null,
   "metadata": {},
   "outputs": [],
   "source": [
    "# Ajouter au dictionnaire mon_dico, le personnage Hermione Granger, appartenant à la maison Griffondor.\n",
    "dico_poudlard['Hermione'] = 'Griffondor'\n",
    "print(dico_poudlard)"
   ]
  },
  {
   "cell_type": "markdown",
   "metadata": {},
   "source": [
    "### Créer un dictionnaire à l'aide d'une boucle"
   ]
  },
  {
   "cell_type": "code",
   "execution_count": null,
   "metadata": {},
   "outputs": [],
   "source": [
    "dico_des_carres = {}\n",
    "for i in range(20):\n",
    "    dico_des_carres[i] = i * i\n",
    "print(dico_des_carres)"
   ]
  },
  {
   "cell_type": "markdown",
   "metadata": {},
   "source": [
    "### Créer un dictionnaire à partir d'un tableau existant\n",
    "\n",
    "On peut créer un dictionnaire à partir d'un tableau en utilisant la fonction [`dict()`](https://www.w3schools.com/python/ref_func_dict.asp).\n",
    "\n",
    "Plusieurs possibilités s'offrent :\n",
    "- appliquer la fonction `dict()` à un tableau contenant des 2-uplets (tuple à deux éléments).\n",
    "- appliquer la fonction `dict()` à un tableau contenant des tableaux à deux éléments.\n",
    "- appliquer la fonction `dict()` avec des paramètres sous la forme `cle = valeur`.\n",
    "\n",
    "Les exemples ci-dessous devraient être plus parlants..."
   ]
  },
  {
   "cell_type": "code",
   "execution_count": null,
   "metadata": {},
   "outputs": [],
   "source": [
    "liste_de_doubles = [(i, i * 2) for i in range(10)]\n",
    "print(liste_de_doubles)\n",
    "dico_de_doubles = dict(liste_de_doubles)\n",
    "print(dico_de_doubles)"
   ]
  },
  {
   "cell_type": "code",
   "execution_count": null,
   "metadata": {},
   "outputs": [],
   "source": [
    "liste_de_doubles = [[i, i * 2] for i in range(10)]\n",
    "print(liste_de_doubles)\n",
    "dico_de_doubles = dict(liste_de_doubles)\n",
    "print(dico_de_doubles)"
   ]
  },
  {
   "cell_type": "code",
   "execution_count": null,
   "metadata": {
    "scrolled": true
   },
   "outputs": [],
   "source": [
    "dico_notes = dict(NSI = 18, \n",
    "                  maths = 17, \n",
    "                  SVT = 14, \n",
    "                  français = 14, \n",
    "                  LV1 = 8,\n",
    "                  physique = 12,\n",
    "                  HG = 11)\n",
    "print(dico_notes)"
   ]
  },
  {
   "cell_type": "markdown",
   "metadata": {},
   "source": [
    "> __Remarque :__ il est préférable d'utiliser une saisie sur plusieurs lignes pour les tableaux et les dictionnaires un peu longs. Le saut de lignes à l'intérieur de parenthèses, de crochets ou d'accolades est bien géré par Python, autant en profiter pour améliorer la lisibilité du code (PEP-8)."
   ]
  },
  {
   "cell_type": "markdown",
   "metadata": {},
   "source": [
    "### Créer un dictionnaire _en compréhension_\n",
    "\n",
    "Cette méthode de __création en compréhension__ est à la fois pratique efficace et... belle. C'est un parfait exemple de la créativité du langage Python.\n",
    "\n",
    "Tout se passe directement entre les accolades.\n",
    "\n",
    "En vous appuyant sur ce type de construction étudié précedemment avec les listes, vous devriez l'adapter assez naturellement aux dictionnaires.\n",
    "\n",
    "Un premier exemple \"tout fait\" pour commencer puis ce sera à vous de jouer..."
   ]
  },
  {
   "cell_type": "code",
   "execution_count": null,
   "metadata": {},
   "outputs": [],
   "source": [
    "dico_des_carres.clear()   # Réinitialisation de notre dico précedent\n",
    "print(dico_des_carres)    # On vérifie que le dictionnaire est vide\n",
    "dico_des_carres = {i : i * i for i in range (20)}\n",
    "print(dico_des_carres)"
   ]
  },
  {
   "cell_type": "markdown",
   "metadata": {},
   "source": [
    "__Application :__ créer un dictionnaire en compréhension contenant les puissances de 2 jusqu'à de $2^{16}$. Chaque clé sera un nombre n, de 0 à 16 inclus, et sa valeur sera de $2^{n}$"
   ]
  },
  {
   "cell_type": "code",
   "execution_count": null,
   "metadata": {},
   "outputs": [],
   "source": [
    "dico_puissances_de_2 = {i : 2 ** i for i in range (20)}\n",
    "print(dico_puissances_de_2)"
   ]
  },
  {
   "cell_type": "markdown",
   "metadata": {},
   "source": [
    "### Atteindre une variable contenue dans un dictionnaire par sa clé\n",
    "\n",
    "Il est très simple et intuitif d'atteindre une variable dans un dictionnaire : il suffit d'utiliser la syntaxe `nom_du_dico[nom_de_la_cle]`.\n",
    "\n",
    "Retrouver ainsi la maison de `Cédric Diggory` dans `dico_poudlard`."
   ]
  },
  {
   "cell_type": "code",
   "execution_count": null,
   "metadata": {},
   "outputs": [],
   "source": [
    "print(dico_poudlard['Cédric Diggory'])"
   ]
  },
  {
   "cell_type": "markdown",
   "metadata": {
    "scrolled": true
   },
   "source": [
    "Retrouver maintenant la valeur de $2^{12}$ en utilisant le dictionnaire précédemment crée.."
   ]
  },
  {
   "cell_type": "code",
   "execution_count": null,
   "metadata": {},
   "outputs": [],
   "source": [
    "print(dico_puissances_de_2[12])"
   ]
  },
  {
   "cell_type": "markdown",
   "metadata": {},
   "source": [
    "### Atteindre toutes les variables contenues dans un dictionnaire\n",
    "\n",
    "On utilisera l'une des trois méthodes essentielles appliquée à un dictionnaire :\n",
    "\n",
    "- [.keys()](https://www.w3schools.com/python/ref_dictionary_keys.asp) pour obtenir toutes les clés contenues dans le dictionnaire.\n",
    "- [.values()](https://www.w3schools.com/python/ref_dictionary_values.asp) pour obtenir toutes les valeurs contenues dans le dictionnaire.\n",
    "- [.items()](https://www.w3schools.com/python/ref_dictionary_items.asp) pour obtenir des tuples de tous les couples (clé, valeur) contenus dans le dictionnaire.\n",
    "\n",
    "Les cellules de code ci-dessous vous permettront de visualiser l'effet de ces méthodes."
   ]
  },
  {
   "cell_type": "code",
   "execution_count": null,
   "metadata": {
    "scrolled": true
   },
   "outputs": [],
   "source": [
    "print(dico_poudlard.keys())"
   ]
  },
  {
   "cell_type": "code",
   "execution_count": null,
   "metadata": {},
   "outputs": [],
   "source": [
    "print(dico_poudlard.values())"
   ]
  },
  {
   "cell_type": "code",
   "execution_count": null,
   "metadata": {},
   "outputs": [],
   "source": [
    "print(dico_poudlard.items())"
   ]
  },
  {
   "cell_type": "markdown",
   "metadata": {},
   "source": [
    "Ces trois méthodes créent des __itérables__, qui sont faciles à utiliser dans une boucle."
   ]
  },
  {
   "cell_type": "code",
   "execution_count": null,
   "metadata": {
    "scrolled": false
   },
   "outputs": [],
   "source": [
    "for cle in dico_poudlard.keys():\n",
    "    print(f'Le dico_poudlard contient la clé : {cle}')"
   ]
  },
  {
   "cell_type": "markdown",
   "metadata": {},
   "source": [
    "__Application :__ faire de même ci-dessous pour afficher l'ensemble des valeurs contenues dans le `dico_poudlard`."
   ]
  },
  {
   "cell_type": "code",
   "execution_count": null,
   "metadata": {},
   "outputs": [],
   "source": [
    "for valeur in dico_poudlard.values():\n",
    "    print(f'Le dico_poudlard contient la valeur : {valeur}')"
   ]
  },
  {
   "cell_type": "markdown",
   "metadata": {},
   "source": [
    "__Application :__ calculer la moyenne générale de l'élève dont les notes ont déjà été saisies dans `dico_notes`"
   ]
  },
  {
   "cell_type": "code",
   "execution_count": null,
   "metadata": {},
   "outputs": [],
   "source": [
    "print(dico_notes)    # Pour rappel uniquement\n",
    "\n",
    "somme = 0\n",
    "\n",
    "for note in dico_notes.values():\n",
    "    somme += note\n",
    "    \n",
    "moyenne = somme / len(dico_notes)\n",
    "\n",
    "print(f'La moyenne des notes est de {moyenne}')"
   ]
  },
  {
   "cell_type": "markdown",
   "metadata": {
    "scrolled": false
   },
   "source": [
    "L'exemple ci-dessous vous décrit comment utiliser la méthode `.items()` dans une boucle."
   ]
  },
  {
   "cell_type": "code",
   "execution_count": null,
   "metadata": {},
   "outputs": [],
   "source": [
    "for cle, valeur in dico_poudlard.items():\n",
    "    print(f'Le dico_poudlard contient la clé : {cle}, de valeur {valeur}')"
   ]
  },
  {
   "cell_type": "markdown",
   "metadata": {},
   "source": [
    "> __Remarques :__ on a utilisé une __affectation multiple__ des valeurs contenues dans les tuples crées par dico_poudlard.items(). On parle aussi de __\"tuple unpacking\"__.\n",
    "\n",
    "Parcourir un dictionnaire correspond à ne parcourir que ses clés. Voir l'exemple ci-dessous"
   ]
  },
  {
   "cell_type": "code",
   "execution_count": null,
   "metadata": {},
   "outputs": [],
   "source": [
    "for cle in dico_poudlard:\n",
    "    print(f'Le dico_poudlard contient la clé : {cle}')"
   ]
  },
  {
   "cell_type": "markdown",
   "metadata": {},
   "source": [
    "> __Remarque :__ pour parcourir les clés et valeurs d'un dictionnaire, plutôt que d'utiliser les méthodes précédentes, on peut donc le faire ainsi..."
   ]
  },
  {
   "cell_type": "code",
   "execution_count": null,
   "metadata": {},
   "outputs": [],
   "source": [
    "for cle in dico_poudlard:\n",
    "    print(f'Le dico_poudlard contient la clé : {cle}, '\n",
    "          f'de valeur {dico_poudlard[cle]}')"
   ]
  },
  {
   "cell_type": "markdown",
   "metadata": {},
   "source": [
    "__Application :__ utiliser deux façons pour afficher les résultats de l'élève Tartenpion contenus dans le dictionnaire `dico_notes` sous la forme...\n",
    "\n",
    "```python\n",
    "\"L'élève Tartenpion a obtenu une moyenne de 18 en NSI\"\n",
    "\"L'élève Tartenpion a obtenu une moyenne de 17 en maths\"\n",
    "etc....\n",
    "\"L'élève Tartenpion a obtenu une moyenne générale de ...\"\n",
    "```"
   ]
  },
  {
   "cell_type": "code",
   "execution_count": null,
   "metadata": {},
   "outputs": [],
   "source": [
    "print(dico_notes)    # Pour rappel uniquement\n",
    "\n",
    "print(\"\\nParcours du dictionnaire en utilisant une méthode :\")\n",
    "for cle, valeur in dico_notes.items():\n",
    "    print(f\"L'élève Tartenpion a obtenu une moyenne de {valeur} en {cle}\")\n",
    "    \n",
    "print(\"\\nParcours du dictionnaire sans utiliser de méthodes :\")\n",
    "for cle in dico_notes:\n",
    "    print(f\"L'élève Tartenpion a obtenu une moyenne de {dico_notes[cle]} en {cle}\")"
   ]
  },
  {
   "cell_type": "markdown",
   "metadata": {},
   "source": [
    "### Changer une valeur dans un dictionnaire\n",
    "\n",
    "Pour changer la valeur d'une clé dans un dictionnaire c'est très simple, il suffit d'affecter une nouvelle valeur à cette clé.\n",
    "\n",
    "> __Remarque :__ si cette clé n'existait pas auparavant, le couple clé / valeur sera ajouté au dictionnaire.\n",
    "\n",
    "En voici un exemple..."
   ]
  },
  {
   "cell_type": "code",
   "execution_count": null,
   "metadata": {
    "scrolled": true
   },
   "outputs": [],
   "source": [
    "dico_poudlard['Harry Potter'] = 'Griffondor... ou Serpentard ?'\n",
    "dico_poudlard['Ron Weasley'] = 'Griffondor'\n",
    "print(dico_poudlard)"
   ]
  },
  {
   "cell_type": "markdown",
   "metadata": {},
   "source": [
    "### Suppression d'une clé\n",
    "\n",
    "Pour supprimer une clé et sa valeur dans un dictionnaire, on peut utiliser la fonction `del()`.\n",
    "\n",
    "Cette fonction s'applique de la façon suivante :\n",
    "\n",
    "`del(nom_du_dico[nom_de_la_cle])`\n",
    "\n",
    "__Application :__ supprimer la clé `'Cédric Diggory'` et sa valeur du `dico_poudlard`. "
   ]
  },
  {
   "cell_type": "code",
   "execution_count": null,
   "metadata": {},
   "outputs": [],
   "source": [
    "del(dico_poudlard['Cédric Diggory'])\n",
    "print(dico_poudlard)"
   ]
  },
  {
   "cell_type": "markdown",
   "metadata": {},
   "source": [
    "> __Remarque :__ si on souhaite utiliser une valeur après sa suppression, on utilisera plutôt la méthode [`.pop()`](https://www.w3schools.com/python/ref_dictionary_pop.asp), qui renvoit la valeur de la clé passée en argument. Ceci permet, par exemple, d'effectuer une affectation juste avant la suppression.\n",
    "\n",
    "Voir l'exemple ci-dessous..."
   ]
  },
  {
   "cell_type": "code",
   "execution_count": null,
   "metadata": {},
   "outputs": [],
   "source": [
    "ron = dico_poudlard.pop('Ron Weasley')\n",
    "print(dico_poudlard)\n",
    "print(f\"Nous venons d'effacer un élève de la Maison {ron}\")"
   ]
  },
  {
   "cell_type": "markdown",
   "metadata": {},
   "source": [
    "### Varier les types contenus dans un dictionnaire\n",
    "\n",
    "On rappelle les règles suivantes :\n",
    "\n",
    "- Les __clés peuvent être de type : str, entier, flottant, tuple__ ( à conditions que les tuples ne contiennent que des entiers, des flottants ou des n-uplets et pas des listes).  \n",
    "- Les __valeurs peuvent être de n'importe quel type__. \n",
    "\n",
    "Autrement dit, __les clés doivent être de type immuables__."
   ]
  },
  {
   "cell_type": "markdown",
   "metadata": {},
   "source": [
    "### Concaténer deux dictionnaires ?"
   ]
  },
  {
   "cell_type": "code",
   "execution_count": null,
   "metadata": {
    "scrolled": true
   },
   "outputs": [],
   "source": [
    "dico_concatene = dico_des_carres + dico_poudlard\n",
    "print(dico_concatene)"
   ]
  },
  {
   "cell_type": "markdown",
   "metadata": {},
   "source": [
    "> __Commentaire :__"
   ]
  },
  {
   "cell_type": "markdown",
   "metadata": {},
   "source": [
    "### Fusionner des dictionnaires\n",
    "\n",
    "Si on ne peut pas concaténer deux dictionnaires, on peut toutefois les fusionner, ce qui revient à peu de choses près au même mais a l'avantage d'éviter les doublons.\n",
    "\n",
    "En voici un exemple..."
   ]
  },
  {
   "cell_type": "code",
   "execution_count": null,
   "metadata": {},
   "outputs": [],
   "source": [
    "famille_Simpson = {'fils': 'Bart ', 'fille': 'Lisa ', 'mère': 'Marge ', 'père': 'Homer'}\n",
    "enfants_Simpson = {'fils': 'Bart', 'fille': 'Lisa', 'bébé': 'Maggie'}\n",
    "famille_Simpson.update(enfants_Simpson)\n",
    "print(famille_Simpson)"
   ]
  },
  {
   "cell_type": "markdown",
   "metadata": {},
   "source": [
    "### Test d'appartenance dans un dictionnaire"
   ]
  },
  {
   "cell_type": "code",
   "execution_count": null,
   "metadata": {},
   "outputs": [],
   "source": [
    "'Harry Potter' in dico_poudlard"
   ]
  },
  {
   "cell_type": "code",
   "execution_count": null,
   "metadata": {
    "scrolled": true
   },
   "outputs": [],
   "source": [
    "'Griffondor' in dico_poudlard"
   ]
  },
  {
   "cell_type": "markdown",
   "metadata": {},
   "source": [
    "__Application :__ utiliser les méthodes vues précedemment pour tester si la Maison `Griffondor` fait partie ou non des valeurs contenues dans `dico_poudlard`."
   ]
  },
  {
   "cell_type": "code",
   "execution_count": null,
   "metadata": {},
   "outputs": [],
   "source": [
    "'Griffondor' in dico_poudlard.values()"
   ]
  },
  {
   "cell_type": "markdown",
   "metadata": {},
   "source": [
    "### Connaître le nombre d'énéments contenus dans un dictionnaire\n",
    "\n",
    "On utilise la même fonction que pour les autres conteneurs, de type tuple ou liste."
   ]
  },
  {
   "cell_type": "code",
   "execution_count": null,
   "metadata": {},
   "outputs": [],
   "source": [
    "len(dico_poudlard)"
   ]
  },
  {
   "cell_type": "markdown",
   "metadata": {},
   "source": [
    "### Slicing et tri sur dictionnaire ?\n",
    "\n",
    "__Le slicing sur dictionnaire est bien entendu impossible__ puisque les dictionnaires n'ont pas d'indices ! \n",
    "\n",
    "On rappelle au passage qu'__un dictionnaire est non ordonné__.\n",
    "\n",
    "Pour la même raison, __on ne peut donc pas trier un dictionnaire__."
   ]
  },
  {
   "cell_type": "markdown",
   "metadata": {},
   "source": [
    "### Notion de complexité\n",
    "\n",
    "La notion de complexité sera vue dans un notebook prochain. \n",
    "\n",
    "On peut toutefois l'introduire dès maintenant pour mettre en avant une __propriété notable des dictionnaires : leur grande efficacité pour une recherche d'éléments dans une grande base de donnée__.\n",
    "\n",
    "Pour faire simple (avant d'étudier cette notion de façon plus approfondie), on peut aisément comprendre que le temps de recherche d'un élément dans une liste dépend de la taille de cette liste :\n",
    "__l'ordinateur mettra environ 1000 fois plus de temps à rechercher un élément dans une liste de 10000 éléments que dans une liste de 10 éléments__ (on note cette complexité O(n) car elle dépend proportionnellement de la taille n de la liste).\n",
    "\n",
    "Eh bien ce n'est pas le cas pour les dictionnaires ! __Peu importe la dimension du dictionnaire, le temps de recherche est constant__ (on note cette complexité O(1)).\n",
    "\n",
    "Vous comprenez à quel point ce \"détail\" n'en est pas un : pour gérer une grande base de données, l'utilisation de dictionnaire est particulièrement adaptée car cela accélère considérablement les recherches et donc les lectures / écritures sur la base."
   ]
  },
  {
   "cell_type": "markdown",
   "metadata": {},
   "source": [
    "## Que retenir ?\n",
    "### À minima...\n",
    "\n",
    "- Le dictionnaire, de type `dict` en Python, est une structure de données permettant d’associer des valeurs à des clés.  \n",
    "- À partir d’une clé, on peut alors accéder directement à la valeur qui lui est associée.\n",
    "- On peut créer un dictionnaire :\n",
    "  - manuellement (ex : `{clé_1: valeur_1, clé_2: valeur_2,...}`.\n",
    "  - en extension, en ajoutant les couples clé / valeur à partir d'un dictionnaire vide (ex : `mon_dico['clé'] = valeur`).\n",
    "  - en compréhension (ex : `{i: 5 * i for i in range(10)}`).\n",
    "- Pour atteindre une variable dans un dictionnaire, il suffit d'utiliser la syntaxe `nom_du_dico[nom_de_la_cle]`.\n",
    "- Pour changer la valeur d'une clé dans un dictionnaire, il suffit d'affecter une nouvelle valeur à cette clé.\n",
    "\n",
    "### Au mieux...\n",
    "\n",
    "- Les clés peuvent être de type : str, entier, flottant, tuple ( à conditions que les tuples ne contiennent que des entiers, des flottants ou des n-uplets et pas des listes).  \n",
    "- Les valeurs peuvent être de n'importe quel type. \n",
    "- On utilisera l'une des trois méthodes essentielles appliquée à un dictionnaire :\n",
    "    - [nom_du_dico.keys()](https://www.w3schools.com/python/ref_dictionary_keys.asp) pour obtenir toutes les clés contenues dans le dictionnaire.\n",
    "    - [nom_du_dico.values()](https://www.w3schools.com/python/ref_dictionary_values.asp) pour obtenir toutes les valeurs contenues dans le dictionnaire.\n",
    "    - [nom_du_dico.items()](https://www.w3schools.com/python/ref_dictionary_items.asp) pour obtenir des tuples de tous les couples (clé, valeur) contenus dans le dictionnaire.\n",
    "- Peu importe la dimension du dictionnaire, le temps de recherche est constant (on note cette complexité O(1)).\n",
    "- Le document [Dictionnaires-en-Python.pdf](https://gitlab.com/david_landry/nsi/-/blob/master/3%20-%20Repr%C3%A9sentations%20des%20donn%C3%A9es%20-%20Types%20construits/Dictionnaires-en-Python.pdf), crée par le collègue Tristan LEY reprend sur 2 pages l'essentiel de ce cours, et parfois un peu plus..."
   ]
  },
  {
   "cell_type": "markdown",
   "metadata": {},
   "source": [
    "---\n",
    "[![Licence CC BY NC SA](https://licensebuttons.net/l/by-nc-sa/3.0/88x31.png \"licence Creative Commons CC BY-NC-SA\")](http://creativecommons.org/licenses/by-nc-sa/3.0/fr/)\n",
    "<p style=\"text-align: center;\">Auteur : David Landry, Lycée Clemenceau - Nantes</p>\n",
    "<p style=\"text-align: center;\">D'après des documents partagés par...</p>\n",
    "<p style=\"text-align: center;\"><a  href=http://www.monlyceenumerique.fr/index_nsi.html#premiere>Jean-Christophe Gérard, Thomas Lourdet, Johan Monteillet, Pascal Thérèse</a></p>\n",
    "<p style=\"text-align: center;\"><a  href=https://eduscol.education.fr/cid144156/nsi-bac-2021.html>Le Ministère de l'éducation nationale, sur Eduscol</a></p>\n",
    "<p style=\"text-align: center;\">Guillaume Connan sur <a  href=https://gitlab.com/lyceeND/1ere>le Gitlab du lycée Notre Dame, à Rezé</a></p>"
   ]
  }
 ],
 "metadata": {
  "kernelspec": {
   "display_name": "Python 3",
   "language": "python",
   "name": "python3"
  },
  "language_info": {
   "codemirror_mode": {
    "name": "ipython",
    "version": 3
   },
   "file_extension": ".py",
   "mimetype": "text/x-python",
   "name": "python",
   "nbconvert_exporter": "python",
   "pygments_lexer": "ipython3",
   "version": "3.8.3"
  }
 },
 "nbformat": 4,
 "nbformat_minor": 2
}
