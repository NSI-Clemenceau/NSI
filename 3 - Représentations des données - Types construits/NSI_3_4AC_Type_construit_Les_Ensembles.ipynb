{
 "cells": [
  {
   "cell_type": "markdown",
   "metadata": {},
   "source": [
    "# Les ensembles (ou set)\n",
    "\n",
    "> __Remarque :__ ce notebook n'est pas particulièrement difficile mais il est clairement hors programme de première. Il est donc réservé aux élèves les plus avancés sur la progression.\n",
    "\n",
    "Un ensemble (de type `set` en Python) est un type construit qui peut __stocker des valeurs, sans ordre, et sans répétition__. \n",
    "\n",
    "Un ensemble stocke des valeurs, sans ordre défini, et ne contient pas de données en double (la tentative d'insertion d'une donnée déjà présente est sans effet). Un ensemble est un objet __mutable__.\n",
    "\n",
    "Contrairement à la plupart des autres types de conteneurs __les ensembles sont plus utilisés pour tester l'appartenance d'une valeur à cet ensemble que pour en extraire des données__.\n",
    "\n",
    "## Comments _construire_ un ensemble ?\n",
    "\n",
    "Il est très simple de créer un dictionnaire, il suffit de lui __affecter une suite de valeurs, séparées par des virgules, le tout entre accolades__.\n",
    "\n",
    "### Créer un dictionnaire manuellement, en extension"
   ]
  },
  {
   "cell_type": "code",
   "execution_count": null,
   "metadata": {},
   "outputs": [],
   "source": [
    "heteroclite = {'marc', 12, 'pierre', (1, 2, 3), 'pierre'}\n",
    "print(heteroclite)"
   ]
  },
  {
   "cell_type": "markdown",
   "metadata": {},
   "source": [
    "On obtient une structure de données comprenant des __valeurs__. On remarque toutefois que la valeur `pierre` n'a été incluse qu'une seule fois alors qu'on avait essayé de la stocker en double.\n",
    "\n",
    "On constate alors que l'on a bien crée une variable de type `set` :"
   ]
  },
  {
   "cell_type": "code",
   "execution_count": null,
   "metadata": {
    "scrolled": true
   },
   "outputs": [],
   "source": [
    "print(f'La variable \"heteroclite\" est de type {type(heteroclite)}')"
   ]
  },
  {
   "cell_type": "markdown",
   "metadata": {},
   "source": [
    "### Créer un ensemble _en compréhension_\n",
    "\n",
    "De la même manière que pour les autres types construits, on peut créer un ensemble en compréhension."
   ]
  },
  {
   "cell_type": "code",
   "execution_count": null,
   "metadata": {},
   "outputs": [],
   "source": [
    "set_puissances = {2 ** i for i in range(8)}\n",
    "print(set_puissances)"
   ]
  },
  {
   "cell_type": "markdown",
   "metadata": {},
   "source": [
    "### Créer un ensemble à partir d'un tableau existant\n",
    "\n",
    "On peut créer un dictionnaire à partir d'un tableau, ou un tuple, en utilisant la fonction [`set()`](https://www.w3schools.com/python/ref_func_set.asp)."
   ]
  },
  {
   "cell_type": "code",
   "execution_count": null,
   "metadata": {
    "scrolled": true
   },
   "outputs": [],
   "source": [
    "heteroclite2 = set(['marc', 12, 'pierre', (1, 2, 3), 'pierre'])\n",
    "print(heteroclite2)"
   ]
  },
  {
   "cell_type": "markdown",
   "metadata": {},
   "source": [
    "> __Remarque :__ la syntaxe pour créer un ensemble vide est particulière puisque l'instruction __`set_vide = {}` crée un dictionnaire__ plutôt qu'un ensemble.\n",
    "\n",
    "Voir l'exemple ci-dessous..."
   ]
  },
  {
   "cell_type": "code",
   "execution_count": null,
   "metadata": {
    "scrolled": true
   },
   "outputs": [],
   "source": [
    "set_vide = {}\n",
    "print(type(set_vide))"
   ]
  },
  {
   "cell_type": "markdown",
   "metadata": {},
   "source": [
    "Pour créer un __ensemble vide, il faut utiliser la fonction [`set()`](https://www.w3schools.com/python/ref_func_set.asp)__."
   ]
  },
  {
   "cell_type": "code",
   "execution_count": null,
   "metadata": {},
   "outputs": [],
   "source": [
    "set_vide = set()\n",
    "print(type(set_vide))"
   ]
  },
  {
   "cell_type": "markdown",
   "metadata": {},
   "source": [
    "### Opérations simples sur les ensembles"
   ]
  },
  {
   "cell_type": "code",
   "execution_count": null,
   "metadata": {},
   "outputs": [],
   "source": [
    "# pour rappel\n",
    "heteroclite"
   ]
  },
  {
   "cell_type": "markdown",
   "metadata": {},
   "source": [
    "##### Test d'appartenance"
   ]
  },
  {
   "cell_type": "code",
   "execution_count": null,
   "metadata": {},
   "outputs": [],
   "source": [
    "(1, 2, 3) in heteroclite"
   ]
  },
  {
   "cell_type": "markdown",
   "metadata": {},
   "source": [
    "##### Dimension de l'ensemble"
   ]
  },
  {
   "cell_type": "code",
   "execution_count": null,
   "metadata": {},
   "outputs": [],
   "source": [
    "len(heteroclite)"
   ]
  },
  {
   "cell_type": "markdown",
   "metadata": {},
   "source": [
    "##### Manipulations"
   ]
  },
  {
   "cell_type": "code",
   "execution_count": null,
   "metadata": {},
   "outputs": [],
   "source": [
    "ensemble = {1, 2, 1}\n",
    "ensemble"
   ]
  },
  {
   "cell_type": "code",
   "execution_count": null,
   "metadata": {},
   "outputs": [],
   "source": [
    "# pour nettoyer\n",
    "ensemble.clear()\n",
    "ensemble"
   ]
  },
  {
   "cell_type": "code",
   "execution_count": null,
   "metadata": {},
   "outputs": [],
   "source": [
    "# ajouter un element\n",
    "ensemble.add(1)\n",
    "ensemble"
   ]
  },
  {
   "cell_type": "code",
   "execution_count": null,
   "metadata": {},
   "outputs": [],
   "source": [
    "# fusionner tous les elements d'un autre *ensemble*\n",
    "ensemble.update({2, (1, 2, 3), (1, 3, 5)})\n",
    "ensemble"
   ]
  },
  {
   "cell_type": "code",
   "execution_count": null,
   "metadata": {},
   "outputs": [],
   "source": [
    "# enlever un element avec discard\n",
    "ensemble.discard((1, 3, 5))\n",
    "ensemble"
   ]
  },
  {
   "cell_type": "code",
   "execution_count": null,
   "metadata": {},
   "outputs": [],
   "source": [
    "# discard fonctionne même si l'élément n'est pas présent\n",
    "ensemble.discard('foo')\n",
    "ensemble"
   ]
  },
  {
   "cell_type": "code",
   "execution_count": null,
   "metadata": {},
   "outputs": [],
   "source": [
    "# enlever un élément avec remove\n",
    "ensemble.remove((1, 2, 3))\n",
    "ensemble"
   ]
  },
  {
   "cell_type": "code",
   "execution_count": null,
   "metadata": {},
   "outputs": [],
   "source": [
    "# contrairement à discard, l'élément doit être présent,\n",
    "# sinon il y a une exception\n",
    "try:\n",
    "    ensemble.remove('foo')\n",
    "except KeyError as e:\n",
    "    print(\"remove a levé l'exception\", e)"
   ]
  },
  {
   "cell_type": "markdown",
   "metadata": {},
   "source": [
    "La capture d'exception avec `try` et `except`  sert à capturer une erreur d'exécution du programme (que l'on appelle exception) pour continuer le programme. Le but de cet exemple est simplement de montrer (d'une manière plus élégante que de voir simplement le programme planter avec une exception non capturée) que l'expression `ensemble.remove('foo')` génère une exception. Si ce concept vous paraît obscur, pas d'inquiétude, nous l'aborderons cette semaine et nous y reviendrons en détail en semaine 6."
   ]
  },
  {
   "cell_type": "code",
   "execution_count": null,
   "metadata": {
    "scrolled": true
   },
   "outputs": [],
   "source": [
    "# pop() ressemble à la méthode éponyme sur les listes\n",
    "# sauf qu'il n'y a pas d'ordre dans un ensemble\n",
    "while ensemble:\n",
    "    element = ensemble.pop()\n",
    "    print(\"element\", element)\n",
    "print(\"et bien sûr maintenant l'ensemble est vide\", ensemble)"
   ]
  },
  {
   "cell_type": "markdown",
   "metadata": {},
   "source": [
    "### Opérations classiques sur les ensembles"
   ]
  },
  {
   "cell_type": "markdown",
   "metadata": {},
   "source": [
    "Donnons-nous deux ensembles simples :"
   ]
  },
  {
   "cell_type": "code",
   "execution_count": null,
   "metadata": {},
   "outputs": [],
   "source": [
    "A2 = set([0, 2, 4, 6])\n",
    "print('A2', A2)\n",
    "A3 = set([0, 6, 3])\n",
    "print('A3', A3)"
   ]
  },
  {
   "cell_type": "markdown",
   "metadata": {},
   "source": [
    "N'oubliez pas que les ensembles, comme les dictionnaires, ne sont **pas ordonnés**."
   ]
  },
  {
   "cell_type": "markdown",
   "metadata": {},
   "source": [
    "**Remarques** :\n",
    "\n",
    "* les notations des opérateurs sur les ensembles rappellent les opérateurs \"bit-à-bit\" sur les entiers ;\n",
    "* ces opérateurs sont également disponibles sous la forme de méthodes."
   ]
  },
  {
   "cell_type": "markdown",
   "metadata": {},
   "source": [
    "##### Union"
   ]
  },
  {
   "cell_type": "code",
   "execution_count": null,
   "metadata": {},
   "outputs": [],
   "source": [
    "A2 | A3"
   ]
  },
  {
   "cell_type": "markdown",
   "metadata": {},
   "source": [
    "##### Intersection"
   ]
  },
  {
   "cell_type": "code",
   "execution_count": null,
   "metadata": {},
   "outputs": [],
   "source": [
    "A2 & A3"
   ]
  },
  {
   "cell_type": "markdown",
   "metadata": {},
   "source": [
    "##### Différence"
   ]
  },
  {
   "cell_type": "code",
   "execution_count": null,
   "metadata": {},
   "outputs": [],
   "source": [
    "A2 - A3"
   ]
  },
  {
   "cell_type": "code",
   "execution_count": null,
   "metadata": {},
   "outputs": [],
   "source": [
    "A3 - A2"
   ]
  },
  {
   "cell_type": "markdown",
   "metadata": {},
   "source": [
    "## Exercices d'application sur les ensembles"
   ]
  },
  {
   "cell_type": "markdown",
   "metadata": {},
   "source": [
    "### Gandhi VS Confucius\n",
    "\n",
    "Voici une citation de Gandhi :\n",
    "\n",
    "_La vie est un mystère qu'il faut vivre, et non un problème à résoudre._\n",
    "\n",
    "Créer un ensemble `set_gandhi` qui répertorie toutes les caractères utilisés pour cette citation. \n",
    "\n",
    "On doit obtenir un set de la forme : `{'m', 'à', '.', ...}`\n",
    "\n",
    "Faire de même avec cette citation du philosophe Confucius : _Je ne cherche pas à connaître les réponses, je cherche à comprendre les questions._"
   ]
  },
  {
   "cell_type": "code",
   "execution_count": null,
   "metadata": {},
   "outputs": [],
   "source": [
    "citation_gandhi = \"La vie est un mystère qu'il faut vivre,\\\n",
    " et non un problème à résoudre.\"\n",
    "\n",
    "citation_confucius = \"Je ne cherche pas à connaître les réponses,\\\n",
    "je cherche à comprendre les questions.\"\n",
    "\n",
    "set_gandhi = {lettre for lettre in citation_gandhi}\n",
    "print (set_gandhi)\n",
    "set_confucius = {lettre for lettre in citation_confucius}\n",
    "print (set_confucius)"
   ]
  },
  {
   "cell_type": "markdown",
   "metadata": {},
   "source": [
    "Utiliser vos deux ensembles `set_gandhi` et `set_confucius` pour répondre aux questions suivantes:\n",
    "\n",
    "1. Toutes les voyelles ont-elles été utilisées pour chacune des citations ?\n",
    "2. Quelles sont les caractères communs aux deux citations ?\n",
    "3. Quels sont tous les caratères utilisés pour l'ensemble des deux citations ?\n",
    "4. Quels sont les caractères uniques à l'une ou l'autre des citations ?"
   ]
  },
  {
   "cell_type": "code",
   "execution_count": null,
   "metadata": {},
   "outputs": [],
   "source": [
    "#1. Toutes les voyelles ont-elles été utilisées pour chacune des citations ?\n",
    "\n",
    "set_voyelles = {'a', 'e', 'i', 'o', 'u', 'y'}\n",
    "print(f\"Voyelles non utilisées par Gandhi : {set_voyelles - set_gandhi}\")\n",
    "print(f\"Voyelles non utilisées par Confucius : {set_voyelles - set_confucius}\")\n",
    "\n",
    "#2. Quelles sont les caractères communs aux deux citations ?\n",
    "\n",
    "print(f\"Caractères communs : {set_gandhi & set_confucius}\")\n",
    "\n",
    "\n",
    "#3. Quels sont tous les caratères utilisés pour l'ensemble des deux citations ?\n",
    "\n",
    "print(f\"Tous les caractères : {set_gandhi | set_confucius}\")\n",
    "\n",
    "#4. Quels sont les caractères uniques à l'une ou l'autre des citations ?\n",
    "\n",
    "print(f\"Caractères uniques à Gandhi : {set_gandhi - set_confucius}\")\n",
    "print(f\"Caractères uniques à Confucius : {set_confucius - set_gandhi}\")"
   ]
  },
  {
   "cell_type": "markdown",
   "metadata": {},
   "source": [
    "### M. Proust VS J. Vernes\n",
    "\n",
    "Certaines oeuvres sont librement et gratuitement téléchargeable sur [Gallica](https://gallica.bnf.fr/ark:/12148/bpt6k1049566j.texteImage), en particulier celles entrées dans [le domaine public](https://fr.wikipedia.org/wiki/Domaine_public_en_droit_de_la_propri%C3%A9t%C3%A9_intellectuelle_fran%C3%A7ais).\n",
    "\n",
    "Utiliser les fichiers mis à votre disposition \"du_cote_de_chez_swann.txt\" et \"20000_lieux.txt\", pour __créer deux ensembles (`set_proust` et `set_vernes`) contenant tous les mots utilisés dans ces deux livres__.\n",
    "\n",
    "> __Remarque :__ on ne se préoccupera pas de la casse. Il est donc conseillé de changer toutes les majuscules en minuscules avec la fonction [.lower()](https://www.w3schools.com/python/ref_string_lower.asp)."
   ]
  },
  {
   "cell_type": "code",
   "execution_count": null,
   "metadata": {},
   "outputs": [],
   "source": [
    "set_proust = set()\n",
    "with open('du_cote_de_chez_swann.txt', 'r', encoding='utf-8') as f:\n",
    "    for ligne in f:\n",
    "        minus_ligne = ligne.lower()   \n",
    "        mots_ligne = minus_ligne.split(' ')\n",
    "        mots_ligne = [mot.strip() for mot in mots_ligne]    # Supprime les \\n\n",
    "        mots_ligne = [mot.strip('.') for mot in mots_ligne] # Supprime les .\n",
    "        set_ligne = set(mots_ligne)\n",
    "        set_proust.update(set_ligne)\n",
    "print(set_proust)\n",
    "\n",
    "set_vernes = set()\n",
    "with open('20000_lieux.txt', 'r', encoding='utf-8') as f:\n",
    "    for ligne in f:\n",
    "        minus_ligne = ligne.lower()   \n",
    "        mots_ligne = minus_ligne.split(' ')\n",
    "        mots_ligne = [mot.strip() for mot in mots_ligne]\n",
    "        mots_ligne = [mot.strip('.') for mot in mots_ligne]\n",
    "        set_ligne = set(mots_ligne)\n",
    "        set_vernes.update(set_ligne)\n",
    "print(set_vernes)"
   ]
  },
  {
   "cell_type": "markdown",
   "metadata": {},
   "source": [
    "Utiliser vos deux ensembles `set_proust` et `set_vernes` pour répondre aux questions suivantes:\n",
    "\n",
    "1. Quel auteur utilise le plus de mots différents dans ces deux ouvrages ?\n",
    "2. Quel pourcentage de mots sont communs aux deux ouvrages ?\n",
    "3. Quels quantité de mots sont ne sont utilisés que dans l'un ou l'autre des ouvrages ?"
   ]
  },
  {
   "cell_type": "code",
   "execution_count": null,
   "metadata": {
    "scrolled": true
   },
   "outputs": [],
   "source": [
    "# 1.\n",
    "print(f\"Marcel Proust utilise {len(set_proust)} mots différents\")\n",
    "print(f\"Jules Vernes utilise {len(set_vernes)} mots différents\")\n",
    "\n",
    "# 2.\n",
    "pourcentage = len(set_proust & set_vernes) / len(set_proust | set_vernes) * 100\n",
    "print(f\"Ils ont {round(pourcentage, 1)} % de mots en commun\")\n",
    "\n",
    "# 3.\n",
    "nb_mots = len(set_proust - set_vernes) + len(set_vernes - set_proust)\n",
    "print(f\"Il y a {nb_mots} mots qui ne sont utilisés que dans l'un ou l'autre des ouvrages\")"
   ]
  },
  {
   "cell_type": "code",
   "execution_count": null,
   "metadata": {},
   "outputs": [],
   "source": [
    "# Alternative : nettoyer les mots en retirant les \"d'\", \"l'\",...\n",
    "\n",
    "set_proust_2 = {mot for mot in set_proust if \"'\" not in mot}\n",
    "set_proust_2.update({mot[2:] for mot in set_proust if \"'\" in mot})\n",
    "print(set_proust_2)\n",
    "\n",
    "set_vernes_2 = {mot for mot in set_vernes if \"'\" not in mot}\n",
    "set_vernes_2.update({mot[2:] for mot in set_vernes if \"'\" in mot})\n",
    "print(set_vernes_2)"
   ]
  },
  {
   "cell_type": "code",
   "execution_count": null,
   "metadata": {
    "scrolled": true
   },
   "outputs": [],
   "source": [
    "# 1.\n",
    "print(f\"Marcel Proust utilise {len(set_proust_2)} mots différents\")\n",
    "print(f\"Jules Vernes utilise {len(set_vernes_2)} mots différents\")\n",
    "\n",
    "# 2.\n",
    "pourcentage = len(set_proust_2 & set_vernes_2) / len(set_proust_2 | set_vernes_2) * 100\n",
    "print(f\"Ils ont {round(pourcentage, 1)} % de mots en commun\")\n",
    "\n",
    "# 3.\n",
    "nb_mots = len(set_proust_2 - set_vernes_2) + len(set_vernes_2 - set_proust_2)\n",
    "print(f\"Il y a {nb_mots} mots qui ne sont utilisés que dans l'un ou l'autre des ouvrages\")"
   ]
  },
  {
   "cell_type": "markdown",
   "metadata": {},
   "source": [
    "---\n",
    "[![Licence CC BY NC SA](https://licensebuttons.net/l/by-nc-sa/3.0/88x31.png \"licence Creative Commons CC BY-NC-SA\")](http://creativecommons.org/licenses/by-nc-sa/3.0/fr/)\n",
    "<p style=\"text-align: center;\">Auteur : David Landry, Lycée Clemenceau - Nantes</p>\n",
    "<p style=\"text-align: center;\">D'après des documents partagés par...</p>\n",
    "<p style=\"text-align: center;\"><a  href=https://www.fun-mooc.fr/courses/course-v1:UCA+107001+session02/about>Thierry Parmentelat et Arnaud Legout</a></p>\n",
    "<p style=\"text-align: center;\"><a  href=https://framagit.org/coubertin_nsi/nsi_1_courses>Lionnel Conoir</a></p>\n",
    "<p style=\"text-align: center;\"><a  href=https://gallica.bnf.fr/>La bibliothèque Gallica</a></p>"
   ]
  }
 ],
 "metadata": {
  "kernelspec": {
   "display_name": "Python 3",
   "language": "python",
   "name": "python3"
  },
  "language_info": {
   "codemirror_mode": {
    "name": "ipython",
    "version": 3
   },
   "file_extension": ".py",
   "mimetype": "text/x-python",
   "name": "python",
   "nbconvert_exporter": "python",
   "pygments_lexer": "ipython3",
   "version": "3.8.3"
  }
 },
 "nbformat": 4,
 "nbformat_minor": 2
}
