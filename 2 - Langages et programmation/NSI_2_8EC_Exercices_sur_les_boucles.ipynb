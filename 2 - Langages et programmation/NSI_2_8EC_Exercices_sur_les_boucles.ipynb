{
 "cells": [
  {
   "cell_type": "markdown",
   "metadata": {},
   "source": [
    "# Exercices sur les boucles"
   ]
  },
  {
   "cell_type": "markdown",
   "metadata": {},
   "source": [
    "## Analyse de texte\n",
    "\n",
    "1. Que fait le code suivant ?\n",
    "\n",
    "Il compte le nombre de \"e\" dans la citation"
   ]
  },
  {
   "cell_type": "code",
   "execution_count": null,
   "metadata": {},
   "outputs": [],
   "source": [
    "# -*- coding: utf-8 -*-\n",
    "citation = \"Je ne cherche pas à connaître les réponses,\\\n",
    "je cherche à comprendre les questions.\"\n",
    "compteur = 0\n",
    "for elt in citation:\n",
    "    if elt == \"e\":\n",
    "        compteur = compteur + 1\n",
    "print(compteur)"
   ]
  },
  {
   "cell_type": "markdown",
   "metadata": {},
   "source": [
    "2. Transformer le code pour qu'il compte le nombre de J, minuscule ou majuscule."
   ]
  },
  {
   "cell_type": "code",
   "execution_count": null,
   "metadata": {},
   "outputs": [],
   "source": [
    "# -*- coding: utf-8 -*-\n",
    "citation = \"Je ne cherche pas à connaître les réponses,\\\n",
    "je cherche à comprendre les questions.\"\n",
    "compteur = 0\n",
    "for elt in citation:\n",
    "    if elt == \"j\" or elt == \"J\":\n",
    "        compteur = compteur + 1\n",
    "print(compteur)"
   ]
  },
  {
   "cell_type": "markdown",
   "metadata": {},
   "source": [
    "##  [La légende de l'échiquier de Sissa](https://fr.wikipedia.org/wiki/Probl%C3%A8me_de_l%27%C3%A9chiquier_de_Sissa)\n",
    "\n",
    "En Inde, le roi Belkib (ou Bathait), qui s'ennuie à la cour, demande qu'on lui invente un jeu pour le distraire. Le sage Sissa invente alors un jeu d'échecs, ce qui ravit le roi. Pour remercier Sissa, le roi lui demande de choisir sa récompense, aussi fastueuse qu'elle puisse être. Sissa choisit de demander au roi de prendre le plateau du jeu et, __sur la première case, poser un grain de riz, ensuite deux sur la deuxième, puis quatre sur la troisième, et ainsi de suite, en doublant à chaque fois le nombre de grains de riz que l’on met__. Le roi et la cour sont amusés par la modestie de cette demande. Mais lorsqu'on la met en œuvre, on s'aperçoit qu'il n'y a pas assez de grains de riz dans tout le royaume pour la satisfaire.\n",
    "\n",
    "__Ecrire un programme qui affiche le total de grains de riz posés sur l'échiquier, case après cases. On rappelle qu'un échiquier comporte 64 cases__."
   ]
  },
  {
   "cell_type": "code",
   "execution_count": null,
   "metadata": {},
   "outputs": [],
   "source": [
    "nb_grains = 0\n",
    "for i in range(64):\n",
    "    nb_grains += 2 ** i\n",
    "print(nb_grains)"
   ]
  },
  {
   "cell_type": "markdown",
   "metadata": {},
   "source": [
    "Ecrire un programme pour savoir à partir de quelle case le roi Belkib aura déjà déposé un million de million de grains de riz ($10^{12}$ grains) sur l'échiquier.\n",
    "\n",
    "> Rappel : avec Python, $10^{12}$ peut s'écrire `1e12`"
   ]
  },
  {
   "cell_type": "code",
   "execution_count": null,
   "metadata": {},
   "outputs": [],
   "source": [
    "nb_grains = 0\n",
    "case = 0\n",
    "while nb_grains < 1e12:\n",
    "    nb_grains += 2 ** case\n",
    "    case += 1\n",
    "print(f\"Dès la {case} ième case, le roi aura déposé {nb_grains} grains\")"
   ]
  },
  {
   "cell_type": "markdown",
   "metadata": {},
   "source": [
    "## Devine le nombre\n",
    "\n",
    "Un joueur doit trouver un nombre entier choisi au préalable de 1 à 100 par l'ordinateur. A chaque tour, le joueur propose un nombre et l'ordinateur peut répondre de trois façons différentes :\n",
    "\n",
    "- Gagné !\n",
    "- Trop petit\n",
    "- Trop grand\n",
    "\n",
    "Ecrire un programme permettant de jouer à \"Devine le nombre\"."
   ]
  },
  {
   "cell_type": "code",
   "execution_count": null,
   "metadata": {},
   "outputs": [],
   "source": [
    "from random import randint\n",
    "\n",
    "tirage = randint(1, 100)\n",
    "choix = int(input(\"Saisir un entier entre 1 et 100 : \"))\n",
    "while choix != tirage:\n",
    "    if choix < tirage:\n",
    "        print(\"Trop petit\")\n",
    "    else:\n",
    "        print(\"Trop grand\")\n",
    "    choix = int(input(\"Saisir un entier entre 1 et 100 : \"))\n",
    "print(\"Gagné !\")"
   ]
  },
  {
   "cell_type": "markdown",
   "metadata": {},
   "source": [
    "On veut complexifier le jeu en imposant un nombre d'essais maximal.\n",
    "\n",
    "Modifier le programme précédent afin qu'il...\n",
    "\n",
    "- demande à l'utilisateur de saisir un nombre entier qui corrrespond au nombre maximum d'essais autorisés.\n",
    "- permette de jouer sans autoriser plus d'essais que le nombre maximum entré.\n",
    "- affiche soit la défaite soit la victoire en précisant le nombre d'essais utilisés."
   ]
  },
  {
   "cell_type": "code",
   "execution_count": null,
   "metadata": {},
   "outputs": [],
   "source": [
    "from random import randint\n",
    "\n",
    "tirage = randint(1, 100)\n",
    "max_essais = int(input(\"Combien d'essais au maximum ? \"))\n",
    "choix = int(input(\"Saisir un entier entre 1 et 100 : \"))\n",
    "nb_essais = 1\n",
    "while choix != tirage and nb_essais < max_essais:\n",
    "    if choix < tirage:\n",
    "        print(\"Trop petit\")\n",
    "    else:\n",
    "        print(\"Trop grand\")\n",
    "    choix = int(input(\"Saisir un entier entre 1 et 100 : \"))\n",
    "    nb_essais += 1\n",
    "if choix == tirage:\n",
    "    print(f\"Gagné en {nb_essais} !\")\n",
    "else:\n",
    "    print(f\"Perdu en {nb_essais} essais ! La réponse était {tirage}.\")"
   ]
  },
  {
   "cell_type": "markdown",
   "metadata": {},
   "source": [
    "## Consommation d'un data-center\n",
    "\n",
    "Chaque année la consommation énergétique d'un data center est estimée augmenter de 8 %.\n",
    "\n",
    "On considérera un data-center moyen, consommant à l'an 0, environ 20 million de kWh.\n",
    "\n",
    "1. Déterminer le nombre d'années nécessaires au doublement de la consommation énergétique de ce data center."
   ]
  },
  {
   "cell_type": "code",
   "execution_count": null,
   "metadata": {},
   "outputs": [],
   "source": [
    "conso_initiale = 20_000_000\n",
    "conso = conso_initiale\n",
    "annee = 0\n",
    "while conso < conso_initiale * 2:\n",
    "    annee += 1\n",
    "    conso = conso * 1.08\n",
    "print(f\"{annee} ans\")"
   ]
  },
  {
   "cell_type": "markdown",
   "metadata": {},
   "source": [
    "2. Refaire le calcul pour un data-center 10 fois plus gros.\n",
    "3. Conclure"
   ]
  },
  {
   "cell_type": "code",
   "execution_count": null,
   "metadata": {},
   "outputs": [],
   "source": [
    "conso_initiale = 200_000_000\n",
    "conso = conso_initiale\n",
    "annee = 0\n",
    "while conso < conso_initiale * 2:\n",
    "    annee += 1\n",
    "    conso = conso * 1.08\n",
    "print(f\"{annee} ans\")"
   ]
  },
  {
   "cell_type": "markdown",
   "metadata": {},
   "source": [
    "## L'argent de poche de Crésus\n",
    "\n",
    "À la naissance de Crésus, son grand-père Midas, lui ouvre un compte bancaire en y versant une première fois 100 €. Ensuite, à chaque anniversaire, le grand père de Crésus verse sur son compte 100 €, auxquels il ajoute le double de l’âge de Crésus.\n",
    "\n",
    "Par exemple, lorsqu’elle a deux ans, son grand-père lui verse 104 € ce qui fait un total versé de 100 + 102 + 104 = 306 € à la deuxième année.\n",
    "\n",
    "1. Écrire un programme qui demande à un utilisateur l'age de Crésus (valeur entière) et qui affiche la somme présente sur le compte de Crésus à cet age."
   ]
  },
  {
   "cell_type": "code",
   "execution_count": null,
   "metadata": {},
   "outputs": [],
   "source": [
    "age = int(input(\"Quel age a Crésus ? \"))\n",
    "capital = 100\n",
    "for annee in range(age):\n",
    "    capital += 100 + (annee + 1) * 2\n",
    "print(f\"A {age} an(s), Crésus aura {capital} € sur son compte\")"
   ]
  },
  {
   "cell_type": "markdown",
   "metadata": {},
   "source": [
    "Midas dépose cet argent dans une banque qui crédite un revenu de 1% sur le capital de crésus chaque année. \n",
    "\n",
    "2. Compléter votre programme précédent pour tenir compte de ce revenu supplémentaire."
   ]
  },
  {
   "cell_type": "code",
   "execution_count": null,
   "metadata": {},
   "outputs": [],
   "source": [
    "age = int(input(\"Quel age a Crésus ? \"))\n",
    "capital = 100\n",
    "for annee in range(age):\n",
    "    capital = capital * 1.01\n",
    "    capital += 100 + (annee + 1) * 2\n",
    "print(f\"A {age} an(s), Crésus aura {capital} € sur son compte\")"
   ]
  },
  {
   "cell_type": "markdown",
   "metadata": {},
   "source": [
    "3. Ecrire un programme qui permet de savoir à quel âge Crésus aura dépassé les 2000 € sur son compte. Réaliser un affichage de son capital à chacun de ses anniversaires."
   ]
  },
  {
   "cell_type": "code",
   "execution_count": null,
   "metadata": {},
   "outputs": [],
   "source": [
    "age = 0\n",
    "capital = 100\n",
    "while capital < 2000:\n",
    "    age += 1\n",
    "    capital = capital * 1.01\n",
    "    capital += 100 + age * 2\n",
    "print(f\"A {age} an(s), Crésus aura {capital} € sur son compte\")"
   ]
  },
  {
   "cell_type": "markdown",
   "metadata": {},
   "source": [
    "## Convergence\n",
    "\n",
    "1. Ecrire un programme qui demande un entier strictement positif à l'utilisateur puis, tant que cet entier n'est pas égal à 1, le divise par deux s'il est pair ou le multiplie par trois et ajoute un s'il est impair. Afficher tous les nombres ainsi obtenus. Essayer avec différents nombres de départ."
   ]
  },
  {
   "cell_type": "code",
   "execution_count": null,
   "metadata": {},
   "outputs": [],
   "source": [
    "reponse = int(input(\"Saisir un nombre entier : \"))\n",
    "while reponse != 1:\n",
    "    if reponse % 2 == 0:\n",
    "        reponse //= 2\n",
    "    else:\n",
    "        reponse *= 3\n",
    "        reponse += 1\n",
    "    print(reponse)"
   ]
  },
  {
   "cell_type": "markdown",
   "metadata": {},
   "source": [
    "2. Modifier le programme précédent pour qu'il affiche  au final le nombre d'étapes pour arriver au nombre 1 et le nombre maximal qui a été rencontré en chemin. \n",
    "\n",
    "> Vérification : pour le nombre de départ 7, le nombre d'étapes doit être 16 et le nombre maximal rencontré 52."
   ]
  },
  {
   "cell_type": "code",
   "execution_count": null,
   "metadata": {},
   "outputs": [],
   "source": [
    "reponse = int(input(\"Saisir un nombre entier : \"))\n",
    "etapes = 0\n",
    "maximum = reponse\n",
    "while reponse != 1:\n",
    "    etapes += 1\n",
    "    if reponse % 2 == 0:\n",
    "        reponse //= 2\n",
    "    else:\n",
    "        reponse *= 3\n",
    "        reponse += 1\n",
    "    if reponse > maximum:\n",
    "        maximum = reponse\n",
    "print(f\"Il a fallu {etapes} étapes. La valeur maximale fut {maximum}\")"
   ]
  },
  {
   "cell_type": "markdown",
   "metadata": {},
   "source": [
    "3. Modifier encore le programme pour tester tous les nombres de départ entre 1 et 20 et afficher pour chacun le nombre d'étapes et le maximum rencontré.\n",
    "\n",
    "> Quel est le nom de départ donnant le plus grand nombre d'étapes ?   \n",
    "> Et celui donnant le plus grand maximum obtenu ?   \n",
    ">Tester ensuite au-delà de 20."
   ]
  },
  {
   "cell_type": "code",
   "execution_count": null,
   "metadata": {},
   "outputs": [],
   "source": [
    "for i in range(20):\n",
    "    reponse = i + 1\n",
    "    print(f\"Nombre testé : {reponse}\")\n",
    "    etapes = 0\n",
    "    maximum = reponse\n",
    "    while reponse != 1:\n",
    "        etapes += 1\n",
    "        if reponse % 2 == 0:\n",
    "            reponse //= 2\n",
    "        else:\n",
    "            reponse *= 3\n",
    "            reponse += 1\n",
    "        if reponse > maximum:\n",
    "            maximum = reponse\n",
    "    print(f\"Il a fallu {etapes} étapes. La valeur maximale fut {maximum}\")"
   ]
  },
  {
   "cell_type": "markdown",
   "metadata": {},
   "source": [
    "## Le jeu des allumettes ([Jeu de Nim](https://fr.wikipedia.org/wiki/Jeux_de_Nim))\n",
    "\n",
    "Ce jeu se joue à deux.\n",
    "\n",
    "Initialement, 21 allumettes sont posées sur la table. A tour de rôle, chaque joueur enlève une, deux ou trois allumettes. Celui qui enlève la dernière allumette a perdu.\n",
    "\n",
    "1. Ecrire un programme qui permet à un joueur de jouer contre l'ordinateur. L'ordinateur retirera une, deux ou trois allumettes de façon aléatoire.\n",
    "\n",
    "> __Remarques :__\n",
    "- Au début de chaque tour,, on affichera le nombre d'allumettes restantes.\n",
    "- L'ordinateur ne peut évidemment pas retirer plus d'allumettes qu'il n'en reste."
   ]
  },
  {
   "cell_type": "code",
   "execution_count": null,
   "metadata": {},
   "outputs": [],
   "source": [
    "from random import randint\n",
    "\n",
    "nb_allumettes = 21\n",
    "while nb_allumettes > 0:\n",
    "    choix = int(input(\"Combien d'allumettes voulez-vous retirer ? \"))\n",
    "    nb_allumettes -= choix\n",
    "    if nb_allumettes <= 0:\n",
    "        break\n",
    "    print(f\"Il reste {nb_allumettes} allumettes\")\n",
    "    choix = randint(1, 3)\n",
    "    while choix > nb_allumettes:\n",
    "        choix = randint(1, 3)\n",
    "    nb_allumettes -= choix\n",
    "    print(f\"L'ordinateur a retiré {choix} allumettes\")\n",
    "    print(f\"Il reste {nb_allumettes} allumettes\")\n",
    "print(\"La partie est terminée\")"
   ]
  },
  {
   "cell_type": "markdown",
   "metadata": {},
   "source": [
    "2. Améliorer votre programme pour donner le nom du gagnant lorsque la dernière allumette est retirée."
   ]
  },
  {
   "cell_type": "code",
   "execution_count": null,
   "metadata": {},
   "outputs": [],
   "source": [
    "from random import randint\n",
    "\n",
    "joueur_gagnant = True\n",
    "nb_allumettes = 21\n",
    "while nb_allumettes > 0:\n",
    "    choix = int(input(\"Combien d'allumettes voulez-vous retirer ? \"))\n",
    "    nb_allumettes -= choix\n",
    "    if nb_allumettes <= 0:\n",
    "        joueur_gagnant = False\n",
    "        break\n",
    "    print(f\"Il reste {nb_allumettes} allumettes\")\n",
    "    choix = randint(1, 3)\n",
    "    while choix > nb_allumettes:\n",
    "        choix = randint(1, 3)\n",
    "    nb_allumettes -= choix\n",
    "    print(f\"L'ordinateur a retiré {choix} allumettes\")\n",
    "    print(f\"Il reste {nb_allumettes} allumettes\")\n",
    "if joueur_gagnant:\n",
    "    print(\"Vous avez gagné, bravo !\")\n",
    "else:\n",
    "    print(\"Vous avez perdu !\")"
   ]
  },
  {
   "cell_type": "markdown",
   "metadata": {},
   "source": [
    "3. Améliorer votre programme pour éviter que l'utilisateur ne puisse faire ne saisie illégale (différente d'un chiffre inférieur ou égal aux nombre d'allumettes restantes)"
   ]
  },
  {
   "cell_type": "code",
   "execution_count": null,
   "metadata": {},
   "outputs": [],
   "source": [
    "from random import randint\n",
    "\n",
    "joueur_gagnant = True\n",
    "nb_allumettes = 21\n",
    "while nb_allumettes > 0:\n",
    "    choix = int(input(\"Combien d'allumettes voulez-vous retirer ? \"))\n",
    "    while choix > 3 or choix > nb_allumettes:\n",
    "        choix = int(input(\"Combien d'allumettes voulez-vous retirer ? \"))\n",
    "    nb_allumettes -= int(choix)\n",
    "    if nb_allumettes <= 0:\n",
    "        joueur_gagnant = False\n",
    "        break\n",
    "    print(f\"Il reste {nb_allumettes} allumettes\")\n",
    "    choix = randint(1, 3)\n",
    "    while choix > nb_allumettes:\n",
    "        choix = randint(1, 3)\n",
    "    nb_allumettes -= choix\n",
    "    print(f\"L'ordinateur a retiré {choix} allumettes\")\n",
    "    print(f\"Il reste {nb_allumettes} allumettes\")\n",
    "if joueur_gagnant:\n",
    "    print(\"Vous avez gagné, bravo !\")\n",
    "else:\n",
    "    print(\"Vous avez perdu !\")"
   ]
  },
  {
   "cell_type": "markdown",
   "metadata": {},
   "source": [
    "4. Il existe une stratégie gagnante pour le joueur qui joue en second. La trouver et la programmer, de manière à ce que l'ordinateur gagne systématiquement."
   ]
  },
  {
   "cell_type": "code",
   "execution_count": null,
   "metadata": {},
   "outputs": [],
   "source": [
    "# Le joueur doit toujours maintenir un nombre d'allumettes\n",
    "# de la forme 4n + 1\n",
    "# c'est à dire un multiple de 4 allumettes, plus une\n",
    "# C'est le cas initialement car 21 = 4 x 5 + 1\n",
    "# Il suffit de prendre le complément à 4 du dernier choix du joueur\n",
    "\n",
    "joueur_gagnant = True\n",
    "nb_allumettes = 21\n",
    "while nb_allumettes > 0:\n",
    "    choix = int(input(\"Combien d'allumettes voulez-vous retirer ? \"))\n",
    "    while choix > 3 or choix > nb_allumettes:\n",
    "        choix = int(input(\"Combien d'allumettes voulez-vous retirer ? \"))\n",
    "    nb_allumettes -= int(choix)\n",
    "    if nb_allumettes <= 0:\n",
    "        joueur_gagnant = False\n",
    "        break\n",
    "    print(f\"Il reste {nb_allumettes} allumettes\")\n",
    "    if choix == 1:\n",
    "        choix = 3\n",
    "    elif choix == 2:\n",
    "        choix = 2\n",
    "    else:\n",
    "        choix = 1\n",
    "    nb_allumettes -= choix\n",
    "    print(f\"L'ordinateur a retiré {choix} allumettes\")\n",
    "    print(f\"Il reste {nb_allumettes} allumettes\")\n",
    "if joueur_gagnant:\n",
    "    print(\"Vous avez gagné, bravo !\")\n",
    "else:\n",
    "    print(\"Vous avez perdu !\")"
   ]
  },
  {
   "cell_type": "markdown",
   "metadata": {},
   "source": [
    "## Questions issues de la Banque Nationale de Sujets"
   ]
  },
  {
   "cell_type": "markdown",
   "metadata": {},
   "source": [
    "Quelle est la valeur du couple (s, i) à la fin de l'exécution du script suivant ?\n",
    "\n",
    "```python\n",
    "s = 0\n",
    "i = 1\n",
    "while i < 5:\n",
    "    s = s + i\n",
    "    i = i + 1\n",
    "```\n",
    "Réponses :\n",
    "\n",
    "A- (4, 5)\n",
    "\n",
    "B- (10, 4)\n",
    "\n",
    "### C- (10, 5)\n",
    "\n",
    "D- (15, 5)"
   ]
  },
  {
   "cell_type": "markdown",
   "metadata": {},
   "source": [
    "n étant un entier strictement positif, la fonction suivante calcule sa factorielle, c'est-à-dire le produit 1×2×3×⋯×(n−1)×n.\n",
    "\n",
    "Comment faut-il écrire la ligne en pointillée ci-dessous pour ce faire ?\n",
    "\n",
    "```python\n",
    "def factorielle(n):\n",
    "    f = 1\n",
    "    .........\n",
    "        f = f * i\n",
    "    return f\n",
    "```\n",
    "\n",
    "Réponses :\n",
    "\n",
    "A- for i in range(1, n):\n",
    "\n",
    "B- for i in range(n + 1):\n",
    "\n",
    "C- for i in range(0, n):\n",
    "\n",
    "### D- for i in range(1, n + 1):"
   ]
  },
  {
   "cell_type": "markdown",
   "metadata": {},
   "source": [
    "On exécute le script suivant :\n",
    "\n",
    "```python\n",
    "a = 4\n",
    "b = 4\n",
    "c = 4\n",
    "while a < 5:\n",
    "    a = a - 1\n",
    "    b = b + 1\n",
    "    c = c * b\n",
    "```\n",
    "\n",
    "Que peut-on dire ?\n",
    "\n",
    "Réponses :\n",
    "\n",
    "### A- ce programme ne termine pas\n",
    "\n",
    "B- à la fin de l'exécution, la variable a vaut 5\n",
    "\n",
    "C- à la fin de l'exécution, la variable b vaut 34\n",
    "\n",
    "D- à la fin de l'exécution, la variable c vaut 42"
   ]
  },
  {
   "cell_type": "markdown",
   "metadata": {},
   "source": [
    "On souhaite écrire une fonction qui renvoie le maximum d'une liste d'entiers :\n",
    "\n",
    "```python\n",
    "def maximum(L):\n",
    "    m = L[0]\n",
    "    for i in range(1,len(L)):\n",
    "        if .........:\n",
    "            m = L[i]\n",
    "    return m\n",
    "```\n",
    "\n",
    "Par quoi faut-il remplacer les pointillés pour que cette fonction produise bien le résultat attendu ?\n",
    "\n",
    "Réponses :\n",
    "\n",
    "A- i > m\n",
    "\n",
    "### B- L[i] > m\n",
    "\n",
    "C- L[i] > L[i-1]\n",
    "\n",
    "D- L[i] > L[i+1]"
   ]
  },
  {
   "cell_type": "markdown",
   "metadata": {},
   "source": [
    "Quelle est la valeur de c à la fin de l'exécution du code suivant :\n",
    "\n",
    "```python\n",
    "L = [1, 2, 3, 4, 1, 2, 3, 4, 0, 2]\n",
    "c = 0\n",
    "for k in L:\n",
    "    if k == L[1]:\n",
    "        c = c + 1\n",
    "```\n",
    "\n",
    "Réponses :\n",
    "\n",
    "A- 0\n",
    "\n",
    "B- 2\n",
    "\n",
    "### C- 3\n",
    "\n",
    "D- 10"
   ]
  },
  {
   "cell_type": "markdown",
   "metadata": {},
   "source": [
    "Que renvoie la fonction suivante quand on l'appelle avec un nombre entier et une liste d'entiers ?\n",
    "\n",
    "```python\n",
    "def mystere(n, L):\n",
    "    for x in L:\n",
    "        if n == x:\n",
    "            return True\n",
    "    return False\n",
    "```\n",
    "\n",
    "Réponses :\n",
    "\n",
    "### A- une valeur booléenne indiquant si le nombre n est présent au moins une fois dans la liste L\n",
    "\n",
    "B- une valeur booléenne indiquant si le nombre n est présent plusieurs fois dans la liste L\n",
    "\n",
    "C- une valeur booléenne indiquant si le nombre n est le plus grand de la liste L\n",
    "\n",
    "D- une valeur booléenne indiquant si le nombre n est le plus petit de la liste L"
   ]
  },
  {
   "cell_type": "markdown",
   "metadata": {},
   "source": [
    "La fonction mystere suivante prend en argument un tableau d'entiers.\n",
    "\n",
    "```python\n",
    "def mystere(t):\n",
    "    for i in range(len(t) - 1):\n",
    "        if t[i] + 1 != t[i + 1]:\n",
    "            return False\n",
    "    return True\n",
    "```\n",
    "\n",
    "À quelle condition la valeur renvoyée par la fonction est-elle True ?\n",
    "\n",
    "Réponses :\n",
    "\n",
    "### A- si le tableau passé en argument est une suite d'entiers consécutifs\n",
    "\n",
    "B- si le tableau passé en argument est trié en ordre croissant\n",
    "\n",
    "C- si le tableau passé en argument est trié en ordre décroissant\n",
    "\n",
    "D- si le tableau passé en argument contient des entiers tous identiques"
   ]
  },
  {
   "cell_type": "markdown",
   "metadata": {},
   "source": [
    "T est un tableau de nombres entiers non vide. Que représente la valeur de s renvoyée par cette fonction ?\n",
    "\n",
    "```python\n",
    "def mystere(T):\n",
    "    s = 0\n",
    "    for k in T:\n",
    "        if k % 2 == 0:\n",
    "            s = s + k\n",
    "    return s\n",
    "```\n",
    "\n",
    "Réponses :\n",
    "\n",
    "A- la somme des valeurs du tableau T\n",
    "\n",
    "B- la somme des valeurs positives du tableau T\n",
    "\n",
    "C- la somme des valeurs impaires du tableau T\n",
    "\n",
    "### D- la somme des valeurs paires du tableau T"
   ]
  },
  {
   "cell_type": "markdown",
   "metadata": {},
   "source": [
    "On considère le code incomplet suivant qui recherche le maximum dans une liste.\n",
    "\n",
    "```python\n",
    "liste = [5, 12, 15, 3, 15, 17, 29, 1]\n",
    "iMax = 0\n",
    "for i in range(1, len(liste)):\n",
    "    ............\n",
    "    iMax = i\n",
    "print (liste[iMax])\n",
    "```\n",
    "\n",
    "Par quoi faut-il remplacer la ligne pointillée ?\n",
    "\n",
    "Réponses :\n",
    "\n",
    "A- if i > iMax:\n",
    "\n",
    "### B- if liste[i] > liste[iMax]:\n",
    "\n",
    "C- if liste[i] > iMax:\n",
    "\n",
    "D- if i > liste[iMax]:"
   ]
  },
  {
   "cell_type": "markdown",
   "metadata": {},
   "source": [
    "Quelle est la valeur de element à la fin de l'exécution du code suivant :\n",
    "\n",
    "```python\n",
    "L = [1,2,3,4,1,2,3,4,0,2]\n",
    "element = L[0]\n",
    "for k in L:\n",
    "    if k > element:\n",
    "element = k\n",
    "```\n",
    "\n",
    "Réponses :\n",
    "\n",
    "A- 0\n",
    "\n",
    "### B- 1\n",
    "\n",
    "C- 4\n",
    "\n",
    "D- 10"
   ]
  },
  {
   "cell_type": "markdown",
   "metadata": {},
   "source": [
    "La fonction suivante doit calculer la moyenne d’un tableau de nombres, passé en paramètre. Avec quelles expressions faut-il remplacer les points de suspension pour que la fonction soit correcte ?\n",
    "\n",
    "```python\n",
    "def moyenne(tableau):\n",
    "    total = ...\n",
    "    for valeur in tableau:\n",
    "        total = total + valeur\n",
    "    return total / ...\n",
    "```\n",
    "\n",
    "Réponses :\n",
    "\n",
    "A- 1 et (len(tableau) + 1)\n",
    "\n",
    "B- 1 et len(tableau)\n",
    "\n",
    "C- 0 et (len(tableau) + 1)\n",
    "\n",
    "### D- 0 et len(tableau)"
   ]
  },
  {
   "cell_type": "markdown",
   "metadata": {},
   "source": [
    "Quelle est la valeur de la variable n à la fin de l'exécution du script ci-dessous ?\n",
    "\n",
    "```python\n",
    "n = 1\n",
    "while n != 20:\n",
    "    n = n + 2\n",
    "```\n",
    "\n",
    "Réponses :\n",
    "\n",
    "A- 1\n",
    "\n",
    "B- 20\n",
    "\n",
    "C- 22\n",
    "\n",
    "### D- le programme ne termine pas, la boucle tourne indéfiniment"
   ]
  },
  {
   "cell_type": "markdown",
   "metadata": {},
   "source": [
    "Soit 𝑛 un entier naturel. Sa factorielle est le produit des nombres entiers strictement positifs qui sont plus petits ou égaux à 𝑛. Par exemple la factorielle de 4 vaut 1 × 2 × 3 × 4 = 24. Quelle est la fonction correcte parmi les suivantes ?\n",
    "\n",
    "Réponses :\n",
    "\n",
    "### A-\n",
    "```python\n",
    "def factorielle(n):\n",
    "    i = 0\n",
    "    fact = 1\n",
    "    while i <= n:\n",
    "        fact = fact * i\n",
    "        i = i + 1\n",
    "    return fact \n",
    "```\n",
    "B-\n",
    "```python\n",
    "def factorielle(n):\n",
    "    i = 1\n",
    "    fact = 1\n",
    "    while i < n:\n",
    "        fact = fact * i\n",
    "        i = i + 1\n",
    "    return fact \n",
    "```\n",
    "C-\n",
    "```python\n",
    "def factorielle(n):\n",
    "    i = 0\n",
    "    fact = 1\n",
    "    while i < n:\n",
    "        i = i + 1\n",
    "        fact = fact * i\n",
    "    return fact \n",
    "```\n",
    "D-\n",
    "```python\n",
    "def factorielle(n):\n",
    "    i = 0\n",
    "    fact = 1\n",
    "    while i <= n:\n",
    "        i = i + 1\n",
    "        fact = fact * i\n",
    "    return fact\n",
    "```"
   ]
  },
  {
   "cell_type": "markdown",
   "metadata": {},
   "source": [
    "On exécute le script suivant :\n",
    "\n",
    "```python\n",
    "for i in range(n):\n",
    "    for j in range(i):\n",
    "        print('NSI')\n",
    "```\n",
    "\n",
    "Combien de fois le mot NSI est-il affiché ?\n",
    "\n",
    "Réponses :\n",
    "\n",
    "A- $n^2$\n",
    "\n",
    "B- $(n+1)^2$\n",
    "\n",
    "### C- 1+2+...+(n−1)\n",
    "\n",
    "D- 1+2+...+(n−1)+n"
   ]
  },
  {
   "cell_type": "markdown",
   "metadata": {},
   "source": [
    "La fonction suivante doit calculer le produit de tous les éléments de la liste passée en paramètre. Avec quelles expressions doit-on la compléter pour que cette fonction soit correcte ?\n",
    "\n",
    "```python\n",
    "def produit (L):\n",
    "    p = ...\n",
    "    for elt in L:\n",
    "        .......\n",
    "    return p\n",
    "```\n",
    "\n",
    "Réponses :\n",
    "\n",
    "### A- 1 puis p = p * elt\n",
    "\n",
    "B- 0 puis p = p * elt\n",
    "\n",
    "C- 1 puis p = elt\n",
    "\n",
    "D- 0 puis p = elt"
   ]
  },
  {
   "cell_type": "markdown",
   "metadata": {},
   "source": [
    "On considère un entier positif A.\n",
    "Parmi les quatre codes suivants, il y en a un dont l'exécution ne termine pas. Lequel ?\n",
    "\n",
    "Réponses :\n",
    "\n",
    "A-\n",
    "```python\n",
    "i = A + 1\n",
    "while i < A:\n",
    "    i = i - 1\n",
    "```\n",
    "B-\n",
    "```python\n",
    "i = A + 1\n",
    "while i < A:\n",
    "    i = i + 1\n",
    "```\n",
    "### C-\n",
    "```python\n",
    "i = A - 1\n",
    "while i < A:\n",
    "    i = i - 1\n",
    "```\n",
    "D-\n",
    "```python\n",
    "i = A - 1\n",
    "while i < A:\n",
    "    i = i + 1\n",
    "```"
   ]
  },
  {
   "cell_type": "markdown",
   "metadata": {},
   "source": [
    "---\n",
    "[![Licence CC BY NC SA](https://licensebuttons.net/l/by-nc-sa/3.0/88x31.png \"licence Creative Commons CC BY-NC-SA\")](http://creativecommons.org/licenses/by-nc-sa/3.0/fr/)\n",
    "<p style=\"text-align: center;\">Auteur : David Landry, Lycée Clemenceau - Nantes</p>\n",
    "<p style=\"text-align: center;\">D'après des documents partagés par...</p>\n",
    "<p style=\"text-align: center;\"><a  href=http://www.monlyceenumerique.fr/index_nsi.html#premiere>Jean-Christophe Gérard, Thomas Lourdet, Johan Monteillet, Pascal Thérèse</a></p>\n",
    "<p style=\"text-align: center;\"><a  href=https://www.nsi-premiere.fr/index.html>Manuel NSI, de Balabonski, Conchon, Filliâtre et Nguyen</a></p>"
   ]
  }
 ],
 "metadata": {
  "kernelspec": {
   "display_name": "Python 3",
   "language": "python",
   "name": "python3"
  },
  "language_info": {
   "codemirror_mode": {
    "name": "ipython",
    "version": 3
   },
   "file_extension": ".py",
   "mimetype": "text/x-python",
   "name": "python",
   "nbconvert_exporter": "python",
   "pygments_lexer": "ipython3",
   "version": "3.8.3"
  }
 },
 "nbformat": 4,
 "nbformat_minor": 2
}
