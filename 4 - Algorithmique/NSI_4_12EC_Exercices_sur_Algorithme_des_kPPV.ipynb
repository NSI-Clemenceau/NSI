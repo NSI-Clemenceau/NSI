{
 "cells": [
  {
   "cell_type": "markdown",
   "metadata": {},
   "source": [
    "# Exercices sur l'algorithme des kPPV\n",
    "## Jeu de rôle\n",
    "\n",
    "Considérons un jeu de rôle médiéval avec des chevaliers et des fantassins.\n",
    "\n",
    "Le jeu génère des soldats aléatoirement et il faut leur donner une spécialité d'après deux de leurs caractéristiques (Courage et force) et celles de soldats déjà catégorisés en chevalier ou fantassins.\n",
    "\n",
    "Voici la représentation des soldats pris pour référence :\n",
    "\n",
    "![Chevaliers VS fantassins](Role1.png)\n",
    "\n",
    "Nous introduisons une cible de force = 5 et de courage = 12,5.\n",
    "\n",
    "On choisit k = 4 et la distance est schématisée par un disque :\n",
    "\n",
    "![Chevaliers VS fantassins](Role2.png)\n",
    "\n",
    "1. Quels sont les k plus proches voisins de notre donnée cible ? \n",
    "\n",
    "Avec k = 4, les 4 plus proches voisins sont 2 chevaliers et 2 fantassins.\n",
    "\n",
    "2. Quel est le problème ?\n",
    "\n",
    "Il n'y a pas de catégorie prioritaire parmi les 4 PPV. Il est donc impossible de déterminer la catégorie de notre nouveau soldat.\n",
    "\n",
    "3. Donner trois valeurs de k permettant de décider de la catégorie de notre donnée cible ?\n",
    "\n",
    "k = 1, 3 et 9\n",
    "\n",
    "4. Donner pour ces trois valeur de k la catégorie de la donnée cible.\n",
    "\n",
    "k = 1 : chevalier\n",
    "k = 3 : chevalier\n",
    "k = 9 : chevalier\n",
    "\n",
    "On choisit k = 9. Pour la distance, on décide que les valeurs de la force n'ont pas d'importance. La distance dépend donc uniquement du courage. On peut représenter graphiquement cette condition :\n",
    "\n",
    "![Chevaliers VS fantassins](Role3.png)\n",
    "\n",
    "5. Quelle est la catégorie de notre donnée cible ?\n",
    "\n",
    "Fantassin\n",
    "\n",
    "On choisit k = 5. Pour la distance, on décide que les valeurs du courage n'ont pas d'importance. La distance dépend donc uniquement de la force. On peut représenter graphiquement cette condition :\n",
    "\n",
    "![Chevaliers VS fantassins](Role4.png)\n",
    "\n",
    "6. Quelle est la catégorie de notre donnée cible ?\n",
    "\n",
    "Fantassin"
   ]
  },
  {
   "cell_type": "markdown",
   "metadata": {},
   "source": [
    "## Champ de bataille\n",
    "\n",
    "Sur un champ de bataille de la Première Guerre Mondiale un mémorial a été construit. Afin de réaliser une extension, des fouilles préventives ont été réalisées par l'INRAP (Institut National de Recherches Archéologiques Préventives).\n",
    "Au cours de ces fouilles, différents objets ou éléments de squelettes humains ont été trouvés. L'étude de ces découvertes a permis d'identifier la nationalité de nombreux artéfacts retrouvés : soit allemand, anglais ou français.\n",
    "Le plan ci-dessous représente la zone de fouille et la position des éléments dont l'origine a été identifiée. L'unité est le mètre.\n",
    "\n",
    "Un élément d'un squelette a été retrouvé en (10; 4). Il est représenté par un losange couleur magenta sur le plan.\n",
    "\n",
    "L'objectif est de déterminer une origine probable pour cet élément de squelette avant de le déposer dans un ossuaire.\n",
    "\n",
    "![Champ de bataille](Champ_bataille.png)\n",
    "\n",
    "La distance qui sera prise en compte est la distance dite de Tchebychev. Pour cet exercice, l'ensemble des points se trouvant à une distance r d'un point I correspond au pourtour du carré, de centre \n",
    "I, de côtés parallèles aux axes et de longueurs 2r.\n",
    "\n",
    "Sur le graphique ci-dessus, le carré dessiné :\n",
    "\n",
    "- en rouge correspond ainsi à l'ensemble des points se trouvant à 3 mètres.\n",
    "- en noir correspond ainsi à l'ensemble des points se trouvant à 1 mètre.\n",
    "\n",
    "1. A quelle valeur de k correspond le carré noir ?\n",
    "\n",
    "k = 3\n",
    "\n",
    "2. Quelle serait l'origine du squelette en considérant cette valeur de k ?\n",
    "\n",
    "Français\n",
    "\n",
    "3. On choisit k=9. Quelle serait l'origine du squelette en considérant cette valeur de k ?\n",
    "\n",
    "Anglais\n",
    "\n",
    "4. On choisit k=11. Quelle serait l'origine du squelette en considérant cette valeur de k ?\n",
    "\n",
    "Allemand\n",
    "\n",
    "5. Peut-on savoir à coup sûr, en prenant une valeur de k inférieure au égale à 11, si le combattant dont on a trouvé un squelette était un combattant de la Triple-Entente (France + Royaume-Uni + Russie) ou de la Triple-Alliance (Allemagne + Autriche-Hongrie + Italie) ? Répondre par plusieurs arguments.\n",
    "\n",
    "Non, car...\n",
    "\n",
    "- dans les conditions d'étude actuelle, si k = 7, la nationalité allemande est majoritaire.\n",
    "- si on change les données, tout peut changer :\n",
    "  - si on change le type de distance.\n",
    "  - si on change le nombre de données de référence.\n",
    "- dans tous les cas, ce n'est qu'un algorithme prédictif. En aucun cas, cet algorithme n'apporte de certitude."
   ]
  },
  {
   "cell_type": "markdown",
   "metadata": {},
   "source": [
    "## Approfondissement\n",
    "\n",
    "Ces exercices sont facultatifs. Ils sont longs à faire et ne sont à aborder qu'après avoir travaillé sur le notebook d'approfondissement 4_13A.\n",
    "\n",
    "## Les pokemons\n",
    "\n",
    "Le fichier Pokemons.csv contient environ 400 Pokemons, répartis selon 18 types.\n",
    "\n",
    "Voici un nouveau Pokemon : Hippodocus qui possède les caractéristiques suivantes :\n",
    "\n",
    "- points de vie = 108\n",
    "- attaque = 112\n",
    "- défense = 118\n",
    "- vitesse = 47\n",
    "\n",
    "\n",
    "1. Quel type pouvez-vous attribuer à ce Pokemon ?\n",
    "\n",
    "2. Varier les valeurs de k et les différents types de distances. Le résultat reste-il stable ?\n",
    "\n",
    "3. Observer la table \"pokemon\", surtout les effectifs des différents types. Pensez-vous que la table soit efficace pour entrainer une intelligence artificielle à la reconnaissance des types pokemon ?"
   ]
  },
  {
   "cell_type": "markdown",
   "metadata": {},
   "source": [
    "## Intelligence artificielle et machine learning\n",
    "\n",
    "Le machine learning est un concept utilisé en intelligence artificielle . Il s'agit d'entraîner une machine à apprendre à reconnaitre certaines formes. On utilise une base d'entraînement pour la machine. L'algorithme knn donne une méthode qui permet d'utiliser cette base d'entrainement.\n",
    "\n",
    "On vous propose une approche de reconnaissance des chiffres.\n",
    "\n",
    "L'activité suivante n'est pas un exercice à proprement parler. C'est un travail fait par des formateurs en NSI, qu'il peut être intéressant pour vous de découvrir. Je l'ai copié / collé tel quel.\n",
    "\n",
    "Peut-être cela peut-il vous donner des idées pour votre projet de fin d'année ?"
   ]
  },
  {
   "cell_type": "markdown",
   "metadata": {
    "toc": true
   },
   "source": [
    "<h1>Sommaire<span class=\"tocSkip\"></span></h1>\n",
    "<div class=\"toc\"><ul class=\"toc-item\"><li><span><a href=\"#Partie-traitement-d'images-\" data-toc-modified-id=\"Partie-traitement-d'images--1\"><span class=\"toc-item-num\">1&nbsp;&nbsp;</span>Partie traitement d'images </a></span></li><li><span><a href=\"#Définition-et-utilisation-de-la-distance\" data-toc-modified-id=\"Définition-et-utilisation-de-la-distance-2\"><span class=\"toc-item-num\">2&nbsp;&nbsp;</span>Définition et utilisation de la distance</a></span></li><li><span><a href=\"#L'algorithme-knn\" data-toc-modified-id=\"L'algorithme-knn-3\"><span class=\"toc-item-num\">3&nbsp;&nbsp;</span>L'algorithme knn</a></span></li><li><span><a href=\"#Test-avec-des-images-modifiées\" data-toc-modified-id=\"Test-avec-des-images-modifiées-4\"><span class=\"toc-item-num\">4&nbsp;&nbsp;</span>Test avec des images modifiées</a></span></li><li><span><a href=\"#Machine-learning-paroposé-par-des-formateurs-de-l'académie-de-Reims\" data-toc-modified-id=\"Machine-learning-paroposé-par-des-formateurs-de-l'académie-de-Reims-5\"><span class=\"toc-item-num\">5&nbsp;&nbsp;</span>Machine learning paroposé par des formateurs de l'académie de Reims</a></span></li></ul></div>"
   ]
  },
  {
   "cell_type": "markdown",
   "metadata": {},
   "source": [
    "# K plus proches voisins"
   ]
  },
  {
   "cell_type": "code",
   "execution_count": null,
   "metadata": {},
   "outputs": [],
   "source": [
    "import matplotlib.pyplot as plt\n",
    "import numpy as np\n",
    "from math import *\n",
    "from random import *"
   ]
  },
  {
   "cell_type": "markdown",
   "metadata": {},
   "source": [
    "<h2>Partie traitement d'images </h2>"
   ]
  },
  {
   "cell_type": "code",
   "execution_count": null,
   "metadata": {},
   "outputs": [],
   "source": [
    "def affiche(txt,tab_image):\n",
    "    \"Affiche une fenetre avec le texte et le tableau sous forme d'image\"\n",
    "    plt.figure(figsize=(15,15));\n",
    "    plt.title(\"%s \"%str(txt))\n",
    "    plt.imshow(tab_image, cmap='Greys', interpolation='None')\n",
    "    plt.show()\n",
    "\n",
    "\n",
    "def chargement(nom_fichier):\n",
    "    \"Charge le fichier csv et renvoie la liste des valeurs et la liste des images qui y sont présentes\"\n",
    "    f = open(nom_fichier, 'r')\n",
    "    a = f.readlines()\n",
    "    f.close()\n",
    "\n",
    "    liste_valeurs,liste_images=[],[]\n",
    "    for line in a:\n",
    "        linebits = line.split(',')\n",
    "        liste_valeurs.append(int(linebits[0]))\n",
    "        liste_images.append(np.asfarray(linebits[1:]).reshape((28,28))) # Transforme les nombres en une matrice 28 par 28\n",
    "\n",
    "    return liste_valeurs,liste_images\n",
    "\n",
    "\n"
   ]
  },
  {
   "cell_type": "code",
   "execution_count": null,
   "metadata": {},
   "outputs": [],
   "source": [
    "Image7=np.array([[  0.,   0.,   0.,   0.,   0.,   0.,   0.,   0.,   0.,   0.,   0.,\n",
    "          0.,   0.,   0.,   0.,   0.,   0.,   0.,   0.,   0.,   0.,   0.,\n",
    "          0.,   0.,   0.,   0.,   0.,   0.],\n",
    "       [  0.,   0.,   0.,   0.,   0.,   0.,   0.,   0.,   0.,   0.,   0.,\n",
    "          0.,   0.,   0.,   0.,   0.,   0.,   0.,   0.,   0.,   0.,   0.,\n",
    "          0.,   0.,   0.,   0.,   0.,   0.],\n",
    "       [  0.,   0.,   0.,   0.,   0.,   0.,   0.,   0.,   0.,   0.,   0.,\n",
    "          0.,   0.,   0.,   0.,   0.,   0.,   0.,   0.,   0.,   0.,   0.,\n",
    "          0.,   0.,   0.,   0.,   0.,   0.],\n",
    "       [  0.,   0.,   0.,   0.,   0.,   0.,   0.,   0.,   0.,   0.,   0.,\n",
    "          0.,   0.,   0.,   0.,   0.,   0.,   0.,   0.,   0.,   0.,   0.,\n",
    "          0.,   0.,   0.,   0.,   0.,   0.],\n",
    "       [  0.,   0.,   0.,   0.,   0.,   0.,   0.,   0.,   0.,   0.,   0.,\n",
    "          0.,   0.,   0.,   0.,   0.,   0.,   0.,   0.,   0.,   0.,   0.,\n",
    "          0.,   0.,   0.,   0.,   0.,   0.],\n",
    "       [  0.,   0.,   0.,   0.,   0.,   0.,   0.,   0.,   0.,   0.,   0.,\n",
    "          0.,   0.,   0.,   0.,   0.,   0.,   0.,   0.,   0.,   0.,   0.,\n",
    "          0.,   0.,   0.,   0.,   0.,   0.],\n",
    "       [  0.,   0.,   0.,   0.,   0.,   0.,   0.,   0.,   0.,   0.,   0.,\n",
    "          0.,   0.,   0.,   0.,   0.,   0.,   0.,   0.,   0.,   0.,   0.,\n",
    "          0.,   0.,   0.,   0.,   0.,   0.],\n",
    "       [  0.,   0.,   0.,   0.,   0.,   0.,  84., 185., 159., 151.,  60.,\n",
    "         36.,   0.,   0.,   0.,   0.,   0.,   0.,   0.,   0.,   0.,   0.,\n",
    "          0.,   0.,   0.,   0.,   0.,   0.],\n",
    "       [  0.,   0.,   0.,   0.,   0.,   0., 222., 254., 254., 254., 254.,\n",
    "        241., 198., 198., 198., 198., 198., 198., 198., 198., 170.,  52.,\n",
    "          0.,   0.,   0.,   0.,   0.,   0.],\n",
    "       [  0.,   0.,   0.,   0.,   0.,   0.,  67., 114.,  72., 114., 163.,\n",
    "        227., 254., 225., 254., 254., 254., 250., 229., 254., 254., 140.,\n",
    "          0.,   0.,   0.,   0.,   0.,   0.],\n",
    "       [  0.,   0.,   0.,   0.,   0.,   0.,   0.,   0.,   0.,   0.,   0.,\n",
    "         17.,  66.,  14.,  67.,  67.,  67.,  59.,  21., 236., 254., 106.,\n",
    "          0.,   0.,   0.,   0.,   0.,   0.],\n",
    "       [  0.,   0.,   0.,   0.,   0.,   0.,   0.,   0.,   0.,   0.,   0.,\n",
    "          0.,   0.,   0.,   0.,   0.,   0.,   0.,  83., 253., 209.,  18.,\n",
    "          0.,   0.,   0.,   0.,   0.,   0.],\n",
    "       [  0.,   0.,   0.,   0.,   0.,   0.,   0.,   0.,   0.,   0.,   0.,\n",
    "          0.,   0.,   0.,   0.,   0.,   0.,  22., 233., 255.,  83.,   0.,\n",
    "          0.,   0.,   0.,   0.,   0.,   0.],\n",
    "       [  0.,   0.,   0.,   0.,   0.,   0.,   0.,   0.,   0.,   0.,   0.,\n",
    "          0.,   0.,   0.,   0.,   0.,   0., 129., 254., 238.,  44.,   0.,\n",
    "          0.,   0.,   0.,   0.,   0.,   0.],\n",
    "       [  0.,   0.,   0.,   0.,   0.,   0.,   0.,   0.,   0.,   0.,   0.,\n",
    "          0.,   0.,   0.,   0.,   0.,  59., 249., 254.,  62.,   0.,   0.,\n",
    "          0.,   0.,   0.,   0.,   0.,   0.],\n",
    "       [  0.,   0.,   0.,   0.,   0.,   0.,   0.,   0.,   0.,   0.,   0.,\n",
    "          0.,   0.,   0.,   0.,   0., 133., 254., 187.,   5.,   0.,   0.,\n",
    "          0.,   0.,   0.,   0.,   0.,   0.],\n",
    "       [  0.,   0.,   0.,   0.,   0.,   0.,   0.,   0.,   0.,   0.,   0.,\n",
    "          0.,   0.,   0.,   0.,   9., 205., 248.,  58.,   0.,   0.,   0.,\n",
    "          0.,   0.,   0.,   0.,   0.,   0.],\n",
    "       [  0.,   0.,   0.,   0.,   0.,   0.,   0.,   0.,   0.,   0.,   0.,\n",
    "          0.,   0.,   0.,   0., 126., 254., 182.,   0.,   0.,   0.,   0.,\n",
    "          0.,   0.,   0.,   0.,   0.,   0.],\n",
    "       [  0.,   0.,   0.,   0.,   0.,   0.,   0.,   0.,   0.,   0.,   0.,\n",
    "          0.,   0.,   0.,  75., 251., 240.,  57.,   0.,   0.,   0.,   0.,\n",
    "          0.,   0.,   0.,   0.,   0.,   0.],\n",
    "       [  0.,   0.,   0.,   0.,   0.,   0.,   0.,   0.,   0.,   0.,   0.,\n",
    "          0.,   0.,  19., 221., 254., 166.,   0.,   0.,   0.,   0.,   0.,\n",
    "          0.,   0.,   0.,   0.,   0.,   0.],\n",
    "       [  0.,   0.,   0.,   0.,   0.,   0.,   0.,   0.,   0.,   0.,   0.,\n",
    "          0.,   3., 203., 254., 219.,  35.,   0.,   0.,   0.,   0.,   0.,\n",
    "          0.,   0.,   0.,   0.,   0.,   0.],\n",
    "       [  0.,   0.,   0.,   0.,   0.,   0.,   0.,   0.,   0.,   0.,   0.,\n",
    "          0.,  38., 254., 254.,  77.,   0.,   0.,   0.,   0.,   0.,   0.,\n",
    "          0.,   0.,   0.,   0.,   0.,   0.],\n",
    "       [  0.,   0.,   0.,   0.,   0.,   0.,   0.,   0.,   0.,   0.,   0.,\n",
    "         31., 224., 254., 115.,   1.,   0.,   0.,   0.,   0.,   0.,   0.,\n",
    "          0.,   0.,   0.,   0.,   0.,   0.],\n",
    "       [  0.,   0.,   0.,   0.,   0.,   0.,   0.,   0.,   0.,   0.,   0.,\n",
    "        133., 254., 254.,  52.,   0.,   0.,   0.,   0.,   0.,   0.,   0.,\n",
    "          0.,   0.,   0.,   0.,   0.,   0.],\n",
    "       [  0.,   0.,   0.,   0.,   0.,   0.,   0.,   0.,   0.,   0.,  61.,\n",
    "        242., 254., 254.,  52.,   0.,   0.,   0.,   0.,   0.,   0.,   0.,\n",
    "          0.,   0.,   0.,   0.,   0.,   0.],\n",
    "       [  0.,   0.,   0.,   0.,   0.,   0.,   0.,   0.,   0.,   0., 121.,\n",
    "        254., 254., 219.,  40.,   0.,   0.,   0.,   0.,   0.,   0.,   0.,\n",
    "          0.,   0.,   0.,   0.,   0.,   0.],\n",
    "       [  0.,   0.,   0.,   0.,   0.,   0.,   0.,   0.,   0.,   0., 121.,\n",
    "        254., 207.,  18.,   0.,   0.,   0.,   0.,   0.,   0.,   0.,   0.,\n",
    "          0.,   0.,   0.,   0.,   0.,   0.],\n",
    "       [  0.,   0.,   0.,   0.,   0.,   0.,   0.,   0.,   0.,   0.,   0.,\n",
    "          0.,   0.,   0.,   0.,   0.,   0.,   0.,   0.,   0.,   0.,   0.,\n",
    "          0.,   0.,   0.,   0.,   0.,   0.]])"
   ]
  },
  {
   "cell_type": "code",
   "execution_count": null,
   "metadata": {},
   "outputs": [],
   "source": [
    "affiche('chiffre sept',Image7)\n"
   ]
  },
  {
   "cell_type": "code",
   "execution_count": null,
   "metadata": {},
   "outputs": [],
   "source": [
    "Image7Modif=np.copy(Image7)\n",
    "\n",
    "Image7Modif[Image7Modif !=0]=255\n",
    "\n",
    "affiche('texte',Image7Modif)"
   ]
  },
  {
   "cell_type": "markdown",
   "metadata": {},
   "source": [
    "<h2>Définition et utilisation de la distance</h2>"
   ]
  },
  {
   "cell_type": "code",
   "execution_count": null,
   "metadata": {},
   "outputs": [],
   "source": [
    "def distance(img1,img2):\n",
    "    \"Renvoie la distance entre deux images\"\n",
    "    \"On calcule la moyenne des écarts entre chaque pixels\"\n",
    "    \"Cette fonction gagnera à être programmée par les élèves selon leurs propres idées\"\n",
    "    imgdiff=abs(img1-img2)  #La matrice des écarts\n",
    "    return imgdiff.mean()   #On renvoie la moyenne de ces écarts.\n"
   ]
  },
  {
   "cell_type": "code",
   "execution_count": null,
   "metadata": {},
   "outputs": [],
   "source": [
    "distance(Image7,Image7)"
   ]
  },
  {
   "cell_type": "code",
   "execution_count": null,
   "metadata": {},
   "outputs": [],
   "source": [
    "distance(Image7,Image7Modif)"
   ]
  },
  {
   "cell_type": "markdown",
   "metadata": {},
   "source": [
    "<h2>L'algorithme knn</h2>"
   ]
  },
  {
   "cell_type": "code",
   "execution_count": null,
   "metadata": {},
   "outputs": [],
   "source": [
    "\n",
    "def K_PlusProchesVoisins(mon_image,limg,lval,k=10):\n",
    "    ldistval=[] # liste de la distance et de la valeur de chacune des images de la liste limg à mon_image\n",
    "    for i in range(len(lval)):\n",
    "        ldistval.append([distance(mon_image,limg[i]),lval[i]])\n",
    "    ldistval.sort() #On trie cette liste selon les distaces\n",
    "\n",
    "    # print(ldistval) pour debug\n",
    "    \n",
    "    ListeK=[]\n",
    "    for i in range(k):\n",
    "        ListeK.append(ldistval[i][1])\n",
    "    \n",
    "    # print(ListeK) pour debug\n",
    "    \n",
    "    nb=[ListeK.count(i) for i in range(10)]\n",
    "    return nb.index(max(nb))\n",
    "\n"
   ]
  },
  {
   "cell_type": "markdown",
   "metadata": {},
   "source": [
    "<h2>Test avec des images modifiées</h2>"
   ]
  },
  {
   "cell_type": "code",
   "execution_count": null,
   "metadata": {},
   "outputs": [],
   "source": [
    "liste_valeurs,liste_images=chargement(\"mnist_test.csv\")\n",
    "\n",
    "mon_image=Image7Modif\n",
    "limg=liste_images\n",
    "lval=liste_valeurs\n",
    "\n",
    "K_PlusProchesVoisins(mon_image,limg,lval,k=27)\n"
   ]
  },
  {
   "cell_type": "code",
   "execution_count": null,
   "metadata": {},
   "outputs": [],
   "source": [
    "Erreur=np.array([np.random.randint(0, 256,28) for i in range(28)])\n",
    "K_PlusProchesVoisins(Erreur,limg,lval,k=10)"
   ]
  },
  {
   "cell_type": "code",
   "execution_count": null,
   "metadata": {},
   "outputs": [],
   "source": [
    "affiche('Image aléatoire',Erreur)"
   ]
  },
  {
   "cell_type": "code",
   "execution_count": null,
   "metadata": {},
   "outputs": [],
   "source": [
    "ImageVide=np.array([[0 for i in range(28)] for i in range(28)])\n",
    "K_PlusProchesVoisins(ImageVide,limg,lval,k=10)"
   ]
  },
  {
   "cell_type": "code",
   "execution_count": null,
   "metadata": {},
   "outputs": [],
   "source": [
    "l=np.array([0,0,0,0,0,0,0,0,0,0,0,0,1,0,0,0,0,0,0,0,0,0,0,0,0,0,0,0])\n",
    "ImageTest=np.array([l for i in range(28)])"
   ]
  },
  {
   "cell_type": "code",
   "execution_count": null,
   "metadata": {},
   "outputs": [],
   "source": [
    "affiche('Trait vertical',ImageTest)"
   ]
  },
  {
   "cell_type": "code",
   "execution_count": null,
   "metadata": {},
   "outputs": [],
   "source": [
    "K_PlusProchesVoisins(ImageTest,limg,lval,k=4)"
   ]
  },
  {
   "cell_type": "markdown",
   "metadata": {},
   "source": [
    "<h2>Machine learning paroposé par des formateurs de l'académie de Reims</h2>"
   ]
  },
  {
   "cell_type": "code",
   "execution_count": null,
   "metadata": {
    "scrolled": true
   },
   "outputs": [],
   "source": [
    "# -*- coding: utf-8 -*-\n",
    "'''\n",
    "======================\n",
    "Algorithme des plus proches voisins\n",
    "Crée par G.Valance en Python 3.4\n",
    "Formation Python Académie de Reims 2018-2019\n",
    "\n",
    "Une initiation à l'IA par la reconnaissance de caractère et l'algorithme des plus proches voisins.\n",
    "Le programme charge des fichiers de test qui doivent se trouver dans le répertoire du programme\n",
    "    Il s'agit de mnist_test.csv pour donner des exemples\n",
    "    et mnist_train_100.csv pour donner des tests à faire subir à l'algorithme. C'est dans celui-ci que l'on peut ajouter ses propres dessins de chiffres.\n",
    "On peut trouver ses fichiers sur : http://makeyourownneuralnetwork.blogspot.com/2015/03/the-mnist-dataset-of-handwitten-digits.html\n",
    "\n",
    "On s'est limité à la reconnaissace de deux chiffres seulement mais on pourra étendre l'algorithme aux dix chiffres sans trop de difficultés\n",
    "\n",
    "A Aller voir :\n",
    "    https://openclassrooms.com/fr/courses/4011851-initiez-vous-au-machine-learning/4022441-tp-entrainez-le-modele-des-k-plus-proches-voisins-k-nn\n",
    "    https://pjreddie.com/projects/mnist-in-csv/\n",
    "    Pour le faire en réseau neuronale : https://cntk.ai/pythondocs/CNTK_103B_MNIST_LogisticRegression.html\n",
    "\n",
    "\n",
    "A faire : injecter des faux exemples afin de voir à partir de quand l'algorithme flanche\n",
    "====================\n",
    "'''\n",
    "\n",
    "import matplotlib.pyplot as plt\n",
    "import numpy as np\n",
    "from math import *\n",
    "from random import *\n",
    "\n",
    "\n",
    "def affiche(txt,tab_image):\n",
    "    \"Affiche une fenetre avec le texte et le tableau sous forme d'image\"\n",
    "    plt.figure(figsize=(15,15));\n",
    "    plt.title(\"%s \"%str(txt))\n",
    "    plt.imshow(tab_image, cmap='Greys', interpolation='None')\n",
    "    plt.show()\n",
    "\n",
    "def Affiche_listes(ltxt,ltab_image,titre=\"\"):\n",
    "    \"Affiche une fenetre avec les premiers éléments des listes textes et image\"\n",
    "    plt.figure(figsize=(15,15));\n",
    "    plt.suptitle(titre, fontsize=16)\n",
    "    for i in range(min(25,len(ltxt))):\n",
    "        ax=plt.subplot(5,5,i+1)\n",
    "        plt.subplots_adjust(hspace=0.5)\n",
    "        ax.set_xticklabels([])\n",
    "        ax.set_yticklabels([]) #Pour enlever les labels des axes https://www.science-emergence.com/Articles/Supprimer-les-labels-des-axes-sous-matplotlib/\n",
    "        ax.xaxis.set_visible(False) #http://www.python-simple.com/python-matplotlib/configuration-axes.php\n",
    "        ax.yaxis.set_visible(False)\n",
    "        plt.title(str(ltxt[i])) #Le str est là pour convertir si jamais les txt étaient des nombres\n",
    "        plt.imshow(ltab_image[i], cmap='Greys', interpolation='None')\n",
    "\n",
    "    plt.show()\n",
    "\n",
    "def chargement(nom_fichier):\n",
    "    \"Charge le fichier csv et renvoie la liste des valeurs et la liste des images qui y sont présentes\"\n",
    "    f = open(nom_fichier, 'r')\n",
    "    a = f.readlines()\n",
    "    f.close()\n",
    "\n",
    "    liste_valeurs,liste_images=[],[]\n",
    "    for line in a:\n",
    "        linebits = line.split(',')\n",
    "        liste_valeurs.append(int(linebits[0]))\n",
    "        liste_images.append(np.asfarray(linebits[1:]).reshape((28,28)))\n",
    "\n",
    "    return liste_valeurs,liste_images\n",
    "\n",
    "def liste_extraites(lval,limg,val1=0,val2=1):\n",
    "    \"renvoie la liste des valeurs et la liste des images correspondant aux seules valeurs val1 et val2\"\n",
    "    lvalr,limgr=[],[]\n",
    "    for k in range(len(lval)):\n",
    "        if lval[k]==val1 or lval[k]==val2:\n",
    "            lvalr.append(lval[k])\n",
    "            limgr.append(limg[k])\n",
    "    return lvalr,limgr\n",
    "\n",
    "def valeur_par_kplusprochesvoisins(mon_image,lval,limg,k=10,val1=0,val2=1,mode_debug=False):\n",
    "    \"Renvoie une valeur estimée du chiffre représentée par mon_image à partir des exemples des listes d'images et de valeurs lval et limg \"\n",
    "    \"Cela en appliquant l'algorithme des k plus proches voisins\"\n",
    "    \"Le mode_debug permet de faire des tests de retour par la console\"\n",
    "\n",
    "    ldistval=[] # liste de la distance et de la valeur de chacune des images de la liste limg à mon_image\n",
    "    for i in range(len(lval)):\n",
    "        ldistval.append([distance(mon_image,limg[i]),lval[i]])\n",
    "    ldistval.sort() #On trie cette liste selon les distaces\n",
    "\n",
    "    nb1,nb2=0,0 # Nb d'estmations de val1 ou val2\n",
    "    for i in range(k): #Pour les k plus proches voisins\n",
    "        if ldistval[i][1]==val1 : nb1=nb1+1 #On compte le nombre de fois où val1 se trouve dans les k plus proches voisins\n",
    "        if ldistval[i][1]==val2 : nb2=nb2+1\n",
    "\n",
    "    if mode_debug:\n",
    "        print(\"Parmis les %d plus proches voisins de mon_image il y a %d chiffres %d et  %d chiffres %d\"%(k,nb1,val1,nb2,val2))\n",
    "\n",
    "    if nb1>nb2: return val1\n",
    "    else: return val2\n",
    "\n",
    "def distance(img1,img2):\n",
    "    \"Renvoie la distance entre deux images\"\n",
    "    \"On calcule la moyenne des écarts entre chaque pixels\"\n",
    "    \"Cette fonction gagnera à être programmée par les élèves selon leurs propres idées\"\n",
    "    imgdiff=abs(img1-img2)  #La matrice des écarts\n",
    "    return imgdiff.mean()   #On renvoie la moyenne de ces écarts.\n",
    "\n",
    "def demo(v1=0,v2=1):\n",
    "    \"Fais une démo de l'algorithme avec la reconnaissance des seuls chiffres v1 et v2\"\n",
    "    print(\"Chargement de tous les exemples d'apprentissages\")\n",
    "    lv,li=chargement(\"mnist_test.csv\")   #lv et li sont des listes portant sur 10 chiffres\n",
    "    lval,limage=liste_extraites(lv,li,v1,v2)       #lval et limage sont des listes ne portant que sur deux chiffres\n",
    "    Affiche_listes(lval,limage,\"Nombre de données d'apprentissage :%d\"%len(lval))\n",
    "    #affiche(lval[0],limage[0])\n",
    "\n",
    "    print(\"Chargement des données pour les tests\")\n",
    "    lv,li=chargement(\"mnist_train_100.csv\")\n",
    "    lvalessai,limessai=liste_extraites(lv,li,v1,v2)\n",
    "    #print(\"Nombre de données à tester :%d\"%len(lvalessai))\n",
    "    #affiche(lvalessai[0],limessai[0])\n",
    "\n",
    "    nb_bonnes_reponses=0\n",
    "    lval_reponse,ltxt_reponse=[],[]\n",
    "    for i in range(0,len(lvalessai)):\n",
    "\n",
    "        lval_reponse.append(valeur_par_kplusprochesvoisins(limessai[i],lval,limage,k=10,val1=v1,val2=v2,mode_debug=True))\n",
    "\n",
    "        if lvalessai[i]==lval_reponse[i] :\n",
    "            ltxt_reponse.append(\"Résussi\")\n",
    "            nb_bonnes_reponses=nb_bonnes_reponses+1\n",
    "        else :ltxt_reponse.append(\"Echec:%d\"%lval_reponse[i])\n",
    "\n",
    "    Affiche_listes(lval_reponse,limessai,\"Les essais de reconnaissances avec leurs valeurs trouvées : %1.0f %% de réussite\"%(100.0*nb_bonnes_reponses/len(lval_reponse)))\n",
    "\n",
    "demo(0,8) # Reconnaissance des 0 et 8"
   ]
  },
  {
   "cell_type": "markdown",
   "metadata": {},
   "source": [
    "---\n",
    "[![Licence CC BY NC SA](https://licensebuttons.net/l/by-nc-sa/3.0/88x31.png \"licence Creative Commons CC BY-NC-SA\")](http://creativecommons.org/licenses/by-nc-sa/3.0/fr/)\n",
    "<p style=\"text-align: center;\">Auteur : David Landry, Lycée Clemenceau - Nantes</p>\n",
    "<p style=\"text-align: center;\">D'après des documents partagés par...</p>\n",
    "<p style=\"text-align: center;\"><a  href=http://www.monlyceenumerique.fr/index_nsi.html#premiere>JC. Gérard, T. Lourdet, J. Monteillet, P. Thérèse, sur le site monlyceenumerique.fr</a></p>"
   ]
  }
 ],
 "metadata": {
  "kernelspec": {
   "display_name": "Python 3",
   "language": "python",
   "name": "python3"
  },
  "language_info": {
   "codemirror_mode": {
    "name": "ipython",
    "version": 3
   },
   "file_extension": ".py",
   "mimetype": "text/x-python",
   "name": "python",
   "nbconvert_exporter": "python",
   "pygments_lexer": "ipython3",
   "version": "3.8.3"
  }
 },
 "nbformat": 4,
 "nbformat_minor": 2
}
