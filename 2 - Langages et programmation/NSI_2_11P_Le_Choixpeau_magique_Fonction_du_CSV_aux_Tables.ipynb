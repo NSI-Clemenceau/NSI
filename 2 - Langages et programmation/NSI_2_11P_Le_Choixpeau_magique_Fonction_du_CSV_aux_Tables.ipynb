{
 "cells": [
  {
   "cell_type": "markdown",
   "metadata": {},
   "source": [
    "# Le Choixpeau magique\n",
    "\n",
    "## Du CSV vers une table\n",
    "\n",
    "Dans un précedent notebook consacré au \"Choixpeau magique\", nous avons __importé le contenu d'un fichier CSV dans une table structurée comme un tableau de dictionnaires__.\n",
    "\n",
    "On rappelle, ci-dessous, le résultat, appliqué au fichier \"Houses.csv\" : "
   ]
  },
  {
   "cell_type": "code",
   "execution_count": null,
   "metadata": {},
   "outputs": [],
   "source": [
    "houses_tab = [{'House': 'Gryffindor', 'Courage': '9', 'Ambition': '6', 'Intelligence': '5', 'Good': '9'},\n",
    " {'House': 'Ravenclaw', 'Courage': '7', 'Ambition': '5', 'Intelligence': '9', 'Good': '8'},\n",
    " {'House': 'Slytherin', 'Courage': '5', 'Ambition': '9', 'Intelligence': '7', 'Good': '2'},\n",
    " {'House': 'Hufflepuff', 'Courage': '8', 'Ambition': '4', 'Intelligence': '7', 'Good': '9'}]"
   ]
  },
  {
   "cell_type": "markdown",
   "metadata": {},
   "source": [
    "Histoire de se rafraîchir la mémoire, extraire puis afficher :\n",
    "\n",
    "- la valeur de courage des Griffindor\n",
    "- la valeur d'ambition des Ravenclaw\n",
    "- la valeur de \"tendance au bien\" des Slytherin"
   ]
  },
  {
   "cell_type": "code",
   "execution_count": null,
   "metadata": {},
   "outputs": [],
   "source": []
  },
  {
   "cell_type": "markdown",
   "metadata": {},
   "source": [
    "On constate que la dernière difficulté consiste à trouver le bon enregistrement (dictionnaire), celui de la bonne Maison, mais qu'ensuite il est trivial d'en extraire la valeur voulue, grâce à sa clé."
   ]
  },
  {
   "cell_type": "markdown",
   "metadata": {},
   "source": [
    "> __Commentaires :__"
   ]
  },
  {
   "cell_type": "markdown",
   "metadata": {},
   "source": [
    "## Une fonction pour structurer le projet\n",
    "\n",
    "__Notre projet nécessitera répéter l'import de fichiers CSV, nous allons donc créer une fonction__ pour rendre plus lisible notre code et éviter les copier / coller à inutiles.\n",
    "\n",
    "Coder une fonction `csv_to_table(csv_file)` qui renvoie une table  structurée comme un tableau de dictionnaires lorsque qu'on lui passe en paramètre un fichier CSV bien organisé."
   ]
  },
  {
   "cell_type": "code",
   "execution_count": null,
   "metadata": {
    "scrolled": false
   },
   "outputs": [],
   "source": []
  },
  {
   "cell_type": "markdown",
   "metadata": {},
   "source": [
    "## Test de la fonction `csv_to_table(csv_file)`\n",
    "\n",
    "Tester votre fonction sur le fichier \"Houses.csv\" puis sur \"Characters.csv\"."
   ]
  },
  {
   "cell_type": "code",
   "execution_count": null,
   "metadata": {},
   "outputs": [],
   "source": [
    "print(csv_to_table('Houses.csv'))"
   ]
  },
  {
   "cell_type": "code",
   "execution_count": null,
   "metadata": {},
   "outputs": [],
   "source": [
    "characters_tab = csv_to_table('Characters.csv')\n",
    "print(characters_tab)"
   ]
  },
  {
   "cell_type": "markdown",
   "metadata": {},
   "source": [
    "Notre fonction `csv_to_table(csv_file)` est-elle adaptée à ce nouveau fichier ?\n",
    "\n",
    "__Conclusion :__"
   ]
  },
  {
   "cell_type": "markdown",
   "metadata": {},
   "source": [
    "---\n",
    "[![Licence CC BY NC SA](https://licensebuttons.net/l/by-nc-sa/3.0/88x31.png \"licence Creative Commons CC BY-NC-SA\")](http://creativecommons.org/licenses/by-nc-sa/3.0/fr/)\n",
    "<p style=\"text-align: center;\">Auteur :</p>\n",
    "<p style=\"text-align: center;\">David Landry, Lycée Clemenceau - Nantes</p>"
   ]
  }
 ],
 "metadata": {
  "kernelspec": {
   "display_name": "Python 3",
   "language": "python",
   "name": "python3"
  },
  "language_info": {
   "codemirror_mode": {
    "name": "ipython",
    "version": 3
   },
   "file_extension": ".py",
   "mimetype": "text/x-python",
   "name": "python",
   "nbconvert_exporter": "python",
   "pygments_lexer": "ipython3",
   "version": "3.8.3"
  }
 },
 "nbformat": 4,
 "nbformat_minor": 2
}
