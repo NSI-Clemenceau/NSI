{
 "cells": [
  {
   "cell_type": "markdown",
   "metadata": {},
   "source": [
    "# Exercices sur les fonctions"
   ]
  },
  {
   "cell_type": "markdown",
   "metadata": {},
   "source": [
    "## Un exo moyen pour commencer\n",
    "\n",
    "Écrire une fonction nommée `get_moyenne()` qui renvoie la moyenne de cinq nombres quelconques passés en arguments."
   ]
  },
  {
   "cell_type": "code",
   "execution_count": null,
   "metadata": {},
   "outputs": [],
   "source": [
    "def get_moyenne(nb1, nb2, nb3, nb4, nb5):\n",
    "    return (nb1 + nb2 + nb3 + nb4 + nb5) / 5\n",
    "\n",
    "get_moyenne(1, 2, 3, 4, 5)"
   ]
  },
  {
   "cell_type": "markdown",
   "metadata": {},
   "source": [
    "## Convertisseur de durée\n",
    "\n",
    "On veut pouvoir convertir une durée en heures en une spéficiant le nombre de jours et le nombre d'heures correspondant. Pour cela, il suffit de créer une fonction.\n",
    "\n",
    "Définir une fonction `convertir_jour()` qui prend comme paramètre un entier `duree_heure` et renvoie un tuple formé des deux valeurs `nb_jours` et `nb_heures`.\n",
    "\n",
    "Appeler cette fonction afin de convertir en nombres de jours 260 heures."
   ]
  },
  {
   "cell_type": "code",
   "execution_count": null,
   "metadata": {},
   "outputs": [],
   "source": [
    "def convertir_jour(duree_heure):\n",
    "    nb_jours = duree_heure // 24\n",
    "    nb_heures = duree_heure % 24\n",
    "    return (nb_jours, nb_heures)\n",
    "\n",
    "nombre_heures = 260\n",
    "conversion = convertir_jour(nombre_heures)\n",
    "print(f\"{nombre_heures} heures est équivalent à {conversion[0]} jours et {conversion[1]} heures\")"
   ]
  },
  {
   "cell_type": "markdown",
   "metadata": {},
   "source": [
    "## TTC\n",
    "\n",
    "Voici ci-dessous une fonction qui donne le prix TTC connaissant le prix Hors Taxe pour une TVA à t %.\n",
    "\n",
    "Améliorer le code suivant :\n",
    "- appliquer les __bonnes pratiques__ de la PEP8\n",
    "- __documenter__ cette fonction"
   ]
  },
  {
   "cell_type": "code",
   "execution_count": null,
   "metadata": {},
   "outputs": [],
   "source": [
    "def TTC(prix_ht, taxe):\n",
    "    \"\"\"\n",
    "    Calcule un prix TTC à partir de son prix HT et de la valeur de la taxe\n",
    "    \n",
    "    Entrées : prix_ht (flottant) est le prix hors taxe\n",
    "              taxe (flottant) est la pourcentage de taxe à appliquer\n",
    "              \n",
    "    Sortie : (flottant) est le prix TTC\n",
    "    \"\"\"\n",
    "    prix_ttc = prix_ht * (1 + taxe / 100)\n",
    "    return prix_ttc"
   ]
  },
  {
   "cell_type": "markdown",
   "metadata": {},
   "source": [
    "## Le bon script\n",
    "\n",
    "Parmi les scripts suivants, le(s)quel(s) peuvent correspondre à l'utilisation de la fonction inverse pour calculer l'image de 4 :"
   ]
  },
  {
   "cell_type": "code",
   "execution_count": null,
   "metadata": {},
   "outputs": [],
   "source": [
    "# script 1 :\n",
    "x = 4\n",
    "def fct1(x):\n",
    "\tx = 1 / x\n",
    "\treturn x\n",
    "\n",
    "# script 4 :\n",
    "x = 4\n",
    "def fct4():\n",
    "\tglobal x\n",
    "\tx = 1 / x\n",
    "\treturn x\n",
    "\n",
    "# MAIS LE SCRIPT 4 EST A PROSCRIRE CAR IL UTILISE UNE VARIABLE GLOBALE"
   ]
  },
  {
   "cell_type": "markdown",
   "metadata": {},
   "source": [
    "## Vous avez un appel\n",
    "\n",
    "1. Écrire une fonction `saisir_num_tel()` qui ne prend pas de paramètre mais renvoie le numéro de téléphone saisi par l'utilisateur comme chaîne de caractères.\n",
    "\n",
    "2. Est-ce une fonction ou une procédure ? Pourquoi ?\n",
    "  - Puisqu'il renvoit quelque chose, c'est une fonction.\n",
    "\n",
    "3. Écrire une fonction nommée `prevenir_message()` ayant comme paramètre un numéro de téléphone qui affiche \"Vous allez recevoir un message de confimation au ..........\" où apparaît le numéro de téléphone saisi.\n",
    "\n",
    "Exemple : `prevenir_message(0665432100)` affiche `\"Vous allez recevoir un message de confimation au 0665432100.\"`.\n",
    "\n",
    "4. Est-ce une fonction ou une procédure ? Pourquoi ?\n",
    "  - C'est une procédure car elle ne renvoit rien (pas de `return`)\n",
    "\n",
    "5. Intégrer ces deux fonctions pour faire apparaître un programme qui :\n",
    "  - demande à l'utilisateur son numéro de téléphone.\n",
    "  - affiche un message selon lequel un message de confirmation va être envoyé au numéro de la personne."
   ]
  },
  {
   "cell_type": "code",
   "execution_count": null,
   "metadata": {},
   "outputs": [],
   "source": [
    "def saisir_num_tel():\n",
    "    return input(\"Saisir un numéro de téléphone : \")\n",
    "\n",
    "def prevenir_message(telephone):\n",
    "    print(f\"Vous allez recevoir un message de confimation au {telephone}\")\n",
    "\n",
    "prevenir_message(saisir_num_tel())"
   ]
  },
  {
   "cell_type": "markdown",
   "metadata": {},
   "source": [
    "# Questions issues de la Banque Nationale de Sujets\n",
    "\n",
    "Propriétaire des ressources ci-dessous : Ministère de l'Éducation Nationale et de la jeunesse, licence CC BY SA NC\n",
    "\n",
    "Voici une sélection de questions issues de la banque nationale de sujets, répondez à ces questions (attention, cette sélection n'est pas exhaustive)."
   ]
  },
  {
   "cell_type": "markdown",
   "metadata": {},
   "source": [
    "## On définit deux fonctions :\n",
    "\n",
    "```python\n",
    "def f(x):\n",
    "    y = 2*x + 1\n",
    "    return y\n",
    "\n",
    "def calcul(x):\n",
    "    y = x - 1\n",
    "    return f(y)\n",
    "```\n",
    "\n",
    "__Quelle est la valeur renvoyée par l'appel calcul(5) ?__\n",
    "\n",
    "Réponse :\n",
    "\n",
    "B- 9"
   ]
  },
  {
   "cell_type": "markdown",
   "metadata": {},
   "source": [
    "## On exécute le code suivant\n",
    "\n",
    "```python\n",
    "a = 2\n",
    "b = 3\n",
    "c = a ** b\n",
    "d = c % b\n",
    "```\n",
    "\n",
    "__Quelle est la valeur de d à la fin de l'exécution ?__\n",
    "\n",
    "Réponse :\n",
    "\n",
    "B- 2"
   ]
  },
  {
   "cell_type": "markdown",
   "metadata": {},
   "source": [
    "## On définit `L = [2, 3, 5, 7, -4]`\n",
    "\n",
    "__En demandant la valeur de `L[5]`, qu'obtient-on ?__\n",
    "\n",
    "Réponse :\n",
    "\n",
    "D- une erreur"
   ]
  },
  {
   "cell_type": "markdown",
   "metadata": {},
   "source": [
    "## On définit `L = [4,25,10,9,7,13]`\n",
    "\n",
    "__Quelle est la valeur de `L[2]` ?__\n",
    "\n",
    "Réponse :\n",
    "\n",
    "C- 10"
   ]
  },
  {
   "cell_type": "markdown",
   "metadata": {},
   "source": [
    "## En Python, quelle est la méthode pour charger la fonction `sqrt` du module ̀`math` ?\n",
    "\n",
    "Réponse :\n",
    "\n",
    "D- `from math import sqrt`"
   ]
  },
  {
   "cell_type": "markdown",
   "metadata": {},
   "source": [
    "## On exécute le script suivant :\n",
    "\n",
    "```python\n",
    "def calcul(a,b):\n",
    "    a = a + 2\n",
    "    b = b + 5\n",
    "    c = a + b\n",
    "    return c\n",
    "\n",
    "a,b = 3,5\n",
    "calcul(a,b)\n",
    "```\n",
    "\n",
    "__À la fin de cette exécution :__\n",
    "\n",
    "Réponse :\n",
    "\n",
    "C- a vaut 5, b vaut 10 et c vaut 15"
   ]
  },
  {
   "cell_type": "markdown",
   "metadata": {},
   "source": [
    "## On exécute le script suivant :\n",
    "\n",
    "```python\n",
    "def essai():\n",
    "    a = 2\n",
    "    b = 3\n",
    "    c = 4\n",
    "    return a\n",
    "    return b\n",
    "    return c\n",
    "\n",
    "t = essai()\n",
    "```\n",
    "\n",
    "__Quelle est la valeur de t après l'exécution de ce code ?__\n",
    "\n",
    "Réponse :\n",
    "\n",
    "A- 2"
   ]
  },
  {
   "cell_type": "markdown",
   "metadata": {},
   "source": [
    "## La fonction suivante calcule la racine carrée du double d’un nombre flottant :\n",
    "\n",
    "```python\n",
    "from math import sqrt\n",
    "def racine_du_double(x):\n",
    "    return sqrt(2*x)\n",
    "```\n",
    "\n",
    "__Quelle est la précondition sur l'argument de cette fonction ?__\n",
    "\n",
    "Réponse :\n",
    "\n",
    "B- `x >= 0`"
   ]
  },
  {
   "cell_type": "markdown",
   "metadata": {},
   "source": [
    "---\n",
    "[![Licence CC BY NC SA](https://licensebuttons.net/l/by-nc-sa/3.0/88x31.png \"licence Creative Commons CC BY-NC-SA\")](http://creativecommons.org/licenses/by-nc-sa/3.0/fr/)\n",
    "<p style=\"text-align: center;\">Auteur : David Landry, Lycée Clemenceau - Nantes</p>\n",
    "<p style=\"text-align: center;\">D'après des documents partagés par...</p>\n",
    "<p style=\"text-align: center;\"><a  href=http://www.monlyceenumerique.fr/index_nsi.html#premiere>Jean-Christophe Gérard, Thomas Lourdet, Johan Monteillet, Pascal Thérèse</a></p>"
   ]
  }
 ],
 "metadata": {
  "kernelspec": {
   "display_name": "Python 3",
   "language": "python",
   "name": "python3"
  },
  "language_info": {
   "codemirror_mode": {
    "name": "ipython",
    "version": 3
   },
   "file_extension": ".py",
   "mimetype": "text/x-python",
   "name": "python",
   "nbconvert_exporter": "python",
   "pygments_lexer": "ipython3",
   "version": "3.8.3"
  }
 },
 "nbformat": 4,
 "nbformat_minor": 2
}
