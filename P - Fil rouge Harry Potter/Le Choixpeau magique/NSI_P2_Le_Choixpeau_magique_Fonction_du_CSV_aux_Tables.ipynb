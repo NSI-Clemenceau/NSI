{
 "cells": [
  {
   "cell_type": "markdown",
   "metadata": {},
   "source": [
    "# Le Choixpeau magique\n",
    "\n",
    "## Du CSV vers une table\n",
    "\n",
    "Dans un précedent notebook consacré au \"Choixpeau magique\", nous avons __importé le contenu d'un fichier CSV dans une table structurée comme un tableau de dictionnaires__.\n",
    "\n",
    "On rappelle, ci-dessous, le résultat, appliqué au fichier \"Houses.csv\" : "
   ]
  },
  {
   "cell_type": "code",
   "execution_count": null,
   "metadata": {},
   "outputs": [],
   "source": [
    "houses_tab = [{'House': 'Gryffindor', 'Courage': '9', 'Ambition': '6', 'Intelligence': '5', 'Good': '9'},\n",
    " {'House': 'Ravenclaw', 'Courage': '7', 'Ambition': '5', 'Intelligence': '9', 'Good': '8'},\n",
    " {'House': 'Slytherin', 'Courage': '5', 'Ambition': '9', 'Intelligence': '7', 'Good': '2'},\n",
    " {'House': 'Hufflepuff', 'Courage': '8', 'Ambition': '4', 'Intelligence': '7', 'Good': '9'}]"
   ]
  },
  {
   "cell_type": "markdown",
   "metadata": {},
   "source": [
    "Histoire de se rafraîchir la mémoire, extraire puis afficher :\n",
    "\n",
    "- la valeur de courage des Griffindor\n",
    "- la valeur d'ambition des Ravenclaw\n",
    "- la valeur de \"tendance au bien\" des Slytherin"
   ]
  },
  {
   "cell_type": "code",
   "execution_count": null,
   "metadata": {},
   "outputs": [],
   "source": []
  },
  {
   "cell_type": "markdown",
   "metadata": {},
   "source": [
    "On constate que la dernière difficulté consiste à trouver le bon enregistrement (dictionnaire), celui de la bonne Maison, mais qu'ensuite il est trivial d'en extraire la valeur voulue, grâce à sa clé."
   ]
  },
  {
   "cell_type": "markdown",
   "metadata": {},
   "source": [
    "> __Commentaires :__"
   ]
  },
  {
   "cell_type": "markdown",
   "metadata": {},
   "source": [
    "## Une fonction pour structurer le projet\n",
    "\n",
    "__Notre projet nécessitera répéter l'import de fichiers CSV, nous allons donc créer une fonction__ pour rendre plus lisible notre code et éviter les copier / coller à inutiles.\n",
    "\n",
    "Coder une fonction `csv_to_table(csv_file)` qui renvoie une table  structurée comme un tableau de dictionnaires lorsque qu'on lui passe en paramètre un fichier CSV bien organisé."
   ]
  },
  {
   "cell_type": "code",
   "execution_count": null,
   "metadata": {
    "scrolled": false
   },
   "outputs": [],
   "source": []
  },
  {
   "cell_type": "markdown",
   "metadata": {},
   "source": [
    "## Test de la fonction `csv_to_table(csv_file)`\n",
    "\n",
    "Tester votre fonction sur le fichier \"Houses.csv\" puis sur \"Characters.csv\"."
   ]
  },
  {
   "cell_type": "code",
   "execution_count": null,
   "metadata": {},
   "outputs": [],
   "source": [
    "print(csv_to_table('Houses.csv'))"
   ]
  },
  {
   "cell_type": "code",
   "execution_count": null,
   "metadata": {},
   "outputs": [],
   "source": [
    "characters_tab = csv_to_table('Characters.csv')\n",
    "print(characters_tab)"
   ]
  },
  {
   "cell_type": "markdown",
   "metadata": {},
   "source": [
    "## Création d'un table réduite\n",
    "\n",
    "Notre choixpeau magique n'aura pas besoin de toutes les caractéristiques des personnages pour faire son choix. Seules les __descripteurs `'Courage', 'Ambition', 'Intelligence' et 'Good'`__ lui seront utile.\n",
    "\n",
    "Nous allons donc __créer une nouvelle table, plus petite__ qui permettra à notre programme de tourner un peu plus vite au moment voulu.\n",
    "\n",
    "Pour faire le lien entre un personnage et ses caractéristiques, nous ne garderons pas le nom du personnage mais uniquement son identificateur `'Id'`.\n",
    "\n",
    "Les quatres caractéristiques du personnage seront stockées sous la forme d'une clé `Characteristics'` et d'une valeur de type `tuple ('Courage', 'Ambition', 'Intelligence' et 'Good')`.\n",
    "\n",
    "Le tableau réduit devra donc être de la forme :\n",
    "\n",
    "```python\n",
    "[{'Id': '1', 'Characteristics': (9, 4, 5, 9)},\n",
    " {'Id': '2', 'Characteristics': (8, 6, 5, 9)},\n",
    " {'Id': '3', 'Characteristics': (9, 6, 9, 9)},\n",
    " ...\n",
    " {'Id': '95', 'Characteristics': (8, 4, 9, 9)}]\n",
    "```\n",
    "\n",
    "> __Remarque :__ cette fonction en profite pour changer le type des valeurs de caractéristiques, de `str` ver `int`. L'`Id` reste de type `str`.\n",
    "\n",
    "__Coder une fonction `reduce_characters_table_for_distance(tab)` qui renvoie une table réduite__ lorsqu'on lui entre en paramètre une table complète des personnages et de leurs caractéristiques.\n",
    "\n",
    "> __Remarque :__ nous verrons ultérieurement pourquoi ce choix de nom de fonction, en particulier sur la notion de distance, essentielle dans la suite de notre projet."
   ]
  },
  {
   "cell_type": "code",
   "execution_count": null,
   "metadata": {},
   "outputs": [],
   "source": []
  },
  {
   "cell_type": "code",
   "execution_count": null,
   "metadata": {},
   "outputs": [],
   "source": [
    "id_tab = reduce_characters_table_for_distance(characters_table)\n",
    "print(id_tab)"
   ]
  },
  {
   "cell_type": "markdown",
   "metadata": {},
   "source": [
    "## Extraire de l'information de nos tables\n",
    "\n",
    "A partir de votre tableau réduit, __extraire puis afficher les caractéristiques de l'Id 35__."
   ]
  },
  {
   "cell_type": "code",
   "execution_count": null,
   "metadata": {},
   "outputs": [],
   "source": []
  },
  {
   "cell_type": "markdown",
   "metadata": {},
   "source": [
    "> __Commentaires :__"
   ]
  },
  {
   "cell_type": "markdown",
   "metadata": {},
   "source": [
    "A partir de vos tableaux, __extraire puis afficher le nom et les caractéristiques de l'Id 35__."
   ]
  },
  {
   "cell_type": "code",
   "execution_count": null,
   "metadata": {},
   "outputs": [],
   "source": []
  },
  {
   "cell_type": "markdown",
   "metadata": {},
   "source": [
    "> __Commentaires :__"
   ]
  },
  {
   "cell_type": "markdown",
   "metadata": {},
   "source": [
    "## Extraire les caractéristiques à partir d'un nom\n",
    "\n",
    "A partir de vos tableaux, __extraire puis afficher les caractéristiques de Rubeus Hagrid__."
   ]
  },
  {
   "cell_type": "code",
   "execution_count": null,
   "metadata": {},
   "outputs": [],
   "source": []
  },
  {
   "cell_type": "markdown",
   "metadata": {},
   "source": [
    "> __Commentaires :__"
   ]
  },
  {
   "cell_type": "markdown",
   "metadata": {},
   "source": [
    "__Conclusion :__"
   ]
  },
  {
   "cell_type": "markdown",
   "metadata": {},
   "source": [
    "---\n",
    "[![Licence CC BY NC SA](https://licensebuttons.net/l/by-nc-sa/3.0/88x31.png \"licence Creative Commons CC BY-NC-SA\")](http://creativecommons.org/licenses/by-nc-sa/3.0/fr/)\n",
    "<p style=\"text-align: center;\">Auteur :</p>\n",
    "<p style=\"text-align: center;\">David Landry, Lycée Clemenceau - Nantes</p>"
   ]
  }
 ],
 "metadata": {
  "kernelspec": {
   "display_name": "Python 3",
   "language": "python",
   "name": "python3"
  },
  "language_info": {
   "codemirror_mode": {
    "name": "ipython",
    "version": 3
   },
   "file_extension": ".py",
   "mimetype": "text/x-python",
   "name": "python",
   "nbconvert_exporter": "python",
   "pygments_lexer": "ipython3",
   "version": "3.8.3"
  }
 },
 "nbformat": 4,
 "nbformat_minor": 2
}
