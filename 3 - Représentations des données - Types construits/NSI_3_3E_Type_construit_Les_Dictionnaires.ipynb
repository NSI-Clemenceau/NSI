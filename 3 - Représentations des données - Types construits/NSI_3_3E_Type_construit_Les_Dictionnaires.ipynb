{
 "cells": [
  {
   "cell_type": "markdown",
   "metadata": {},
   "source": [
    "## Exercices sur dictionnaires"
   ]
  },
  {
   "cell_type": "markdown",
   "metadata": {},
   "source": [
    "### Table ASCII\n",
    "\n",
    "__Utiliser la fonction [`chr()`](https://www.w3schools.com/python/ref_func_chr.asp) pour créer un dictionnaire donnant la correspondance entre le code décimal et un caractère ASCII__. \n",
    "\n",
    "On rappelle que la table ASCII code sur un octet mais que seulement les 7 premiers bits sont utilisés. Il ne sera donc nécessaire de trouver les caractères des codes compris entre 0 et 127.\n",
    "\n",
    "Vous devez obtenir le dictionnaire sous cette forme :\n",
    "\n",
    "```python\n",
    "{0: '\\x00', 1: '\\x01', 2: '\\x02', 3: '\\x03', 4: '\\x04', 5: '\\x05', 6: '\\x06', 7: '\\x07', 8: '\\x08', 9: '\\t', 10: '\\n', 11: '\\x0b', 12: '\\x0c', 13: '\\r', 14: '\\x0e', 15: '\\x0f', 16: '\\x10', 17: '\\x11', 18: '\\x12', 19: '\\x13', 20: '\\x14', 21: '\\x15', 22: '\\x16', 23: '\\x17', 24: '\\x18', 25: '\\x19', 26: '\\x1a', 27: '\\x1b', 28: '\\x1c', 29: '\\x1d', 30: '\\x1e', 31: '\\x1f', 32: ' ', 33: '!', 34: '\"', 35: '#', 36: '$', 37: '%', 38: '&', 39: \"'\", 40: '(', 41: ')', 42: '*', 43: '+', 44: ',', 45: '-', 46: '.', 47: '/', 48: '0', 49: '1', 50: '2', 51: '3', 52: '4', 53: '5', 54: '6', 55: '7', 56: '8', 57: '9', 58: ':', 59: ';', 60: '<', 61: '=', 62: '>', 63: '?', 64: '@', 65: 'A', 66: 'B', 67: 'C', 68: 'D', 69: 'E', 70: 'F', 71: 'G', 72: 'H', 73: 'I', 74: 'J', 75: 'K', 76: 'L', 77: 'M', 78: 'N', 79: 'O', 80: 'P', 81: 'Q', 82: 'R', 83: 'S', 84: 'T', 85: 'U', 86: 'V', 87: 'W', 88: 'X', 89: 'Y', 90: 'Z', 91: '[', 92: '\\\\', 93: ']', 94: '^', 95: '_', 96: '`', 97: 'a', 98: 'b', 99: 'c', 100: 'd', 101: 'e', 102: 'f', 103: 'g', 104: 'h', 105: 'i', 106: 'j', 107: 'k', 108: 'l', 109: 'm', 110: 'n', 111: 'o', 112: 'p', 113: 'q', 114: 'r', 115: 's', 116: 't', 117: 'u', 118: 'v', 119: 'w', 120: 'x', 121: 'y', 122: 'z', 123: '{', 124: '|', 125: '}', 126: '~', 127: '\\x7f'}\n",
    "```"
   ]
  },
  {
   "cell_type": "code",
   "execution_count": null,
   "metadata": {},
   "outputs": [],
   "source": []
  },
  {
   "cell_type": "markdown",
   "metadata": {},
   "source": [
    "Si ce n'est pas déjà fait, __créer ce même dictionnaire ASCII en compréhension__."
   ]
  },
  {
   "cell_type": "code",
   "execution_count": null,
   "metadata": {},
   "outputs": [],
   "source": []
  },
  {
   "cell_type": "markdown",
   "metadata": {},
   "source": [
    "Utiliser votre dictionnaire ASCII pour écrire le mot 'NSI'."
   ]
  },
  {
   "cell_type": "code",
   "execution_count": null,
   "metadata": {},
   "outputs": [],
   "source": []
  },
  {
   "cell_type": "markdown",
   "metadata": {},
   "source": [
    "### Le chiffrement de césar\n",
    "#### Le dictionnaire de César\n",
    "\n",
    "Utiliser l'exercice précédent pour créer le dictionnaire :\n",
    "\n",
    "```python\n",
    "{'A': 0, 'B': 1, 'C': 2, 'D': 3, 'E': 4, 'F': 5, 'G': 6, 'H': 7, 'I': 8, 'J': 9, 'K': 10, 'L': 11, 'M': 12, 'N': 13, 'O': 14, 'P': 15, 'Q': 16, 'R': 17, 'S': 18, 'T': 19, 'U': 20, 'V': 21, 'W': 22, 'X': 23, 'Y': 24, 'Z': 25}\n",
    "```"
   ]
  },
  {
   "cell_type": "code",
   "execution_count": null,
   "metadata": {},
   "outputs": [],
   "source": []
  },
  {
   "cell_type": "markdown",
   "metadata": {},
   "source": [
    "Si ce n'est pas déjà fait, __créer ce même dictionnaire ASCII en compréhension__."
   ]
  },
  {
   "cell_type": "code",
   "execution_count": null,
   "metadata": {},
   "outputs": [],
   "source": []
  },
  {
   "cell_type": "markdown",
   "metadata": {},
   "source": [
    "#### Le code de César\n",
    "\n",
    "A chaque lettre de l'alphabet on a associé un nombre de à 0 à 25. \n",
    "\n",
    "On va ajouter à ce nombre un nombre choisi : le code de César (par exemple 7). \n",
    "\n",
    "Le reste de la division euclidienne du nombre obtenue par 26 correspond au chiffre qui codera la lettre initiale.\n",
    "\n",
    "> __Exemple :__ la lettre Y est associée à 24, on lui ajoute 7, on obtient 31. Le reste de la division euclidienne de 31 par 26 est 5. Ce qui donne E. __Y est donc codé par E__.\n",
    "\n",
    "__Coder un script pour obtenir le code du mot \"NSI\" avec un code de César égal à 12__. \n",
    "\n",
    "> __Rappel :__ le reste de la vision euclidienne de a par b s'obtient en Python avec `a % b`"
   ]
  },
  {
   "cell_type": "code",
   "execution_count": null,
   "metadata": {},
   "outputs": [],
   "source": []
  },
  {
   "cell_type": "markdown",
   "metadata": {},
   "source": [
    "#### Une fonction au service de César (Approfondissement)\n",
    "\n",
    "Coder une fonction, prenant en paramètres le mot à coder et le code de César. __Cette fonction doit renvoyer le mot codé__."
   ]
  },
  {
   "cell_type": "code",
   "execution_count": null,
   "metadata": {},
   "outputs": [],
   "source": []
  },
  {
   "cell_type": "markdown",
   "metadata": {},
   "source": [
    "### Quizzzzz\n",
    "\n",
    "\n",
    "~~~python\n",
    "dico = { \"a\": True, \"b\": False, \"c\": False}\n",
    "~~~\n",
    "\n",
    "1. Quelle est la valeur de `dico[1]` ?\n",
    "\n",
    "~~~\n",
    "☐ a. \"a\"\n",
    "☐ b. True\n",
    "☐ c. \"b\"\n",
    "☐ d. False\n",
    "☐ e. rien car l'expression n'est pas valide\n",
    "~~~\n",
    "\n",
    "2. Quelle est la valeur de `dico[\"a\"]` ?\n",
    "\n",
    "~~~\n",
    "☐ a. True\n",
    "☐ b. False\n",
    "☐ c. rien car l'expression n'est pas valide\n",
    "~~~\n",
    "\n",
    "3. Quelle instruction permet de modifier le dictionnaire de façon à ce que sa nouvelle valeur soit \n",
    "`{ \"a\": True, \"b\": False, \"c\": False, \"e\": True}` ?\n",
    "\n",
    "~~~\n",
    "☐ a. dico[\"e\"] = True\n",
    "☐ b. dico.append(\"e\")\n",
    "☐ c. dico.append(\"e\", True)\n",
    "☐ d. (7, 4, 4)\n",
    "☐ e. ce n'est pas possible car un dictionnaire n'est pas modifiable\n",
    "~~~\n",
    "\n",
    "4. Quels sont les affichages possibles lors de l'exécution du code\n",
    "\n",
    "~~~python\n",
    "for cle in dico.keys():\n",
    "    print(cle, end=\" \")\n",
    "~~~\n",
    "\n",
    "~~~\n",
    "☐ a. a b c\n",
    "☐ b. (a, True) (b, False) (c, False)\n",
    "☐ c. True False False\n",
    "~~~\n",
    "\n",
    "\n",
    "5. Quels sont les affichages possibles lors de l'exécution du code\n",
    "\n",
    "~~~python\n",
    "for truc in dico.items():\n",
    "    print(truc, end=\" \")\n",
    "~~~\n",
    "\n",
    "~~~\n",
    "☐ a. a b c\n",
    "☐ b. (a, True) (b, False) (c, False)\n",
    "☐ c. True False False\n",
    "~~~"
   ]
  },
  {
   "cell_type": "markdown",
   "metadata": {},
   "source": [
    "### Pokemons\n",
    "\n",
    "\n",
    "On modélise des informations (nom, taille et poids) sur des pokemons de la façon suivante :"
   ]
  },
  {
   "cell_type": "code",
   "execution_count": null,
   "metadata": {},
   "outputs": [],
   "source": [
    "exemple_pokemons = {\n",
    "  'Bulbizarre': (2, 10),\n",
    "  'Herbizarre': (3, 13),\n",
    "  'Abo': (1, 7),\n",
    "  'Jungko': (5, 52)}"
   ]
  },
  {
   "cell_type": "markdown",
   "metadata": {},
   "source": [
    "Par exemple, Bulbizarre est un pokémon qui mesure 2 m et qui pèse 10 kg.\n",
    "\n",
    "\n",
    "1. Quel est le type de `exemple_pokemons` ?\n",
    "\n",
    "2. Ajouter à cette structure de données le pokémon Goupix qui mesure 4 m et qui pèse 10 kg ?"
   ]
  },
  {
   "cell_type": "code",
   "execution_count": null,
   "metadata": {},
   "outputs": [],
   "source": []
  },
  {
   "cell_type": "markdown",
   "metadata": {},
   "source": [
    "3. On donne le code suivant :"
   ]
  },
  {
   "cell_type": "code",
   "execution_count": null,
   "metadata": {},
   "outputs": [],
   "source": [
    "def le_plus_grand(pokemons):\n",
    "    grand = None\n",
    "    taille_max = None\n",
    "    for (nom, (taille, poids)) in pokemons.items():\n",
    "        if taille_max is None or taille > taille_max:\n",
    "            taille_max = taille\n",
    "            grand = nom\n",
    "    return (grand, taille_max)"
   ]
  },
  {
   "cell_type": "markdown",
   "metadata": {},
   "source": [
    "> __Remarque :__ `None` est une valeur conventionnelle pour donner une valeur nulle à une variable. C'est une autre façon de dire \"vide\" ou \"rien\", au moment de l'initialisatin d'une variable.\n",
    "\n",
    "Quelle est la valeur de `le_plus_grand(exemple_pokemons)` ?"
   ]
  },
  {
   "cell_type": "code",
   "execution_count": null,
   "metadata": {},
   "outputs": [],
   "source": []
  },
  {
   "cell_type": "markdown",
   "metadata": {},
   "source": [
    "4. Écrire le code d’une fonction `le_plus_leger(dico)` qui prend des pokemons en paramètre et qui renvoie un tuple dont la première composante est le nom du pokemon le plus léger et la deuxième composante est son poids."
   ]
  },
  {
   "cell_type": "code",
   "execution_count": null,
   "metadata": {},
   "outputs": [],
   "source": [
    "# Coder votre fonction ici\n",
    "\n",
    "\n",
    "# Cette assertion permettra de vérifier si votre fonction\n",
    "# renvoie bien la valeur voulue sur un exemple.\n",
    "assert le_plus_leger(exemple_pokemons) == ('Abo', 7)"
   ]
  },
  {
   "cell_type": "markdown",
   "metadata": {},
   "source": [
    "5. Écrire le code d'une fonction `taille(dico, nom)` qui prend en paramètre des pokémons ainsi que le nom d'un pokemon, et qui renvoie la taille de ce pokemon.\n",
    "\n",
    "Tester votre fonction sur les assertions suivantes :\n",
    "\n",
    "```python\n",
    "assert taille(exemple_pokemons, 'Abo') == 1\n",
    "assert taille(exemple_pokemons, 'Jungko') == 5\n",
    "```"
   ]
  },
  {
   "cell_type": "code",
   "execution_count": null,
   "metadata": {},
   "outputs": [],
   "source": []
  },
  {
   "cell_type": "markdown",
   "metadata": {},
   "source": [
    "### Zoo\n",
    "\n",
    "\n",
    "Au zoo de Beauval, il y a 5 éléphants d'Afrique, 17 écureuils d'Asie, 2 pandas d'Asie ... etc.\n",
    "On le représente à l'aide d'un dictionnaire, de la façon suivante :\n",
    "\n",
    "```python\n",
    "zoo_beauval = {\n",
    "   'éléphant': ('Afrique', 5), \n",
    "   'écureuil': ('Asie', 17) , \n",
    "   'panda': ('Asie', 2),\n",
    "   'hippopotame': ('Afrique', 7), \n",
    "   'girafe': ('Afrique', 4)}\n",
    "```\n",
    "\n",
    "On représente de la même façon le zoo de La Flèche :\n",
    "\n",
    "```python\n",
    "zoo_la_fleche = {\n",
    "   'ours': ('Europe', 4), \n",
    "   'tigre': ('Asie', 7) ,\n",
    "   'girafe': ('Afrique', 11),\n",
    "   'hippopotame': ('Afrique', 3)}\n",
    "```\n",
    "\n",
    "1. On souhaite se doter d'une fonction `plus_grand_nombre(zoo)` qui prend un zoo en paramètre et qui renvoie le nom de l'animal le plus représenté dans ce zoo.\n",
    "\n",
    "Par exemple\n",
    "```python\n",
    "assert plus_grand_nombre(zoo_beauval) == 'écureuil'\n",
    "assert plus_grand_nombre(zoo_la_fleche) == 'girafe'\n",
    "```\n",
    "\n",
    "a. Quelle type de boucle envisagez-vous pour le code de cette fonction ?\n",
    "\n",
    "~~~\n",
    "☐ for cle in dico.keys()\n",
    "☐ for valeur in dico.values()\n",
    "☐ for cle, valeur in dico.items()\n",
    "☐ je n'utiliserai aucune boucle\n",
    "~~~\n",
    "\n",
    "b. Ecrire le code de cette fonction."
   ]
  },
  {
   "cell_type": "code",
   "execution_count": null,
   "metadata": {},
   "outputs": [],
   "source": []
  },
  {
   "cell_type": "markdown",
   "metadata": {},
   "source": [
    "2.  On souhaite se doter d'une fonction `nombre_total(zoo, continent)` qui prend un zoo en paramètre ainsi que le nom d'un continent, et qui renvoie le nombre d'animaux originaires de ce continent dans le zoo.\n",
    "\n",
    "Par exemple :\n",
    "\n",
    "```python\n",
    "assert nombre_total(zoo_beauval, 'Asie') == 24\n",
    "assert nombre_total(zoo_la_fleche, 'Afrique') == 14\n",
    "```\n",
    "\n",
    "a. Quelle type de boucle envisagez-vous pour le code de cette fonction ?\n",
    "\n",
    "~~~\n",
    "☐ for cle in dico.keys()\n",
    "☐ for valeur in dico.values()\n",
    "☐ for cle, valeur in dico.items()\n",
    "☐ je n'utiliserai aucune boucle\n",
    "~~~\n",
    "\n",
    "b. Ecrire le code de cette fonction."
   ]
  },
  {
   "cell_type": "code",
   "execution_count": null,
   "metadata": {},
   "outputs": [],
   "source": []
  },
  {
   "cell_type": "markdown",
   "metadata": {},
   "source": [
    "3.  On souhaite se doter d'une fonction `nombre(zoo, animal)` qui prend un zoo en paramètre ainsi que le nom d'un animal, et qui renvoie le nombre de représentants de cet animal dans le zoo.\n",
    "\n",
    "Par exemple :\n",
    "\n",
    "```python\n",
    "assert nombre(zoo_beauval, 'panda') == 2\n",
    "assert nombre(zoo_la_fleche, 'panda') == 0\n",
    "```\n",
    "\n",
    "a. Quelle type de boucle envisagez-vous pour le code de cette fonction ?\n",
    "\n",
    "```\n",
    "☐ for cle in dico.keys()\n",
    "☐ for valeur in dico.values()\n",
    "☐ for cle, valeur in dico.items()\n",
    "☐ je n'utiliserai aucune boucle\n",
    "```\n",
    "\n",
    "b. Ecrire le code de cette fonction."
   ]
  },
  {
   "cell_type": "code",
   "execution_count": null,
   "metadata": {},
   "outputs": [],
   "source": []
  },
  {
   "cell_type": "markdown",
   "metadata": {},
   "source": [
    "### Gandhi a dit...\n",
    "\n",
    "Voici une citation de Gandhi :\n",
    "\n",
    "_La vie est un mystère qu'il faut vivre, et non un problème à résoudre._\n",
    "\n",
    "Créer un dictionnaire `occurrences` qui associe à chaque lettre (clé) son occurrence (valeur). \n",
    "\n",
    "Par exemple, comme la lettre 'a' apparait deux fois dans la citation, le dictionnaire aura au moins le couple clé / valeur suivant :\n",
    "\n",
    "`{'a': 2, .........}`"
   ]
  },
  {
   "cell_type": "code",
   "execution_count": null,
   "metadata": {},
   "outputs": [],
   "source": [
    "citation = \"La vie est un mystère qu'il faut vivre, et non un problème à résoudre.\"\n"
   ]
  },
  {
   "cell_type": "markdown",
   "metadata": {},
   "source": [
    "### Approfondissement : Proust a écrit...\n",
    "\n",
    "Certaines oeuvres sont librement et gratuitement téléchargeable sur [Gallica](https://gallica.bnf.fr/ark:/12148/bpt6k1049566j.texteImage), en particulier celles entrées dans [le domaine public](https://fr.wikipedia.org/wiki/Domaine_public_en_droit_de_la_propri%C3%A9t%C3%A9_intellectuelle_fran%C3%A7ais).\n",
    "\n",
    "Utiliser le fichier mis à votre disposition \"du_cote_de_chez_swann.txt\", incluant l'ouvrage de Marcel Proust, pour __créer un dictionnaire contenant l'occurrence de tous les mots utilisés dans le livre__.\n",
    "\n",
    "> __Remarque :__ on ne se préoccupera pas de la casse. Il est donc conseillé de changer toutes les majuscules en minuscules avec la fonction [.lower()](https://www.w3schools.com/python/ref_string_lower.asp)."
   ]
  },
  {
   "cell_type": "code",
   "execution_count": null,
   "metadata": {},
   "outputs": [],
   "source": []
  },
  {
   "cell_type": "markdown",
   "metadata": {},
   "source": [
    "__Combien de fois le mot _madeleine_ est-il utilisé dans ce livre ?__"
   ]
  },
  {
   "cell_type": "code",
   "execution_count": null,
   "metadata": {},
   "outputs": [],
   "source": []
  },
  {
   "cell_type": "markdown",
   "metadata": {},
   "source": [
    "__Quels sont les deux mots d'au moins dix lettres les plus couramment utilisés dans ce texte ?__"
   ]
  },
  {
   "cell_type": "code",
   "execution_count": null,
   "metadata": {},
   "outputs": [],
   "source": []
  },
  {
   "cell_type": "markdown",
   "metadata": {},
   "source": [
    "---\n",
    "[![Licence CC BY NC SA](https://licensebuttons.net/l/by-nc-sa/3.0/88x31.png \"licence Creative Commons CC BY-NC-SA\")](http://creativecommons.org/licenses/by-nc-sa/3.0/fr/)\n",
    "<p style=\"text-align: center;\">Auteur : David Landry, Lycée Clemenceau - Nantes</p>\n",
    "<p style=\"text-align: center;\">D'après des documents partagés par...</p>\n",
    "<p style=\"text-align: center;\"><a  href=http://www.monlyceenumerique.fr/index_nsi.html#premiere>Jean-Christophe Gérard, Thomas Lourdet, Johan Monteillet, Pascal Thérèse</a></p>\n",
    "<p style=\"text-align: center;\"><a  href=https://eduscol.education.fr/cid144156/nsi-bac-2021.html>Le Ministère de l'éducation nationale, sur Eduscol</a></p>\n",
    "<p style=\"text-align: center;\">Guillaume Connan sur <a  href=https://gitlab.com/lyceeND/1ere>le Gitlab du lycée Notre Dame, à Rezé</a></p>"
   ]
  }
 ],
 "metadata": {
  "kernelspec": {
   "display_name": "Python 3",
   "language": "python",
   "name": "python3"
  },
  "language_info": {
   "codemirror_mode": {
    "name": "ipython",
    "version": 3
   },
   "file_extension": ".py",
   "mimetype": "text/x-python",
   "name": "python",
   "nbconvert_exporter": "python",
   "pygments_lexer": "ipython3",
   "version": "3.8.3"
  }
 },
 "nbformat": 4,
 "nbformat_minor": 2
}
