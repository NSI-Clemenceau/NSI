{
 "cells": [
  {
   "cell_type": "markdown",
   "metadata": {},
   "source": [
    "# Exercices : tests, conditions & booléens\n",
    "\n",
    "> **Remarque :** pour beaucoup de ces exercices, il existe de multiples façons de procéder. N'hésitez pas à **faire preuve de créativité pour proposer, lorsque c'est possible, des réponses multiples et variées**."
   ]
  },
  {
   "cell_type": "markdown",
   "metadata": {},
   "source": [
    "## Majorité\n",
    "\n",
    "Écrire un programme qui :\n",
    "- demande l'âge d'une personne\n",
    "- affiche si la personne est majeure où mineure"
   ]
  },
  {
   "cell_type": "code",
   "execution_count": null,
   "metadata": {},
   "outputs": [],
   "source": [
    "age = int(input(\"Quel est votre âge s'il vous plaît ?\"))\n",
    "if age >= 18:\n",
    "    print(\"Vous êtes majeur\")\n",
    "else:\n",
    "    print(\"Vous êtes mineur\")"
   ]
  },
  {
   "cell_type": "markdown",
   "metadata": {},
   "source": [
    "## Eau liquide\n",
    "\n",
    "1. Écrire une suite d'instructions permettant de modéliser l'état de l'eau en fonction de sa température. un utilisateur saisit la température de l'eau à pression ambiante et le programme affiche l'état de l'eau.\n",
    "\n",
    "2. Rajouter une précondition avec l'instruction `assert`, pour tester que la température saisie soit possible, c'est-à-dire supérieure ou égale à -273°C. En cas d'erreur, un message explicite doit être communiqué à l'utilisateur."
   ]
  },
  {
   "cell_type": "code",
   "execution_count": null,
   "metadata": {},
   "outputs": [],
   "source": [
    "temperature = int(input(\"Saisir une température en °C : \"))\n",
    "\n",
    "assert temperature >= -273, \"La température ne peut être que supérieure à -273°C\"\n",
    "\n",
    "if temperature >= 100:\n",
    "    print(\"L'eau est à l'état de gaz\")\n",
    "elif temperature >= 0:\n",
    "    print(\"L'eau est à l'état liquide\")\n",
    "else:\n",
    "    print(\"L'eau est à l'état solide\")"
   ]
  },
  {
   "cell_type": "code",
   "execution_count": null,
   "metadata": {},
   "outputs": [],
   "source": [
    "# Une variante plus élaborée, utilisant try / except\n",
    "\n",
    "temperature = -300\n",
    "\n",
    "while temperature < -273:\n",
    "    try:\n",
    "        temperature = int(input(\"Saisir une température en °C (valeur supérieure à -273°C) : \"))\n",
    "    except :\n",
    "        print(\"Attention, il faut saisir un nombre !\")\n",
    "\n",
    "if temperature >= 100:\n",
    "    print(\"L'eau est à l'état de gaz\")\n",
    "elif temperature >= 0:\n",
    "    print(\"L'eau est à l'état liquide\")\n",
    "else:\n",
    "    print(\"L'eau est à l'état solide\")"
   ]
  },
  {
   "cell_type": "markdown",
   "metadata": {},
   "source": [
    "## Opérateurs logiques\n",
    "\n",
    "**Avant de lancer les codes suivants**, réfléchir à quel sera le résultat booléen. **Ensuite**, vérifier en exécutant chaque code."
   ]
  },
  {
   "cell_type": "code",
   "execution_count": null,
   "metadata": {},
   "outputs": [],
   "source": [
    "a = 6\n",
    "print(a >= 5 and a < 6)"
   ]
  },
  {
   "cell_type": "code",
   "execution_count": null,
   "metadata": {},
   "outputs": [],
   "source": [
    "b = -1\n",
    "print(b <= 0 or b >= 5)"
   ]
  },
  {
   "cell_type": "code",
   "execution_count": null,
   "metadata": {},
   "outputs": [],
   "source": [
    "phrase = \"Nous sommes heureux et heureuses de faire NSI !\"\n",
    "print('a' not in phrase and 'i' in phrase)"
   ]
  },
  {
   "cell_type": "code",
   "execution_count": null,
   "metadata": {},
   "outputs": [],
   "source": [
    "phrase = \"Quelle chance que de pouvoir aller au lycée !\"\n",
    "print('N' not in phrase or 'é' in phrase)"
   ]
  },
  {
   "cell_type": "markdown",
   "metadata": {},
   "source": [
    "# Tables logiques\n",
    "\n",
    "Vérifier la \"véracité\" des \"tables de vérité\" vues au notebook précédent en interprétant les opérateurs `and`, `or` et `not` avec les booléens `True`et / ou `False`.\n",
    "\n",
    "Un premier exemple ci-dessous avec la table de l'opérateur `and`. Réfléchissez toujours au résultat avant d'éxecuter le code.\n",
    "\n",
    "|A|B|A∧B|\n",
    "|:---:|:---:|:---:|\n",
    "|1|1|1|\n",
    "|1|0|0|\n",
    "|0|1|0|\n",
    "|0|0|0|\n",
    "\n",
    "> **Remarque :** on rappelle qu'en logique on note souvent le Vrai 1 et le Faux 0."
   ]
  },
  {
   "cell_type": "code",
   "execution_count": null,
   "metadata": {},
   "outputs": [],
   "source": [
    "print(True and True)\n",
    "print(True and False)\n",
    "print(False and True)\n",
    "print(False and False)"
   ]
  },
  {
   "cell_type": "markdown",
   "metadata": {},
   "source": [
    "A l'aide de votre réflexion, remplir les tables suivantes :\n",
    "\n",
    "|A|¬A|\n",
    "|:---:|:---:|\n",
    "|1|0|\n",
    "|0|1|\n",
    "\n",
    "|A|B|¬(A∧B)|\n",
    "|:---:|:---:|:---:|\n",
    "|1|1|0|\n",
    "|1|0|1|\n",
    "|0|1|1|\n",
    "|0|0|1|\n",
    "\n",
    "|A|B|A∨B|\n",
    "|:---:|:---:|:---:|\n",
    "|1|1|1|\n",
    "|1|0|1|\n",
    "|0|1|1|\n",
    "|0|0|0|\n",
    "\n",
    "|A|B|C|(A ∨ B) ∧ C|\n",
    "|:---:|:---:|:---:|:---:|\n",
    "|0|0|0|0|\n",
    "|0|0|1|0|\n",
    "|0|1|0|0|\n",
    "|0|1|1|1|\n",
    "|1|0|0|0|\n",
    "|1|0|1|1|\n",
    "|1|1|0|0|\n",
    "|1|1|1|1|\n",
    "\n",
    "Ensuite, aidez-vous de tests sur python pour vérifier vos réponses :"
   ]
  },
  {
   "cell_type": "code",
   "execution_count": null,
   "metadata": {},
   "outputs": [],
   "source": []
  },
  {
   "cell_type": "markdown",
   "metadata": {},
   "source": [
    "## Tarif de cinéma\n",
    "\n",
    "Un cinéma pratique trois types de tarifs pour deux personnes :\n",
    "\n",
    "- si les deux personnes sont mineures, elles payent 6€ chacune\n",
    "- si l'une seulement est mineure, elles payent un tarif de groupe de 14€\n",
    "- si les deux personnes sont majeures, elles payent 18 € en tout\n",
    "\n",
    "Écrire un programme qui :\n",
    "\n",
    "- demande l'âge de chacune des personnes\n",
    "- affiche le prix à payer"
   ]
  },
  {
   "cell_type": "code",
   "execution_count": null,
   "metadata": {},
   "outputs": [],
   "source": [
    "age1 = int(input(\"Quel âge a le premier client ? \"))\n",
    "age2 = int(input(\"Quel âge a le second client ? \"))\n",
    "\n",
    "if age1 >= 18:\n",
    "    if age2 >= 18:\n",
    "        print(\"Le prix à payer est de 18 € en tout\")\n",
    "    else:\n",
    "        print(\"Le prix à payer est de 14 € en tout\")\n",
    "else:\n",
    "    if age2 >= 18:\n",
    "        print(\"Le prix à payer est de 14 € en tout\")\n",
    "    else:\n",
    "        print(\"Le prix à payer est de 6 € en tout\")"
   ]
  },
  {
   "cell_type": "markdown",
   "metadata": {},
   "source": [
    "## Tarif de cinéma (approfondissement)\n",
    "\n",
    "Un cinéma pratique les tarifs suivants :\n",
    "\n",
    "- si les personnes sont mineures, elles payent 6€ chacune\n",
    "- si les personnes sont majeures, elles payent 9€ chacune\n",
    "- si les personnes sont seniors (>= 65 ans), elles payent 7€ chacune\n",
    "\n",
    "Écrire un programme qui :\n",
    "\n",
    "- demande l'âge de chacune des personnes (nombre de personnes indéterminée)\n",
    "- affiche le prix à payer (éventuellement sur une facture détaillée)"
   ]
  },
  {
   "cell_type": "code",
   "execution_count": null,
   "metadata": {},
   "outputs": [],
   "source": [
    "age = int(input(\"Quel âge a le premier client ? \"))\n",
    "\n",
    "if age >= 65:\n",
    "    prix = 7\n",
    "elif age >= 18:\n",
    "    prix = 9\n",
    "else:\n",
    "    prix = 6\n",
    "\n",
    "autre_client = input(\"Répondre oui si il y a une autre client : \")\n",
    "\n",
    "while autre_client in ['oui', 'OUI', 'Oui']:\n",
    "    print(f\"La facture intermédiaire est de {prix}€\")\n",
    "    age = int(input(\"Quel âge a ce client ? \"))\n",
    "    autre_client = input(\"Répondre oui si il y a une autre client : \")\n",
    "    if age >= 65:\n",
    "        prix += 7\n",
    "    elif age >= 18:\n",
    "        prix += 9\n",
    "    else:\n",
    "        prix += 6\n",
    "        \n",
    "print(f\"Le prix à payer est de {prix} € en tout\")"
   ]
  },
  {
   "cell_type": "markdown",
   "metadata": {},
   "source": [
    "## Année bissextile\n",
    "\n",
    "Écrire une suite d'instructions permettant de déterminer si une année saisie par l'utilisateur est bissextile.\n",
    "\n",
    "Une année est dite bissextile si c'est un multiple de 4, sauf si c'est un multiple de 100. Mais elle est quand même considérée comme bissextile si c'est un multiple de 400."
   ]
  },
  {
   "cell_type": "code",
   "execution_count": null,
   "metadata": {},
   "outputs": [],
   "source": [
    "annee = int(input(\"Saisir une année : \"))\n",
    "\n",
    "if annee % 400 == 0:\n",
    "    bissextile = True\n",
    "elif annee % 4 == 0 and annee % 100 != 0:\n",
    "    bissextile = True\n",
    "else:\n",
    "    bissextile = False\n",
    "    \n",
    "if bissextile:\n",
    "    print(f\"L'année {annee} est bissextile\")\n",
    "else:\n",
    "    print(f\"L'année {annee} n'est pas bissextile\")"
   ]
  },
  {
   "cell_type": "markdown",
   "metadata": {},
   "source": [
    "Tester votre programme avec les années suivantes :\n",
    "\n",
    "- 2000, 2008, 2020 sont des années bissextiles\n",
    "- 1900, 2100 ne sont pas des années bissextiles"
   ]
  },
  {
   "cell_type": "markdown",
   "metadata": {},
   "source": [
    "## Chaîne de caractères\n",
    "\n",
    "Écrire une suite d'instructions qui affiche un message disant si, oui ou non, un caractère saisi représente un chiffre."
   ]
  },
  {
   "cell_type": "code",
   "execution_count": null,
   "metadata": {},
   "outputs": [],
   "source": [
    "saisie = input(\"Saisir un seul caractère : \")\n",
    "\n",
    "if saisie in '0123456789':\n",
    "    print(\"Vous avez saisi un chiffre\")\n",
    "else:\n",
    "    print(\"Vous n'avez pas saisi un chiffre\")"
   ]
  },
  {
   "cell_type": "markdown",
   "metadata": {},
   "source": [
    "## Pour une minute de plus...\n",
    "\n",
    "Ecrire une suite d'instructions qui calcule l’heure une minute après celle stockée sous la forme de deux variables :\n",
    "\n",
    "```python\n",
    "heure, minute = 10, 20\n",
    "```\n",
    "\n",
    "Exemples :\n",
    "```python\n",
    "heure, minute = 10, 20 \n",
    "affichera 'Il est 10 heures et 21 minutes'\n",
    "    \n",
    "heure, minute = 10, 59 \n",
    "affichera 'Il est 11 heures'\n",
    "```\n",
    "Ne pas oublier le cas de minuit."
   ]
  },
  {
   "cell_type": "code",
   "execution_count": null,
   "metadata": {},
   "outputs": [],
   "source": [
    "heure, minute = 10, 20\n",
    "\n",
    "if minute == 59:\n",
    "    minute = '00'\n",
    "    if heure == 23:\n",
    "        heure = '00'\n",
    "    else:\n",
    "        heure += 1\n",
    "else:\n",
    "    minute += 1\n",
    "\n",
    "print(f\"Il est maintenant {heure} heure et {minute} minutes\")"
   ]
  },
  {
   "cell_type": "markdown",
   "metadata": {},
   "source": [
    "## La monnaie SVP (approfondissement)\n",
    "\n",
    "Un distributeur de banque dispose de billets de 10, 20, 50, 100 et 200 euros.\n",
    "\n",
    "Écrire un __programme qui demande la somme désirée et propose une répartition avec le moins de billets possible__.\n",
    "\n",
    "Pour information, le type d'algorithme permettant de résoudre cet exercice s'appelle **algorithme glouton** et sera étudié dans un chapitre en fin d'année.\n",
    "\n",
    "Dans le cas présent, __on cherche à résoudre la question sans utiliser de boucle__."
   ]
  },
  {
   "cell_type": "code",
   "execution_count": null,
   "metadata": {},
   "outputs": [],
   "source": [
    "somme_a_rendre = int(input(\"Quelle somme doit-on rendre ? \"))\n",
    "\n",
    "assert somme_a_rendre % 10 == 0, \"On ne peut rendre qu'un multiple de 10€\"\n",
    "\n",
    "if somme_a_rendre >= 200:\n",
    "    print(f\"Il faut rendre {somme_a_rendre // 200} billets de 200€\")\n",
    "    somme_a_rendre = somme_a_rendre % 200\n",
    "if somme_a_rendre >= 100:\n",
    "    print(f\"Il faut rendre {somme_a_rendre // 100} billets de 100€\")\n",
    "    somme_a_rendre = somme_a_rendre % 100\n",
    "if somme_a_rendre >= 50:\n",
    "    print(f\"Il faut rendre {somme_a_rendre // 50} billets de 50€\")\n",
    "    somme_a_rendre = somme_a_rendre % 50\n",
    "if somme_a_rendre >= 20:\n",
    "    print(f\"Il faut rendre {somme_a_rendre // 20} billets de 20€\")\n",
    "    somme_a_rendre = somme_a_rendre % 20\n",
    "if somme_a_rendre >= 10:\n",
    "    print(f\"Il faut rendre {somme_a_rendre // 10} billets de 10€\")\n",
    "    somme_a_rendre = somme_a_rendre % 10"
   ]
  },
  {
   "cell_type": "markdown",
   "metadata": {},
   "source": [
    "## Questions issues de la Banque Nationale de Sujets"
   ]
  },
  {
   "cell_type": "markdown",
   "metadata": {},
   "source": [
    "**À quelle affectation sont équivalentes les instructions suivantes, où a, b sont des variables entières et c une variable booléenne ?**\n",
    "```python\n",
    "if a == b:\n",
    "    c = True\n",
    "elif a > b + 10:\n",
    "    c = True\n",
    "else:\n",
    "    c = False\n",
    "```\n",
    "**Réponse :**\n",
    "\n",
    "A- c = (a==b) or (a > b+10)"
   ]
  },
  {
   "cell_type": "markdown",
   "metadata": {},
   "source": [
    "**On exécute le script suivant :**\n",
    "```python\n",
    "a, b = 10, 3\n",
    "if a < 10:\n",
    "    a, b = a + 2, b + a\n",
    "```\n",
    "**Quelle est la valeur de b à la fin de son exécution ?**\n",
    "\n",
    "**Réponse :**\n",
    "\n",
    "A- 3"
   ]
  },
  {
   "cell_type": "markdown",
   "metadata": {},
   "source": [
    "**Sachant que l'expression not(a or b) a la valeur True, quelles peuvent être les valeurs des variables booléennes a et b ?**\n",
    "\n",
    "**Réponse :**\n",
    "\n",
    "D- False et False"
   ]
  },
  {
   "cell_type": "markdown",
   "metadata": {},
   "source": [
    "**Quelle est la valeur de la variable b à la fin de l'exécution du script suivant ?**\n",
    "```python\n",
    "a = 2\n",
    "b = 5\n",
    "if a > 8:\n",
    "    b = 10\n",
    "elif a > 6:\n",
    "    b = 3\n",
    "```\n",
    "__Réponse :__\n",
    "\n",
    "B- 5"
   ]
  },
  {
   "cell_type": "markdown",
   "metadata": {},
   "source": [
    "---\n",
    "[![Licence CC BY NC SA](https://licensebuttons.net/l/by-nc-sa/3.0/88x31.png \"licence Creative Commons CC BY-NC-SA\")](http://creativecommons.org/licenses/by-nc-sa/3.0/fr/)\n",
    "<p style=\"text-align: center;\">Auteur : David Landry, Lycée Clemenceau - Nantes</p>\n",
    "<p style=\"text-align: center;\">D'après des documents partagés par...</p>\n",
    "<p style=\"text-align: center;\"><a  href=http://www.monlyceenumerique.fr/index_nsi.html#premiere>Jean-Christophe Gérard, Thomas Lourdet, Johan Monteillet, Pascal Thérèse</a></p>\n",
    "<p style=\"text-align: center;\"><a  href=https://www.numerique-sciences-informatiques.fr/>Numerique-sciences-informatiques.fr, du Lycée Clemenceau à Montpellier</a></p>\n",
    "<p style=\"text-align: center;\"><a  href=https://isncaju.wixsite.com/isncaju/python>Christophe Casseau, du Lycée Camille Jullian à Bordeaux</a></p>"
   ]
  }
 ],
 "metadata": {
  "kernelspec": {
   "display_name": "Python 3",
   "language": "python",
   "name": "python3"
  },
  "language_info": {
   "codemirror_mode": {
    "name": "ipython",
    "version": 3
   },
   "file_extension": ".py",
   "mimetype": "text/x-python",
   "name": "python",
   "nbconvert_exporter": "python",
   "pygments_lexer": "ipython3",
   "version": "3.8.3"
  }
 },
 "nbformat": 4,
 "nbformat_minor": 2
}
