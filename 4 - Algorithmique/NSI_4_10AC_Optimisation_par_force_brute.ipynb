{
 "cells": [
  {
   "cell_type": "markdown",
   "metadata": {},
   "source": [
    "# Algorithme d'optimisation par force brute\n",
    "## Principe de la force brute\n",
    "\n",
    "On a vu que les algorithmes gloutons permettaient d'obtenir une solution souvent satisfaisante mais pas nécessairement optimale (la meilleure possible). \n",
    "\n",
    "__Comment trouver LA meilleure solution, la solution optimale ?__\n",
    "\n",
    "Une approche efficace, qui manque toutefois de subtilité, consiste à __rechercher l'ensemble des solutions possibles puis à sélectionner la solution qui convient le mieux__. On parle alors de __méthode \"par force brute\"__.\n",
    "\n",
    "Si le principe est simple (il faut tester tous les cas possibles), La mise en œuvre l’est moins. Comment obtenir tous les cas sans les\n",
    "répéter et sans en oublier un ? Cette question pose la difficulté principale.\n",
    "\n",
    "## Une méthode de résolution par force brute\n",
    "\n",
    "Une __méthode astucieuse__ consiste à...\n",
    "\n",
    "- __écrire des nombres binaires__ ayant le même nombre de bits que d'objets à sélectionner (ou pas).\n",
    "- chaque bit correspondà un objet.\n",
    "- on associe le __chiffre 1 à un objet s'il est choisi__.\n",
    "- on associe le __chiffre 0 si l'objet n'est pas choisi__. \n",
    "\n",
    "Nous obtenons ainsi toutes une série de nombres binaires.\n",
    "\n",
    "__Un exemple minimaliste :__ cherchons toutes les combinaisons possibles à partir de 3 objets \"à prendre ou à laisser\" (ex : 3 fournitures scolaires pour remplir la malle de Harry).\n",
    "\n",
    "Comme nous avons des __choix à faire sur 3 objets__, nous allons créer des __nombres binaires à 3 bits__. \n",
    "\n",
    "Voici __toutes les combinaisons possibles__ :\n",
    "\n",
    "|Nombre décimal|Nombre binaire|Choix des objets|\n",
    "|:--:|:--:|:--:|\n",
    "|0|000|Rien !|\n",
    "|1|001|Objet3|\n",
    "|2|010|Objet2|\n",
    "|3|011|Objet2, objet3|\n",
    "|4|100|Objet1|\n",
    "|5|101|Objet1, objet3|\n",
    "|6|110|Objet1, objet2|\n",
    "|7|111|Objet1, objet2, objet3|\n",
    "\n",
    "Nous obtenons __8 combinaisons possibles__ (8 façons différentes de remplir la malle avec ces 3 objets, si on reprend l'exemple avec Harry). __Il n'y a pas d'autres possibilités, elle sont toutes là !__\n",
    "\n",
    "On voit qu'__il suffit de construire tous les nombres binaires ayant le même nombre de bits que d'objets à sélectionner pour obtenir toutes les combinaisons possibles__.\n",
    "\n",
    "Pour résoudre le \"problème du sac à dos\", c'est une __méthode radicale mais coûteuse en ressources car il faut envisager les $2^n$ possibilités__ lorsqu'on a $n$ objets à choisir.  \n",
    "\n",
    "## Une application de la force brute\n",
    "\n",
    "Reprenons notre situation précédente (notebook 4_9), dans laquelle il faut __choisir parmi 7 fichiers vidéos__ :\n",
    "\n",
    "- en __maximisant la durée__ d'écoute totale.\n",
    "- en ayant pour __limite la taille__ disponible sur une clé USB : 5 Go.\n",
    "\n",
    "Ayant seulement __7 objets à choisir, nous n'aurons que $2^7$ combinaisons possibles__ (soit 128), ce qui est tout à fait raisonnable en terme de coût algorithmique. Nous alllons __créer tous les nombres binaires à 7 bits__. \n",
    "\n",
    "En voici deux exemples :\n",
    "\n",
    "- Le nombre 1001100 signifie que nous avons choisi les fichiers 1, 4 et 5. \n",
    "- Le nombre 1111111 signifie que nous avons choisi tous les fichiers. \n",
    "\n",
    "### Créer la liste de nombres binaires\n",
    "\n",
    "Créer une __fonction qui renverra une liste contenant tous les nombres binaires à $n$ bits__."
   ]
  },
  {
   "cell_type": "code",
   "execution_count": null,
   "metadata": {},
   "outputs": [],
   "source": [
    "def liste_binaire(n):\n",
    "    liste = []\n",
    "    for i in range(2 ** n):\n",
    "        nb_binaire = bin(i)[2:]\n",
    "        nb_binaire = (n - len(nb_binaire)) * '0' + nb_binaire\n",
    "        liste.append(nb_binaire)\n",
    "    return liste\n",
    "\n",
    "print(liste_binaire(7))"
   ]
  },
  {
   "cell_type": "markdown",
   "metadata": {},
   "source": [
    "### Créer la liste de toutes les combinaisons possibles\n",
    "\n",
    "À partir de la liste de nombre binaires crées, créer une __fonction qui renverra une liste de toutes les combinaisons de films possibles__."
   ]
  },
  {
   "cell_type": "code",
   "execution_count": null,
   "metadata": {},
   "outputs": [],
   "source": [
    "table_videos = [('Video 1', 114, 4.57), ('Video 2', 32, 0.630),\n",
    "                ('Video 3', 20, 1.65), ('Video 4', 4, 0.085),\n",
    "                ('Video 5', 18, 2.15), ('Video 6', 80, 2.71),\n",
    "                ('Video 7', 5, 0.320)]\n",
    "\n",
    "def liste_combinaisons(videos):\n",
    "    binaires = liste_binaire(len(videos))\n",
    "    combinaisons = []\n",
    "    for nb_binaire in binaires:\n",
    "        combinaison = []\n",
    "        for i, bit in enumerate(nb_binaire):\n",
    "            if bit == '1':\n",
    "                combinaison.append(videos[i])\n",
    "        combinaisons.append(combinaison)\n",
    "    return combinaisons\n",
    "        \n",
    "print(liste_combinaisons(table_videos))"
   ]
  },
  {
   "cell_type": "markdown",
   "metadata": {},
   "source": [
    "### Recherche de la meilleure combinaison\n",
    "\n",
    "Parmi toutes les combinaisons, il __reste à choisir la meilleure__, c'est à dire celle qui :\n",
    "\n",
    "- maximise la durée d'écoute totale.\n",
    "- ne dépasse pas la taille disponible sur la clé USB : 5 Go.\n",
    "\n",
    "Créer une __fonction qui renverra la meilleure solution parmi toutes celles disponibles__ dans une liste qui satisfont la taille limite.\n",
    "\n",
    "> __Solution :__ la meilleure combinaison possible permet d'emporter 132 minutes de vidéos."
   ]
  },
  {
   "cell_type": "code",
   "execution_count": null,
   "metadata": {},
   "outputs": [],
   "source": [
    "def calcul_duree(combinaison):\n",
    "    duree = 0\n",
    "    for video in combinaison:\n",
    "        duree += video[1]\n",
    "    return duree\n",
    "\n",
    "def calcul_taille(combinaison):\n",
    "    taille = 0\n",
    "    for video in combinaison:\n",
    "        taille += video[2]\n",
    "    return taille\n",
    "\n",
    "def meilleur_choix(liste_choix, taille_max):\n",
    "    duree_max = 0\n",
    "    for choix in liste_choix:\n",
    "        duree = calcul_duree(choix)\n",
    "        taille = calcul_taille(choix)\n",
    "        if duree > duree_max and taille <= taille_max:\n",
    "            duree_max = duree\n",
    "            top_choix = choix\n",
    "    return top_choix\n",
    "\n",
    "meilleur_choix(liste_combinaisons(table_videos), 5)"
   ]
  },
  {
   "cell_type": "markdown",
   "metadata": {},
   "source": [
    "---\n",
    "[![Licence CC BY NC SA](https://licensebuttons.net/l/by-nc-sa/3.0/88x31.png \"licence Creative Commons CC BY-NC-SA\")](http://creativecommons.org/licenses/by-nc-sa/3.0/fr/)\n",
    "<p style=\"text-align: center;\">Auteurs : David Landry, Lycée Clemenceau - Nantes</p>"
   ]
  }
 ],
 "metadata": {
  "kernelspec": {
   "display_name": "Python 3",
   "language": "python",
   "name": "python3"
  },
  "language_info": {
   "codemirror_mode": {
    "name": "ipython",
    "version": 3
   },
   "file_extension": ".py",
   "mimetype": "text/x-python",
   "name": "python",
   "nbconvert_exporter": "python",
   "pygments_lexer": "ipython3",
   "version": "3.8.3"
  }
 },
 "nbformat": 4,
 "nbformat_minor": 2
}
