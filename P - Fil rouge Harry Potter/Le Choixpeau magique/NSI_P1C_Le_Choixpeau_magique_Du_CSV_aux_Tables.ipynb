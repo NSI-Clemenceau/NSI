{
 "cells": [
  {
   "cell_type": "markdown",
   "metadata": {},
   "source": [
    "# Le Choixpeau magique\n",
    "## Les 4 maisons de Poudlard\n",
    "\n",
    "\n",
    "Dans la saga « Harry Potter » de J. K. Rowling, l’école Poudlard a été fondée, au moyen âge, par 4 sorciers :\n",
    "\n",
    "- Godric Gryffondor (en anglais Gryffindor),\n",
    "- Helga Poufsouffle (Hufflepuff),\n",
    "- Rowena Serdaigle (Ravenclaw),\n",
    "- Salazar Serpentard (Slytherin).\n",
    "    \n",
    "Lors de leur première rentrée scolaire, __les jeunes élèves sorciers sont répartis en quatre équipes ou « Maisons »__, portant chacune le nom d’un de ces fondateurs.\n",
    "\n",
    "![Maisons](maisons.png)\n",
    "\n",
    "## Le rôle du Choixpeau magique\n",
    "\n",
    "\n",
    "__Cette répartition est assurée par un personnage en forme de chapeau, appelé « Choixpeau magique »__ (« Sorting hat » en anglais).\n",
    "\n",
    "Pour notre étude, nous allons considérer que __le Choixpeau magique analyse les qualités de « courage », d'« ambition », d'« intelligence », et de « tendance au bien » de l’élève__.\n",
    "\n",
    "Puis __le Choixpeau magique assigne l’élève à la « Maison » qui semble correspondre le mieux à son \"profil\"__.\n",
    "\n",
    "![Choixpeau](choixpeau.png)\n",
    "\n",
    "Pendant l'année, vous aurez régulièrement des activités de cours, des exercices qui porteront sur ce thème. __L'objectif final de ce projet consiste à créer votre propre \"Choipeaux magique\"__.\n",
    "\n",
    "Ce projet étant assez ambitieux, il est nécessaire de le __découper en plusieurs parties__.\n",
    "\n",
    "Nous commencerons par __importer les différents personnages de ce roman, ainsi que leurs caractéristiques__. Pour cela, nous devons déterminer __quelle structure informatique est la meilleure__ pour une utilisation ultérieure facilitée.\n",
    "\n",
    "## Un profil par maison\n",
    "\n",
    "Là encore, pour procéder par étapes progressives, nous essayerons d'importer le contenu d'un fichier plus léger : \"Houses.csv\".\n",
    "\n",
    "Voici le contenu du fichier \"Houses.csv\" :\n",
    "\n",
    "```\n",
    "House;Courage;Ambition;Intelligence;Good\n",
    "Gryffindor;9;6;5;9\n",
    "Ravenclaw;7;5;9;8\n",
    "Slytherin;5;9;7;2\n",
    "Hufflepuff;8;4;7;9\n",
    "```\n",
    "> __Remarques :__ pour une meilleure cohérence avec les données brutes des personnages et dans l'objectif hypothétique d'un meilleur partage sur [les plateformes de forge, de type GitLab](https://framagit.org/), la langue anglaise sera privilégiée.\n",
    "\n",
    "__Ce fichier \"Houses.csv\" contient donc un \"profil\" pour chaque Maison__. Ce profil a été fait de façon subjective et, même s'il sera bien évidemment possible de le changer à l'avenir, il est préférable que nous gardions tous les mêmes données initiales pour mieux travailler ensemble.\n",
    "\n",
    "## Le format CSV\n",
    "\n",
    "__Le format de fichier CSV, pour l’anglais Comma-separated values__, soit « données séparées par des virgules », est un __format texte ouvert__, représentant des données sous forme de __valeurs séparées par des séparateurs__, éventuellement sur plusieurs lignes.\n",
    "Initialement le séparateur était « , », il peut aussi être « ; » ou « | ».\n",
    "\n",
    "Le format CSV est un __format très utilisé pour représenter des données structurées, notamment pour importer ou exporter des données à partir d'une feuille de calculs d'un tableur__. C'est un fichier texte dans lequel __chaque ligne correspond à une ligne du tableau__.\n",
    "\n",
    "## Du CSV vers un tableau\n",
    "\n",
    "> __Remarques :__ Même si les notebooks le permettent, il sera préférable d'__utiliser un IDE plus complet__ pour élaborer un projet tel que celui que nous commençons. L'utilisation de Visual Studio Code peut être un choix judicieux mais il n'est pas obligatoire, simplement recommandé.\n",
    "\n",
    "Coder un script permettant de lire le fichier \"Houses.csv\" et de créer un tableau sous la forme :\n",
    "\n",
    "```python\n",
    "houses_list = ['House;Courage;Ambition;Intelligence;Good',\n",
    "               'Gryffindor;9;6;5;9',\n",
    "               'Ravenclaw;7;5;9;8',\n",
    "               'Slytherin;5;9;7;2',\n",
    "               'Hufflepuff;8;4;7;9']\n",
    "```"
   ]
  },
  {
   "cell_type": "code",
   "execution_count": null,
   "metadata": {
    "scrolled": true
   },
   "outputs": [],
   "source": [
    "with open(\"Houses.csv\", mode='r', encoding='utf-8') as f:\n",
    "    house_list = f.readlines()\n",
    "    \n",
    "# Necessite un \"nettoyage\" pour retirer les \\n en fin de chaîne\n",
    "# la méthode strip() supprime les \\n en début et fin de chaîne de caractères\n",
    "\n",
    "for i, chaine in enumerate(house_list):\n",
    "    house_list[i] = chaine.strip()       \n",
    "print(house_list)"
   ]
  },
  {
   "cell_type": "markdown",
   "metadata": {},
   "source": [
    "> __Commentaires :__ \n",
    "- la méthode `.readlines()` ne doit pas avec confondue avec la méthode `.readline()`.\n",
    "- la méthode `.readlines()` renvoit une liste contenant l'ensemble du fichier. Chaque valeur de cette liste est une ligne du fichier, de type chaîne de caractères.\n",
    "- on rappelle que la méthode `enumerate()` permet d'itérer sur le couple `(indice, valeur)` d'une liste Python. Cela peut être utile pour modifier chacune des valeurs de la liste."
   ]
  },
  {
   "cell_type": "markdown",
   "metadata": {},
   "source": [
    "A partir de votre tableau, extraire puis afficher :\n",
    "\n",
    "- la valeur de courage des Gryffindor\n",
    "- la valeur d'intelligence des Slytherin\n",
    "- la valeur d'ambition des Hufflepuff"
   ]
  },
  {
   "cell_type": "code",
   "execution_count": null,
   "metadata": {},
   "outputs": [],
   "source": [
    "print(f\"La valeur de courage des Gryffindor est {house_list[1][11]}\")\n",
    "print(f\"La valeur d'intelligence des Slytherin est {house_list[3][14]}\")\n",
    "print(f\"La valeur d'ambition des Hufflepuff est {house_list[4][13]}\")"
   ]
  },
  {
   "cell_type": "markdown",
   "metadata": {},
   "source": [
    "Résumer comment il faut indicer le tableau pour retrouver de l'information sous ce format :\n",
    "\n",
    "- le premier indice de `house_list` est celui de la maison.\n",
    "- le second indice permet d'aller chercher une valeur de caractère."
   ]
  },
  {
   "cell_type": "markdown",
   "metadata": {},
   "source": [
    "> __Commentaires :__  c'est vraiment très incommode de s'y retrouver ainsi ! En particulier car le second indice dépend de la longueur du nom de la maison. Bref, c'est quasiment ingérable."
   ]
  },
  {
   "cell_type": "markdown",
   "metadata": {},
   "source": [
    "## Du CSV vers un tableau à deux dimensions\n",
    "\n",
    "Coder un script permettant de lire le fichier \"Houses.csv\" et de créer un tableau sous la forme :\n",
    "\n",
    "```python\n",
    "houses_2Dlist = \n",
    "[['House', 'Courage', 'Ambition', 'Intelligence', 'Good'],\n",
    " ['Gryffindor', '9', '6', '5', '9'], \n",
    " ['Ravenclaw', '7', '5', '9', '8'],\n",
    " ['Slytherin', '5', '9', '7', '2'], \n",
    " ['Hufflepuff', '8', '4', '7', '9']\n",
    "]\n",
    "```"
   ]
  },
  {
   "cell_type": "code",
   "execution_count": null,
   "metadata": {},
   "outputs": [],
   "source": [
    "house_2Dlist = []\n",
    "with open(\"Houses.csv\", mode='r', encoding='utf-8') as f:\n",
    "    lines = f.readlines()\n",
    "    for line in lines:\n",
    "        house_2Dlist.append(line.split(\";\"))\n",
    "    \n",
    "# Necessite un \"nettoyage\" pour retirer les \\n\n",
    "\n",
    "for i, tab in enumerate(house_2Dlist):\n",
    "    house_2Dlist[i][-1] = tab[-1].strip()  # seule la dernière valeur (fin de ligne) contient un \\n\n",
    "print(house_2Dlist)"
   ]
  },
  {
   "cell_type": "markdown",
   "metadata": {},
   "source": [
    "> __Commentaires :__\n",
    "- on traite chaque ligne (`line`) de la liste complète (`lines`) avec la méthode `split(\";\")`.\n",
    "- chaque ligne ainsi transformée en liste est ajoutée dans la liste `house_2Dlist`.\n",
    "- l'indice `-1` permet d'aller chercher la dernière valeur des listes contenant une ligne. Seule cette dernière valeur est suceptible de contenir un retour à la ligne `\\n`."
   ]
  },
  {
   "cell_type": "markdown",
   "metadata": {},
   "source": [
    "A partir de votre tableau, extraire puis afficher :\n",
    "\n",
    "- la valeur de courage des Hufflepuff\n",
    "- la valeur d'intelligence des Griffindor\n",
    "- la valeur d'ambition des Ravenclaw"
   ]
  },
  {
   "cell_type": "code",
   "execution_count": null,
   "metadata": {},
   "outputs": [],
   "source": [
    "print(f\"La valeur de courage des Hufflepuff est {house_2Dlist[4][1]}\")\n",
    "print(f\"La valeur d'intelligence des Griffindor est {house_2Dlist[1][3]}\")\n",
    "print(f\"La valeur d'ambition des Ravenclaw est {house_2Dlist[2][2]}\")"
   ]
  },
  {
   "cell_type": "markdown",
   "metadata": {},
   "source": [
    "Résumer comment il faut indicer le tableau pour retrouver de l'information sous ce format :\n",
    "\n",
    "- le premier indice de `house_2Dlist` est à nouveau celui de la maison.\n",
    "- le second indice permet d'aller chercher une valeur de caractère de façon plus simple."
   ]
  },
  {
   "cell_type": "markdown",
   "metadata": {},
   "source": [
    "> __Commentaires :__ cette fois-ci, la valeur de l'indice correspondant au caractère est beaucoup plus simple à gérer (1 : courage, 2 : ambition, ...)"
   ]
  },
  {
   "cell_type": "markdown",
   "metadata": {},
   "source": [
    "## Du CSV vers une table\n",
    "\n",
    "On appelle __table__ une structure de donnée, un conteneur, composée d'un tableau d'enregistrements. Ici, nous souhaitons créer une table structurée comme un __tableau de dictionnaires__.\n",
    "\n",
    "```python\n",
    "houses_tab = \n",
    "[{'House': 'Gryffindor', 'Courage': '9', 'Ambition': '6', 'Intelligence': '5', 'Good': '9'},\n",
    " {'House': 'Ravenclaw', 'Courage': '7', 'Ambition': '5', 'Intelligence': '9', 'Good': '8'},\n",
    " {'House': 'Slytherin', 'Courage': '5', 'Ambition': '9', 'Intelligence': '7', 'Good': '2'},\n",
    " {'House': 'Hufflepuff', 'Courage': '8', 'Ambition': '4', 'Intelligence': '7', 'Good': '9'}]\n",
    "\n",
    "```"
   ]
  },
  {
   "cell_type": "code",
   "execution_count": null,
   "metadata": {},
   "outputs": [],
   "source": [
    "house_tab = []\n",
    "with open(\"Houses.csv\", mode='r', encoding='utf-8') as f:\n",
    "    lines = f.readlines()\n",
    "    key_line = lines[0].strip()\n",
    "    keys = key_line.split(\";\")\n",
    "    for line in lines[1:]:\n",
    "        line = line.strip()\n",
    "        values = line.split(';')\n",
    "        dico = {}\n",
    "        for i in range(len(keys)):\n",
    "            dico[keys[i]] = values[i]\n",
    "        house_tab.append(dico)\n",
    "    \n",
    "print(house_tab)"
   ]
  },
  {
   "cell_type": "markdown",
   "metadata": {},
   "source": [
    "A partir de votre tableau, extraire puis afficher :\n",
    "\n",
    "- la valeur de courage des Slytherin\n",
    "- la valeur d'ambition des Griffindor\n",
    "- la valeur de \"tendance au bien\" des Ravenclaw"
   ]
  },
  {
   "cell_type": "code",
   "execution_count": null,
   "metadata": {},
   "outputs": [],
   "source": [
    "print(f\"La valeur de courage des Slytherin est {house_tab[2]['Courage']}\")\n",
    "print(f\"La valeur d'intelligence des Griffindor est {house_tab[0]['Intelligence']}\")\n",
    "print(f\"La valeur d'ambition des Ravenclaw est {house_tab[1]['Ambition']}\")"
   ]
  },
  {
   "cell_type": "markdown",
   "metadata": {},
   "source": [
    "Résumer comment il faut indicer le tableau pour retrouver de l'information sous ce format :\n",
    "\n",
    "- le premier indice de `house_tab` est à nouveau celui de la maison. Cette fois en partant de 0.\n",
    "- on utilise maintenant une clé pour aller chercher une valeur de caractère."
   ]
  },
  {
   "cell_type": "markdown",
   "metadata": {},
   "source": [
    "> __Commentaires :__ la fait d'utiliser une clé permet une bien meilleure lisibilité du code. Si on veut trouver la valeur de courage, il suffit d'utiliser la clé 'Courage'."
   ]
  },
  {
   "cell_type": "markdown",
   "metadata": {},
   "source": [
    "## Import des élèves à partir d'un fichier CSV\n",
    "\n",
    "#### Choisir la meilleure structure de données pour importer tous les personnages contenus dans le fichier \"Characters.csv\"\n",
    "\n",
    "> __Remarques :__ \n",
    "- le fichier \"Characters.csv\", contenant les personnages du roman _Harry Potter_ est tiré du [site Kaggle](https://www.kaggle.com/gulsahdemiryurek/harry-potter-dataset), qui répertorie de nombreuses données.\n",
    "- ce fichier était probablement codé en latin1 (ou autre format proche).  Sa lecture en utf-8 pose des problèmes d'affichage et le fichier qui vous est fourni a été préalablement converti en utf-8 pour faciliter votre travail."
   ]
  },
  {
   "cell_type": "code",
   "execution_count": null,
   "metadata": {
    "scrolled": true
   },
   "outputs": [],
   "source": [
    "characters_tab = []\n",
    "with open(\"Characters.csv\", mode='r', encoding='utf-8') as f:\n",
    "    lines = f.readlines()\n",
    "    key_line = lines[0].strip()\n",
    "    keys = key_line.split(\";\")\n",
    "    for line in lines[1:]:\n",
    "        line = line.strip()\n",
    "        values = line.split(';')\n",
    "        dico = {}\n",
    "        for i in range(len(keys)):\n",
    "            dico[keys[i]] = values[i]\n",
    "        characters_tab.append(dico)\n",
    "    \n",
    "print(characters_tab)"
   ]
  },
  {
   "cell_type": "markdown",
   "metadata": {},
   "source": [
    "A partir de votre tableau, extraire puis afficher :\n",
    "\n",
    "- la Maison de Rose Granger-Weasley\n",
    "- le Patronus de Seamus Finnigan\n",
    "- la couleur des cheveux d'Hermione Jean Granger"
   ]
  },
  {
   "cell_type": "code",
   "execution_count": null,
   "metadata": {},
   "outputs": [],
   "source": [
    "for character in characters_tab:\n",
    "    if character['Name'] == 'Rose Granger-Weasley':\n",
    "        print(f\"La maison de Rose Granger-Weasley est {character['House']}\")    \n",
    "    if character['Name'] == 'Seamus Finnigan':\n",
    "        print(f\"Le patronus de Seamus Finnigan est {character['Patronus']}\")\n",
    "    if character['Name'] == 'Hermione Jean Granger':\n",
    "        print(f\"\"\"La couleur des cheveux d'Hermione Jean Granger est {character['Hair colour']}\"\"\")"
   ]
  },
  {
   "cell_type": "markdown",
   "metadata": {},
   "source": [
    "> __Commentaires :__\n",
    "- il est maintenant assez facile de s'y retrouver en n'utilisant que des clés et non plus des indices.\n",
    "- on est obligé de parcourir tout le tableau pour trouver le dictionnaire du personnage voulu, ce qui n'est pas très pratique ni efficace. Pour remédier à cela, lorsque l'on sait que nos recherches se feront par le nom du personnage, on peut faire un indexage par personnage. Voir ci-dessous..."
   ]
  },
  {
   "cell_type": "code",
   "execution_count": null,
   "metadata": {},
   "outputs": [],
   "source": [
    "# Création 'un index par personnage, c'est à dire un dictionnaire de dictionnaires.\n",
    "\n",
    "characters_index = {character['Name'] : character for character in characters_tab}\n",
    "\n",
    "# Affichage de l'index pour vérification\n",
    "\n",
    "print(characters_index)\n",
    "\n",
    "# Utilisation de cet index pour répondre aux questions précédentes\n",
    "print(f\"\\nLa maison de Rose Granger-Weasley est {characters_index['Rose Granger-Weasley']['House']}\")    \n",
    "print(f\"Le patronus de Seamus Finnigan est {characters_index['Seamus Finnigan']['Patronus']}\")\n",
    "print(f\"\"\"La couleur des cheveux d'Hermione Jean Granger est {characters_index['Hermione Jean Granger']['Hair colour']}\"\"\")"
   ]
  },
  {
   "cell_type": "markdown",
   "metadata": {},
   "source": [
    "__Conclusion :__ \n",
    "- on a vu qu'il existait de nombreuses façon de stocker des données.\n",
    "- la méthode choisie a des répercussions sur la facilité de leur traitement.\n",
    "- la méthode choisie a des répercussions sur la performance de leur traitement.\n",
    "- il faut donc choisir la structure de données avec soin !"
   ]
  },
  {
   "cell_type": "markdown",
   "metadata": {},
   "source": [
    "---\n",
    "[![Licence CC BY NC SA](https://licensebuttons.net/l/by-nc-sa/3.0/88x31.png \"licence Creative Commons CC BY-NC-SA\")](http://creativecommons.org/licenses/by-nc-sa/3.0/fr/)\n",
    "<p style=\"text-align: center;\">Auteurs :</p>\n",
    "<p style=\"text-align: center;\">David Landry, Lycée Clemenceau - Nantes</p>\n",
    "<p style=\"text-align: center;\">Hervé Favry, Lycée Léonard de Vinci - Montaigu</p>"
   ]
  }
 ],
 "metadata": {
  "kernelspec": {
   "display_name": "Python 3",
   "language": "python",
   "name": "python3"
  },
  "language_info": {
   "codemirror_mode": {
    "name": "ipython",
    "version": 3
   },
   "file_extension": ".py",
   "mimetype": "text/x-python",
   "name": "python",
   "nbconvert_exporter": "python",
   "pygments_lexer": "ipython3",
   "version": "3.8.3"
  }
 },
 "nbformat": 4,
 "nbformat_minor": 2
}
