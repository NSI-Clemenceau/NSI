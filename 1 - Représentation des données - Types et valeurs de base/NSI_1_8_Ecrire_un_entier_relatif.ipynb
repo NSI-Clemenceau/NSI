{
 "cells": [
  {
   "cell_type": "markdown",
   "metadata": {},
   "source": [
    "# Comment écrire un entier relatif ?\n",
    "## "
   ]
  },
  {
   "cell_type": "markdown",
   "metadata": {},
   "source": [
    "Reste à voir comment représenter un entier négatif ou un réel...\n",
    "\n",
    "Mais aussi la repréprésentation hexa !"
   ]
  },
  {
   "cell_type": "markdown",
   "metadata": {},
   "source": [
    "---\n",
    "[![Licence CC BY NC SA](https://licensebuttons.net/l/by-nc-sa/3.0/88x31.png \"licence Creative Commons CC BY-NC-SA\")](http://creativecommons.org/licenses/by-nc-sa/3.0/fr/)\n",
    "\n",
    "<p style=\"text-align: center;\">David Landry, Lycée Clemenceau - Nantes</p>\n",
    "\n",
    "<p style=\"text-align: center;\">D'après un cours partagée par <a  href=https://pixees.fr/informatiquelycee/n_site/nsi_prem.html>David Roche</a> sous la licence CC BY-SA</p>\n"
   ]
  }
 ],
 "metadata": {
  "kernelspec": {
   "display_name": "Python 3",
   "language": "python",
   "name": "python3"
  },
  "language_info": {
   "codemirror_mode": {
    "name": "ipython",
    "version": 3
   },
   "file_extension": ".py",
   "mimetype": "text/x-python",
   "name": "python",
   "nbconvert_exporter": "python",
   "pygments_lexer": "ipython3",
   "version": "3.7.3"
  }
 },
 "nbformat": 4,
 "nbformat_minor": 2
}
