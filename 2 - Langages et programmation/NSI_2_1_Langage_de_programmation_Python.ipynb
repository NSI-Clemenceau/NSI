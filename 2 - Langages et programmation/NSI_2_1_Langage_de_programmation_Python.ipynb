{
 "cells": [
  {
   "cell_type": "markdown",
   "metadata": {},
   "source": [
    "# Un langage de programmation : Python\n",
    "![Logo Python](Logo_python.png)"
   ]
  },
  {
   "cell_type": "markdown",
   "metadata": {},
   "source": [
    "Python est un langage de programmation développé à partir de 1989 par Guido van Rossum. Sa première version est sortie en 1991.\n",
    "![Photo de Van Rossum](Guido_van_Rossum.png)\n",
    "\n",
    "Ce langage de programmation est :\n",
    "\n",
    "- entièrement **gratuit**.\n",
    "- **portable** : c'est-à-dire est exécutable sur tout système d'exploitation.\n",
    "- **modulaire** : de nombreuses librairies dédiées à des tâches précises ont été développées autour d'un noyau concis.\n",
    "- **populaire** : vous pouvez trouver de nombreux forums pour vous aider en cas de difficultés.\n",
    "- **de \"haut niveau\"** : vous pouvez programmer sans tenir compte des spécificités de votre système d'exploitation et des structures de données complexes (qui seront vues et utilisées sur les deux ans) sont disponibles.\n",
    "- **interprété**.\n",
    "\n",
    "## Langage interprété ou compilé ?\n",
    "### Langage interprété\n",
    "\n",
    "Dans un **langage interprété** : le code que vous écrivez est **interprété ligne après ligne**, par un logiciel qu'on appelle **interpréteur**. Celui-ci va utiliser le code source et les données d'entrée pour calculer les données de sortie.\n",
    "\n",
    "![schéma de l'exécution d'un programme en langage interprété](schema_interpreté.png)\n",
    "\n",
    "### Langage compilé\n",
    "D'autres langages (comme le C, ...) sont **compilés** : le code que vous écrivez est **d'abord compilé par un logiciel qu'on appelle compilateur** en une succession de 0 et de 1 (code binaire). \n",
    "\n",
    "**Le système d'exploitation utilise ce code compilé** ainsi que les données pour calculer les données de sorties.\n",
    "\n",
    "![schéma de l'exécution d'un programme en langage compilé](schema_compilé.png)\n",
    "\n",
    "### Quelques exemples de langages interprétés et compilés\n",
    "- langages interprétés : Java et Python\n",
    "- langages compilés : C, C++, Pascal et OCaml\n",
    "\n",
    "### Avantages et inconvénients d'un langage interprété\n",
    "\n",
    "- L'intérêt principal d'un langage interprété est la **portabilité** de votre programme : il fonctionne quelle que soit la configuration de votre ordinateur.\n",
    "- Le principal défaut est que l'exécution d'un programme interprété est souvent **plus lente** que le même programme écrit dans un langage compilé.\n",
    "\n",
    "Ci-dessous, un tableau restituant un test d'efficacité de différents langages. Pour un même programme, on compare :\n",
    "\n",
    "- l'énergie consommée.\n",
    "- le temps d'exécution.\n",
    "- la sobriété en terme de mémoire.\n",
    "\n",
    "[![Comparaison de langages](Efficacite_langages.jpg)](https://programmation.developpez.com/actu/296868/Le-langage-C-ne-sera-t-il-jamais-battu-en-termes-de-rapidite-d-execution-et-de-faible-consommation-d-energie-Voici-les-resultats-d-une-etude-sur-27-langages-de-programmation-les-plus-populaires/#:~:text=Certes%2C%20dans%20l%27%C3%A9tude%20de,programmation%20en%20bas%20de%20classement)\n",
    "\n",
    "> __Commentaires :__\n",
    "\n",
    "![Humour de geeks](C_VS_Python.jpeg)"
   ]
  },
  {
   "cell_type": "markdown",
   "metadata": {},
   "source": [
    "## Environnements de développement (IDE) Python\n",
    "\n",
    "**Définition ([Wikipédia](https://fr.wikipedia.org/wiki/Environnement_de_d%C3%A9veloppement)) :**\n",
    "En programmation informatique, un environnement de développement est un **ensemble d'outils qui permet d'augmenter la productivité des programmeurs** qui développent des logiciels. Il comporte un **éditeur de texte** destiné à la programmation, des fonctions qui permettent, par pression sur un bouton, de démarrer le **compilateur**, l'**interpréteur** ou l'éditeur de liens ainsi qu'un débogueur en ligne, qui permet d'exécuter ligne par ligne le programme en cours de construction.\n",
    "\n",
    "Cette année, nous utiliserons, selon le contexte :\n",
    "- [Jupyter Notebook](https://jupyter.org/) pour les cours et les courtes activités.\n",
    "- [VSCodium](https://vscodium.com/#install) pour les projets plus ambitieux. VSCodium est l'équivalent libre de Visual Studio Code, en plus léger et sans la télémétrie .\n",
    "- [Thonny](https://thonny.org/) si VSC ne vous convient pas, pour une raison ou une autre.\n",
    "- Spyder, un intermédiaire entre le simpliste Pyzo et le plus complexe VSCodium. Spyder est compris dans [la suite Anaconda](https://www.anaconda.com/)."
   ]
  },
  {
   "cell_type": "markdown",
   "metadata": {},
   "source": [
    "## Pour aller plus loin avec Python\n",
    "Internet fourmille de documentation sur le langage Python. On peut citer  :\n",
    "- [Le site python.org et sa documentation](https://docs.python.org/fr/3.8/library/stdtypes.html)\n",
    "- [Wikipédia, pour son histoire et ses spécifiactions générales](https://fr.wikipedia.org/wiki/Python_(langage))\n",
    "- [France IOI pour son parcours d'apprentissage](http://www.france-ioi.org/algo/index.php)\n",
    "- [Open Classroom pour ses formations gratuites](https://openclassrooms.com/fr/courses/235344-apprenez-a-programmer-en-python)\n",
    "- [Le MOOC de l'université Côte d'Azur](https://www.fun-mooc.fr/courses/course-v1:UCA+107001+session02/about)"
   ]
  },
  {
   "cell_type": "markdown",
   "metadata": {},
   "source": [
    "# D'autres langages de programmation\n",
    "## Les langages les plus utilisés dans le monde\n",
    "Le [site tiobe.com](https://www.tiobe.com/tiobe-index//) publie chaque année des estimations d'utilisation des langages de programmation dans le monde.\n",
    "\n",
    "En voici la version 2021 :\n",
    "\n",
    "![Index Tiobe](Tiobe_index.png)\n",
    "\n",
    "On constate que, derrière la très forte popularité des langages C et Java, le langage Python est en constante progression, tout particulièrement ces dernières années :\n",
    "![Index Tiobe](Tiobe_courbe.png)\n",
    "\n",
    "Le site [developpez.com](https://emploi.developpez.com/actu/300374/Emploi-developpeur-2019-les-langages-les-plus-demandes-et-les-mieux-payes/) a également fait une étude de popularité, basée sur les demandes d'emploi en France :\n",
    "![Langages et emplois en France](Langages_emploi.png)\n",
    "On voit, là encore, la progression de Python, dans un marché où la domination du langage Java reste très présente."
   ]
  },
  {
   "cell_type": "markdown",
   "metadata": {},
   "source": [
    "## Que retenir ?\n",
    "### À minima...\n",
    "\n",
    "- Python est un langage de programmation :\n",
    "  - gratuit.\n",
    "  - portable.\n",
    "  - modulaire.\n",
    "  - populaire.\n",
    "  - de \"haut niveau\".\n",
    "  - interprété.\n",
    "- Dans un langage interprété le code est interprété ligne après ligne, contrairement à un langage compilé qui demande une étape de compilation avant de pouvoir d'exécuter.\n",
    "- Un environnement de développement (ex : Pyzo, VSCodium,...) comporte un éditeur de texte et une facilitation d'exécution du compilateur ou de l'interpréteur, du débogueur,...\n",
    "\n",
    "### Au mieux...\n",
    "\n",
    "- L'intérêt principal d'un langage interprété est la portabilité de votre programme : il fonctionne quelle que soit la configuration de votre ordinateur. Le principal défaut est que l'exécution d'un programme interprété est souvent plus lente que le même programme écrit dans un langage compilé.\n",
    "- Python regroupe de nombreuses qualités et c'est pourquoi il est de plus en plus largement utilisé dans le monde du développement. \n",
    "- Le principal défaut que l'on attribue à Python est sa lenteur d'interprétation.\n",
    "- Au contraire, un langage compilé, après compilation, est sous une forme binaire qui est directement utilisable par le système d'exploitation, ce qui le rend plus performant."
   ]
  },
  {
   "cell_type": "markdown",
   "metadata": {},
   "source": [
    "---\n",
    "[![Licence CC BY NC SA](https://licensebuttons.net/l/by-nc-sa/3.0/88x31.png \"licence Creative Commons CC BY-NC-SA\")](http://creativecommons.org/licenses/by-nc-sa/3.0/fr/)\n",
    "<p style=\"text-align: center;\">Auteur : David Landry, Lycée Clemenceau - Nantes</p>\n",
    "<p style=\"text-align: center;\">D'après des documents partagés par <a  href=http://france-ioi.org>France-ioi.org</a></p>\n",
    "\n"
   ]
  }
 ],
 "metadata": {
  "kernelspec": {
   "display_name": "Python 3",
   "language": "python",
   "name": "python3"
  },
  "language_info": {
   "codemirror_mode": {
    "name": "ipython",
    "version": 3
   },
   "file_extension": ".py",
   "mimetype": "text/x-python",
   "name": "python",
   "nbconvert_exporter": "python",
   "pygments_lexer": "ipython3",
   "version": "3.8.3"
  }
 },
 "nbformat": 4,
 "nbformat_minor": 2
}
