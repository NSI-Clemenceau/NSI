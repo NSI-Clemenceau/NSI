{
 "cells": [
  {
   "cell_type": "markdown",
   "metadata": {},
   "source": [
    "# Les autres tris (approfondissement)\n",
    "\n",
    "Nous avons vu les tris exigibles au programme de 1ère. Il en existe toutefois de nombreux autres, dont certains ont déjà été cités :\n",
    "\n",
    "- tri à bulle (simple mais hors programme)\n",
    "- __tri par sélection__\n",
    "- __tri par insertion__\n",
    "- tri rapide \"quicksort\" (plus complexe et hors programme)\n",
    "- tri fusion (encore un peu plus complexe et hors programme)\n",
    "\n",
    "Nous avons également vu qu'__en Python, on utilise [la fonction `sorted()` ou la méthode .sort()](https://docs.python.org/fr/3/howto/sorting.html)__, plus ou moins basées sur le tri rapide.\n",
    "\n",
    "Ce notebook a pour ambition d'en découvrir certains, en théorie, comme en pratique."
   ]
  },
  {
   "cell_type": "markdown",
   "metadata": {},
   "source": [
    "## Le tri à bulle\n",
    "\n",
    "Etant très clairement le plus simple des tris de ce chapitre, il est envisageable de le découvrir... par la danse :\n",
    "\n",
    "[![Vidéo du tri à bulle dansé](Danse_bulle.png)](https://youtu.be/lyZQPjUT5B4?t=50)\n",
    "(Cliquer sur l'image pour lancer la vidéo)\n",
    "\n",
    "### Votre principe du tri à bulle\n",
    "\n",
    "Une proposition de description du principe de ce tri vous sera donnée ci-dessous, mais il y a de nombreux moyen de le décrire. A vous de trouver votre façon, le plus précisément possible :\n",
    "\n",
    "- \n",
    "- \n",
    "\n",
    "### Principe du tri à bulle\n",
    "\n",
    "__On parcourt le tableau autant de fois qu'il le faut pour qu'il soit trié. A chaque parcours, on compare deux à deux les éléments successifs et on les échange que besoin.__. \n",
    "\n",
    "### Le tri à bulle en détail\n",
    "\n",
    "- On traite successivement chaque couple d'élément du tableau, en commençant dès le début.\n",
    "- Si l'élément d'indice supérieur a une valeur inférieure, on échange les deux éléments.\n",
    "- On parcourt ce tableau en entier, autant de fois qu'il est nécéessaire pour qu'il soit trié. \n",
    "- On a donc besoin de vérifier à chaque parcours qu'il y a eu au moins un échange pour savoir s'il faudra reparcourir le tableau à nouveau. \n",
    "\n",
    "### Algorithme du tri à bulle\n",
    "\n",
    "Ecrire, ci dessous, le __pseudo-code d'un tri à bulle__ :\n",
    "\n",
    "      VARIABLES\n",
    "      \n",
    "      DEBUT\n",
    "      FIN"
   ]
  },
  {
   "cell_type": "markdown",
   "metadata": {},
   "source": [
    "### Programme Python du tri à bulle\n",
    "\n",
    "A l'aide de l'algorithme ci-dessus, __coder un programme de tri à bulle, dans une fonction nommée `tri_bulle(tableau_a_trier)`__. Cette fonction devra renvoyer le tableau trié."
   ]
  },
  {
   "cell_type": "code",
   "execution_count": null,
   "metadata": {},
   "outputs": [],
   "source": [
    "def tri_bulle(tableau_a_trier):"
   ]
  },
  {
   "cell_type": "markdown",
   "metadata": {},
   "source": [
    "## Le tri rapide\n",
    "\n",
    "Le tri rapide est certainement plus complexe à saisir. Pour ceux qui le souhaitent, il est toujours envisageable de le découvrir par la danse :\n",
    "\n",
    "[![Vidéo du tri rapide dansé](Danse_rapide.png)](https://www.youtube.com/watch?v=ywWBy6J5gz8)\n",
    "(Cliquer sur l'image pour lancer la vidéo)\n",
    "\n",
    "Ou par simulation :\n",
    "\n",
    "[![Simulateur_de_tri](Simulateur_de_tri.png)](https://interstices.info/les-algorithmes-de-tri/)\n",
    "(Cliquer sur l'image pour accéder au simulateur. Ne pas oublier de sélectionner le bon tri)\n",
    "\n",
    "\n",
    "### Votre principe du tri rapide\n",
    "\n",
    "Une proposition de description du principe de ce tri vous sera donnée ci-dessous, mais il y a de nombreux moyen de le décrire. A vous de trouver votre façon, le plus précisément possible :\n",
    "\n",
    "- \n",
    "- \n",
    "\n",
    "### Principe du tri rapide\n",
    "\n",
    "__On procède à une partition du tableau en 2 zones : les éléments inférieurs ou égaux à un élément \"pivot\" et les éléments supérieurs ou égaux à ce pivot. On répète récursivement la procédure sur chacune des partitions créées jusqu’à ce qu’elle soit réduite à un ensemble à un seul élément.__. \n",
    "\n",
    "### Le tri rapide en détail\n",
    "\n",
    "- On considère un élément au hasard dans le tableau, le pivot, dont on affecte la valeur à une variable, disons pivot. \n",
    "- On procède alors à une partition du tableau en 2 zones : les éléments inférieurs ou égaux à pivot et les éléments supérieurs ou égaux à pivot. \n",
    "- Si on parvient à mettre les éléments plus petits en tête du tableau et les éléments plus grands en queue de tableau, alors on peut placer la valeur de pivot à sa place définitive, entre les deux zones. \n",
    "- On répète ensuite récursivement la procédure sur chacune des partitions créées jusqu’à ce qu’elle soit réduite à un ensemble à un seul élément.\n",
    "\n",
    "> __Remarques :__ \n",
    "- La partie du tri la plus sensible reste le choix du pivot. Dans l’algorithme précédent, il est choisi au hasard parmi les éléments du tableau, mais ce choix peut se révéler catastrophique : si le pivot est à chaque choix le plus petit élément du tableau, alors le tri rapide dégénère en tri par sélection.\n",
    "- Un élément essentiel à l'efficacité de ce tri consiste donc à trouver un bon pivot (ayant une valeur médiane sur celles à trier), plutôt que de choisir un pivot au hasard.\n",
    "\n",
    "### Algorithme du tri rapide\n",
    "\n",
    "Le tri rapide nécessite d'utiliser une première fonction `partitionner()`, qui sera utilisée dans la fonction de tri rapide.\n",
    "\n",
    "En voici un [algorithme en pseudo-code, version wikipédia](https://fr.wikipedia.org/wiki/Tri_rapide), dont j'ai un peu adapté la syntaxe :\n",
    "\n",
    "    DEBUT\n",
    "    partitionner(tableau T, entier premier, entier dernier, entier pivot)\n",
    "        échanger T[pivot] et T[dernier]  # échange le pivot avec le dernier du tableau , le pivot devient le dernier du tableau\n",
    "        j ← premier\n",
    "        POUR i DE premier A (dernier - 1)\n",
    "            SI T[i] <= T[dernier]\n",
    "                échanger T[i] et T[j]\n",
    "                j ← j + 1\n",
    "            FIN_SI\n",
    "        FIN_POUR\n",
    "        échanger T[dernier] et T[j]\n",
    "        RENVOYER j\n",
    "    FIN\n",
    "    \n",
    "    DEBUT\n",
    "    tri_rapide(tableau T, entier premier, entier dernier)\n",
    "            SI premier < dernier\n",
    "                pivot ← choix_pivot(T, premier, dernier)  # à définir\n",
    "                pivot ← partitionner(T, premier, dernier, pivot)\n",
    "                tri_rapide(T, premier, pivot - 1)  # récursivité\n",
    "                tri_rapide(T, pivot + 1, dernier)  # récursivité\n",
    "            FIN_SI\n",
    "    FIN"
   ]
  },
  {
   "cell_type": "markdown",
   "metadata": {},
   "source": [
    "### Programme Python du tri rapide\n",
    "\n",
    "A l'aide de l'algorithme ci-dessus, __coder un programme de tri rapide, dans une fonction nommée `tri_rapide(tableau, premier_indice, dernier_indice)`__, utilisant elle-même une fonction `partitionner(tableau, premier_indice, dernier_indice, indice_pivot)`. Cette fonction est en fait une procédure qui trie le tableau \"en place\"."
   ]
  },
  {
   "cell_type": "code",
   "execution_count": null,
   "metadata": {},
   "outputs": [],
   "source": [
    "def partitionner(tableau, premier_indice, dernier_indice, indice_pivot):\n",
    "    \n",
    "    \n",
    "    \n",
    "def tri_rapide(tableau, premier_indice, dernier_indice):\n"
   ]
  },
  {
   "cell_type": "markdown",
   "metadata": {},
   "source": [
    "## Utiliser la fonction et la méthode de tri de Python\n",
    "\n",
    "__En Python, on utilise [la fonction `sorted()` ou la méthode .sort()](https://docs.python.org/fr/3/howto/sorting.html)__, plus ou moins basées sur le tri rapide.\n",
    "\n",
    "### Quand utiliser la fonction ou la méthode de tri ?\n",
    "\n",
    "Une fonction et une méthode ne s'appliquent pas de la même manière et la conséquence de leur application est différente.\n",
    "\n",
    "Quelques exemples à interpréter pour vous en convaincre..."
   ]
  },
  {
   "cell_type": "code",
   "execution_count": null,
   "metadata": {},
   "outputs": [],
   "source": [
    "from random import randint\n",
    "\n",
    "tab1 = [randint(1, 100) for _ in range(15)]\n",
    "\n",
    "print(tab1)\n",
    "print(tab1.sort())\n",
    "print(tab1)"
   ]
  },
  {
   "cell_type": "code",
   "execution_count": null,
   "metadata": {},
   "outputs": [],
   "source": [
    "tab2 = [randint(1, 100) for _ in range(15)]\n",
    "\n",
    "print(tab2)\n",
    "print(sorted(tab2))\n",
    "print(tab2)"
   ]
  },
  {
   "cell_type": "markdown",
   "metadata": {},
   "source": [
    "> __Commentaires :__ détailler les différences de comportement observées."
   ]
  },
  {
   "cell_type": "markdown",
   "metadata": {},
   "source": [
    "#### La fonction sorted()\n",
    "\n",
    "On constate qu'__une fonction de tri renvoie un tableau trié__ lorsqu'on passe un __tableau à trier en paramètre__ (dans les parenthèses. Ex : `sorted(tab)`). \n",
    "\n",
    "Le tableau à trier n'a donc pas changé et c'est __un nouvel objet qui a été crée__ : un tableau trié.\n",
    "\n",
    "Si on veut utiliser ce tableau trié, il est donc utile de l'affecter dans une nouvelle variable, comme ci-dessous."
   ]
  },
  {
   "cell_type": "code",
   "execution_count": null,
   "metadata": {},
   "outputs": [],
   "source": [
    "tab3 = [randint(1, 100) for _ in range(15)]\n",
    "\n",
    "print(tab3)\n",
    "tab3_trie = sorted(tab3)\n",
    "\n",
    "print(tab3)\n",
    "print(tab3_trie)"
   ]
  },
  {
   "cell_type": "markdown",
   "metadata": {},
   "source": [
    "#### La méthode sort()\n",
    "\n",
    "On a constaté que, contrairement à une fonction, __une méthode de tri ne renvoie rien !__\n",
    "\n",
    "Avec l'instruction `tab.sort()`, __la méthode `.sort()` trie \"sur place\"__ l'objet `tab` qui est à trier : cet objet `tab` est donc modifié et on perd l'information sur son état précédent.\n",
    "\n",
    "> __Remarques :__ \n",
    "- comme toute méthode, la syntaxe de la méthode `.sort()` est la suivante : on écrit d'abord l'objet sur lequel on va appliquer la méthode, puis ensuite la méthode elle même, collée à l'objet par un point : `tab.sort()`.\n",
    "- même vides, les parenthèses sont indispensables.\n",
    "- on peut ajouter des paramètres dans ces parenthèses (on en verra un exemple dans ce notebook)\n",
    "\n",
    "Lorsqu'on utilise la méthode `.sort()`il faut donc être bien certain de ne pas avoir besoin ultérieurement de l'état initial de l'objet que l'on va trier.\n",
    "\n",
    "### Comment changer les critères de tri ?\n",
    "\n",
    "Dans l'exemple ci-dessous, nous allons essayer de trier les lettres par ordre alphabétique."
   ]
  },
  {
   "cell_type": "code",
   "execution_count": null,
   "metadata": {},
   "outputs": [],
   "source": [
    "texte = \"C'étaient pas des amis de luxe, \\\n",
    "         Des petits Castor et Pollux\".split()\n",
    "texte_trie = sorted(texte)\n",
    "print(texte_trie)"
   ]
  },
  {
   "cell_type": "markdown",
   "metadata": {},
   "source": [
    "#### Le paramètre `key` pour changer les critères de tri\n",
    "\n",
    "On constate que le tri n'est pas parfaitement alphabétique puisque les majuscules sont triées en priorité.\n",
    "\n",
    "__Pour modifier les critères de tri, on utilise le paramètre `key`__.\n",
    "\n",
    "On donne à ce paramètre `key` le nom d'une fonction ou de tout élément \"appelable\" : __on passe une fonction en argument !__\n",
    "\n",
    "Voir les exemples ci-dessous..."
   ]
  },
  {
   "cell_type": "code",
   "execution_count": null,
   "metadata": {},
   "outputs": [],
   "source": [
    "texte_trie = sorted(texte, key=str.lower)\n",
    "print(texte_trie)"
   ]
  },
  {
   "cell_type": "code",
   "execution_count": null,
   "metadata": {},
   "outputs": [],
   "source": [
    "def sans_casse():\n",
    "    return str.lower\n",
    "\n",
    "texte_trie = sorted(texte, key=sans_casse())\n",
    "print(texte_trie)"
   ]
  },
  {
   "cell_type": "code",
   "execution_count": null,
   "metadata": {},
   "outputs": [],
   "source": [
    "texte_trie = sorted(texte, key=lambda mot: mot.lower())\n",
    "print(texte_trie)"
   ]
  },
  {
   "cell_type": "markdown",
   "metadata": {},
   "source": [
    "> __Remarque :__ le mot clé `lambda` permet de contracter une fonction en une seule ligne, par une syntaxe compacte. On parle de [__fonction anonyme__](https://waytolearnx.com/2020/06/les-fonctions-anonymes-lambda-en-python.html).\n",
    "\n",
    "#### Les critères de tri dans un tableau à deux dimensions\n",
    "\n",
    "Il sera très souvent utile d'utiliser des tableaux à deux dimensions dans lesquels il faudra trier suivant un critère particulier.\n",
    "\n",
    "Voir les exemples ci-dessous..."
   ]
  },
  {
   "cell_type": "code",
   "execution_count": null,
   "metadata": {},
   "outputs": [],
   "source": [
    "# On souhaite conserver le score de chaque joueur\n",
    "scores = [['Bob', 154],\n",
    "         ['Alice', 456],\n",
    "         ['calimero', 251],\n",
    "         ['Dobby', 26]]\n",
    "tri_scores = sorted(scores)\n",
    "print(tri_scores)"
   ]
  },
  {
   "cell_type": "markdown",
   "metadata": {},
   "source": [
    "> __Commentaires :__ noter les critères de tri par défaut"
   ]
  },
  {
   "cell_type": "code",
   "execution_count": null,
   "metadata": {},
   "outputs": [],
   "source": [
    "scores = [['Bob', 154],\n",
    "         ['Alice', 456],\n",
    "         ['calimero', 251],\n",
    "         ['Dobby', 26]]\n",
    "\n",
    "# Avec une fonction anonyme\n",
    "tri_scores1 = sorted(scores, key=lambda joueur: joueur[1])\n",
    "print(tri_scores1)\n",
    "\n",
    "# Avec une fonction classique\n",
    "def cherche_score(joueur):\n",
    "    return joueur[1]\n",
    "\n",
    "tri_scores2 = sorted(scores, key=cherche_score)\n",
    "print(tri_scores2)"
   ]
  },
  {
   "cell_type": "markdown",
   "metadata": {},
   "source": [
    "> __Commentaires :__ noter comment on a pu trier suivant le critère de score."
   ]
  },
  {
   "cell_type": "markdown",
   "metadata": {},
   "source": [
    "#### Trier en ordre décroissant\n",
    "\n",
    "Avec le paramètre `reverse`, il est très simple d'inverser le tri :"
   ]
  },
  {
   "cell_type": "code",
   "execution_count": null,
   "metadata": {},
   "outputs": [],
   "source": [
    "tri_scores1 = sorted(scores, key=lambda joueur: joueur[1], reverse=True)\n",
    "print(tri_scores1)"
   ]
  },
  {
   "cell_type": "markdown",
   "metadata": {},
   "source": [
    "> __Remarque :__ la méthode `.sort()` utilise les mêmes paramètres."
   ]
  },
  {
   "cell_type": "code",
   "execution_count": null,
   "metadata": {},
   "outputs": [],
   "source": [
    "print(scores)\n",
    "scores.sort(key=lambda joueur: joueur[1], reverse=True)\n",
    "print(scores)"
   ]
  },
  {
   "cell_type": "markdown",
   "metadata": {},
   "source": [
    "---\n",
    "[![Ce document est publié sous licence CC BY NC SA](https://licensebuttons.net/l/by-nc-sa/3.0/88x31.png \"licence Creative Commons CC BY-NC-SA\")](http://creativecommons.org/licenses/by-nc-sa/3.0/fr/)\n",
    "<p style=\"text-align: center;\">Auteur : David Landry, Lycée Clemenceau - Nantes</p>\n",
    "<p style=\"text-align: center;\">D'après des documents partagés par...</p>\n",
    "<p style=\"text-align: center;\"><a  href=https://interstices.info/les-algorithmes-de-tri/>Marion Videau et David Eck, sur le site Interstices, une publication de l'INRIA</a></p>"
   ]
  }
 ],
 "metadata": {
  "kernelspec": {
   "display_name": "Python 3",
   "language": "python",
   "name": "python3"
  },
  "language_info": {
   "codemirror_mode": {
    "name": "ipython",
    "version": 3
   },
   "file_extension": ".py",
   "mimetype": "text/x-python",
   "name": "python",
   "nbconvert_exporter": "python",
   "pygments_lexer": "ipython3",
   "version": "3.8.3"
  }
 },
 "nbformat": 4,
 "nbformat_minor": 2
}
