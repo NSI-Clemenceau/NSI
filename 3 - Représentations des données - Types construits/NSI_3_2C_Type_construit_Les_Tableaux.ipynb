{
 "cells": [
  {
   "cell_type": "markdown",
   "metadata": {},
   "source": [
    "# Structures de données de type construit ordonné\n",
    "\n",
    "On a vu qu'il existait des types plus complexes que les types de base, on parle de __types construits__ :\n",
    "\n",
    "- des __p-uplets (type `tuple` en Python)__\n",
    "- des __tableaux (type `list` en Python)__.\n",
    "\n",
    "Après avoir découvert les tuples, nous étudierons dans ce notebook les listes.\n",
    "\n",
    "__Les listes ont des points communs importants avec les tuples : ce sont des types construits indexés donc ordonnés__ (il sont structurés de façon ordonnées : aux indices 0, 1, 2, 3,...)\n",
    "\n",
    "## Les tableaux ou listes\n",
    "\n",
    "> __Définition : Un objet de type tableau, est une suite ordonnée modifiable d’éléments indexés qui peuvent être chacun de n’importe quel type.__ \n",
    "\n",
    "__En Python, un tableau est de type `list`__. On pourra donc utiliser indifféremment ces deux termes : __tableau ou liste__.\n",
    "\n",
    "Un tableau ressemble beaucoup à un tuple, à la différence notable qu'__on peut le modifier__ : changer des valeurs et même changer la longueur du tableau.\n",
    "\n",
    "## Comments _construire_ une liste ?\n",
    "\n",
    "Il est très simple de créer une liste, il suffit de lui __affecter une suite de valeurs, séparées par des virgules, le tout entre crochets__.\n",
    "\n",
    "### Créer une liste manuellement"
   ]
  },
  {
   "cell_type": "code",
   "execution_count": null,
   "metadata": {},
   "outputs": [],
   "source": [
    "ma_liste = [1, 2, 3, 4, 5, 6]"
   ]
  },
  {
   "cell_type": "markdown",
   "metadata": {},
   "source": [
    "On constate alors que l'on a bien crée une variable de type `list` :"
   ]
  },
  {
   "cell_type": "code",
   "execution_count": null,
   "metadata": {
    "scrolled": true
   },
   "outputs": [],
   "source": [
    "print(f'La variable \"ma_liste\" est de type {type(ma_liste)}')\n",
    "print(f'La variable \"ma_liste\" a pour valeur {ma_liste}')"
   ]
  },
  {
   "cell_type": "markdown",
   "metadata": {},
   "source": [
    "### Créer une liste petit à petit : création en extension\n",
    "\n",
    "On verra aussi qu'il est souvent plus utile d'ajouter les éléments un a un, à l'aide de la méthode `.append()`.\n",
    "\n",
    "Par exemple, on peut créer une liste vide, puis la remplir.\n",
    "\n",
    "On parle alors de __création de liste en extension__."
   ]
  },
  {
   "cell_type": "code",
   "execution_count": null,
   "metadata": {},
   "outputs": [],
   "source": [
    "ma_liste = []\n",
    "print(ma_liste)\n",
    "ma_liste.append(5)\n",
    "print(ma_liste)\n",
    "ma_liste.append('Bingo !')\n",
    "print(ma_liste)\n",
    "ma_liste.append(('un', 'tuple', 'pour', 'changer'))\n",
    "print(ma_liste)"
   ]
  },
  {
   "cell_type": "markdown",
   "metadata": {},
   "source": [
    "### Créer une liste à l'aide d'une boucle"
   ]
  },
  {
   "cell_type": "code",
   "execution_count": null,
   "metadata": {},
   "outputs": [],
   "source": [
    "liste_de_nombres_pairs = []\n",
    "for i in range(20):\n",
    "    liste_de_nombres_pairs.append(i * 2)\n",
    "print(liste_de_nombres_pairs)"
   ]
  },
  {
   "cell_type": "markdown",
   "metadata": {},
   "source": [
    "### Créer une liste _en compréhension_\n",
    "\n",
    "Cette méthode de __création de liste en compréhension__ est à la fois pratique efficace et... belle. C'est un parfait exemple de la créativité du langage Python.\n",
    "\n",
    "Tout se passe directement entre les crochets.\n",
    "\n",
    "Le plus simple est d'en analyser quelques exemples..."
   ]
  },
  {
   "cell_type": "code",
   "execution_count": null,
   "metadata": {},
   "outputs": [],
   "source": [
    "ma_liste = [i for i in range(30)]\n",
    "print(ma_liste)"
   ]
  },
  {
   "cell_type": "code",
   "execution_count": null,
   "metadata": {},
   "outputs": [],
   "source": [
    "liste_de_nombres_pairs = [i * 2 for i in range(30)]\n",
    "print(liste_de_nombres_pairs)"
   ]
  },
  {
   "cell_type": "code",
   "execution_count": null,
   "metadata": {},
   "outputs": [],
   "source": [
    "liste_multiples_de_6 = [i * 3 for i in liste_de_nombres_pairs]\n",
    "print(liste_multiples_de_6)"
   ]
  },
  {
   "cell_type": "code",
   "execution_count": null,
   "metadata": {},
   "outputs": [],
   "source": [
    "liste_excluant_dizaines = [i for i in ma_liste if i % 10 != 0]\n",
    "print(liste_excluant_dizaines)"
   ]
  },
  {
   "cell_type": "code",
   "execution_count": null,
   "metadata": {},
   "outputs": [],
   "source": [
    "from random import randint\n",
    "liste_aleatoire = [randint(0, 100) for _ in range(20)]\n",
    "print(liste_aleatoire)"
   ]
  },
  {
   "cell_type": "code",
   "execution_count": null,
   "metadata": {
    "scrolled": true
   },
   "outputs": [],
   "source": [
    "liste_de_listes = [[i, j] for i in range(3) for j in range(2)]\n",
    "print(liste_de_listes)"
   ]
  },
  {
   "cell_type": "code",
   "execution_count": null,
   "metadata": {},
   "outputs": [],
   "source": [
    "listes_emboitees = [[[i, j] for i in range(3)] for j in range(2)]\n",
    "print(listes_emboitees)"
   ]
  },
  {
   "cell_type": "markdown",
   "metadata": {},
   "source": [
    "> __Remarque :__ j'espère que vous n'avez pas oublié de commenter ces découvertes !"
   ]
  },
  {
   "cell_type": "markdown",
   "metadata": {},
   "source": [
    "Afin d'avoir une trace écrite du comportement des listes, __commentez chacun des essais suivants...__\n",
    "\n",
    "### Atteindre une variable contenue dans une liste par son indice"
   ]
  },
  {
   "cell_type": "code",
   "execution_count": null,
   "metadata": {},
   "outputs": [],
   "source": [
    "print(liste_de_nombres_pairs)\n",
    "print(liste_de_nombres_pairs[3])"
   ]
  },
  {
   "cell_type": "code",
   "execution_count": null,
   "metadata": {
    "scrolled": true
   },
   "outputs": [],
   "source": [
    "print(liste_de_nombres_pairs[-1])"
   ]
  },
  {
   "cell_type": "code",
   "execution_count": null,
   "metadata": {},
   "outputs": [],
   "source": [
    "print(liste_de_listes)\n",
    "print(liste_de_listes[3])"
   ]
  },
  {
   "cell_type": "code",
   "execution_count": null,
   "metadata": {},
   "outputs": [],
   "source": [
    "print(liste_de_listes[4][0])"
   ]
  },
  {
   "cell_type": "code",
   "execution_count": null,
   "metadata": {},
   "outputs": [],
   "source": [
    "print(listes_emboitees)\n",
    "print(listes_emboitees[1][2][0])"
   ]
  },
  {
   "cell_type": "markdown",
   "metadata": {},
   "source": [
    "### Atteindre toutes les variables contenues dans une liste"
   ]
  },
  {
   "cell_type": "code",
   "execution_count": null,
   "metadata": {
    "scrolled": true
   },
   "outputs": [],
   "source": [
    "for i in range(len(liste_de_nombres_pairs)):\n",
    "    print(liste_de_nombres_pairs[i], end=' ')"
   ]
  },
  {
   "cell_type": "code",
   "execution_count": null,
   "metadata": {
    "scrolled": false
   },
   "outputs": [],
   "source": [
    "for valeur in liste_de_nombres_pairs:\n",
    "    print(valeur, end=' ')"
   ]
  },
  {
   "cell_type": "markdown",
   "metadata": {},
   "source": [
    "### Changer une variable dans une liste"
   ]
  },
  {
   "cell_type": "code",
   "execution_count": null,
   "metadata": {
    "scrolled": false
   },
   "outputs": [],
   "source": [
    "liste_de_nombres_pairs[0] = 15254\n",
    "print(liste_de_nombres_pairs)"
   ]
  },
  {
   "cell_type": "code",
   "execution_count": null,
   "metadata": {},
   "outputs": [],
   "source": [
    "print(listes_emboitees)\n",
    "listes_emboitees[1][2][0] = 'on peut tout modifier dans une liste'\n",
    "print(listes_emboitees)"
   ]
  },
  {
   "cell_type": "markdown",
   "metadata": {},
   "source": [
    "### Varier les types contenus dans une liste"
   ]
  },
  {
   "cell_type": "markdown",
   "metadata": {},
   "source": [
    "Tout comme les tuples, on peut affecter n'importe quel type de variable dans une liste."
   ]
  },
  {
   "cell_type": "markdown",
   "metadata": {},
   "source": [
    "### Concaténer deux listes"
   ]
  },
  {
   "cell_type": "code",
   "execution_count": null,
   "metadata": {
    "scrolled": true
   },
   "outputs": [],
   "source": [
    "liste_concatene = liste_de_nombres_pairs + [1254, 654]\n",
    "print(liste_concatene)"
   ]
  },
  {
   "cell_type": "code",
   "execution_count": null,
   "metadata": {
    "scrolled": true
   },
   "outputs": [],
   "source": [
    "liste_concatene = ['a', 'b'] * 2\n",
    "print(liste_concatene)"
   ]
  },
  {
   "cell_type": "code",
   "execution_count": null,
   "metadata": {},
   "outputs": [],
   "source": [
    "liste_concatene.extend([4, 658])\n",
    "print(liste_concatene)"
   ]
  },
  {
   "cell_type": "markdown",
   "metadata": {},
   "source": [
    "### Affectation multiple"
   ]
  },
  {
   "cell_type": "code",
   "execution_count": null,
   "metadata": {
    "scrolled": true
   },
   "outputs": [],
   "source": [
    "a, b, c, d, e, f = liste_concatene\n",
    "print(e)\n",
    "print(f)"
   ]
  },
  {
   "cell_type": "code",
   "execution_count": null,
   "metadata": {},
   "outputs": [],
   "source": [
    "a, b, *c, d = liste_concatene\n",
    "print(a)\n",
    "print(b)\n",
    "print(c)\n",
    "print(d)"
   ]
  },
  {
   "cell_type": "markdown",
   "metadata": {},
   "source": [
    "Mais on remarque que..."
   ]
  },
  {
   "cell_type": "code",
   "execution_count": null,
   "metadata": {},
   "outputs": [],
   "source": [
    "a, b = liste_concatene\n",
    "print(a)\n",
    "print(b)"
   ]
  },
  {
   "cell_type": "markdown",
   "metadata": {},
   "source": [
    "### Test d'appartenance dans une liste"
   ]
  },
  {
   "cell_type": "code",
   "execution_count": null,
   "metadata": {},
   "outputs": [],
   "source": [
    "print(ma_liste)\n",
    "3 in ma_liste"
   ]
  },
  {
   "cell_type": "code",
   "execution_count": null,
   "metadata": {},
   "outputs": [],
   "source": [
    "35 in ma_liste"
   ]
  },
  {
   "cell_type": "code",
   "execution_count": null,
   "metadata": {},
   "outputs": [],
   "source": [
    "35 not in ma_liste"
   ]
  },
  {
   "cell_type": "markdown",
   "metadata": {},
   "source": [
    "### Connaître le nombre d'énéments contenus dans une liste"
   ]
  },
  {
   "cell_type": "code",
   "execution_count": null,
   "metadata": {},
   "outputs": [],
   "source": [
    "len(ma_liste)"
   ]
  },
  {
   "cell_type": "markdown",
   "metadata": {},
   "source": [
    "### Slicing sur liste (approfondissement)"
   ]
  },
  {
   "cell_type": "code",
   "execution_count": null,
   "metadata": {},
   "outputs": [],
   "source": [
    "liste_alphabet = ['A', 'B', 'C', 'D', 'E', 'F', 'G', 'H', 'I', 'J', 'K', 'L', 'M']\n",
    "print(liste_alphabet[2:6])"
   ]
  },
  {
   "cell_type": "code",
   "execution_count": null,
   "metadata": {},
   "outputs": [],
   "source": [
    "print(liste_alphabet[3:-3])"
   ]
  },
  {
   "cell_type": "code",
   "execution_count": null,
   "metadata": {},
   "outputs": [],
   "source": [
    "print(liste_alphabet[-1:5:-1])"
   ]
  },
  {
   "cell_type": "markdown",
   "metadata": {},
   "source": [
    "### Quelques méthodes utiles pour les listes (Approfondissement)"
   ]
  },
  {
   "cell_type": "code",
   "execution_count": null,
   "metadata": {},
   "outputs": [],
   "source": [
    "liste_mots = ['il', 'était', 'un', 'petit', 'navire', 'il', 'était', 'il']\n",
    "liste_mots.append('stop')\n",
    "print(liste_mots)"
   ]
  },
  {
   "cell_type": "code",
   "execution_count": null,
   "metadata": {
    "scrolled": true
   },
   "outputs": [],
   "source": [
    "liste_variee = [5, 875, ('bob', \"l'éponge\"), 67.874]\n",
    "liste_variee.extend(liste_mots)\n",
    "print(liste_variee)"
   ]
  },
  {
   "cell_type": "code",
   "execution_count": null,
   "metadata": {},
   "outputs": [],
   "source": [
    "liste_variee.insert(2, 'bonus')\n",
    "print(liste_variee)"
   ]
  },
  {
   "cell_type": "code",
   "execution_count": null,
   "metadata": {},
   "outputs": [],
   "source": [
    "liste_variee.index('petit')"
   ]
  },
  {
   "cell_type": "code",
   "execution_count": null,
   "metadata": {
    "scrolled": true
   },
   "outputs": [],
   "source": [
    "liste_variee.index('il')"
   ]
  },
  {
   "cell_type": "code",
   "execution_count": null,
   "metadata": {
    "scrolled": true
   },
   "outputs": [],
   "source": [
    "liste_variee.count('il')"
   ]
  },
  {
   "cell_type": "code",
   "execution_count": null,
   "metadata": {},
   "outputs": [],
   "source": [
    "liste_variee.clear()\n",
    "print(liste_variee)"
   ]
  },
  {
   "cell_type": "code",
   "execution_count": null,
   "metadata": {},
   "outputs": [],
   "source": [
    "liste_variee = [5, 875, ('bob', \"l'éponge\"), 67.874]\n",
    "liste_variee.pop()\n",
    "print(liste_variee)"
   ]
  },
  {
   "cell_type": "code",
   "execution_count": null,
   "metadata": {},
   "outputs": [],
   "source": [
    "liste_variee.remove(5)\n",
    "print(liste_variee)"
   ]
  },
  {
   "cell_type": "code",
   "execution_count": null,
   "metadata": {},
   "outputs": [],
   "source": [
    "liste_variee.reverse()\n",
    "print(liste_variee)"
   ]
  },
  {
   "cell_type": "code",
   "execution_count": null,
   "metadata": {},
   "outputs": [],
   "source": [
    "from random import randint\n",
    "liste_aleatoire = [randint(0, 100) for _ in range(20)]\n",
    "print(liste_aleatoire)\n",
    "liste_aleatoire.sort()\n",
    "print(liste_aleatoire)"
   ]
  },
  {
   "cell_type": "code",
   "execution_count": null,
   "metadata": {},
   "outputs": [],
   "source": [
    "liste_copiee = liste_aleatoire.copy()\n",
    "print(liste_aleatoire)\n",
    "print(liste_copiee)"
   ]
  },
  {
   "cell_type": "markdown",
   "metadata": {},
   "source": [
    "Compléter le tableau suivant résumant les fonctionnalités des méthodes, appliquées à des listes :\n",
    "\n",
    "| Méthode | Fonctionnalité |\n",
    "| :-----: |  :-----------: |\n",
    "|.append()|       ...      |\n",
    "|.extend()|       ...      |\n",
    "|.insert()|       ...      |\n",
    "|.count() |       ...      |\n",
    "|.index() |       ...      |\n",
    "|.clear() |       ...      |\n",
    "|.pop()   |       ...      |\n",
    "|.remove()|       ...      |\n",
    "|.reverse()|      ...      |\n",
    "|.sort()  |       ...      |\n",
    "|.copy()  |       ...      |\n",
    "\n",
    "Si les exemples précédents vous ont aidé à comprendre le fonctionnement de ces méthodes, c'est très bien. Il est toutefois plus prudent de __vérifier sur [un site de référence](https://www.w3schools.com/python/python_ref_list.asp) si vos hypothèses sont correctes__. De plus, vous y découvrirez peut-etre des paramètres optionnels intéressants pour certaines méthodes.\n",
    "\n",
    "> __Remarque :__ il faut noter que la majorité de ces méthodes n'est pas exigible en classe première. Toutefois, il reste __deux méthodes exigibles et très utiles qu'il faut absolument connaître : .append() et .sort()__."
   ]
  },
  {
   "cell_type": "markdown",
   "metadata": {},
   "source": [
    "### La méthode `.enumerate()` (Approfondissement)\n",
    "\n",
    "Dans certains cas, en particulier dans des boucles, il est très utile d'obtenir un indice associé à chaque valeur incluse dans le tableau. On utilise alors la fonction [`enumerate()`](https://www.w3schools.com/python/ref_func_enumerate.asp).\n",
    "\n",
    "En voici un exemple ci-dessous..."
   ]
  },
  {
   "cell_type": "code",
   "execution_count": null,
   "metadata": {},
   "outputs": [],
   "source": [
    "for i, nombre in enumerate(liste_multiples_de_6):\n",
    "    print(f'6 fois {i} est égal à {nombre}')"
   ]
  },
  {
   "cell_type": "markdown",
   "metadata": {},
   "source": [
    "## Exercices sur listes"
   ]
  },
  {
   "cell_type": "markdown",
   "metadata": {},
   "source": [
    "### Création de listes\n",
    "\n",
    "Ecrire deux scripts Python qui créent la liste des entiers de 0 à 100 de deux méthodes différentes :\n",
    "\n",
    "- en extension\n",
    "- en compréhension"
   ]
  },
  {
   "cell_type": "code",
   "execution_count": null,
   "metadata": {},
   "outputs": [],
   "source": [
    "# En extension\n",
    "\n",
    "entiers = []\n",
    "for i in range(101):\n",
    "    entiers.append(i)\n",
    "print(entiers)"
   ]
  },
  {
   "cell_type": "code",
   "execution_count": null,
   "metadata": {},
   "outputs": [],
   "source": [
    "# En compréhension\n",
    "\n",
    "entiers = [i for i in range(101)]\n",
    "print(entiers)"
   ]
  },
  {
   "cell_type": "markdown",
   "metadata": {},
   "source": [
    "### Création de liste en compréhension\n",
    "\n",
    "Créer en compréhension une liste qui contienne les puissances de 2 inférieures à 1000."
   ]
  },
  {
   "cell_type": "code",
   "execution_count": null,
   "metadata": {},
   "outputs": [],
   "source": [
    "puissances = [2 ** i for i in range(20) if 2 ** i < 1000]\n",
    "print(puissances)"
   ]
  },
  {
   "cell_type": "markdown",
   "metadata": {},
   "source": [
    "### Etude de fiabilité de la fonction randint() sur un tirage de dé\n",
    "\n",
    "Créer une liste contenant les 1000 résultats d'un tirage aléatoire d'un dé à 6 faces.\n",
    "\n",
    "Compter et afficher les nombres d'apparition de chaque chiffre."
   ]
  },
  {
   "cell_type": "code",
   "execution_count": null,
   "metadata": {},
   "outputs": [],
   "source": [
    "from random import randint\n",
    "\n",
    "tirage = []\n",
    "for _ in range(1000):\n",
    "    tirage.append(randint(1, 6))\n",
    "\n",
    "for i in range(1, 7):\n",
    "    print(f\"Le chiffre {i} est sorti {tirage.count(i)} fois.\")"
   ]
  },
  {
   "cell_type": "markdown",
   "metadata": {},
   "source": [
    "Reprendre l'exercice précédent, en créant une liste contenant les 1000 résultats d'un tirage aléatoire d'un dé à 6 faces.\n",
    "\n",
    "Compter le nombre de 6, contenus dans la liste, sans utiliser aucune méthode prédéfinie."
   ]
  },
  {
   "cell_type": "code",
   "execution_count": null,
   "metadata": {},
   "outputs": [],
   "source": [
    "compteur = 0\n",
    "for i in tirage:\n",
    "    if i == 6:\n",
    "        compteur = compteur + 1\n",
    "print(compteur)"
   ]
  },
  {
   "cell_type": "markdown",
   "metadata": {},
   "source": [
    "### Une liste de listes : une matrice\n",
    "\n",
    "`liste_de_liste = [[1, 2, 3, 4], [5, 6, 7, 8], [9, 10, 11, 12]]`\n",
    "\n",
    "Le premier élément de `liste_de_liste` est la liste `[1, 2, 3, 4]`, pour l'afficher on écrit : `liste_de_liste[0]`.\n",
    "\n",
    "- Afficher la valeur `3` contenue dans `liste_de_liste`.\n",
    "- Afficher le quatrième élément du deuxième élément de `liste_de_liste`.\n",
    "- Afficher le deuxième élément du troisième élément de `liste_de_liste`.\n",
    "- Afficher l'élément indexé 0 du deuxième élément de `liste_de_liste`.\n",
    "- Anticiper la valeur de `liste_de_liste[2][3]` puis l'afficher.\n",
    "- Ajouter la valeur 26 à la fin de la deuxième liste contenue dans `liste_de_liste`."
   ]
  },
  {
   "cell_type": "code",
   "execution_count": null,
   "metadata": {},
   "outputs": [],
   "source": [
    "liste_de_liste = [[1, 2, 3, 4], [5, 6, 7, 8], [9, 10, 11, 12]]\n",
    "\n",
    "print(liste_de_liste[0][2])\n",
    "print(liste_de_liste[1][3])\n",
    "print(liste_de_liste[2][1])\n",
    "print(liste_de_liste[1][0])\n",
    "print(liste_de_liste[2][3])\n",
    "liste_de_liste[1].append(26)\n",
    "print(liste_de_liste)"
   ]
  },
  {
   "cell_type": "markdown",
   "metadata": {},
   "source": [
    "### Carré magique\n",
    "\n",
    "Faire une recherche sur le web sur la notion de carré magique. Un carré magique d'ordre 3 est une matrice de 3 lignes et trois colonnes dont la somme des lignes, des colonnes et des diagonales fait le même nombre.\n",
    "\n",
    "```python\n",
    "matrice = [[2, 7, 6],\n",
    "           [9, 5, 1],\n",
    "\t       [4, 3, 8]]\n",
    "```\n",
    "Ecrire un script Python qui vérifie que ce carré est magique. \n",
    "\n",
    "Le prolongement de cet exercice est la recherche d'autres carrés magiques."
   ]
  },
  {
   "cell_type": "code",
   "execution_count": null,
   "metadata": {},
   "outputs": [],
   "source": [
    "matrice = [[2, 7, 6],\n",
    "           [9, 5, 1],\n",
    "           [4, 3, 8]]\n",
    "\n",
    "carre_magique = True  # On part du principe que le carré est magique\n",
    "somme_diagonale_1 = matrice[0][0] + matrice[1][1] +matrice[2][2]\n",
    "somme_diagonale_2 = matrice[0][2] + matrice[1][1] +matrice[2][0]\n",
    "\n",
    "for i in range(3):\n",
    "    somme_ligne = 0\n",
    "    somme_colonne = 0\n",
    "    for j in range(3):\n",
    "        somme_ligne = somme_ligne + matrice[i][j]\n",
    "        somme_colonne = somme_colonne + matrice[j][i]\n",
    "       \n",
    "    # L'antislash permet un retour à la ligne\n",
    "    if somme_ligne != somme_diagonale_1\\\n",
    "       or somme_colonne != somme_diagonale_1\\\n",
    "       or somme_diagonale_1 != somme_diagonale_2:\n",
    "        carre_magique = False  # Cas où le carré n'est pas magique\n",
    "        \n",
    "if carre_magique:\n",
    "    print(\"C'est bien un carré magique\")\n",
    "else:\n",
    "    print(\"Ce n'est pas un carré magique\")\n",
    "    \n",
    "# Remarque à postériori : \n",
    "# une boucle non bornée aurait sans doute été préférable\n",
    "# puisqu'il suffit de trouver un seul cas d'inégalité pour être\n",
    "# certain que le carré n'est pas magique."
   ]
  },
  {
   "cell_type": "markdown",
   "metadata": {},
   "source": [
    "### D'une chaîne de caractère à une liste : la méthode .split()\n",
    "\n",
    "Il existe pour les listes des méthodes très intéressantes dans le traitement des chaines de caractères. Ce sont les méthodes [split()](https://www.w3schools.com/python/ref_string_split.asp), [join()](https://www.w3schools.com/python/ref_string_join.asp) et [strip()](https://www.w3schools.com/python/ref_string_strip.asp)\n",
    "\n",
    "Vous pouvez réaliser des essais avec cette citation du philosophe Confucius : _\"Je ne cherche pas à connaître les réponses, je cherche à comprendre les questions.\"_\n",
    "\n",
    "En utilisant les méthodes ci-dessus...\n",
    "\n",
    "- Compter le nombre d'occurrences du mot \"cherche\" dans la citation, en passant par une liste de mots.\n",
    "- Se débarrasser des virgules et des points éventuellement collés aux mots.\n",
    "- Recréer une chaîne de caractères à partir de la dernière liste créee. Cette chaîne de caractère sera la citation de Confusius avec la caractère underscore `_` à la place des espaces (sans virgule, ni point)."
   ]
  },
  {
   "cell_type": "code",
   "execution_count": null,
   "metadata": {},
   "outputs": [],
   "source": [
    "citation = \"Je ne cherche pas à connaître les réponses, je cherche à comprendre les questions.\"\n",
    "\n",
    "liste_mots = citation.split()\n",
    "print(liste_mots)\n",
    "\n",
    "print(liste_mots.count('cherche'))\n",
    "\n",
    "mots_epures = []\n",
    "for mot in liste_mots:\n",
    "    mots_epures.append(mot.strip('.,'))\n",
    "print(mots_epures)\n",
    "\n",
    "print('_'.join(mots_epures))"
   ]
  },
  {
   "cell_type": "markdown",
   "metadata": {},
   "source": [
    "### Les élèves de Poudlard au tableau !\n",
    "\n",
    "Afin d’exploiter les données contenues dans le fichier CSV fourni (« Characters.csv »), vous pouvez avoir besoin des instructions et des méthodes suivantes :\n",
    "- `with open(paramètres à insérer ici) as f:`\n",
    "  - qui permet d’ouvrir un fichier et d’en affecter son contenu à un objet f.\n",
    "- `chaine_de_caractère = f`[.readline()](https://www.w3schools.com/python/ref_file_readline.asp)\n",
    "  - qui permet de lire une ligne dans l’objet f crée à partir du fichier.\n",
    "- `nouvelle_liste = chaine_de_caractere`[.split(séparateur)](https://www.w3schools.com/python/ref_string_split.asp)\n",
    "  - qui permet de décomposer une chaîne de caractère d’après un séparateur.\n",
    "- `nouvelle_chaine = chaine_de_caractere`[.strip()](https://www.w3schools.com/python/ref_string_strip.asp)\n",
    "  - qui permet de supprimer les espaces en début et fin de chaîne de caractère.\n",
    "  \n",
    "Une autre façon de lire le contenu d'un fichier consiste à utiliser le fait que l'objet `f` crée est un itérable !\n",
    "- `for ligne in f:`\n",
    "  - permet d'obtenir une ligne (chaîne de caractère) par tour de boucle.\n",
    "  \n",
    "Utiliser le fichier \"Characters.csv\" pour importer les noms des élèves dans un tableau `tableau_eleves`."
   ]
  },
  {
   "cell_type": "code",
   "execution_count": null,
   "metadata": {},
   "outputs": [],
   "source": [
    "with open(\"Characters.csv\", mode='r', encoding='utf-8') as f:\n",
    "    ligne_des_descripteurs = f.readline()\n",
    "    tableau_eleves = []\n",
    "    for ligne in f:\n",
    "        # split(';'') crée une liste des mots séparés par ;\n",
    "        # [1] permet d'extraire le 2nd élément de cette liste : le nom\n",
    "        # append() ajoute ce nom à notre tableau d'élèves\n",
    "        tableau_eleves.append(ligne.split(';')[1])\n",
    "\n",
    "print(tableau_eleves)"
   ]
  },
  {
   "cell_type": "markdown",
   "metadata": {},
   "source": [
    "__Compter le nombre d'élèves__ de l'école de Poudlard (anciens ou présents)."
   ]
  },
  {
   "cell_type": "code",
   "execution_count": null,
   "metadata": {},
   "outputs": [],
   "source": [
    "len(tableau_eleves)"
   ]
  },
  {
   "cell_type": "markdown",
   "metadata": {},
   "source": [
    "__Compter le nombre de filles, puis le nombre de garçons__. Pour cela, vous aurez besoin de créer une nouvelle liste."
   ]
  },
  {
   "cell_type": "code",
   "execution_count": null,
   "metadata": {},
   "outputs": [],
   "source": [
    "with open(\"Characters.csv\", mode='r', encoding='utf-8') as f:\n",
    "    ligne_des_descripteurs = f.readline()\n",
    "    liste_garcons = []\n",
    "    liste_filles = []\n",
    "    for ligne in f:\n",
    "        # split(';'') crée une liste des mots séparés par ;\n",
    "        eleve = ligne.split(';')\n",
    "        if eleve[2] == 'Male':\n",
    "            liste_garcons.append(eleve[1])\n",
    "        if eleve[2] == 'Female':\n",
    "            liste_filles.append(eleve[1])\n",
    "\n",
    "print(f\"Il y a {len(liste_filles)} filles et {len(liste_garcons)} garçons\")"
   ]
  },
  {
   "cell_type": "markdown",
   "metadata": {},
   "source": [
    "__Trier le tableau d'élèves par ordre alphabétique des premiers prénoms__."
   ]
  },
  {
   "cell_type": "code",
   "execution_count": null,
   "metadata": {},
   "outputs": [],
   "source": [
    "print(tableau_eleves)\n",
    "tableau_eleves.sort()\n",
    "print(tableau_eleves)"
   ]
  },
  {
   "cell_type": "markdown",
   "metadata": {},
   "source": [
    "__Trier le tableau d'élèves par ordre alphabétique des noms__ (Approfondissement)."
   ]
  },
  {
   "cell_type": "code",
   "execution_count": null,
   "metadata": {},
   "outputs": [],
   "source": [
    "tableau_noms = []\n",
    "for eleve in tableau_eleves:\n",
    "    prenoms_nom = eleve.split()\n",
    "    nom = prenoms_nom[-1]\n",
    "    liste_prenoms = prenoms_nom[:-1]\n",
    "    prenoms = ' '.join(liste_prenoms)\n",
    "    tableau_noms.append(nom + ' ' + prenoms)\n",
    "\n",
    "tableau_noms.sort()\n",
    "print(tableau_noms)"
   ]
  },
  {
   "cell_type": "markdown",
   "metadata": {},
   "source": [
    "__Importer l'ensemble du fichier \"Characters.csv\" dans un tableau__.\n",
    "\n",
    "Créer un nouveau tableau contenant lui même des tableaux. Chacun de ces tableaux contiendra l'ensemble des caractéristiques d'un seul personnage. "
   ]
  },
  {
   "cell_type": "code",
   "execution_count": null,
   "metadata": {},
   "outputs": [],
   "source": [
    "with open(\"Characters.csv\", mode='r', encoding='utf-8') as f:\n",
    "    ligne_des_descripteurs = f.readline()\n",
    "    poudlard = []\n",
    "    for ligne in f:\n",
    "        poudlard.append(ligne.split(';'))\n",
    "\n",
    "print(poudlard)"
   ]
  },
  {
   "cell_type": "markdown",
   "metadata": {},
   "source": [
    "__Dans ce tableau, rechercher :__\n",
    "\n",
    "- le personnage ayant pour Patronus un écureuil (Squirrel)\n",
    "- le(s) personnage(s) ayant les cheveux roux (Red)\n",
    "- le(s) personnage(s) ayant les cheveux roux (Red) et les yeux verts\n",
    "- le(s) personnage(s) né(s) un \"27 March\"\n",
    "- les personnages loyaux à Lord Voldemort"
   ]
  },
  {
   "cell_type": "code",
   "execution_count": null,
   "metadata": {},
   "outputs": [],
   "source": [
    "for eleve in poudlard:\n",
    "    if eleve[6] == 'Squirrel':\n",
    "        print(f\"{eleve[1]} a pour Patronus un écureuil\")\n",
    "    if eleve[9] == 'Red':\n",
    "        print(f\"{eleve[1]} a des cheveux roux\")\n",
    "    if eleve[9] == 'Red' and eleve[10] == 'Green':\n",
    "        print(f\"{eleve[1]} a des cheveux roux et des yeux verts\")\n",
    "    if '27 March' in eleve[13]:\n",
    "        print(f\"{eleve[1]} est né(e) un 27 Mars\")\n",
    "    if 'Lord Voldemort' in eleve[11]:\n",
    "        print(f\"{eleve[1]} est loyal à Lord Voldemort\")"
   ]
  },
  {
   "cell_type": "markdown",
   "metadata": {},
   "source": [
    "__Supprimer de ce tableau tous les membres de la Maison Griffondor__. Combien reste-t-il d'élèves ?"
   ]
  },
  {
   "cell_type": "code",
   "execution_count": null,
   "metadata": {},
   "outputs": [],
   "source": [
    "for eleve in poudlard:\n",
    "    if eleve[4] == \"Gryffindor\":\n",
    "        poudlard.remove(eleve)\n",
    "print(len(poudlard))"
   ]
  },
  {
   "cell_type": "markdown",
   "metadata": {},
   "source": [
    "### Les élèves de Poudlard dans un tuple\n",
    "\n",
    "Utiliser le tableau du nom des élèves crée ci-dessus pour créer un tuple contenant les noms des élèves."
   ]
  },
  {
   "cell_type": "code",
   "execution_count": null,
   "metadata": {
    "scrolled": true
   },
   "outputs": [],
   "source": [
    "tuple_eleves = tuple(tableau_eleves)\n",
    "print(tuple_eleves)"
   ]
  },
  {
   "cell_type": "markdown",
   "metadata": {},
   "source": [
    "__Vérifier le nombre d'élèves__ de l'école de Poudlard (anciens ou présents)."
   ]
  },
  {
   "cell_type": "code",
   "execution_count": null,
   "metadata": {},
   "outputs": [],
   "source": [
    "print(len(tuple_eleves))"
   ]
  },
  {
   "cell_type": "markdown",
   "metadata": {},
   "source": [
    "__Compter le nombre de membres de la famille Weasley__ étant passés par l'école de Poudlard."
   ]
  },
  {
   "cell_type": "code",
   "execution_count": null,
   "metadata": {},
   "outputs": [],
   "source": [
    "compteur = 0\n",
    "for eleve in tuple_eleves:\n",
    "    if 'Weasley' in eleve:\n",
    "        compteur += 1\n",
    "print(f\"{compteur} membres de la famille Weasley sont passés par Poudlard\")"
   ]
  },
  {
   "cell_type": "markdown",
   "metadata": {},
   "source": [
    "## Que retenir ?\n",
    "### À minima...\n",
    "\n",
    "- Un objet de type tableau, est une suite ordonnée modifiable d’éléments indexés qui peuvent être chacun de n’importe quel type.\n",
    "- En Python, un tableau est de type `list`.\n",
    "- Contrairement à un tuple, on peut modifier une liste : changer ses valeurs et même changer sa longueur.\n",
    "- Pour créer une liste, il suffit de lui affecter une suite de valeurs, séparées par des virgules, le tout entre crochets (ex :`[12, 552, 43, 48, 35, 126]`).\n",
    "- On peut d'ajouter des éléments dans une liste à l'aide de la méthode `.append()`. On peut ainsi partir d'une liste vide (`[]`) puis lui ajouter des éléments un à un.\n",
    "- On peut connaître le nombre de valeurs incluses dans une liste à l'aide de la fonction `len()`.\n",
    "\n",
    "### Au mieux...\n",
    "\n",
    "- On peut aussi créer une liste \"en compréhension\". La boucle `for` est très utile pour cela.\n",
    "- Le slicing permet de créer de nouveaux tableaux à partir d'éléments d'un tableau existant.\n",
    "- Outre la méthode `.append()`, il existe de nombreuses autres méthodes utiles à appliquer à une liste :\n",
    "  - `.extend()` permet d'ajouter des valeurs d'une liste à une autre liste.\n",
    "  - `.index()` permet de connaître l'indice d'une valeur.\n",
    "  - `.count()` permet de compter l'occurrence d'une valeur.\n",
    "  - `.clear()` permet de vider une liste.\n",
    "  - `.pop()` permet d'extraire la dernière valeur.\n",
    "  - `.remove()` permet de supprimer une certaine valeur.\n",
    "  - `.reverse()` permet d'inverser l'ordre.\n",
    "  - `.sort()` permet de trier.\n",
    "  - `.copy()` permet de copier une liste.\n",
    "- Le document [Listes-en-Python.pdf](https://gitlab.com/david_landry/nsi/-/blob/master/3%20-%20Repr%C3%A9sentations%20des%20donn%C3%A9es%20-%20Types%20construits/Listes-en-Python.pdf), crée par le collègue Tristan LEY reprend sur 2 pages l'essentiel de ce cours, et parfois un peu plus..."
   ]
  },
  {
   "cell_type": "markdown",
   "metadata": {},
   "source": [
    "---\n",
    "[![Licence CC BY NC SA](https://licensebuttons.net/l/by-nc-sa/3.0/88x31.png \"licence Creative Commons CC BY-NC-SA\")](http://creativecommons.org/licenses/by-nc-sa/3.0/fr/)\n",
    "<p style=\"text-align: center;\">Auteur : David Landry, Lycée Clemenceau - Nantes</p>\n",
    "<p style=\"text-align: center;\">D'après des documents partagés par...</p>\n",
    "<p style=\"text-align: center;\"><a  href=http://www.monlyceenumerique.fr/index_nsi.html#premiere>Jean-Christophe Gérard, Thomas Lourdet, Johan Monteillet, Pascal Thérèse</a></p>\n",
    "<p style=\"text-align: center;\"><a  href=https://eduscol.education.fr/cid144156/nsi-bac-2021.html>Le Ministère de l'éducation nationale, sur Eduscol</a></p>"
   ]
  }
 ],
 "metadata": {
  "kernelspec": {
   "display_name": "Python 3",
   "language": "python",
   "name": "python3"
  },
  "language_info": {
   "codemirror_mode": {
    "name": "ipython",
    "version": 3
   },
   "file_extension": ".py",
   "mimetype": "text/x-python",
   "name": "python",
   "nbconvert_exporter": "python",
   "pygments_lexer": "ipython3",
   "version": "3.8.3"
  }
 },
 "nbformat": 4,
 "nbformat_minor": 2
}
