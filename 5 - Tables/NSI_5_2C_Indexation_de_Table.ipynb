{
 "cells": [
  {
   "cell_type": "markdown",
   "metadata": {},
   "source": [
    "# Indexation de table\n",
    "\n",
    "## Pourquoi indexer une table ?\n",
    "\n",
    "Jusqu'ici, on a vu que __pour extraire de l'information d'une table, il fallait toujours parcourir l'ensemble de cette table__. On peut aisément comprendre que ce coût est très important lorsqu'il s'agit de traiter des tables de grande taille.\n",
    "\n",
    "Il devient alors intéressant de créer de nouvelles structures pour accélérer des recherches type. Comme on l'a vu (et on le détaillera un peu plus tard), les dictionnaires ont des qualités intrinsèques qui permettent de trouver une valeur efficacement, par clé plutôt que par indice. \n",
    "\n",
    "Il suffit donc de créer un nouveau dictionnaire, en choisissant les bonnes clés. Celles qui seront à l'origine des recherches futures.\n",
    "\n",
    "Ce principe s'appelle l'__indexation__ : on crée un __dictionnaire, avec des clés judicieusement choisies, pour améliorer les performances de recherche dans une table__.\n",
    "\n",
    "Dans le cas d'une table, __l'indexation consite donc souvent à créer un dictionnaire de dictionnaires__.\n",
    "\n",
    "Reprenons notre exemple de table de naissances..."
   ]
  },
  {
   "cell_type": "code",
   "execution_count": null,
   "metadata": {},
   "outputs": [],
   "source": [
    "import csv\n",
    "\n",
    "with open(\"244400404_prenoms-enfants-nes-nantes.csv\", mode='r', encoding='utf-8') as f:\n",
    "    reader = csv.DictReader(f, delimiter=';')\n",
    "    table_naissances = [{key : value for key, value in element.items()} for element in reader]\n",
    "\n",
    "print(table_naissances)"
   ]
  },
  {
   "cell_type": "markdown",
   "metadata": {},
   "source": [
    "Quel type de recherche pourrait être la plus fréquente sur cette table ?\n",
    "\n",
    "Il est raisonnable de penser que les __recherches par prénom__ seront très utiles à optimiser car potentiellement les plus fréquentes.\n",
    "\n",
    "## Comment indexer une table ?\n",
    "\n",
    "Que pourrait-on chercher comme information tirée de cette table lorsqu'on fait une __recherche sur un prénom__ ?\n",
    "\n",
    "Là encore, c'est subjectif, mais le plus probable est que vous souhaitiez __connaître le nombre de naissances, pour telle ou telle année__. Sur un __site web dédié aux prénoms__ par exemple.\n",
    "\n",
    "### Indexation par prénom\n",
    "\n",
    "Nous allons créer un index favorisant une recherche par prénom."
   ]
  },
  {
   "cell_type": "code",
   "execution_count": null,
   "metadata": {},
   "outputs": [],
   "source": [
    "index_par_prenom = {}\n",
    "for element in table_naissances:\n",
    "    if element['Prénom'] in index_par_prenom:\n",
    "        index_par_prenom[element['Prénom']].update({element['Année de naissance'] : element['Occurence']})\n",
    "    else:\n",
    "        index_par_prenom[element['Prénom']] = {element['Année de naissance'] : element['Occurence']}\n",
    "\n",
    "print(index_par_prenom)"
   ]
  },
  {
   "cell_type": "markdown",
   "metadata": {},
   "source": [
    "En passant, cet index nous permet de savoir très facilement __combien de prénoms différents__ (dont l'occurrence annuelle est supérieure ou égale à 5) ont été donnés pendant cette période :"
   ]
  },
  {
   "cell_type": "code",
   "execution_count": null,
   "metadata": {},
   "outputs": [],
   "source": [
    "len(index_par_prenom)"
   ]
  },
  {
   "cell_type": "markdown",
   "metadata": {},
   "source": [
    "La recherche sur un prénom se fait maintenant de façon __très simple et très rapide__."
   ]
  },
  {
   "cell_type": "code",
   "execution_count": null,
   "metadata": {
    "scrolled": true
   },
   "outputs": [],
   "source": [
    "index_par_prenom['DAVID']"
   ]
  },
  {
   "cell_type": "markdown",
   "metadata": {},
   "source": [
    "> __Remarque :__ la tentation de trier ce résultat par date est forte mais..."
   ]
  },
  {
   "cell_type": "code",
   "execution_count": null,
   "metadata": {},
   "outputs": [],
   "source": [
    "index_par_prenom['DAVID'].sort()"
   ]
  },
  {
   "cell_type": "markdown",
   "metadata": {},
   "source": [
    "__Un dictionnaire n'étant pas ordonnée, on ne peut pas le trier !__\n",
    "\n",
    "Qu'à cela ne tienne, il suffit de créer une liste à partir du dictionnaire."
   ]
  },
  {
   "cell_type": "code",
   "execution_count": null,
   "metadata": {},
   "outputs": [],
   "source": [
    "liste_david = list(index_par_prenom['DAVID'].items())\n",
    "liste_david.sort()\n",
    "\n",
    "print(liste_david)"
   ]
  },
  {
   "cell_type": "markdown",
   "metadata": {},
   "source": [
    "Cet index nous permet bien un traitement aisé et efficace lors d'une recherche par prénom. Mais qu'en est-il d'une __recherche par année__ ?\n",
    "\n",
    "### Indexation par année\n",
    "\n",
    "Si on veut connaître les prénoms les plus donnés telle ou telle année, cet index serait particulièrement inadapté. Il faut donc créer un nouvel index dédié à ce type de recherche.\n",
    "\n",
    "A vous de jouer..."
   ]
  },
  {
   "cell_type": "code",
   "execution_count": null,
   "metadata": {},
   "outputs": [],
   "source": [
    "index_par_annee = {}\n",
    "for element in table_naissances:\n",
    "    if element['Année de naissance'] in index_par_annee:\n",
    "        index_par_annee[element['Année de naissance']].update({element['Prénom'] : element['Occurence']})\n",
    "    else:\n",
    "        index_par_annee[element['Année de naissance']] = {element['Prénom'] : element['Occurence']}\n",
    "\n",
    "print(index_par_annee)"
   ]
  },
  {
   "cell_type": "markdown",
   "metadata": {},
   "source": [
    "Trouver les __prénoms les plus populaires en 2008__ :"
   ]
  },
  {
   "cell_type": "code",
   "execution_count": null,
   "metadata": {},
   "outputs": [],
   "source": [
    "print(index_par_annee['2008'])"
   ]
  },
  {
   "cell_type": "markdown",
   "metadata": {},
   "source": [
    "Trouver les __10 prénoms__ les plus populaires en 2019 :"
   ]
  },
  {
   "cell_type": "code",
   "execution_count": null,
   "metadata": {},
   "outputs": [],
   "source": [
    "prenoms_2019 = list(index_par_annee['2019'].items())\n",
    "\n",
    "prenoms_2019.sort(key=lambda x: float(x[1]), reverse=True)\n",
    "\n",
    "print(prenoms_2019[:11])"
   ]
  },
  {
   "cell_type": "markdown",
   "metadata": {},
   "source": [
    "### Indexation pour une recherche par sexe (Approfondissement)\n",
    "\n",
    "Même principe que précédemment : créer un index pour anticiper une __recherche par année uniquement sur les prénoms de fille__."
   ]
  },
  {
   "cell_type": "code",
   "execution_count": null,
   "metadata": {},
   "outputs": [],
   "source": [
    "index_par_annee_fille = {}\n",
    "for element in table_naissances:\n",
    "    if element['Sexe'] == 'FILLE':\n",
    "        if element['Année de naissance'] in index_par_annee_fille:\n",
    "            index_par_annee_fille[element['Année de naissance']].update({element['Prénom'] : element['Occurence']})\n",
    "        else:\n",
    "            index_par_annee_fille[element['Année de naissance']] = {element['Prénom'] : element['Occurence']}\n",
    "\n",
    "print(index_par_annee_fille)"
   ]
  },
  {
   "cell_type": "markdown",
   "metadata": {},
   "source": [
    "Trouver les __10 prénoms de fille__ les plus populaires en 2004 :"
   ]
  },
  {
   "cell_type": "code",
   "execution_count": null,
   "metadata": {},
   "outputs": [],
   "source": [
    "prenoms_fille_2004 = list(index_par_annee_fille['2004'].items())\n",
    "\n",
    "prenoms_fille_2004.sort(key=lambda x: float(x[1]), reverse=True)\n",
    "\n",
    "print(prenoms_fille_2004[:11])"
   ]
  },
  {
   "cell_type": "markdown",
   "metadata": {},
   "source": [
    "Créer un index pour anticiper une __recherche par sexe et par année__. C'est à dire, un index permettant de faire ce type de recherche :\n",
    "\n",
    "`index_par_annee_et_sexe['GARCON']['2003']`"
   ]
  },
  {
   "cell_type": "code",
   "execution_count": null,
   "metadata": {},
   "outputs": [],
   "source": [
    "index_par_annee_et_sexe = {}\n",
    "for element in table_naissances:\n",
    "    if element['Sexe'] == 'FILLE':\n",
    "        if 'FILLE' in index_par_annee_et_sexe:\n",
    "            if element['Année de naissance'] in index_par_annee_et_sexe['FILLE']:\n",
    "                index_par_annee_et_sexe['FILLE'][element['Année de naissance']].update({element['Prénom'] : element['Occurence']})\n",
    "            else:\n",
    "                index_par_annee_et_sexe['FILLE'][element['Année de naissance']] = {element['Prénom'] : element['Occurence']}\n",
    "        else:\n",
    "            index_par_annee_et_sexe['FILLE'] = {element['Année de naissance'] : {element['Prénom'] : element['Occurence']}}\n",
    "    else:\n",
    "        if 'GARCON' in index_par_annee_et_sexe:\n",
    "            if element['Année de naissance'] in index_par_annee_et_sexe['GARCON']:\n",
    "                index_par_annee_et_sexe['GARCON'][element['Année de naissance']].update({element['Prénom'] : element['Occurence']})\n",
    "            else:\n",
    "                index_par_annee_et_sexe['GARCON'][element['Année de naissance']] = {element['Prénom'] : element['Occurence']}\n",
    "        else:\n",
    "            index_par_annee_et_sexe['GARCON'] = {element['Année de naissance'] : {element['Prénom'] : element['Occurence']}}\n",
    "print(index_par_annee_et_sexe)"
   ]
  },
  {
   "cell_type": "code",
   "execution_count": null,
   "metadata": {},
   "outputs": [],
   "source": [
    "index_par_annee_et_sexe['GARCON']['2003']"
   ]
  },
  {
   "cell_type": "markdown",
   "metadata": {},
   "source": [
    "Trouver les __10 prénoms de garçon les plus populaires en 2003__ :"
   ]
  },
  {
   "cell_type": "code",
   "execution_count": null,
   "metadata": {},
   "outputs": [],
   "source": [
    "prenoms_garcon_2003 = list(index_par_annee_et_sexe['GARCON']['2003'].items())\n",
    "\n",
    "prenoms_garcon_2003.sort(key=lambda x: float(x[1]), reverse=True)\n",
    "\n",
    "print(prenoms_garcon_2003[:11])"
   ]
  },
  {
   "cell_type": "markdown",
   "metadata": {},
   "source": [
    "---\n",
    "[![Licence CC BY NC SA](https://licensebuttons.net/l/by-nc-sa/3.0/88x31.png \"licence Creative Commons CC BY-NC-SA\")](http://creativecommons.org/licenses/by-nc-sa/3.0/fr/)\n",
    "<p style=\"text-align: center;\">Auteur : David Landry, Lycée Clemenceau - Nantes</p>"
   ]
  }
 ],
 "metadata": {
  "kernelspec": {
   "display_name": "Python 3",
   "language": "python",
   "name": "python3"
  },
  "language_info": {
   "codemirror_mode": {
    "name": "ipython",
    "version": 3
   },
   "file_extension": ".py",
   "mimetype": "text/x-python",
   "name": "python",
   "nbconvert_exporter": "python",
   "pygments_lexer": "ipython3",
   "version": "3.8.3"
  }
 },
 "nbformat": 4,
 "nbformat_minor": 2
}
