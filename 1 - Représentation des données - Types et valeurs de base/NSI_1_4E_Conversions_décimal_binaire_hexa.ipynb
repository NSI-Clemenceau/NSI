{
 "cells": [
  {
   "cell_type": "markdown",
   "source": [
    "# Exercices complémentaires de calculs et conversions"
   ],
   "metadata": {}
  },
  {
   "cell_type": "markdown",
   "source": [
    "## Exercice 1 : Conversion entre plusieurs bases\n",
    "\n",
    "Complétez le tableau suivant à l'aide de calculs manuels (papier / crayon) :\n",
    "\n",
    "| base 2 | base 10 | base 16 |\n",
    "| :----: | :-----: | :-----: |\n",
    "| 100010 |    ...  |   ...   |       \n",
    "| 110010 |    ...  |   ...   |      \n",
    "|   ...  |    37   |   ...   |\n",
    "|   ...  |   1023  |   ...   |\n",
    "|   ...  |    ...  |    1E   |\n",
    "|   ...  |    ...  |    FF0  |"
   ],
   "metadata": {}
  },
  {
   "cell_type": "code",
   "execution_count": 1,
   "source": [
    "# Vérifier ici vos calculs, à l'aide des fonctions Python vues précédemment"
   ],
   "outputs": [],
   "metadata": {}
  },
  {
   "cell_type": "markdown",
   "source": [
    "## Exercice 2 : Taille des nombres entiers positifs en bases 2 et 16\n",
    "\n",
    "Si on utilise $n$ *chiffres binaires* (bits), on peut représenter tous les nombres de 0 à $2^n-1$.\n",
    "\n",
    "Par exemple, avec 2 bits, on peut représenter les nombres de 0 à 3 :\n",
    "\n",
    "| base 2 | base 10 |\n",
    "| ------ | ------- |\n",
    "| 00     |      0  |\n",
    "| 01     |    1    |\n",
    "| 10     |    2    |\n",
    "|   11   |    3    |\n",
    "\n",
    "1. Vérifiez cette affirmation pour quelques valeurs de $n$ : 3 et 4.\n",
    "\n",
    "| base 2 | base 10 |\n",
    "| ------ | ------- |\n",
    "| 000     |      0  |\n",
    "|   ...   |    1    |\n",
    "|   ...   |    2    |\n",
    "|  ...    |    etc   |\n",
    "\n",
    "\n",
    "| base 2 | base 10 |\n",
    "| ------ | ------- |\n",
    "| 0000     |      0  |\n",
    "|   ...   |    1    |\n",
    "|   ...   |    2    |\n",
    "|   ...   |    etc    |\n",
    "\n",
    "\n",
    "2. Utiliser cette expression pour donner la quantité de nombres exprimables avec 8 chiffres binaires, soit un octet.\n",
    "\n",
    "3. Inversement, combien faut-il de chiffres binaires pour pouvoir représenter tous les nombres entiers de 0 à 19999 ?\n",
    "\n",
    "4. Combien faut-il de chiffres hexadécimaux pour représenter tous les nombres entiers de 0 à 19999 ?\n",
    "\n",
    "> Remarque : pour les questions 3 et 4, mieux vaut tenter une résolution de type \"proche en proche\" car vous n'avez probablement pas encore les outils mathématiques pour les résoudre formellement."
   ],
   "metadata": {}
  },
  {
   "cell_type": "markdown",
   "source": [
    "## Exercice 3 : Additions binaires\n",
    "\n",
    "* 11010 + 100001\n",
    "* 11100010 + 10011\n",
    "* 10100011 + 11100111\n",
    "* 11111 + 11111\n",
    "\n",
    "\n",
    "1. Effectuez manuellement (sur papier), en binaire, les additions des nombres entiers positifs ci-dessus\n",
    "2. Vérifier vos résultats avec Python en ouvrant une nouvelles cellule de code ci-dessous."
   ],
   "metadata": {}
  },
  {
   "cell_type": "markdown",
   "source": [
    "## Exercice 4 : Soustractions binaires\n",
    "\n",
    "* 110101 - 100001\n",
    "* 11100010 - 10011\n",
    "* 10100011 - 1110011\n",
    "* 111110 - 11111\n",
    "\n",
    "\n",
    "1. Effectuez manuellement (sur papier), en binaire, les soustractions des nombres entiers positifs ci-dessus\n",
    "2. Vérifier vos résultats avec Python "
   ],
   "metadata": {}
  },
  {
   "cell_type": "markdown",
   "source": [
    "## Exercice 5 : programmer un convertisseur (approfondissement)\n",
    "\n",
    "> __Remarque :__ les exercices d'approfondissement sont réservés aux élèves ayant déjà des notions de programmation en Python. Pour les élèves débutants, il est déconseillé de perdre du temps sur ce type d'exercices.\n",
    "\n",
    "Coder un convertisseur permettant de renvoyer la valeur binaire d'un nombre numérique, sans utiliser la fonction `bin()`.\n",
    "\n",
    "Exemple de rendu du programme :\n",
    "```python\n",
    "Saisir un nombre décimal : 27\n",
    "Le nombre binaire équivalent est 11011\n",
    "```\n",
    "\n",
    "> **Conseils :**\n",
    "- demander une saisie de nombre décimal à l'utilisateur.\n",
    "- utliser une boucle `while`.\n",
    "- créer une variable `nb_binaire`, de type \"chaîne de caractère\" vide pour la réponse.\n",
    "- cette chaîne de caractère s'allongera à chaque tour de boucle."
   ],
   "metadata": {}
  },
  {
   "cell_type": "code",
   "execution_count": null,
   "source": [],
   "outputs": [],
   "metadata": {}
  },
  {
   "cell_type": "markdown",
   "source": [
    "## Exercice 6 : décomposition en base quelconque (approfondissement)\n",
    "\n",
    "Coder une fonction `conversion_base_b(n, b)` qui renvoie la liste des chiffres de l'écriture normalisée du nombre décimal `n` en base `b` (avec `1 < b < 10`).\n",
    "\n",
    "Exemple d'utilisation de cette fonction :\n",
    "```python\n",
    ">>> conversion_base_b(97, 2) \n",
    "[1, 1, 0, 0, 0, 0, 1]\n",
    "```"
   ],
   "metadata": {}
  },
  {
   "cell_type": "markdown",
   "source": [
    "## Exercice 7 : écriture littérale (approfondissement)\n",
    "\n",
    "Coder une  fonction qui renvoie l'écriture littérale d'un nombre dont l'écriture décimale est comprise entre 1 et 999.\n",
    "\n",
    "> Remarque : on pourra commencer par un comptage de 0 à 99.\n",
    "\n",
    "Exemple d'utilisation de cette fonction :\n",
    "```python\n",
    ">>> ecriture_litterale(97) \n",
    "'quatre vingt dix sept'\n",
    "```"
   ],
   "metadata": {}
  },
  {
   "cell_type": "markdown",
   "source": [
    "## Exercice 8 : Le codage Bibi (approfondissement)\n",
    "\n",
    "Après l'obtention d'un Bac \" Math Elem' \" en 1940, le jeune Robert Lapointe prépare le concours d'entrée à Centrale et aurait intégré Sup Aéro, à Toulouse, l'année suivante si la guerre n'avait pas bouleversé cet **avenir d'ingénieur**. En 1942, le futur chanteur interrompt ses études pour partir pour le STO, dont il s'évadera.\n",
    "\n",
    "Devenu artiste, Boby Lapointe n'oubliera pas ses premières amours au point qu'en 1968, il crée un **système de numérotation en base 16, permettant de convertir des nombres en lettres**. C'est le système Bibi, contraction de Bibi-binaire. Selon Lapointe, le binaire étant la base 2, le bibinaire serait la base 4 et le bibi-binaire, la base seize… Le système, parfaitement fonctionnel, a eu les honneurs d'un ouvrage collectif de 1970, Les cerveaux non humains, introduction à l'informatique.\n",
    "\n",
    "Le codage Bibi consiste à remplacer les chiffres par des lettres, en une alternance de consonnes et de voyelles :  \n",
    "\n",
    "* On commence  par couper  le nombre  écrit en binaire en  paquets de  2.  \n",
    "* S'il y  a un  nombre impair de  chiffres, on rajoute un zéro à gauche, ce qui ne modifie pas la valeur de nombre.  \n",
    "* On commence la conversion par le premier groupe de deux chiffres, le plus à droite. On convertira ce groupe en une voyelle :\n",
    "  * On remplace `00` par O, `01` par A, `10` par E et `11` par I.\n",
    "* On  prend le paquet  de deux chiffres suivants en se  déplaçant de droite à gauche. Ce groupe de deux chiffre sera converti par une consonne :\n",
    "  * On remplace `00` par H, `01` par B, `10` par K et `11` par D.\n",
    "* Pour le paquet suivant, on recommence avec les voyelles. \n",
    "* S'il y a encore un groupe, on remplace par une consonne, et on alterne consonnes / voyelles, etc.\n",
    "\n",
    "> Citations de Boby Lapointe :\n",
    "*Avec le code binaire, avec 4 chiffres, c'est jusqu'à 15. Avec le code BiBinaire, c'est jusqu'à 15 ... avec 2 lettres. [...] en argot bibi signifie moi, je me prénomme Bobi et les enfants m'appellent bibi c'est donc de plus une coquetterie que je me fais en appelant ce système Bibi. [...] Le binaire est une écriture en base 2, le bibinaire est une écriture en base 4, le bibibinaire est une écriture en base 16.*\n",
    "\n",
    "1. Écrivez  les nombres  de  0 à  25  en bibi-binaire.\n",
    "2. Écrivez les  nombres de  255 à 257  en bibi-binaire. \n",
    "3. Pourquoi Boby  a-t-il finement choisi le H?\n",
    "4. Écrivez KEKIDI et HEHOBOBI en base 10.\n",
    "5. Pourquoi est-il pratique  d'écrire les nombres en base 2 avec un nombre de chiffres multiple de 4 avant de les traduire en bibi-binaire?\n",
    "6. Il ne vous reste plus qu'à écrire un traducteur bibi-binaire en Python...\n",
    "\n",
    "> Sources complémentaires :\n",
    "- [Article \"Science et avenir\"](https://www.sciencesetavenir.fr/fondamental/mathematiques/boby-lapointe-chanteur-et-matheux-inventeur-de-la-numerotation-bibi_37872)\n",
    "- [Décodeur Bibi](https://www.dcode.fr/code-bibi-binaire)"
   ],
   "metadata": {}
  },
  {
   "cell_type": "markdown",
   "source": [
    "---\n",
    "[![Licence CC BY NC SA](https://licensebuttons.net/l/by-nc-sa/3.0/88x31.png \"licence Creative Commons CC BY-NC-SA\")](http://creativecommons.org/licenses/by-nc-sa/3.0/fr/)\n",
    "<p style=\"text-align: center;\">Auteur : David Landry, Lycée Clemenceau - Nantes</p>\n",
    "<p style=\"text-align: center;\">D'après des documents partagés par Guillaume Connan sur <a  href=https://gitlab.com/lyceeND/1ere>le Gitlab du lycée Notre Dame, à Rezé</a></p>"
   ],
   "metadata": {}
  }
 ],
 "metadata": {
  "kernelspec": {
   "display_name": "Python 3",
   "language": "python",
   "name": "python3"
  },
  "language_info": {
   "codemirror_mode": {
    "name": "ipython",
    "version": 3
   },
   "file_extension": ".py",
   "mimetype": "text/x-python",
   "name": "python",
   "nbconvert_exporter": "python",
   "pygments_lexer": "ipython3",
   "version": "3.8.3"
  }
 },
 "nbformat": 4,
 "nbformat_minor": 2
}