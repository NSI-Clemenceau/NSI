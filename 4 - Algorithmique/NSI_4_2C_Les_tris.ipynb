{
 "cells": [
  {
   "cell_type": "markdown",
   "metadata": {},
   "source": [
    "# Les tris\n",
    "\n",
    "Il est très souvent nécessaire de trier.\n",
    "\n",
    "Quelques exemples parmis d'autres...\n",
    "- trier par ordre alphabétique.\n",
    "- trier une liste de nombres du plus petit au plus grand.\n",
    "- trier par tout autre critère objectif (longueur de mots, dates,...).\n",
    "\n",
    "Tout comme lorsque nous devons tirer un jeu de carte, nous sommes face à des choix algorithmiques pour effectuer ce tri.\n",
    "\n",
    "Plusieurs __tris classiques__ sortent du lot et nous apprendrons à en coder quelques uns (notés en gras ci-dessous) :\n",
    "\n",
    "- tri à bulle (simple mais hors programme)\n",
    "- __tri par sélection__\n",
    "- __tri par insertion__\n",
    "- tri rapide \"quicksort\" (plus complexe et hors programme)\n",
    "- tri fusion (encore un peu plus complexe et hors programme)\n",
    "\n",
    "> __Remarque :__ autant ne pas le cacher, ces algorithmes sont déjà implémentés (quel que soit le langage) dans des fonctions très performantes. __En Python, on utilise [la fonction `sorted()` ou la méthode `.sort()`](https://docs.python.org/fr/3/howto/sorting.html)__\n",
    "\n",
    "Le meilleur de nos futurs algorithmes de tri sera moins efficace que celui de cette fonction [`sorted()`](https://docs.python.org/fr/3/howto/sorting.html)...  "
   ]
  },
  {
   "cell_type": "code",
   "execution_count": null,
   "metadata": {
    "scrolled": true
   },
   "outputs": [],
   "source": [
    "tableau = [4, 8, 1, 2, 6]\n",
    "\n",
    "print(sorted(tableau))  # Application de la fonction sorted()"
   ]
  },
  {
   "cell_type": "code",
   "execution_count": null,
   "metadata": {},
   "outputs": [],
   "source": [
    "tableau = [4, 8, 1, 2, 6]\n",
    "tableau.sort()\n",
    "print(tableau)  # Application de la méthode .sort()"
   ]
  },
  {
   "cell_type": "markdown",
   "metadata": {},
   "source": [
    "> __Commentaires :__\n",
    "- Noter ici vos commentaires sur la façon d'utiliser les fonctions et les méthodes. Si possible, essayer d'utiliser un vocabulaire précis.\n",
    "\n",
    "Malgré la facilité que nous offre ces __fonctions built'in__ (fonctions présentes dans le module initial de Python), il est pédagogiquement essentiel de se confronter à l'__élaboration manuelle d'un algorithme de tri__.  \n",
    "\n",
    "Avant de découvrir ces tris de façon guidée, laissez parler votre intuition..."
   ]
  },
  {
   "cell_type": "markdown",
   "metadata": {},
   "source": [
    "## Mon tri\n",
    "### Trouver une méthode de tri organisée\n",
    "\n",
    "Utiliser un jeu de carte, réel ou virtuel, pour conscientiser puis écrire un algorithme de tri.\n",
    "\n",
    "> Si vous n'avez pas de jeu réel, utiliser un des simulateurs suivants :\n",
    "- Celui crée en Python par votre camarade Anatole (disponible dans le dossier NSI / Ressources du réseau pédagogique).\n",
    "- Celui du [Lycée Michelis d'Amiens](http://rpcnufrlkr.cluster006.ovh.net/olga/tris/).\n",
    "- Ou le [tri de barriques](http://lwh.free.fr/pages/algo/tri/tri.htm), si vous en avez assez des cartes...\n",
    "\n",
    "L'objectif est d'organiser une méthode immuable, permettant dans tous les cas d'obtenir un jeu de carte trié. \n",
    "\n",
    "### Ecrire un algorithme de votre méthode de tri\n",
    "\n",
    "Après avoir fait de nombreux essais pour valider votre méthode, l'organiser de façon synthétique pour écrire un algorithme de votre tri en pseudo code :\n",
    "\n",
    "    VARIABLES  \n",
    "        tab_cartes : tableau de cartes non triées\n",
    "\n",
    "    DEBUT\n",
    "\n",
    "    FIN\n",
    "\n",
    "### Donner un nom à votre tri\n",
    "\n",
    "Sauf découverte majeure ou mélange des genres, il est très probable que votre tri soit un des tris déjà nommé en début de ce chapitre.\n",
    "\n",
    "Nous allons donc en découvrir au moins deux en détail et vous devrez vérifier si votre tri fait partie de ceux qui ont été cités précédemment."
   ]
  },
  {
   "cell_type": "markdown",
   "metadata": {},
   "source": [
    "## Le tri par sélection\n",
    "### Principe du tri par sélection\n",
    "\n",
    "__On parcourt le tableau en sélectionnant l'élément \"minimum\" et on le déplace en début de tableau, dans une partie de tableau déjà triée__. On répète cette procédure en sélectionnant le prochain minimum dans le reste du tableau non trié.\n",
    "\n",
    "> __Remarque :__ les tris par sélection et par insertion (les deux tris que nous étudierons cette année) ont pour particularité de ne pas nécessiter la création d'une nouvelle liste. __Ils modifient la liste à trier sur place__.\n",
    "\n",
    "### Le tri par sélection en détail\n",
    "\n",
    "- le travail sur le fait essentiellement sur les **indices**.\n",
    "- on part de l'indice du premier élément, on considère que cet élément est l'élément minimum.\n",
    "- on parcourt les éléments suivants, et si on repère un élément plus petit que notre mininum on garde en mémoire l'indice de ce nouvel élément minimum.\n",
    "- une fois le parcours fini, on échange l'élément de travail avec l'élément minimum qui a été trouvé.\n",
    "- on avance d'un élément, et on recommence, jusqu'à l'avant-dernier."
   ]
  },
  {
   "cell_type": "markdown",
   "metadata": {},
   "source": [
    "## Le tri par sélection animé !\n",
    "Considérons le tableau `[5, 4, 2, 1]`  \n",
    "Voici une __animation simulant le fonctionnement de l'algorithme__ :  \n",
    "![Animation du tri par sélection](selection.gif)\n",
    "\n",
    "> __Remarques :__\n",
    "- le cadre violet est placé sur le plus petit indice non trié\n",
    "- le cadre vert est placé sur l'élément comparé, pour savoir s'il est le minimum de la partie non triée"
   ]
  },
  {
   "cell_type": "markdown",
   "metadata": {},
   "source": [
    "## Algorithme du tri par sélection\n",
    "\n",
    "Ci dessous, le pseudo-code d'un tri par sélection :\n",
    "\n",
    "      VARIABLES\n",
    "          tab : tableau d'entiers (par exemple)\n",
    "          i, j, min, longueur_tab : entiers\n",
    "      \n",
    "      DEBUT\n",
    "          longueur_tab ← longueur(tab) \n",
    "          \n",
    "          POUR i DE 0 A (longueur_tab - 2)\n",
    "              min ← i       \n",
    "              POUR j DE (i + 1) A (longueur_tab - 1)\n",
    "                  SI tab[j] < tab[min]\n",
    "                      min ← j\n",
    "                  FIN_SI\n",
    "              FIN_POUR\n",
    "                  \n",
    "              échanger tab[i] et tab[min]\n",
    "              \n",
    "          FIN_POUR\n",
    "      FIN"
   ]
  },
  {
   "cell_type": "markdown",
   "metadata": {},
   "source": [
    "> __Remarques :__ \n",
    "- Il arrive parfois que l'échange soit inutile, lorsque le minimum trouvé est déjà le plus petit indice de la partie du tableau non trié. Toutefois, dans la plupart du temps, il serait plus couteux de tester ce cas, plutôt que de faire un échange inutile...\n",
    "- Réfléchir pour comprendre dans quel cas cette situation n'est finalement pas si rare que cela. Comment modifier l'algorithme dans ce cas ?\n",
    "\n",
    "[Vérifier sur cette version de __simulateur de tris__ que vous avez bien compris l'algorithme, pas à pas](https://interstices.info/les-algorithmes-de-tri/). Attention à bien __choisir le tri par sélection__."
   ]
  },
  {
   "cell_type": "markdown",
   "metadata": {},
   "source": [
    "## Programme Python du tri par sélection\n",
    "\n",
    "Analyser en détail, pas à pas, le programme ci-dessous :"
   ]
  },
  {
   "cell_type": "code",
   "execution_count": null,
   "metadata": {},
   "outputs": [],
   "source": [
    "tab = [7, 5, 2, 8, 1, 4]\n",
    "\n",
    "for i in range(len(tab) - 1):\n",
    "    indice_du_mini = i\n",
    "    for j in range(i + 1, len(tab)) :\n",
    "        if tab[j] < tab[indice_du_mini]:\n",
    "            indice_du_mini = j\n",
    "    tab[i], tab[indice_du_mini] = tab[indice_du_mini], tab[i]\n",
    "\n",
    "print(tab)"
   ]
  },
  {
   "cell_type": "markdown",
   "metadata": {},
   "source": [
    "### Une fonction pour trier, trier et retrier...\n",
    "\n",
    "Nous allons implémenter ce code dans une fonction..."
   ]
  },
  {
   "cell_type": "code",
   "execution_count": null,
   "metadata": {},
   "outputs": [],
   "source": [
    "def tri_selection(tab):\n",
    "    for i in range(len(tab) - 1):\n",
    "        indice_du_mini = i\n",
    "        for j in range(i + 1, len(tab)) :\n",
    "            if tab[j] < tab[indice_du_mini]:\n",
    "                indice_du_mini = j\n",
    "        tab[i], tab[indice_du_mini] = tab[indice_du_mini], tab[i]\n",
    "    return tab"
   ]
  },
  {
   "cell_type": "markdown",
   "metadata": {},
   "source": [
    "> __Commentaires :__ (détailler ici la structure que doit avoir une __fonction__, si possible en utilisant un vocabulaire précis si vous le connaissez)\n",
    "- \n",
    "\n",
    "Ci-dessous, on voit que l'on peut réutiliser la fonction indéfiniment..."
   ]
  },
  {
   "cell_type": "code",
   "execution_count": null,
   "metadata": {},
   "outputs": [],
   "source": [
    "from random import randint\n",
    "\n",
    "tableau = [randint(1, 100) for _ in range(15)]\n",
    "print(tableau)\n",
    "\n",
    "tableau_trié = tri_selection(tableau)\n",
    "print(tableau_trié)"
   ]
  },
  {
   "cell_type": "code",
   "execution_count": null,
   "metadata": {},
   "outputs": [],
   "source": [
    "tableau = [randint(1, 100) for _ in range(15)]\n",
    "print(tableau)\n",
    "\n",
    "tableau_trié = tri_selection(tableau)\n",
    "print(tableau_trié)"
   ]
  },
  {
   "cell_type": "code",
   "execution_count": null,
   "metadata": {},
   "outputs": [],
   "source": [
    "tableau = [randint(1, 100) for _ in range(15)]\n",
    "print(tableau)\n",
    "\n",
    "tableau_trié = tri_selection(tableau)\n",
    "print(tableau_trié)"
   ]
  },
  {
   "cell_type": "markdown",
   "metadata": {},
   "source": [
    "> __Commentaires :__ \n",
    "- sur les exemples ci-dessous, quel a été l'intérêt d'intégrer notre tri par sélection dans une fonction ?\n",
    "- détailler ici comment utiliser une __fonction__, si possible en utilisant un vocabulaire précis (si vous le connaissez)"
   ]
  },
  {
   "cell_type": "markdown",
   "metadata": {},
   "source": [
    "### Intermède : le tri sélection en danse gypsy\n",
    "\n",
    "[![Vidéo du tri sélection dansé](Danse_selection.png)](https://www.youtube.com/watch?v=Ns4TPTC8whw)\n",
    "(Cliquer sur l'image pour lancer la vidéo)"
   ]
  },
  {
   "cell_type": "markdown",
   "metadata": {},
   "source": [
    "> __Commentaires :__\n",
    "- noter ici les différentes étapes (instructions) mises en avant par cette danse)\n",
    "- quelle type d'étape n'est pas explicite dans cette chorégraphie ?"
   ]
  },
  {
   "cell_type": "code",
   "execution_count": null,
   "metadata": {},
   "outputs": [],
   "source": []
  },
  {
   "cell_type": "markdown",
   "metadata": {},
   "source": [
    "## Le tri par insertion\n",
    "### Principe du tri par insertion\n",
    "\n",
    "__On parcourt le tableau, chaque prochaine carte non triée rencontrée va s'insérer au bon endroit dans la première partie du tableau, déjà triée__. \n",
    "\n",
    "### Le tri par insertion en détail\n",
    "\n",
    "- On traite successivement toutes les valeurs à trier, en commençant par celle en deuxième position.\n",
    "- Traitement : tant que la valeur à traiter est inférieure à celle située à sa gauche, on échange ces deux valeurs."
   ]
  },
  {
   "cell_type": "markdown",
   "metadata": {},
   "source": [
    "## Le tri par insertion animé !\n",
    "\n",
    "Considérons la liste `[7, 5, 2, 8, 1, 4]`  \n",
    " \n",
    "Voici une __animation simulant le fonctionnement de l'algorithme__ :  \n",
    "![Animation du tri par insertion](insertion1.gif)\n",
    "\n",
    "> __Remarques :__\n",
    "- le cadre violet est placé sur le plus petit indice non trié"
   ]
  },
  {
   "cell_type": "markdown",
   "metadata": {},
   "source": [
    "## Algorithme du tri par insertion\n",
    "\n",
    "Ci dessous, le __pseudo-code d'un tri par insertion__ :\n",
    "\n",
    "      VARIABLES\n",
    "          tab : tableau d'entiers (par exemple)\n",
    "          i, longueur_tab : entiers\n",
    "      \n",
    "      DEBUT\n",
    "          longueur_tab ← longueur(tab) \n",
    "          \n",
    "          POUR i DE 1 A (longueur_tab - 1)\n",
    "              TANT_QUE (tab[i] < tab[i - 1]) ET (i > 0)\n",
    "                  échanger tab[i] et tab[i - 1]\n",
    "                  i ← i - 1\n",
    "              FIN_TANT_QUE\n",
    "          FIN_POUR\n",
    "      FIN"
   ]
  },
  {
   "cell_type": "markdown",
   "metadata": {},
   "source": [
    "[Vérifier sur cette version de __simulateur de tris__ que vous avez bien compris l'algorithme, pas à pas](https://interstices.info/les-algorithmes-de-tri/). Attention à bien __choisir le tri par insertion__."
   ]
  },
  {
   "cell_type": "markdown",
   "metadata": {},
   "source": [
    "## Programme Python du tri par insertion\n",
    "\n",
    "A l'aide de l'algorithme ci-dessus, __coder un programme de tri par insertion__ :"
   ]
  },
  {
   "cell_type": "code",
   "execution_count": null,
   "metadata": {},
   "outputs": [],
   "source": [
    "tab = [7, 5, 2, 8, 1, 4]\n",
    "\n",
    "for i in range (1, len(tab)):\n",
    "    while tab[i] < tab[i - 1] and i > 0:\n",
    "        tab[i], tab[i - 1] = tab[i - 1], tab[i]\n",
    "        i = i - 1\n",
    "        \n",
    "print(tab)"
   ]
  },
  {
   "cell_type": "markdown",
   "metadata": {},
   "source": [
    "### Une fonction pour trier, trier et retrier...\n",
    "\n",
    "En vous aidant de la fonction `tri_selection()`, __coder une fonction `tri_insertion()`__."
   ]
  },
  {
   "cell_type": "code",
   "execution_count": null,
   "metadata": {},
   "outputs": [],
   "source": [
    "def tri_insertion(tab):\n",
    "    for i in range (1, len(tab)):\n",
    "        while tab[i] < tab[i - 1] and i > 0:\n",
    "            tab[i], tab[i - 1] = tab[i - 1], tab[i]\n",
    "            i = i - 1\n",
    "    return tab"
   ]
  },
  {
   "cell_type": "code",
   "execution_count": null,
   "metadata": {},
   "outputs": [],
   "source": [
    "from random import randint\n",
    "\n",
    "tableau = [randint(1, 100) for _ in range(15)]\n",
    "print(tableau)\n",
    "\n",
    "tableau_trié = tri_insertion(tableau)\n",
    "print(tableau_trié)"
   ]
  },
  {
   "cell_type": "markdown",
   "metadata": {},
   "source": [
    "### Intermède : le tri insertion en danse gypsy\n",
    "\n",
    "[![Vidéo du tri insertion dansé](Danse_insertion.png)](https://www.youtube.com/watch?v=ROalU379l3U)\n",
    "(Cliquer sur l'image pour lancer la vidéo)"
   ]
  },
  {
   "cell_type": "markdown",
   "metadata": {},
   "source": [
    "## Le tri par insertion, le retour (en version optimisée)\n",
    "\n",
    "Observez l'animation ci-dessous et __comparer avec la version initiale__.  \n",
    "![Animation du tri par insertion optimisé](insertion2.gif)"
   ]
  },
  {
   "cell_type": "markdown",
   "metadata": {},
   "source": [
    "> __Commentaires :__  \n",
    "- "
   ]
  },
  {
   "cell_type": "markdown",
   "metadata": {},
   "source": [
    "## Algorithme du tri par insertion optimisé\n",
    "\n",
    "Ci dessous, le __pseudo-code d'un tri par insertion__ :\n",
    "\n",
    "      VARIABLES\n",
    "          tab : tableau d'entiers (par exemple)\n",
    "          i, temp, indice, longueur_tab : entiers\n",
    "      \n",
    "      DEBUT\n",
    "          longueur_tab ← longueur(tab) \n",
    "          \n",
    "          POUR i DE 1 A (longueur_tab - 1)\n",
    "              temp ← tab[i]\n",
    "              indice ← i - 1\n",
    "              TANT_QUE (temp < tab[indice]) ET (indice >= 0)\n",
    "                  tab[indice + 1] ← tab[indice]\n",
    "                  indice = indice - 1\n",
    "              FIN_TANT_QUE\n",
    "              \n",
    "              tab[indice + 1] ← temp\n",
    "          FIN_POUR\n",
    "      FIN\n",
    "      \n",
    "__Programmer le tri par insertion optimisé__ ci-dessous :"
   ]
  },
  {
   "cell_type": "code",
   "execution_count": null,
   "metadata": {},
   "outputs": [],
   "source": [
    "tab = [7, 5, 2, 8, 1, 4]\n",
    "\n",
    "for i in range (1, len(tab)):\n",
    "    temp = tab[i]\n",
    "    indice = i - 1\n",
    "    while temp < tab[indice] and indice >= 0:\n",
    "        tab[indice + 1] = tab[indice]\n",
    "        indice = indice - 1\n",
    "    tab[indice + 1] = temp\n",
    "        \n",
    "print(tab)"
   ]
  },
  {
   "cell_type": "markdown",
   "metadata": {},
   "source": [
    "## Que retenir ?\n",
    "### À minima...\n",
    "\n",
    "- Deux tris sont exigibles (algorithme + code Python) :\n",
    "  - Le tri par sélection\n",
    "    - On parcourt le tableau en sélectionnant l'élément \"minimum\" et on le déplace en début de tableau, dans une partie de tableau déjà triée. On répète cette procédure en sélectionnant le prochain minimum dans le reste du tableau non trié.\n",
    "  - Le tri par insertion\n",
    "    - On parcourt le tableau, chaque prochaine carte non triée rencontrée va s'insérer au bon endroit dans la première partie du tableau, déjà triée\n",
    "- Ces deux tris modifient la liste \"sur place\".\n",
    "- Ces deux tris nécessitent :\n",
    "  - l'utilisation de deux boucles imbriquées pour parcourir et trier la liste.\n",
    "  - d'échanger deux cartes, dans certaines conditions, au cours de ce parcours.\n",
    "  \n",
    "### Au mieux...\n",
    "\n",
    "- Le tri par sélection nécessite deux boucles POUR imbriquées.\n",
    "- Le tri par insertion nécessite une boucle TANT_QUE imbriquée dans une boucle POUR.\n",
    "- Parmi les tris classiques, on rencontre aussi le tri à bulle (facile), le tri rapide et le tri fusion.\n",
    "- En Python, on utilise [la fonction `sorted()` ou la méthode `.sort()`](https://docs.python.org/fr/3/howto/sorting.html)"
   ]
  },
  {
   "cell_type": "markdown",
   "metadata": {},
   "source": [
    "---\n",
    "[![Ce document est publié sous licence CC BY NC SA](https://licensebuttons.net/l/by-nc-sa/3.0/88x31.png \"licence Creative Commons CC BY-NC-SA\")](http://creativecommons.org/licenses/by-nc-sa/3.0/fr/)\n",
    "<p style=\"text-align: center;\">Auteur : David Landry, Lycée Clemenceau - Nantes</p>\n",
    "<p style=\"text-align: center;\">D'après des documents partagés par...</p>\n",
    "<p style=\"text-align: center;\"><a  href=https://github.com/glassus/nsi>Gilles Lassus, publié sur Github sous licence CC-BY-SA</a></p>"
   ]
  }
 ],
 "metadata": {
  "kernelspec": {
   "display_name": "Python 3",
   "language": "python",
   "name": "python3"
  },
  "language_info": {
   "codemirror_mode": {
    "name": "ipython",
    "version": 3
   },
   "file_extension": ".py",
   "mimetype": "text/x-python",
   "name": "python",
   "nbconvert_exporter": "python",
   "pygments_lexer": "ipython3",
   "version": "3.8.3"
  }
 },
 "nbformat": 4,
 "nbformat_minor": 2
}
