{
 "cells": [
  {
   "cell_type": "markdown",
   "metadata": {},
   "source": [
    "# Gestion de mémoire des chaines de caractères\n",
    "\n",
    "Au premier appel à une chaîne de caractère donnée, *Python* crée un objet dédié en mémoire."
   ]
  },
  {
   "cell_type": "code",
   "execution_count": null,
   "metadata": {},
   "outputs": [],
   "source": [
    "'joe'"
   ]
  },
  {
   "cell_type": "code",
   "execution_count": null,
   "metadata": {},
   "outputs": [],
   "source": [
    "id('joe')"
   ]
  },
  {
   "cell_type": "markdown",
   "metadata": {},
   "source": [
    "> __Remarques :__ si on \"tue\" l'interpréteur pour en démarrer un autre (rédémmarage du noyau), l'adresse affectée à 'joe' sera différente."
   ]
  },
  {
   "cell_type": "markdown",
   "metadata": {},
   "source": [
    "Les variables prenant cet objet comme valeur deviennent des pointeurs."
   ]
  },
  {
   "cell_type": "code",
   "execution_count": null,
   "metadata": {},
   "outputs": [],
   "source": [
    "nom_1 = 'joe'\n",
    "nom_2 = nom_1\n",
    "nom_3 = 'joe'\n",
    "id(nom_1), id(nom_2), id(nom_3)"
   ]
  },
  {
   "cell_type": "markdown",
   "metadata": {},
   "source": [
    "On peut utiliser Python tutor pour comprendre que ces trois variables pointent vers le même objet :\n",
    "\n",
    "![Visualisation Python tutor](PTutor.png)\n",
    "\n",
    "\n",
    "## Reconstruisons l'objet `'joe'` à la main"
   ]
  },
  {
   "cell_type": "markdown",
   "metadata": {},
   "source": [
    "La simple concaténation permet de retrouver (ou re-pointer) sur l'objet initial."
   ]
  },
  {
   "cell_type": "code",
   "execution_count": null,
   "metadata": {},
   "outputs": [],
   "source": [
    "id('j' + 'oe'), id('j' + 'oe')"
   ]
  },
  {
   "cell_type": "code",
   "execution_count": null,
   "metadata": {},
   "outputs": [],
   "source": [
    "nom_4 = 'j' + 'oe'\n",
    "id(nom_4)"
   ]
  },
  {
   "cell_type": "markdown",
   "metadata": {},
   "source": [
    "La concaténation multiple est reconnue elle-aussi :"
   ]
  },
  {
   "cell_type": "code",
   "execution_count": null,
   "metadata": {},
   "outputs": [],
   "source": [
    "id('j' + 'o' + 'e')"
   ]
  },
  {
   "cell_type": "markdown",
   "metadata": {},
   "source": [
    "La \"re-création\" de l'objet ne change rien : *Python* reconnaît l'objet du début."
   ]
  },
  {
   "cell_type": "code",
   "execution_count": null,
   "metadata": {},
   "outputs": [],
   "source": [
    "'joe'"
   ]
  },
  {
   "cell_type": "code",
   "execution_count": null,
   "metadata": {},
   "outputs": [],
   "source": [
    "id('joe')"
   ]
  },
  {
   "cell_type": "markdown",
   "metadata": {},
   "source": [
    "## Construire `'joe'` avec les méthodes *built-in*"
   ]
  },
  {
   "cell_type": "markdown",
   "metadata": {},
   "source": [
    "En revanche, si on construit la chaîne 'joe' par des moyens plus élaborés, *Python* a besoin de davantage de mémoire."
   ]
  },
  {
   "cell_type": "code",
   "execution_count": null,
   "metadata": {},
   "outputs": [],
   "source": [
    "nom_5 = 'jo'\n",
    "print(f\"id(g) = {id(nom_5)}\")"
   ]
  },
  {
   "cell_type": "code",
   "execution_count": null,
   "metadata": {},
   "outputs": [],
   "source": [
    "nom_5 += 'e'  # syntaxic sugar --> too much\n",
    "print(f\"id(g) = {id(nom_5)}\")"
   ]
  },
  {
   "cell_type": "code",
   "execution_count": null,
   "metadata": {},
   "outputs": [],
   "source": [
    "nom_6 = 'joe '  # avec un espace\n",
    "nom_7 = nom_6.strip()  # high-level method --> too much\n",
    "print(nom_7)\n",
    "print(id(nom_7))  # change à chaque exécution de la cellule : ça consomme)  # change à chaque exécution de la cellule : ça consomme !"
   ]
  },
  {
   "cell_type": "code",
   "execution_count": null,
   "metadata": {},
   "outputs": [],
   "source": [
    "liste = ['j', 'o', 'e']\n",
    "nom_8 = ''.join(liste)  # fusion de la liste --> too much\n",
    "print(nom_8)\n",
    "print(id(nom_8))  # change à chaque exécution de la cellule : ça consomme)  # change à chaque exécution de la cellule : ça consomme !"
   ]
  },
  {
   "cell_type": "code",
   "execution_count": null,
   "metadata": {},
   "outputs": [],
   "source": [
    "id('joe')  # pour mémoire"
   ]
  }
 ],
 "metadata": {
  "kernelspec": {
   "display_name": "Python 3",
   "language": "python",
   "name": "python3"
  },
  "language_info": {
   "codemirror_mode": {
    "name": "ipython",
    "version": 3
   },
   "file_extension": ".py",
   "mimetype": "text/x-python",
   "name": "python",
   "nbconvert_exporter": "python",
   "pygments_lexer": "ipython3",
   "version": "3.8.3"
  }
 },
 "nbformat": 4,
 "nbformat_minor": 4
}
