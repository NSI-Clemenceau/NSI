{
 "cells": [
  {
   "cell_type": "markdown",
   "metadata": {},
   "source": [
    "# Tests et exceptions (Approfondissement)\n",
    "\n",
    "> **Remarque :** ce notebook aborde une fonctionnalité qui sera sûrement utile lors des projets mais qui est hors programme. Elle n'est donc conseillé qu'aux élèves ayant le plus d'expérience en programmation.\n",
    "\n",
    "## Try... Except...\n",
    "\n",
    "L'exécution d'un programme peut provoquer une erreur. Lorsque c'est le cas, l'exécution s'arrête immédiatement et l'interpréteur Python affiche une trace d'erreur.\n",
    "\n",
    "**En python, on peut gérer les éventuelles erreurs d'exécution**.\n",
    "\n",
    "Une erreur lors de l'exécution d'un programme est appelée une **exception**.\n",
    "\n",
    "On dit que **l'interpréteur lève une exception** lorsqu'il rencontre une erreur dans le programme, l'arrête en renvoyant un message d'erreur.\n",
    "\n",
    "Imaginons un algorithme où une division par un nombre réel saisi `a`  est nécessaire :"
   ]
  },
  {
   "cell_type": "code",
   "execution_count": 18,
   "metadata": {},
   "outputs": [
    {
     "name": "stdout",
     "output_type": "stream",
     "text": [
      "Saisir une valeur de a = 2\n",
      "b/a = 5.0\n"
     ]
    }
   ],
   "source": [
    "a = int(input(\"Saisir une valeur de a = \"))\n",
    "b = 10\n",
    "print(\"b/a =\", b / a)"
   ]
  },
  {
   "cell_type": "markdown",
   "metadata": {},
   "source": [
    "Si vous exécutez ce programme avec a = 0, l'interpréteur rencontre un problème : ici l'erreur 10 / 0 (erreur appelée exception).\n",
    "\n",
    "L'interpréteur arrête le programme et renvoie un message d'erreur : il lève une exception. Le message peut prendre différentes formes :\n",
    "```python\n",
    "ZeroDivisionError: integer division or modulo by zero at ,\n",
    "\n",
    "ZeroDivisionError Traceback (most recent call last)\n",
    "<ipython-input-1-d1c920c10ea0> in <module>()\n",
    "      1 a = int(input(\"Saisir une valeur de a = \"))\n",
    "      2 b = 10\n",
    "----> 3 print(\"b/a =\", b / a)\n",
    "ZeroDivisionError: division by zero\n",
    "\n",
    "Traceback (most recent call last):\n",
    "File \"\", line 566, in run_nodebug\n",
    "File \"\", line 3, in\n",
    "ZeroDivisionError: division by zero\n",
    "```\n",
    "Dans tous les cas, appraraît le type de l'exception : ```ZeroDivisionError```.\n",
    "\n",
    "On retrouve ainsi qu'il est nécessaire de tester si le nombre `a` saisi est nul afin d'éviter que le programme ne s'arrête du fait d'une division par 0.\n",
    "\n",
    "Pour cela, vous connaissez déjà l'instruction `assert`.\n",
    "\n",
    "Exécuter le script suivant dans un notebook avec différentes valeurs de `a`, dont 0 :"
   ]
  },
  {
   "cell_type": "code",
   "execution_count": 19,
   "metadata": {},
   "outputs": [
    {
     "name": "stdout",
     "output_type": "stream",
     "text": [
      "Saisir une valeur de a = 6\n",
      "b/a = 1.6666666666666667\n"
     ]
    }
   ],
   "source": [
    "a = int(input(\"Saisir une valeur de a = \"))\n",
    "assert a != 0, \"Erreur, le nombre saisi est nul\"\n",
    "b = 10\n",
    "print(\"b/a =\", b / a)"
   ]
  },
  {
   "cell_type": "markdown",
   "metadata": {},
   "source": [
    "Si vous exécuter le script précédent en saisissant a = 0, l'interpréteur teste la condition de l'assert puis affiche le message d'erreur saisi par le programmeur afin de faciliter la compréhension de l'erreur mais **force l'arrêt de l'exécution du programme**.\n",
    "\n",
    "Or, mettre fin à un programme de manière forcée peut être très gênant lorsque ce programme fait partie d'un programme plus conséquent.\n",
    "\n",
    "**Pour gérer les erreurs tout évitant l'arrêt du programme, il suffit d'utiliser la commande :**\n",
    "```python\n",
    "try:\n",
    "    notre interpréteur essaie\n",
    "except:\n",
    "    ce que notre interpréteur fait si le précédent essai ne passe pas.\n",
    "```\n",
    "\n",
    "Exécuter le script suivant dans un notebook avec différentes valeurs de `a`, dont 0 :"
   ]
  },
  {
   "cell_type": "code",
   "execution_count": 20,
   "metadata": {},
   "outputs": [
    {
     "name": "stdout",
     "output_type": "stream",
     "text": [
      "Saisir une valeur de a = 0\n",
      "Il faut entrer un nombre non nul !\n"
     ]
    }
   ],
   "source": [
    "a = int(input(\"Saisir une valeur de a = \"))\n",
    "b = 10\n",
    "try:\n",
    "    print(\"b/a =\", b / a)\n",
    "except:\n",
    "    print('Il faut entrer un nombre non nul !')"
   ]
  },
  {
   "cell_type": "markdown",
   "metadata": {},
   "source": [
    "> **Commentaire :**\n",
    "- Est-ce que le programme se termine dans tous les cas ?"
   ]
  },
  {
   "cell_type": "markdown",
   "metadata": {},
   "source": [
    "**Explication :**\n",
    "\n",
    "Dans le cas où a = 0, arrivé à la ligne 4, **l'interpréteur commence par essayer d'évaluer le quotient b / a**.\n",
    "\n",
    "Comme il n'est pas possible d'effectuer une telle division, son essai échoue. L'interpréteur arrête le bloc `try:`, sans s'occuper du `print()` pour **passer directement au bloc `except:`** : il affiche donc le texte de la ligne 6. \n",
    "\n",
    "**Ainsi, l'erreur de diviser par 0 ne conduit pas à un arrêt non désiré du progamme**."
   ]
  },
  {
   "cell_type": "markdown",
   "metadata": {},
   "source": [
    "**Application :**\n",
    "\n",
    "Créer une procédure `votre_age()` qui...\n",
    "- demande à l'utilisateur son année de naissance\n",
    "- affiche son âge (approximatif car la date précise n'est pas prise en compte)\n",
    "\n",
    "Tester votre procédure avec, entre autres, 2005 puis \"deux mille cinq\".\n",
    "\n",
    "Améliorer la procédure `votre_age()` en utilisant l'instruction `try... except...` afin que le programme ne cesse pas si autre chose qu'un entier est saisi et en faisant en sorte qu'un message d'erreur adéquat apparaisse ; par exemple \"Veuillez saisir un nombre entier.\""
   ]
  },
  {
   "cell_type": "code",
   "execution_count": null,
   "metadata": {},
   "outputs": [],
   "source": []
  },
  {
   "cell_type": "markdown",
   "metadata": {},
   "source": [
    "## Aller encore plus loin avec except\n",
    "\n",
    "Il est possible aussi de préciser quel type d'exception (c'est à dire quel type d'erreur) doit être levé à chaque fois. Pour cela, il suffit de préciser après le mot-clé `except` le nom du type d'erreur : `ZeroDivisionError`, `ValueError`,...\n",
    "\n",
    "Il faut donc tester son programme auparavant, ou bien avoir une certaine expérience de la syntaxe des erreurs possibles.\n",
    "\n",
    "Exécuter le script suivant dans un notebook avec différentes valeurs de `a`, dont 0 :"
   ]
  },
  {
   "cell_type": "code",
   "execution_count": null,
   "metadata": {},
   "outputs": [],
   "source": [
    "try:\n",
    "    a = int(input(\"Saisir une valeur de a = \"))\n",
    "    b = 10\n",
    "    print(\"b/a =\", b / a)\n",
    "except ValueError:\n",
    "    print(\"Erreur : la valeur saisie n'est pas un entier valide\")\n",
    "except ZeroDivisionError:\n",
    "    print('Erreur : il faut entrer un nombre non nul pour ne pas diviser par zéro !')"
   ]
  },
  {
   "cell_type": "markdown",
   "metadata": {},
   "source": [
    "> **Commentaires :**\n",
    "- Est-ce que le programme se termine dans tous les cas ?\n",
    "- Que signifie le type d'erreur `ValueError` ?\n",
    "- Quel est l'intérêt ici de préciser deux `except` ?"
   ]
  },
  {
   "cell_type": "markdown",
   "metadata": {},
   "source": [
    "**Application :**\n",
    "\n",
    "\n",
    "Proposer un programme qui :\n",
    "- demande l'âge de l'utilisateur\n",
    "- teste que la saisie est bien convertible en un nombre entier\n",
    "- affiche l'âge si tout va bien\n",
    "- affiche un message d'erreur caractéristique, en cas d'erreur de saisie\n",
    "\n",
    "Tester la fonction, en particulier en saisissant \"seize\" et 16."
   ]
  },
  {
   "cell_type": "markdown",
   "metadata": {},
   "source": [
    "## Des exceptions même quand tout va bien !\n",
    "\n",
    "Il est parfois utile de lever une exception sans que l'interpréteur ne rencontre une erreur.\n",
    "\n",
    "Voici une procédure qui demande à l'utilisateur son âge puis lève une exception si la personne est mineure sans rien retourner."
   ]
  },
  {
   "cell_type": "code",
   "execution_count": null,
   "metadata": {},
   "outputs": [],
   "source": [
    "def pour_majeur():\n",
    "    try:\n",
    "        age = int(input(\"Veuillez saisir votre âge : \"))  \n",
    "        if age < 18: \n",
    "            print(\"Vous devez être majeur.e !\")\n",
    "            raise ValueError()\n",
    "        else:  \n",
    "            print(\"Age valide\")  \n",
    "    except :  \n",
    "        print(\"Age non valide !\")"
   ]
  },
  {
   "cell_type": "markdown",
   "metadata": {},
   "source": [
    "Tester la procédure `pour_majeur()` de l'exemple précédent avec différents saisies, en particulier \"seize\", 16, 18 ou 19.5."
   ]
  },
  {
   "cell_type": "code",
   "execution_count": null,
   "metadata": {},
   "outputs": [],
   "source": [
    "pour_majeur()"
   ]
  },
  {
   "cell_type": "markdown",
   "metadata": {},
   "source": [
    "> **Commentaires :** le mot-clé `raise` sert à lever une exception même si aucune erreur de programmation ou de calcul n'a lieu."
   ]
  },
  {
   "cell_type": "markdown",
   "metadata": {},
   "source": [
    "Proposer une fonction `contient_e(chaine)` qui prend une chaine de caractères en paramètre et qui renvoie si cette chaine contient la lettre `e` grâce à un booléen.\n",
    "\n",
    "Modifier le programme précédent afin qu'il gère l'erreur du type de saisie, erreur appelée `TypeError`.\n",
    "\n",
    "Par exemple si l'utilisateur entre un nombre à la place d'une chaine de caractères en renvoyant le message suivant :\n",
    "```python\n",
    "Erreur : donner comme argument une chaine de caractères.\n",
    "```\n",
    "> **Remarque :** il existe plusieurs façons de s'assurer que l'argument est bien une chaine de caractères, essayez la commande `isinstance(ma_chaine, str)`.\n",
    "\n",
    "> **Exemple :**\n",
    "- `isinstance(268, str)` renvoie `False`\n",
    "- `isinstance(\"Mon texte !\", str)` renvoie `True`"
   ]
  },
  {
   "cell_type": "code",
   "execution_count": null,
   "metadata": {},
   "outputs": [],
   "source": []
  },
  {
   "cell_type": "markdown",
   "metadata": {},
   "source": [
    "**À retenir :**\n",
    "\n",
    "Pour gérer les exceptions, on peut utiliser l'instruction suivante :\n",
    "```python\n",
    "try:\n",
    "    instructions exécutées sous réserve qu aucune erreur ne survienne\n",
    "except: # si une erreur est apparu lors de l'exécution du bloc précédent\n",
    "    instructions à exécuter si une erreur est survenu dans le bloc try\n",
    "```"
   ]
  },
  {
   "cell_type": "markdown",
   "metadata": {},
   "source": [
    "---\n",
    "[![Licence CC BY NC SA](https://licensebuttons.net/l/by-nc-sa/3.0/88x31.png \"licence Creative Commons CC BY-NC-SA\")](http://creativecommons.org/licenses/by-nc-sa/3.0/fr/)\n",
    "<p style=\"text-align: center;\">Auteur : David Landry, Lycée Clemenceau - Nantes</p>\n",
    "<p style=\"text-align: center;\">D'après des documents partagés par...</p>\n",
    "<p style=\"text-align: center;\"><a  href=http://www.monlyceenumerique.fr/index_nsi.html#premiere>Jean-Christophe Gérard, Thomas Lourdet, Johan Monteillet, Pascal Thérèse</a></p>"
   ]
  }
 ],
 "metadata": {
  "kernelspec": {
   "display_name": "Python 3",
   "language": "python",
   "name": "python3"
  },
  "language_info": {
   "codemirror_mode": {
    "name": "ipython",
    "version": 3
   },
   "file_extension": ".py",
   "mimetype": "text/x-python",
   "name": "python",
   "nbconvert_exporter": "python",
   "pygments_lexer": "ipython3",
   "version": "3.7.3"
  }
 },
 "nbformat": 4,
 "nbformat_minor": 2
}
