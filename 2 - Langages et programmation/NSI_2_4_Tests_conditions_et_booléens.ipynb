{
 "cells": [
  {
   "cell_type": "markdown",
   "metadata": {},
   "source": [
    "# Tests, conditions & booléens"
   ]
  },
  {
   "cell_type": "markdown",
   "metadata": {},
   "source": [
    "## Introduction et définitions\n",
    "\n",
    "Dans le notebook sur les variables, nous avons utilisé l'instruction suivante :"
   ]
  },
  {
   "cell_type": "code",
   "execution_count": null,
   "metadata": {},
   "outputs": [],
   "source": [
    "bateau = 'voilier'\n",
    "id(bateau) == id('voilier')"
   ]
  },
  {
   "cell_type": "markdown",
   "metadata": {},
   "source": [
    "Outre les notions de variable et d'affectation, ces instructions introduisent également les notions de **test** et de **booléen**.\n",
    "\n",
    "Repérer et noter :\n",
    "\n",
    "- le test :\n",
    "- le booléen :"
   ]
  },
  {
   "cell_type": "markdown",
   "metadata": {},
   "source": [
    "> **Définitions :** \n",
    "- un **booléen** est une variable qui peut avoir deux états possibles, généralement vrai ou faux, en langage Python `True` ou `False`. Les booléens sont très utiles pour des tests. \n",
    "- un **test** (on parle aussi de *condition booléenne*, de *prédicat* ou d'*assertion*) est une expression booléenne dont la valeur est soit `True` soit `False`. C’est le résultat d’une comparaison."
   ]
  },
  {
   "cell_type": "markdown",
   "metadata": {},
   "source": [
    "## Point historique\n",
    "\n",
    "Georges Boole sort 'Mathematical Analysis of Logic' en 1847, qui est une structure algébrique a seulement deux états : 0 et 1. A cette époque, tout cela reste théorique mais sera grandement utilisé par la suite. \n",
    "\n",
    "![George_Boole](George_Boole.jpg)\n",
    "\n",
    "Bien que le Binaire soit apparu en 3000 avant J.C. en Chine pour calculer des périodes religieuses, les Français ne l'utiliseront qu'en 1600 avec la table de Harriot (mathématicien et astronome anglais) et Leibniz y consacra un article important en 1703. Il fallut attendre 1930 pour que Claude Shannon démontre qu'avec des interupteurs fermés pour 'vrai' et ouvert pour 'faux', on peut effectuer des opération logiques en associant le nombre 1 pour vrai et 0 pour faux. C'est lui qui va populariser le mot 'bit' créé par John Tukey.\n",
    "\n",
    "En 1937, Georges Stibitz et Samuel Williams fabriquent un calculateur avec des relais, basé sur le système binaire, capable de réaliser les 4 opérations avec des nombres décimaux en entrée en 1 minute ! Ils ont même établi un système de communication pour piloter une machine à des centaines de kilomètres. D'autres calculateurs avaient été fabriquées bien avant mais étaient mécaniques et utilisaient des engrenages. La Pascaline de Blaise Pascal, à 16 ans, est capable de soustraire et additionner. Gottfried Wilhelm Leibniz conçoit en 1694 une machine capable d'en plus multiplier et diviser. D'autres modèles mécaniques suivirent, le dernier fut une calculatrice mécanique de 1948 capable de faire une multitude de calculs mathématiques rapidement. Elle sera utilisée jusqu'en 1970, année de mise en marché de la calculatrice dite conventionnelle que l'on connaît aujourd'hui.\n",
    "\n",
    "C'est l'arrivée du transistor en 1947 qui va bouleverser les travaux sur les calculateurs. Jusqu'alors on utilisait les relais ou les lampes. Les lampes étaient 1000 fois plus grandes et consommaient 1000 fois plus.\n",
    "\n",
    "Que fait un transistor ? Un transistor a trois broches : le collecteur, la base et l'emetteur. Le courant dans l'emetteur est égal à la somme des courants du collecteur et de la base. Si la base n'est pas alimentée, le courant ne passe pas et une faible tension dans la base laissera passer le courant... : passe, passe pas,.... 1, 0...  True, False...\n",
    "\n",
    "On comprend vite la parfaite adaptation de ce nouvel outil, le transistor, pour l'utilisation du binaire et... des booléens."
   ]
  },
  {
   "cell_type": "markdown",
   "metadata": {},
   "source": [
    "## Opérateurs de comparaison\n",
    "\n",
    "Les opérateurs de comparaison entre deux termes sont :\n",
    "\n",
    "|inférieur|inférieur ou égal|supérieur|supérieur ou égal|égal|différent|appartient à|est le même objet que|\n",
    "|:---:|:---:|:---:|:---:|:---:|:---:|:---:|:---:|\n",
    "|<|<=|>|>=|==|!=|in| is |\n",
    "\n",
    "Les cellules de code ci-dessous vous permettent d'étudier quelques exemples.\n",
    "\n",
    "N'hésitez pas à tester vous même vos propres exemples et à noter des commentaires."
   ]
  },
  {
   "cell_type": "code",
   "execution_count": null,
   "metadata": {},
   "outputs": [],
   "source": [
    "a = 3\n",
    "a == 3"
   ]
  },
  {
   "cell_type": "markdown",
   "metadata": {},
   "source": [
    "> **Remarque :**\n",
    "attention à ne pas confondre :\n",
    "- `a = 3` qui affecte la valeur `3` à la variable `a`\n",
    "- `a == 3` qui teste si `a` est égal à l'entier `3`"
   ]
  },
  {
   "cell_type": "code",
   "execution_count": null,
   "metadata": {},
   "outputs": [],
   "source": [
    "b = 5\n",
    "a == b"
   ]
  },
  {
   "cell_type": "code",
   "execution_count": null,
   "metadata": {},
   "outputs": [],
   "source": [
    "c = '5'\n",
    "b == c"
   ]
  },
  {
   "cell_type": "markdown",
   "metadata": {},
   "source": [
    "> **Remarques :** \n",
    "- l'instruction `assert` permet de tester si une condition booléenne est vraie ou fausse :\n",
    "  - dans le cas où elle est vraie, rien ne se passe et le programme suit son cours.\n",
    "  - dans le cas où elle est fausse, le terminal affiche une erreur. On peut personnaliser ce message d'erreur en ajoutant une virgule et une chaîne de caractères après l'assertion."
   ]
  },
  {
   "cell_type": "code",
   "execution_count": null,
   "metadata": {},
   "outputs": [],
   "source": [
    "assert a >= 5"
   ]
  },
  {
   "cell_type": "code",
   "execution_count": null,
   "metadata": {},
   "outputs": [],
   "source": [
    "assert 4 < 5"
   ]
  },
  {
   "cell_type": "code",
   "execution_count": null,
   "metadata": {},
   "outputs": [],
   "source": [
    "reponse = int(input(\"Saisir un nombre supérieur ou égal à 100 : \"))\n",
    "\n",
    "assert reponse >= 100, \"Votre nombre n'est pas supérieur ou égal à 100 !\""
   ]
  },
  {
   "cell_type": "code",
   "execution_count": null,
   "metadata": {},
   "outputs": [],
   "source": [
    "'4' < '5'"
   ]
  },
  {
   "cell_type": "code",
   "execution_count": null,
   "metadata": {},
   "outputs": [],
   "source": [
    "'24' < '5'"
   ]
  },
  {
   "cell_type": "markdown",
   "metadata": {},
   "source": [
    "> **Commentaire :** "
   ]
  },
  {
   "cell_type": "code",
   "execution_count": null,
   "metadata": {},
   "outputs": [],
   "source": [
    "4 != 1 + 3"
   ]
  },
  {
   "cell_type": "markdown",
   "metadata": {},
   "source": [
    "> **Commentaire :** "
   ]
  },
  {
   "cell_type": "code",
   "execution_count": null,
   "metadata": {},
   "outputs": [],
   "source": [
    "'a' < 'b'"
   ]
  },
  {
   "cell_type": "code",
   "execution_count": null,
   "metadata": {
    "scrolled": true
   },
   "outputs": [],
   "source": [
    "'a' < 'B'"
   ]
  },
  {
   "cell_type": "markdown",
   "metadata": {},
   "source": [
    "> **Commentaire :** "
   ]
  },
  {
   "cell_type": "code",
   "execution_count": null,
   "metadata": {},
   "outputs": [],
   "source": [
    "'n' in 'bingo'"
   ]
  },
  {
   "cell_type": "code",
   "execution_count": null,
   "metadata": {},
   "outputs": [],
   "source": [
    "'N' in 'bingo'"
   ]
  },
  {
   "cell_type": "code",
   "execution_count": null,
   "metadata": {},
   "outputs": [],
   "source": [
    "9 in [3, 8, 96]"
   ]
  },
  {
   "cell_type": "markdown",
   "metadata": {},
   "source": [
    "> **Commentaire :** `in` permet de tester si un élément appartient à une chaîne de caractère, une liste,..."
   ]
  },
  {
   "cell_type": "code",
   "execution_count": null,
   "metadata": {},
   "outputs": [],
   "source": [
    "bateau == 'voilier'"
   ]
  },
  {
   "cell_type": "code",
   "execution_count": null,
   "metadata": {},
   "outputs": [],
   "source": [
    "bateau is 'voilier'"
   ]
  },
  {
   "cell_type": "code",
   "execution_count": null,
   "metadata": {},
   "outputs": [],
   "source": [
    "second_bateau = bateau + ' rouge'\n",
    "second_bateau == 'voilier rouge'"
   ]
  },
  {
   "cell_type": "code",
   "execution_count": null,
   "metadata": {},
   "outputs": [],
   "source": [
    "second_bateau is 'voilier rouge'"
   ]
  },
  {
   "cell_type": "code",
   "execution_count": null,
   "metadata": {},
   "outputs": [],
   "source": [
    "'55' is '5' * 2"
   ]
  },
  {
   "cell_type": "code",
   "execution_count": null,
   "metadata": {},
   "outputs": [],
   "source": [
    "# On rappelle que c = '5'\n",
    "'55' is c * 2"
   ]
  },
  {
   "cell_type": "markdown",
   "metadata": {},
   "source": [
    "> **Commentaire :** `is` permet de tester si deux éléments sont strictement le même objet. Autrement dit : ont-il le même `id` ?"
   ]
  },
  {
   "cell_type": "markdown",
   "metadata": {},
   "source": [
    "## Les structures conditionnelles\n",
    "\n",
    "### La condition minimale : `if ... `\n",
    "\n",
    "**Une structure conditionnelle consiste à tester une assertion**. Si elle est vraie, et uniquement si elle est vraie, un **bloc d'instructions** peut alors être exécuté.\n",
    "\n",
    "```python\n",
    "if assertion: \n",
    "    BLOC INSTRUCTIONS  # Ce bloc sera pris en compte si l'assertion est vérifiée\n",
    "```\n",
    "> **Remarques :**\n",
    "- En python, ce bloc d'instruction est repéré grace à l'**indentation** (décalage vers la droite de 4 espaces, le plus souvent crée à l'aide de la touche TAB). Tant que l'indentation persiste, les lignes de code font partie du même bloc d'instructions.\n",
    "- Il faut absolument **mettre un double point `:` juste après l'assertion** (condition, prédicat,...). C'est ce double point qui permet d'ouvrir un nouveau bloc d'instruction. D'ailleurs, la grande majorité des éditeurs de code indentera automatiquement tout ce qui suit un double point, après avoir appuyé sur la touche Entrée.\n",
    "\n",
    "Quelques exemples..."
   ]
  },
  {
   "cell_type": "code",
   "execution_count": null,
   "metadata": {},
   "outputs": [],
   "source": [
    "reponse = 25    # Tester d'autres valeurs après une première exécution\n",
    "if reponse == 8:\n",
    "    print(\"Ici, on est dans le bloc d'instructions\")\n",
    "    print('Effectivement, la réponse est bien 8 !')\n",
    "print(\"Ici, on est sorti du bloc d'instructions\")"
   ]
  },
  {
   "cell_type": "code",
   "execution_count": null,
   "metadata": {
    "scrolled": true
   },
   "outputs": [],
   "source": [
    "reponse = int(input('Saisir un nombre entier : '))\n",
    "\n",
    "# Le symbole % est appelé modulo et x % 2 renvoie le reste de la division euclidienne\n",
    "if reponse % 2 == 0: \n",
    "    print(\"Le nombre est pair\")"
   ]
  },
  {
   "cell_type": "markdown",
   "metadata": {},
   "source": [
    "### Forme complète de la structure conditionnelle : `if ... else ...`\n",
    "\n",
    "Ce dernier exemple nous incite à aller plus loin !\n",
    "\n",
    "En effet, on n'affiche jamais que le nombre est impair. C'est d'autant plus dommage qu'on a déjà fait tout le boulot : si on a prouvé que le nombre entier n'est pas pair, c'est bien qu'il est impair. \n",
    "\n",
    "Il ne reste plus qu'à afficher un message dans la cas où le nombre entier est impair.\n",
    "\n",
    "On peut utiliser une structure conditionnelle plus complète, sous la forme :\n",
    "\n",
    "```python\n",
    "if condition: \n",
    "    BLOC INSTRUCTIONS 1 # si la condition est vérifiée\n",
    "else:\n",
    "    BLOC INSTRUCTIONS 2 # si la condition n'est pas vérifiée\n",
    "```\n",
    "\n",
    "> __Remarque :__ on ne ne pose jamais de condition après un `else`. Un `else` permet d'interpréter un bloc d'instructions dans TOUTES les autres situations. __Un `else` est donc toujours immédiatement suivi de deux points__.\n",
    "\n",
    "Compléter, ci-dessous, une copie du programme précédent afin d'afficher un message lorsque le nombre entier est impair."
   ]
  },
  {
   "cell_type": "code",
   "execution_count": null,
   "metadata": {},
   "outputs": [],
   "source": [
    "reponse = int(input('Saisir un nombre entier : '))\n",
    "\n",
    "# Le symbole % est appelé modulo et x % 2 renvoie le reste de la division euclidienne\n",
    "if reponse % 2 == 0: \n",
    "    print(\"Le nombre est pair\")"
   ]
  },
  {
   "cell_type": "markdown",
   "metadata": {},
   "source": [
    "### Forme imbriquée de la structure conditionnelle : `if... if... else...`\n",
    "\n",
    "Lorsqu'un seul choix est possible parmi un ensemble de possibilités, on peut utiliser une structure conditionnelle imbriquée :\n",
    "\n",
    "```python\n",
    "if condition 1: \n",
    "    BLOC INSTRUCTIONS 1 # si la condition 1 est vérifiée\n",
    "    if condition 2:\n",
    "        BLOC INSTRUCTIONS 2 # si les conditions 1 et 2 sont vérifiées\n",
    "    else:\n",
    "        BLOC INSTRUCTIONS 3 # si les conditions 1 et 3 sont vérifiées\n",
    "```\n",
    "\n",
    "Ce type de structure pourrait nous permettre de reprendre notre programme précédent sur les nombres entiers pair ou impairs.\n",
    "\n",
    "Compléter votre programme précédent pour tester au préalable si la valeur saisie par l'utilisateur est bien un entier compris entre 0 et 1000. On  dit que l'on ajoute une **précondition**.\n",
    "\n",
    "> **Remarques :** \n",
    "- à ce stade de l'année, on ne demande pas à l'utilisateur de ressaisir une valeur \"tant que\" la valeur n'est pas un entier compris entre 0 et 1000. On souhaite uniquement que le test \"pair ou impair\" ne s'execute que si la valeur saisie est un entier compris dans cet intervalle.\n",
    "- si vous ne savez pas comment écrire l'assertion qui teste si la valeur de `reponse` est comprise entre 0 et 1000, faites confiance à la simplicité de Python en faisant des essais intuitifs de syntaxe."
   ]
  },
  {
   "cell_type": "code",
   "execution_count": null,
   "metadata": {},
   "outputs": [],
   "source": []
  },
  {
   "cell_type": "markdown",
   "metadata": {},
   "source": [
    "### Autre forme imbriquée de la structure conditionnelle : `if... elif... else...`\n",
    "\n",
    "Lorsqu'un seul choix est possible parmi un ensemble de possibilités, on peut utiliser un autre type de structure conditionnelle imbriquée :\n",
    "\n",
    "```python\n",
    "if condition 1: \n",
    "    BLOC INSTRUCTIONS 1 # si la condition 1 est vérifiée\n",
    "    \n",
    "elif condition 2:\n",
    "    BLOC INSTRUCTIONS 2 # si la condition 2 est vérifiée\n",
    "\n",
    "else:\n",
    "    BLOC INSTRUCTIONS 3 # si aucune des conditions n'est vérifiées\n",
    "```\n",
    ">**Remarque :** l'instruction `elif` est la contraction des instructions `else` puis `if`\n",
    "\n",
    "**Exemple d'application :** Écrire un programme permettant d'afficher \"La solution est acide\", \"basique\" ou \"neutre\" en fonction de la valeur du pH d'une solution (valeur saisie par un utilisateur)"
   ]
  },
  {
   "cell_type": "code",
   "execution_count": null,
   "metadata": {},
   "outputs": [],
   "source": []
  },
  {
   "cell_type": "markdown",
   "metadata": {},
   "source": [
    "## Les opérateurs booléens\n",
    "\n",
    "Un **opérateur logique (ou opérateur booléen)** relie entre elles plusieurs expressions booléennes pour en former une nouvelle.\n",
    "\n",
    "Il y a **deux opérateurs binaires `or` et `and`**, qui correspondent aux OU (disjonction) et ET (conjonction) de la logique mathématique, et **un opérateur unaire `not`**, qui correspond au NON (négation).\n",
    "\n",
    "On peut les noter de différentes façons et on résume souvent leur fonction dans des **tables de vérité** :\n",
    "\n",
    "![Portes logiques](Logique.jpg)\n",
    "\n",
    "Dans ce tableau, les **portes logiques** rectangulaires, de la seconde colonne, correspondent à la notation européenne. Celles de la troisième colonnes correspondent aux symboles américains.\n",
    "\n",
    ">**Remarque :** on observe de nombreux symboles défférents pour noter ces différents opérateurs. En classe de première, il sera inutile de tous les retenir...\n",
    "\n",
    "|Nom de l'opérateur|Autre dénomination|Symbole principal|Autres symboles|Opérateur python|\n",
    "|:---:|:---:|:---:|:---:|:---:|\n",
    "|NON|Négation|¬|˜  !| `not` |\n",
    "|ET|Conjonction|∧|·  &| `and` |\n",
    "|OU|Disjonction|∨|+  ∥| `or` |"
   ]
  },
  {
   "cell_type": "markdown",
   "metadata": {},
   "source": [
    "On peut ainsi combiner des assertions pour mieux gérer une condition :\n",
    "```python\n",
    "if temperature >= 22 and temperature <= 27:\n",
    "    print(\"Mmmm, il fait bon aujourd'hui !\")\n",
    "```\n",
    "\n",
    "> __Remarque :__ lorsqu'on utilise un opérateur booléen, on doit avoir une condition booléenne complète de chaque côté.\n",
    "- `if temperature >= 22 and <= 27:` n'est pas interprétable !\n",
    "- `if temperature >= 22 and temperature <= 27:` est interprétable !\n",
    "\n",
    "Quelques exemples ci-dessous..."
   ]
  },
  {
   "cell_type": "code",
   "execution_count": null,
   "metadata": {},
   "outputs": [],
   "source": [
    "a = 4\n",
    "a == 4 and 3 > 5"
   ]
  },
  {
   "cell_type": "code",
   "execution_count": null,
   "metadata": {},
   "outputs": [],
   "source": [
    "a == 4 or 3 > 5"
   ]
  },
  {
   "cell_type": "code",
   "execution_count": null,
   "metadata": {},
   "outputs": [],
   "source": [
    "a == 4 and 3 < 5"
   ]
  },
  {
   "cell_type": "code",
   "execution_count": null,
   "metadata": {},
   "outputs": [],
   "source": [
    "not a == 4"
   ]
  },
  {
   "cell_type": "markdown",
   "metadata": {},
   "source": [
    "### Exercice d'application\n",
    "\n",
    "Ecrire un programme qui...\n",
    "\n",
    "- demande trois longueurs à l'utilisateur\n",
    "- indique si ces trois longueurs peuvent être celles d'un triangle équilatéral ou isocèle.\n",
    "\n",
    "> __Conseil :__ lorsqu'on utilise des structures conditionnelles qui dépendent d'une situation à plusieurs cas, il est essentiel de réfléchir à l'ordre des tests que l'on va effectuer. Dans notre cas, est-il plus judicieux de tester en premier si...\n",
    "- le triangle est quelconque ?\n",
    "- le triangle est équilatéral ?\n",
    "- le triangle est isocèle ?"
   ]
  },
  {
   "cell_type": "code",
   "execution_count": null,
   "metadata": {},
   "outputs": [],
   "source": []
  },
  {
   "cell_type": "markdown",
   "metadata": {},
   "source": [
    "**Exercice d'application (suite) :** écrire un programme qui...\n",
    "- demande trois longueurs à l'utilisateur (on considère que ces trois longueurs sont saisies de la plus petite à la plus grande)\n",
    "- indique si ces longueurs peuvent être celles d'un triangle\n",
    "- indique si ces trois longueurs peuvent être celles d'un triangle équilatéral, isocèle ou scalène (trois côtés de longueurs différentes). "
   ]
  },
  {
   "cell_type": "code",
   "execution_count": null,
   "metadata": {},
   "outputs": [],
   "source": []
  },
  {
   "cell_type": "markdown",
   "metadata": {},
   "source": [
    "**Exercice d'application (suite de la suite) :** écrire un programme qui a les mêmes fonctionnalités que le précédent, dans le cas où l'utilisateur ne respecte pas forcément les consignes précédentes (saisie de longueurs par ordre croissant)"
   ]
  },
  {
   "cell_type": "code",
   "execution_count": null,
   "metadata": {},
   "outputs": [],
   "source": []
  },
  {
   "cell_type": "markdown",
   "metadata": {},
   "source": [
    "## Caractère séquentiel des expressions booléennes\n",
    "\n",
    "Les expressions booléennes sont évaluées de manière **paresseuses : dès que le résultat est connu l'évaluation est stoppée**.\n",
    "\n",
    "Par exemple avec :\n",
    "```python\n",
    "a and b and c\n",
    "```\n",
    "Si `a` est faux, `b` et `c` ne sont même pas évaluées puisque le résultat sera nécessairement faux.\n",
    "\n",
    "**L'ordre dans lequel les expressions sont écrites est donc important**. "
   ]
  },
  {
   "cell_type": "markdown",
   "metadata": {},
   "source": [
    "## Remarque sur les booléens dans les structures conditionnelles\n",
    "\n",
    "Les assertions évaluant des booléens, il ne faut pas réévaluer une assertion, ce serait un pléonasme :  \n",
    "\n",
    "> Par exemple, on doit éviter :\n",
    "```python\n",
    "a = 4\n",
    "b = 7\n",
    "booleen = a < b\n",
    "if booleen == True:\n",
    "    INSTRUCTIONS\n",
    "```  \n",
    "    \n",
    "> On doit écrire directement :  \n",
    "```python\n",
    "a = 4\n",
    "b = 7\n",
    "booleen = a < b\n",
    "if booleen:\n",
    "    INSTRUCTIONS\n",
    "```  "
   ]
  },
  {
   "cell_type": "markdown",
   "metadata": {},
   "source": [
    "## Que retenir ?\n",
    "### À minima...\n",
    "\n",
    "- Les tests (assertions) renvoient une valeur booléenne `True` ou `False`.\n",
    "- De nombreux opérateurs peuvent servir à faire des tests : `<`, `<=`, `>`, `>=`, `==`, `!=`, `in`,... Il faut en connaître le fonctionnement.\n",
    "- La structure conditionnelle `if` permet d'exécuter un bloc d'instructions si le test (assertion) est vérifié (`True`).\n",
    "- Ce bloc d'instructions est obligatoire et doit être indenté (4 espaces, insérés par la touche TAB).\n",
    "- A la suite de la conditionnelle `if`, si celle-ci est fausse (`False`) on peut tester d'autres insertions avec `elif`.\n",
    "- A la suite des conditionnelles, on peut terminer par `else` pour exécuter un bloc d'instructions dans tous les autres cas que ceux déjà testés.\n",
    "- Un opérateur logique (opérateurs binaires `or` et `and`) relie entre elles plusieurs assertions pour en former une nouvelle.\n",
    "- L'opérateur unaire `not` permet de changer la valeur de l'assertion (`True` devient `False` et inversement).\n",
    "\n",
    "### Au mieux...\n",
    "\n",
    "- Comparer deux chaînes de caractères vient à comparer chaque caractère un à un, jusqu'à trouver une différence éventuelle.\n",
    "- L'instruction `assert` permet de tester si une condition booléenne est vraie ou fausse. Si elle est vraie, rien ne se passe et le programme suit son cours, sinon un message d'erreur apparaît.\n",
    "- Les portes logiques sont les pièces essentielles de l'électronique et du numérique. Elles permettent d'effectuer toutes les opérations logiques d'un programme.\n",
    "- Les portes logiques comprennent une ou deux entrées et une sortie.\n",
    "- On résume souvent leur fonction dans des tables de vérité."
   ]
  },
  {
   "cell_type": "markdown",
   "metadata": {},
   "source": [
    "---\n",
    "[![Licence CC BY NC SA](https://licensebuttons.net/l/by-nc-sa/3.0/88x31.png \"licence Creative Commons CC BY-NC-SA\")](http://creativecommons.org/licenses/by-nc-sa/3.0/fr/)\n",
    "<p style=\"text-align: center;\">Auteur : David Landry, Lycée Clemenceau - Nantes</p>\n",
    "<p style=\"text-align: center;\">D'après des documents partagés par...</p>\n",
    "<p style=\"text-align: center;\"><a  href=http://www.monlyceenumerique.fr/index_nsi.html#premiere>Jean-Christophe Gérard, Thomas Lourdet, Johan Monteillet, Pascal Thérèse</a></p>\n",
    "<p style=\"text-align: center;\"><a  href=https://www.numerique-sciences-informatiques.fr/>Numerique-sciences-informatiques.fr, du Lycée Clemenceau à Montpellier</a></p>\n",
    "<p style=\"text-align: center;\"><a  href=https://isncaju.wixsite.com/isncaju/python>Christophe Casseau, du Lycée Camille Jullian à Bordeaux</a></p>"
   ]
  }
 ],
 "metadata": {
  "kernelspec": {
   "display_name": "Python 3",
   "language": "python",
   "name": "python3"
  },
  "language_info": {
   "codemirror_mode": {
    "name": "ipython",
    "version": 3
   },
   "file_extension": ".py",
   "mimetype": "text/x-python",
   "name": "python",
   "nbconvert_exporter": "python",
   "pygments_lexer": "ipython3",
   "version": "3.8.3"
  }
 },
 "nbformat": 4,
 "nbformat_minor": 2
}
