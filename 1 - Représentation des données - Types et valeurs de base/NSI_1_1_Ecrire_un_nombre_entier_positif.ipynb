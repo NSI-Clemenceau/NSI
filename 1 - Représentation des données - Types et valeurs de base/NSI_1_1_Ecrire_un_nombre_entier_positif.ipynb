{
 "cells": [
  {
   "cell_type": "markdown",
   "metadata": {},
   "source": [
    "# Comment écrire un nombre entier positif ?"
   ]
  },
  {
   "cell_type": "markdown",
   "metadata": {},
   "source": [
    "## Comment bien choisir une numération ?\n",
    "### Les règles de numération\n",
    "\n",
    "Les règles de construction des numérotations écrites sont simples :\n",
    "1. il faut permettre une lecture sans ambiguïté, une même écriture ne devant pas représenter deux nombres différents.\n",
    "2. Il est préférable de représenter un maximum de nombres avec un minimum de symboles.\n",
    "\n",
    "### Les bases\n",
    "\n",
    "C’est l’usage d’une base qui permettra de répondre au mieux aux contraintes posées.\n",
    "**Au lieu de compter uniquement par unités, on compte \"par paquets\"**. \n",
    "\n",
    "> La base la plus fréquente est la base décimale (10), mais on trouve également :\n",
    "- la base sexagésimale (60), utilisée par les Sumériens et parfois au moyen âge en France\n",
    "- la base vicésimale (20), utilisée par les Mayas, mais pas seulement : \n",
    "  - jusqu'à la fin du moyen-age, on utilisait en Europe un système vicésimal (ou vigésimal), utilisant la base 20. A cette époque, les chiffres arabes n'étaient pas encore utilisés.\n",
    "  - on trouve des traces de ce système dans la langue française (quatre-vingt). \n",
    "  - autre vestige : *L'hôpital des quinze vingts*, fondé en 1260 à Paris pouvait accueillir 300 patients.\n",
    "- la base 16 (système hexadécimal), en informatique, facilitant les conversions en base 2 en regroupant des chiffres binaires, 16 étant une puissance de 2\n",
    "- la base duodécimale (12)\n",
    "- la quinaire (5), utilisée aussi par les Mayas\n",
    "- la binaire (2), largement utilisé de nos jours en électronique numérique et informatique"
   ]
  },
  {
   "cell_type": "markdown",
   "metadata": {},
   "source": [
    "## Comment comptons-nous en décimal ?\n",
    "\n",
    "Depuis la fin du moyen-age, nous comptons en base 10. Certains prétendent que cette pratique est venue du fait que nous avons 10 doigts. \n",
    "\n",
    "Il en découle principalement deux choses :\n",
    "\n",
    "- il existe **10 chiffres** : 0, 1, 2, 3, 4, 5, 6, 7, 8 et 9.\n",
    "- avec ces chiffres ont peut compter de 0 à 9.\n",
    "- si on veut aller au-delà de 9, il faut changer de **rang**.\n",
    "\n",
    "Cela signifie que si le rang des unités est plein, il faut passer à celui des dizaines, puis des centaines, milliers,...\n",
    "\n",
    "> Exemple : le nombre 218 peut s'écrire\n",
    "- $218 = 200 + 10 + 8$\n",
    "- $218 = 2 × 100 + 1 × 10 + 8 × 1$\n",
    "- $218 = 2 × 10^2 + 1 × 10^1 + 8 × 10^0$"
   ]
  },
  {
   "cell_type": "markdown",
   "metadata": {},
   "source": [
    "## Pourquoi compter en binaire ?\n",
    "\n",
    "Le système de décompte en binaire n'a pas été inventé pour l'ordinateur, [il a été utilisé des siècles avant notre ère, dans des régions très éloignées les unes des autres dans le monde](https://fr.wikipedia.org/wiki/Syst%C3%A8me_binaire#Histoire).\n",
    "\n",
    "Mais c'est l'invention du concept d'une [machine numérique universelle](https://fr.wikipedia.org/wiki/Machine_de_Turing) qui a réellement révélé l'utilité de ce système : de la carte perforée jusqu'au transistor, la technologie nécessaire aux machines numériques était parfaitement adaptée au système binaire."
   ]
  },
  {
   "cell_type": "markdown",
   "metadata": {},
   "source": [
    "## Comment compter en binaire ?\n",
    "\n",
    "Nous avons évoqué ci-dessus la notion de rangs. En binaire c'est pareil, à la différence qu'on utilise le terme **bit**, qui est la contraction de **\"binary digit\"**, littéralement \"chiffre binaire\". Par exemple, le nombre 10011 occupe 5 bits. \n",
    "\n",
    "Chaque rang en binaire ne peut avoir que deux valeurs (binaire = base 2) différentes : 0 ou 1. Au delà du 1, il faut donc (comme en base décimale) changer de rang :\n",
    "\n",
    "|  Nombre en décimal |  Nombre en binaire  |        Comment faire pour compter en binaire ?      |\n",
    "| :----------------: |:-------------------:| :--------------------------------------: |\n",
    "|         0          |          0          |    On commence de la même façon, à 0 !   |\n",
    "|         1          |          1          |    Là encore, c'est simple.              |\n",
    "|         2          |         10          |   Le premier rang ayant été rempli, on passe au suivant ! |\n",
    "|         3          |         11          |     On peut remplir le rang 1 donc on le fait     |\n",
    "|         4          |        100          |  Le rang 2 est plein, le rang 1 aussi, on passe au suivant. |\n",
    "|         5          |        101          |  On continue en suivant la même méthode.     |\n",
    "|         6          |        110          |  On continue en suivant la même méthode.     |\n",
    "\n",
    "**A vous de jouer !**\n",
    "\n",
    "Compléter le tableau ci-dessus jusqu'au nombre $(10)_{10}$, ce qui vous permettra de découvrir la [syntaxe Markdown pour les tableaux](https://fr.wikipedia.org/wiki/Markdown#Tableaux)."
   ]
  },
  {
   "cell_type": "markdown",
   "metadata": {},
   "source": [
    "## Comment représenter un nombre ?\n",
    "\n",
    "Lorsqu'on a besoin de distinguer les bases entre-elles, on représente souvent les nombres entre parenthèses, avec sa base en indice.\n",
    "\n",
    "> Exemple : $(218)_{10}$\n",
    "\n",
    "On a vu que les nombres décimaux n'étaient qu'une somme de multiples décimaux de puissances de 10.\n",
    "C'est le même principe pour les nombres binaires : c'est une somme de multiples binaires de puissances de 2.\n",
    "\n",
    "> Reprenons notre exemple, version binaire cette fois :\n",
    "- $218 = 1 × 2^7 + 1 × 2^6 + 0 × 2^5 + 1 × 2^4 + 1 × 2^3 + 0 × 2^2 + 1 × 2^1 + 0 × 2^0$\n",
    "- $(218)_{10} = (11011010)_2$"
   ]
  },
  {
   "cell_type": "markdown",
   "metadata": {},
   "source": [
    "## Comment convertir des nombres avec Python ?\n",
    "\n",
    "Découvrez la fonction `bin()` de Python et décrivez sa fonctionnalité et les particularités du résultat obtenu (dans la prochaine cellule de commentaire)."
   ]
  },
  {
   "cell_type": "code",
   "execution_count": null,
   "metadata": {},
   "outputs": [],
   "source": [
    "bin(2)"
   ]
  },
  {
   "cell_type": "markdown",
   "metadata": {},
   "source": [
    "> Commentaires"
   ]
  },
  {
   "cell_type": "code",
   "execution_count": null,
   "metadata": {},
   "outputs": [],
   "source": [
    "int(568.75486)"
   ]
  },
  {
   "cell_type": "code",
   "execution_count": null,
   "metadata": {},
   "outputs": [],
   "source": [
    "int ('4587')"
   ]
  },
  {
   "cell_type": "code",
   "execution_count": null,
   "metadata": {},
   "outputs": [],
   "source": [
    "int('0b1110', 2)"
   ]
  },
  {
   "cell_type": "markdown",
   "metadata": {},
   "source": [
    "Que s'est-il passé dans les cellules précédentes ?\n",
    "Commentez, au besoin en vous aidant de la [document Python sur la fonction `int()`](https://docs.python.org/fr/3.5/library/functions.html#int)."
   ]
  },
  {
   "cell_type": "markdown",
   "metadata": {},
   "source": [
    "> Commentaires"
   ]
  },
  {
   "cell_type": "markdown",
   "metadata": {},
   "source": [
    "En utilisant les fonctions précédentes, \n",
    "- donner la valeur binaire du nombre décimal 123\n",
    "- donner la valeur décimale du nombre binaire 1001110"
   ]
  },
  {
   "cell_type": "code",
   "execution_count": null,
   "metadata": {},
   "outputs": [],
   "source": []
  },
  {
   "cell_type": "code",
   "execution_count": null,
   "metadata": {},
   "outputs": [],
   "source": []
  },
  {
   "cell_type": "markdown",
   "metadata": {},
   "source": [
    "> **Remarque :** la fonction `int()` permet également de traiter un nombre binaire directement, et non pas sous sa forme de chaîne de caractère. Il faut toutefois que ce nombre commence bien par le code `0b`. Voir l'exemple ci-dessous."
   ]
  },
  {
   "cell_type": "code",
   "execution_count": null,
   "metadata": {},
   "outputs": [],
   "source": [
    "int(0b1110)"
   ]
  },
  {
   "cell_type": "markdown",
   "metadata": {},
   "source": [
    "## Comment modifier bit à bit un nombre binaire avec Python ?\n",
    "\n",
    "Python permet également de modifier un nombre binaire, bit à bit.\n",
    "\n",
    "Par exemple, on peut créer des décalages de bits, parfois bien pratiques (ex : en stéganographie, il faut procéder à ce décalage de bits pour découvrir une image numérique cachée dans une autre).\n",
    "\n",
    "L'instruction `>> n` permet un décalage de `n` bits vers la droite.\n",
    "L'instruction `<< n` permet un décalage de `n` bits vers la gauche.\n",
    "\n",
    "Tester ces instructions puis prendre des notes sur leur comportement."
   ]
  },
  {
   "cell_type": "code",
   "execution_count": null,
   "metadata": {
    "scrolled": true
   },
   "outputs": [],
   "source": [
    "bin(0b100101 >> 2)"
   ]
  },
  {
   "cell_type": "code",
   "execution_count": null,
   "metadata": {},
   "outputs": [],
   "source": [
    "bin(0b100101 << 2)"
   ]
  },
  {
   "cell_type": "markdown",
   "metadata": {},
   "source": [
    "## Mais comment convertir ces nombres sans Python ?\n",
    "\n",
    "Nous voyons que cette notion de *base* n'est qu'une convention pour représenter un nombre. Mais comment passer d'une base à une autre, manuellement ?\n",
    "\n",
    "C'est ce que nous verrons dans le prochain notebook..."
   ]
  },
  {
   "cell_type": "markdown",
   "metadata": {},
   "source": [
    "## Que retenir ?\n",
    "### À minima...\n",
    "\n",
    "- Pour représenter des nombres entiers, on utilise une base. La base la plus fréquente est la base décimale : la base 10.\n",
    "- En informatique on utilise également beaucoup le binaire : la base 2.\n",
    "- Pour savoir dans quelle base est représentée un nombre, on peut le  représenter entre parenthèses, avec sa base en indice. Exemple : $(218)_{10}$ est une représentation en base 10 du nombre 218.\n",
    "- Il faut savoir additionner 1 à un nombre binaire.\n",
    "- La fonction `bin()` permet de convertir un nombre en binaire.\n",
    "- La fonction `int()` permet de :\n",
    "  - convertir un nombre en base 10, on obtient un entier. \n",
    "  - convertir une chaîne de caractère en entier (si les caractères le permettent).\n",
    "  - ne conserver que la partie entière d'un nombre à virgule.\n",
    "\n",
    "### Au mieux...\n",
    "\n",
    "- La fonction `bin()` renvoie un nombre en binaire sous la forme d'une chaîne de caractères.\n",
    "- Python représente les nombres binaires en les faisant débuter par les caractères `0b`.\n",
    "- On peut traiter les nombres à partir d'une chaîne de caractères (ex : int('0b1110', 2)), mais aussi directement (ex : int(0b1110)).\n",
    "- On peut modifier les nombres binaires bit à bit en les décalant vers la gauche ou la droite à l'aide des opérateurs `<<` ou `>>`."
   ]
  },
  {
   "cell_type": "markdown",
   "metadata": {},
   "source": [
    "---\n",
    "[![Licence CC BY NC SA](https://licensebuttons.net/l/by-nc-sa/3.0/88x31.png \"licence Creative Commons CC BY-NC-SA\")](http://creativecommons.org/licenses/by-nc-sa/3.0/fr/)\n",
    "<p style=\"text-align: center;\">Auteur : David Landry, Lycée Clemenceau - Nantes</p>\n",
    "<p style=\"text-align: center;\">D'après des documents partagés par...</p>\n",
    "<p style=\"text-align: center;\"><a  href=https://pixees.fr/informatiquelycee/n_site/nsi_prem.html>Tom Niget et David Roche</a> sous la licence CC BY-SA</p>\n",
    "<p style=\"text-align: center;\"><a  href=https://math93.com/lycee/nsi-1ere/nsi-1ere.html>M. Duffaud et M. Courtois</a> </p>\n"
   ]
  }
 ],
 "metadata": {
  "kernelspec": {
   "display_name": "Python 3",
   "language": "python",
   "name": "python3"
  },
  "language_info": {
   "codemirror_mode": {
    "name": "ipython",
    "version": 3
   },
   "file_extension": ".py",
   "mimetype": "text/x-python",
   "name": "python",
   "nbconvert_exporter": "python",
   "pygments_lexer": "ipython3",
   "version": "3.8.3"
  }
 },
 "nbformat": 4,
 "nbformat_minor": 2
}
