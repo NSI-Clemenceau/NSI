{
 "cells": [
  {
   "cell_type": "markdown",
   "metadata": {},
   "source": [
    "# Structures de données de type construit\n",
    "\n",
    "On a vu jusqu'ici des __types de données simples__ (ou __types de base__). Ce sont les types `int` (nombres entiers), `float` (nombres flottants), `bool` (booléens). \n",
    "\n",
    "Le type `str` est aussi utilisé. Ce type _chaîne de caractère_  est un peu moins simple car, dans une chaîne, chaque caractère est repéré par un indice qui commence à 0. Avec la chaîne `chaine = \"exemple\"`, `chaine[0]` a pour valeur le caractère `e`, `chaine[1]` a pour valeur le caractère `x`, et ainsi de suite.\n",
    "\n",
    "Ces types simples ne sont plus suffisants si nous avons besoin de garder en mémoire un grand nombre de valeurs comme dans le\n",
    "cas d’un traitement de données statistiques. Il en est de même si l’on souhaite regrouper des valeurs, par exemple afin d’avoir une\n",
    "variable représentant les coordonnées d’un point.\n",
    "\n",
    "L’objectif est donc de construire un type de variable capable de contenir plusieurs valeurs. Nous pouvons nous inspirer du type\n",
    "`str` et utiliser des indices pour repérer les éléments. Ceci amène, dans un premier temps, à la construction des __p-uplets (type `tuple` en Python), et des tableaux (type `list` en Python)__.\n",
    "\n",
    "Pour ces types plus complexes, on parle de __types construits__.\n",
    "\n",
    "## Les p-uplets ou tuples\n",
    "\n",
    "> __Définition : Un objet de type p-uplet, est une suite ordonnée d’éléments indexés qui peuvent être chacun de n’importe quel type.__ \n",
    "\n",
    "En Python, un p-uplet est de type `tuple`. On pourra donc utiliser indifféremment ces deux termes : __p-uplet ou tuple__.\n",
    "\n",
    "Comme pour le type `str`, __un objet de type `tuple` n’est pas modifiable__ (ni par affectation, ni par concaténation,...) : __les tuples sont immuables__.\n",
    "\n",
    "## Comments _construire_ un p-uplet ?\n",
    "\n",
    "Il est très simple de créer un tuple, il suffit de lui affecter une suite de valeurs, séparées par des virgules.\n",
    "\n",
    "En voici quelques exemples..."
   ]
  },
  {
   "cell_type": "code",
   "execution_count": null,
   "metadata": {},
   "outputs": [],
   "source": [
    "mon_tuple = 5, 8, 6, 9"
   ]
  },
  {
   "cell_type": "markdown",
   "metadata": {},
   "source": [
    "On constate alors que l'on a bien crée une variable de type `tuple` :"
   ]
  },
  {
   "cell_type": "code",
   "execution_count": null,
   "metadata": {},
   "outputs": [],
   "source": [
    "print(f'La variable \"mon_tuple\" est de type {type(mon_tuple)}')\n",
    "print(f'La variable \"mon_tuple\" a pour valeur {mon_tuple}')"
   ]
  },
  {
   "cell_type": "markdown",
   "metadata": {},
   "source": [
    "On remarque alors que les variables de type `tuple` se présentent sous une suite de valeurs entre paranthèse.\n",
    "\n",
    "Lors de la création d'un tuple, on préfère donc la syntaxe suivante :"
   ]
  },
  {
   "cell_type": "code",
   "execution_count": null,
   "metadata": {},
   "outputs": [],
   "source": [
    "mon_tuple = (5, 8, 6, 9)"
   ]
  },
  {
   "cell_type": "markdown",
   "metadata": {},
   "source": [
    "Ce qui revient strictement au même au final :"
   ]
  },
  {
   "cell_type": "code",
   "execution_count": null,
   "metadata": {},
   "outputs": [],
   "source": [
    "print(f'La variable \"mon_tuple\" est de type {type(mon_tuple)}')\n",
    "print(f'La variable \"mon_tuple\" a pour valeur {mon_tuple}')"
   ]
  },
  {
   "cell_type": "markdown",
   "metadata": {},
   "source": [
    "Afin d'avoir une trace écrite du comportement des tuples, __commentez chacun des essais suivants...__\n",
    "\n",
    "### Atteindre une variable contenue dans un tuple par son indice"
   ]
  },
  {
   "cell_type": "code",
   "execution_count": null,
   "metadata": {},
   "outputs": [],
   "source": [
    "print(mon_tuple[0])"
   ]
  },
  {
   "cell_type": "code",
   "execution_count": null,
   "metadata": {
    "scrolled": true
   },
   "outputs": [],
   "source": [
    "print(mon_tuple[2])"
   ]
  },
  {
   "cell_type": "code",
   "execution_count": null,
   "metadata": {},
   "outputs": [],
   "source": [
    "print(mon_tuple[-1])"
   ]
  },
  {
   "cell_type": "code",
   "execution_count": null,
   "metadata": {},
   "outputs": [],
   "source": [
    "print(mon_tuple[-2])"
   ]
  },
  {
   "cell_type": "markdown",
   "metadata": {},
   "source": [
    "### Atteindre toutes les variables contenues dans un tuple"
   ]
  },
  {
   "cell_type": "code",
   "execution_count": null,
   "metadata": {
    "scrolled": true
   },
   "outputs": [],
   "source": [
    "for i in range(len(mon_tuple)):\n",
    "    print(mon_tuple[i])"
   ]
  },
  {
   "cell_type": "code",
   "execution_count": null,
   "metadata": {},
   "outputs": [],
   "source": [
    "for i in range(len(mon_tuple)):\n",
    "    print(mon_tuple[i], end=', ')"
   ]
  },
  {
   "cell_type": "code",
   "execution_count": null,
   "metadata": {
    "scrolled": false
   },
   "outputs": [],
   "source": [
    "for valeur in mon_tuple:\n",
    "    print(valeur)"
   ]
  },
  {
   "cell_type": "markdown",
   "metadata": {},
   "source": [
    "### Tenter de changer une variable dans un tuple"
   ]
  },
  {
   "cell_type": "code",
   "execution_count": null,
   "metadata": {
    "scrolled": true
   },
   "outputs": [],
   "source": [
    "mon_tuple[0] = 15"
   ]
  },
  {
   "cell_type": "markdown",
   "metadata": {},
   "source": [
    "### Varier les types contenus dans un tuple"
   ]
  },
  {
   "cell_type": "code",
   "execution_count": null,
   "metadata": {},
   "outputs": [],
   "source": [
    "autre_tuple = ('mot', 45, 65.8, 'une phrase', ('un', 'tuple', 'dans', 'un', 'tuple'))\n",
    "print(autre_tuple)"
   ]
  },
  {
   "cell_type": "code",
   "execution_count": null,
   "metadata": {
    "scrolled": true
   },
   "outputs": [],
   "source": [
    "tuple_pep8 = ('mot', 45, 65.8, 'une phrase',\n",
    "              ('un', 'tuple', 'dans', 'un', 'tuple'))\n",
    "print(tuple_pep8)"
   ]
  },
  {
   "cell_type": "code",
   "execution_count": null,
   "metadata": {
    "scrolled": true
   },
   "outputs": [],
   "source": [
    "tuple_pep8[0]"
   ]
  },
  {
   "cell_type": "code",
   "execution_count": null,
   "metadata": {
    "scrolled": true
   },
   "outputs": [],
   "source": [
    "tuple_pep8[4]"
   ]
  },
  {
   "cell_type": "code",
   "execution_count": null,
   "metadata": {},
   "outputs": [],
   "source": [
    "tuple_pep8[4][0]"
   ]
  },
  {
   "cell_type": "markdown",
   "metadata": {},
   "source": [
    "### Comment créer un tuple à élément unique ?"
   ]
  },
  {
   "cell_type": "code",
   "execution_count": null,
   "metadata": {},
   "outputs": [],
   "source": [
    "essai_de_tuple_avec_une_seule_valeur = (5)\n",
    "print(type(essai_de_tuple_avec_une_seule_valeur))\n",
    "print(essai_de_tuple_avec_une_seule_valeur)"
   ]
  },
  {
   "cell_type": "code",
   "execution_count": null,
   "metadata": {
    "scrolled": true
   },
   "outputs": [],
   "source": [
    "tuple_avec_une_seule_valeur = (5,)\n",
    "print(type(tuple_avec_une_seule_valeur))\n",
    "print(tuple_avec_une_seule_valeur)"
   ]
  },
  {
   "cell_type": "markdown",
   "metadata": {},
   "source": [
    "### Comment créer un tuple vide ?"
   ]
  },
  {
   "cell_type": "code",
   "execution_count": null,
   "metadata": {},
   "outputs": [],
   "source": [
    "tuple_vide = ()\n",
    "print(type(tuple_vide))\n",
    "print(tuple_vide)"
   ]
  },
  {
   "cell_type": "markdown",
   "metadata": {},
   "source": [
    "### Concaténer deux tuples"
   ]
  },
  {
   "cell_type": "code",
   "execution_count": null,
   "metadata": {
    "scrolled": true
   },
   "outputs": [],
   "source": [
    "tuple_concatene = mon_tuple + tuple_pep8\n",
    "print(tuple_concatene)"
   ]
  },
  {
   "cell_type": "code",
   "execution_count": null,
   "metadata": {
    "scrolled": true
   },
   "outputs": [],
   "source": [
    "tuple_concatene = mon_tuple * 3\n",
    "print(tuple_concatene)"
   ]
  },
  {
   "cell_type": "code",
   "execution_count": null,
   "metadata": {
    "scrolled": true
   },
   "outputs": [],
   "source": [
    "print(\"Comme un tuple est immuable, on remarque toutefois que...\")\n",
    "tuple_concatene = mon_tuple + tuple_pep8\n",
    "print(tuple_concatene)\n",
    "print(f\"\"\"L'identifiant de \"tuple_concatene\" est {id(tuple_concatene)}\"\"\")\n",
    "tuple_concatene = mon_tuple * 3\n",
    "print(tuple_concatene)\n",
    "print(f\"\"\"L'identifiant de \"tuple_concatene\" est {id(tuple_concatene)}\"\"\")"
   ]
  },
  {
   "cell_type": "markdown",
   "metadata": {},
   "source": [
    "### Affectations multiple"
   ]
  },
  {
   "cell_type": "code",
   "execution_count": null,
   "metadata": {},
   "outputs": [],
   "source": [
    "a, b, c, d = mon_tuple\n",
    "print(a)\n",
    "print(b)\n",
    "print(c)\n",
    "print(d)"
   ]
  },
  {
   "cell_type": "markdown",
   "metadata": {},
   "source": [
    "> __Remarque :__ en anglais, cette affection multiple est appelée \"tuple unpacking\"."
   ]
  },
  {
   "cell_type": "code",
   "execution_count": null,
   "metadata": {},
   "outputs": [],
   "source": [
    "a, b, *c = mon_tuple\n",
    "print(a)\n",
    "print(b)\n",
    "print(c)"
   ]
  },
  {
   "cell_type": "code",
   "execution_count": null,
   "metadata": {},
   "outputs": [],
   "source": [
    "a, *b, c = mon_tuple\n",
    "print(a)\n",
    "print(b)\n",
    "print(c)"
   ]
  },
  {
   "cell_type": "markdown",
   "metadata": {},
   "source": [
    "> __Commentaires :__"
   ]
  },
  {
   "cell_type": "markdown",
   "metadata": {},
   "source": [
    "Mais on remarque que..."
   ]
  },
  {
   "cell_type": "code",
   "execution_count": null,
   "metadata": {},
   "outputs": [],
   "source": [
    "a, b = mon_tuple\n",
    "print(a)\n",
    "print(b)"
   ]
  },
  {
   "cell_type": "markdown",
   "metadata": {},
   "source": [
    "> __Commentaires :__"
   ]
  },
  {
   "cell_type": "markdown",
   "metadata": {},
   "source": [
    "### Test d'appartenance dans un tuple"
   ]
  },
  {
   "cell_type": "code",
   "execution_count": null,
   "metadata": {},
   "outputs": [],
   "source": [
    "3 in mon_tuple"
   ]
  },
  {
   "cell_type": "code",
   "execution_count": null,
   "metadata": {},
   "outputs": [],
   "source": [
    "6 in mon_tuple"
   ]
  },
  {
   "cell_type": "code",
   "execution_count": null,
   "metadata": {},
   "outputs": [],
   "source": [
    "3 not in mon_tuple"
   ]
  },
  {
   "cell_type": "markdown",
   "metadata": {},
   "source": [
    "### Connaître le nombre d'énéments contenus dans un tuple"
   ]
  },
  {
   "cell_type": "code",
   "execution_count": null,
   "metadata": {},
   "outputs": [],
   "source": [
    "len(mon_tuple)"
   ]
  },
  {
   "cell_type": "markdown",
   "metadata": {},
   "source": [
    "### Slicing sur tuple (approfondissement)"
   ]
  },
  {
   "cell_type": "code",
   "execution_count": null,
   "metadata": {},
   "outputs": [],
   "source": [
    "tuple_dizaine = (1, 2, 3, 4, 5, 6, 7, 8, 9, 10)\n",
    "print(tuple_dizaine[2:6])"
   ]
  },
  {
   "cell_type": "code",
   "execution_count": null,
   "metadata": {},
   "outputs": [],
   "source": [
    "tuple_dizaine = (1, 2, 3, 4, 5, 6, 7, 8, 9, 10)\n",
    "print(tuple_dizaine[3:-3])"
   ]
  },
  {
   "cell_type": "code",
   "execution_count": null,
   "metadata": {},
   "outputs": [],
   "source": [
    "tuple_dizaine = (1, 2, 3, 4, 5, 6, 7, 8, 9, 10)\n",
    "print(tuple_dizaine[-1::-1])"
   ]
  },
  {
   "cell_type": "markdown",
   "metadata": {},
   "source": [
    "### Quelques méthodes utiles pour les tuples (Approfondissement)"
   ]
  },
  {
   "cell_type": "code",
   "execution_count": null,
   "metadata": {},
   "outputs": [],
   "source": [
    "tuple_mots = ('il', 'était', 'un', 'petit', 'navire', 'il', 'était')\n",
    "tuple_mots.index('un')"
   ]
  },
  {
   "cell_type": "code",
   "execution_count": null,
   "metadata": {
    "scrolled": true
   },
   "outputs": [],
   "source": [
    "tuple_mots.index('il')"
   ]
  },
  {
   "cell_type": "code",
   "execution_count": null,
   "metadata": {
    "scrolled": true
   },
   "outputs": [],
   "source": [
    "tuple_mots.count('il')"
   ]
  },
  {
   "cell_type": "code",
   "execution_count": null,
   "metadata": {},
   "outputs": [],
   "source": [
    "# Nous verrons en détail la notion de tableau dans le prochain notebook\n",
    "\n",
    "tableau_de_mots = ['il', 'était', 'un', 'petit', 'navire']\n",
    "\n",
    "# La fontion tuple() crée un tuple à partir d'un tableau\n",
    "tuple_mots = tuple(tableau_de_mots)\n",
    "print(tuple_mots)"
   ]
  },
  {
   "cell_type": "markdown",
   "metadata": {},
   "source": [
    "## Exercices sur tuples"
   ]
  },
  {
   "cell_type": "markdown",
   "metadata": {},
   "source": [
    "### Chercher une valeur dans un tuple\n",
    "\n",
    "On donne le tuple suivant :\n",
    "\n",
    "`tup = (1, 4, 5, 'moto', (12, 'NSI', 'génial'), 4.6)`\n",
    "\n",
    "Ecrire les lignes de code qui afficheront :\n",
    "\n",
    "- `moto`  \n",
    "- le dernier élément du tuple  \n",
    "- (4, 5)  \n",
    "- `NSI c'est génial` (en utilisant au maximum le tuple bien sûr)"
   ]
  },
  {
   "cell_type": "code",
   "execution_count": null,
   "metadata": {},
   "outputs": [],
   "source": [
    "tup = (1, 4, 5, 'moto', (12, 'NSI', 'génial'), 4.6)\n",
    "\n",
    "print(tup[3])\n",
    "print(tup[-1])\n",
    "print(tup[1:3])\n",
    "print(tup[4][1], \" c'est \", tup [4][2])"
   ]
  },
  {
   "cell_type": "markdown",
   "metadata": {},
   "source": [
    "### Tests et utilisation de tuples\n",
    "\n",
    "En utilisant le code ci-dessous, vous utiliserez les méthodes et les opérations vues dans ce notebook pour répondre aux questions mises en commentaires."
   ]
  },
  {
   "cell_type": "code",
   "execution_count": null,
   "metadata": {},
   "outputs": [],
   "source": [
    "jours_1 = ('lundi', 'mardi', 'mercredi', 'jeudi', 'vendredi')\n",
    "jours_2 = ('samedi', 'dimanche')\n",
    "\n",
    "# Tester si samedi est un élément de jours_1\n",
    "print('samedi' in jours_1)\n",
    "\n",
    "# Donner la longueur de jours_2\n",
    "print(len(jours_2))\n",
    "\n",
    "# Tester si jours_1 est égal à jours_2\n",
    "print(jours_1 == jours_2)\n",
    "\n",
    "# Donner le deuxième élément de jours_1\n",
    "print(jours_1[1])\n",
    "\n",
    "# Donner la partie de jours_1 entre le deuxième élément\n",
    "# et le quatrième élément inclus\n",
    "print(jours_1[1:4])\n",
    "\n",
    "# Renvoyer l'indice de dimanche dans jours_2\n",
    "print(jours_2.index('dimanche'))\n",
    "\n",
    "# Renvoyer le nombre de samedi dans jours_2\n",
    "print(jours_2.count('samedi'))\n",
    "\n",
    "# Créer un tuple semaine par concaténation de jours_1 et de jours_2\n",
    "semaine = jours_1 + jours_2\n",
    "print(semaine)"
   ]
  },
  {
   "cell_type": "markdown",
   "metadata": {},
   "source": [
    "### Créer un tuple des mots français\n",
    "\n",
    "Utiliser le fichier \"mots_francais.txt\" pour créer un tuple contenant tous les mots inclus dans ce fichier.\n",
    "\n",
    "Afin d’exploiter les données contenues dans le fichier TXT fourni (« mots_francais.txt »), vous pouvez avoir besoin des instructions et des méthodes suivantes :\n",
    "- with open(paramètres à insérer ici, voir notebook 1_5C si oubli) as f:\n",
    "  - qui permet d’ouvrir un fichier et d’en affecter son contenu à un objet f.\n",
    "- tableau = f[.readlines()](https://www.w3schools.com/python/ref_file_readlines.asp)\n",
    "  - qui permet de lire toutes les lignes contenues dans l’objet f, crée à partir du fichier, et de les affecter dans un tableau.\n",
    "  \n",
    "> __Remarques :__ vous obtiendrez des mots terminés par le caractère `\\n`, qui permet un retour à la ligne (caractère invisible dans les éditeurs de texte). Il est sans doute trop tôt pour vous apprendre à retirer ce caractère dans cette configuration, nous le verrons au prochain notebook."
   ]
  },
  {
   "cell_type": "code",
   "execution_count": null,
   "metadata": {
    "scrolled": true
   },
   "outputs": [],
   "source": [
    "with open ('mots_francais.txt', mode='r', encoding='utf-8') as f:\n",
    "    mots = f.readlines()\n",
    "    tuple_mots = tuple(mots)\n",
    "print(tuple_mots)"
   ]
  },
  {
   "cell_type": "markdown",
   "metadata": {},
   "source": [
    "Vérifier si les mots \"type\", \"tuple\" et \"concaténer\" sont inclus dans ce petit recueil de mots.\n",
    "\n",
    "> __Remarques :__ ne pas oublier le caractère `\\n` !"
   ]
  },
  {
   "cell_type": "code",
   "execution_count": null,
   "metadata": {},
   "outputs": [],
   "source": [
    "print(\"type\\n\" in tuple_mots)\n",
    "print(\"tuple\\n\" in tuple_mots)\n",
    "print(\"concaténer\\n\" in tuple_mots)"
   ]
  },
  {
   "cell_type": "markdown",
   "metadata": {},
   "source": [
    "## Que retenir ?\n",
    "### À minima...\n",
    "\n",
    "- Outre les types de données simples (`int`, `float`, `bool`, `char`), les \"moins simples\" (`str`), on peut avoir besoin de types construits (`tuple`, `list`, `dict`).\n",
    "- Les types construits sont des types de variables capables de contenir plusieurs valeurs.\n",
    "- Un objet de type p-uplet est un type construit que l'on appelle tuple en Python.\n",
    "- Un tuple permet de contenir des valeurs de différents types. On affecte ces valeurs à un tuple, entre parenthèses, en les séparant par une virgule (ex : `(98, 'mot', True)`).\n",
    "- Chacune de ces valeurs possède un indice, commençant à `0`, qui permet de les retrouver facilement.\n",
    "- Un tuple est immuable : il n'est pas modifiable.\n",
    "- Connaissant un tuple, on peut :\n",
    "  - vérifier si une valeur appartient à ce tuple avec l'opérateur `in`.\n",
    "  - connaître le nombre de valeurs qu'il contient avec la fonction `len()`.  \n",
    "\n",
    "### Au mieux...\n",
    "\n",
    "- On peut extraire plusieurs valeurs d'un tuple par affectations multiple (tuple unpacking).\n",
    "- On peut créer de nouveaux tuples en prenant uniquement une partie d'un autre tuple (slicing).\n",
    "- On peut chercher l'indice d'une valeur dans un tuple avec la méthode `.index()`.\n",
    "- On peut connaître l'occurrence d'une valeur dans un tuple avec la méthode `.count()`.\n",
    "- On peut créer un tuple à partir d'une liste avec la fonction `tuple()`."
   ]
  },
  {
   "cell_type": "markdown",
   "metadata": {},
   "source": [
    "---\n",
    "[![Licence CC BY NC SA](https://licensebuttons.net/l/by-nc-sa/3.0/88x31.png \"licence Creative Commons CC BY-NC-SA\")](http://creativecommons.org/licenses/by-nc-sa/3.0/fr/)\n",
    "<p style=\"text-align: center;\">Auteur : David Landry, Lycée Clemenceau - Nantes</p>\n",
    "<p style=\"text-align: center;\">D'après des documents partagés par...</p>\n",
    "<p style=\"text-align: center;\"><a  href=http://www.monlyceenumerique.fr/index_nsi.html#premiere>Jean-Christophe Gérard, Thomas Lourdet, Johan Monteillet, Pascal Thérèse</a></p>\n",
    "<p style=\"text-align: center;\"><a  href=https://eduscol.education.fr/cid144156/nsi-bac-2021.html>Le Ministère de l'éducation nationale, sur Eduscol</a></p>"
   ]
  }
 ],
 "metadata": {
  "kernelspec": {
   "display_name": "Python 3",
   "language": "python",
   "name": "python3"
  },
  "language_info": {
   "codemirror_mode": {
    "name": "ipython",
    "version": 3
   },
   "file_extension": ".py",
   "mimetype": "text/x-python",
   "name": "python",
   "nbconvert_exporter": "python",
   "pygments_lexer": "ipython3",
   "version": "3.8.3"
  }
 },
 "nbformat": 4,
 "nbformat_minor": 2
}
