{
 "cells": [
  {
   "cell_type": "markdown",
   "metadata": {},
   "source": [
    "# Comment écrire du texte avec Python ?"
   ]
  },
  {
   "cell_type": "markdown",
   "metadata": {},
   "source": [
    "En programmation, ce que l'on appelle communément du *texte* s'appelle une **chaîne de caractère**. En anglais cela se traduit par **\"string\"**.\n",
    "\n",
    "Nous allons voir comment créer et manipuler des chaînes de caractère..."
   ]
  },
  {
   "cell_type": "markdown",
   "metadata": {},
   "source": [
    "## Créer une chaîne de caractère\n",
    "\n",
    "Pour expliciter au langage de programmation que nous souhaitons que telle suite de caractères soit du *type string*, il faut l'encadrer de guillements doubles : `\"`"
   ]
  },
  {
   "cell_type": "code",
   "execution_count": null,
   "metadata": {},
   "outputs": [],
   "source": [
    "ma_chaine = \"Ceci est une chaine\"\n",
    "type(ma_chaine)"
   ]
  },
  {
   "cell_type": "markdown",
   "metadata": {},
   "source": [
    "> **Remarque :**\n",
    "`ma_chaine` est un exemple suplémentaire de [**bonne pratique**](http://sametmax.com/le-pep8-en-resume) pour nommer une variable : plusieurs mots, uniquement en minuscule, séparés par un *tiret bas* `_`\n",
    "\n",
    "On peut aussi déclarer une chaîne de caractère avec des apostrophes : `'`"
   ]
  },
  {
   "cell_type": "code",
   "execution_count": null,
   "metadata": {},
   "outputs": [],
   "source": [
    "autre_chaine = ' de caractère'\n",
    "type(autre_chaine)"
   ]
  },
  {
   "cell_type": "markdown",
   "metadata": {},
   "source": [
    "> **Remarques :**\n",
    "Cette double notation permet d'utiliser les apostrophes et les guillements à l'intérieur de nos chaînes de caractères.\n",
    "\n",
    "Quelques exemples de ce qui fonctionne... ou pas !"
   ]
  },
  {
   "cell_type": "code",
   "execution_count": null,
   "metadata": {},
   "outputs": [],
   "source": [
    "chaine = 'C'est une mauvaise façon de créer une chaine contenant une apostrophe'"
   ]
  },
  {
   "cell_type": "code",
   "execution_count": null,
   "metadata": {},
   "outputs": [],
   "source": [
    "chaine = \"C'est une bonne façon de créer une chaine contenant une apostrophe\""
   ]
  },
  {
   "cell_type": "code",
   "execution_count": null,
   "metadata": {},
   "outputs": [],
   "source": [
    "chaine = \"C'est une mauvaise façon de créer une \"chaîne\" contenant des guillemets\""
   ]
  },
  {
   "cell_type": "code",
   "execution_count": null,
   "metadata": {},
   "outputs": [],
   "source": [
    "chaine = 'Mais c'est compliqué d'avoir à la fois des apostrophes et des \"guillemets\"'"
   ]
  },
  {
   "cell_type": "code",
   "execution_count": null,
   "metadata": {},
   "outputs": [],
   "source": [
    "chaine = '''C'est un cas rare qui peut être \"résolu\" avec des triples apostrophes'''\n",
    "print(chaine)"
   ]
  },
  {
   "cell_type": "markdown",
   "metadata": {},
   "source": [
    "> **Commentaires :**"
   ]
  },
  {
   "cell_type": "markdown",
   "metadata": {},
   "source": [
    "# Manipulations de chaînes de caractère"
   ]
  },
  {
   "cell_type": "markdown",
   "metadata": {},
   "source": [
    "## Concaténation\n",
    "On utilise l'opérateur `+` pour mettre deux chaînes de caractères bout à bout."
   ]
  },
  {
   "cell_type": "code",
   "execution_count": null,
   "metadata": {},
   "outputs": [],
   "source": [
    "print(ma_chaine)\n",
    "print(autre_chaine)\n",
    "print(ma_chaine + autre_chaine)"
   ]
  },
  {
   "cell_type": "markdown",
   "metadata": {},
   "source": [
    "> **Remarque :**\n",
    "Une chaîne de caractère n'est pas un nombre. Observez attentivement ces exemples :"
   ]
  },
  {
   "cell_type": "code",
   "execution_count": null,
   "metadata": {},
   "outputs": [],
   "source": [
    "a = '2'\n",
    "b = '5'\n",
    "a + b"
   ]
  },
  {
   "cell_type": "code",
   "execution_count": null,
   "metadata": {},
   "outputs": [],
   "source": [
    "a = '2'\n",
    "b = 5\n",
    "a + b"
   ]
  },
  {
   "cell_type": "code",
   "execution_count": null,
   "metadata": {},
   "outputs": [],
   "source": [
    "a = 2\n",
    "b = 5\n",
    "a + b"
   ]
  },
  {
   "cell_type": "markdown",
   "metadata": {},
   "source": [
    "# Encodage"
   ]
  },
  {
   "cell_type": "markdown",
   "metadata": {},
   "source": [
    "## Qu’est-ce qu’un encodage ?\n",
    "Comme vous le savez, la mémoire - ou le disque - d’un ordinateur ne permet que de stocker des représentations binaires. Il n’y a donc pas de façon “naturelle” de représenter un caractère comme ‘A’, un guillemet ou un point-virgule.\n",
    "\n",
    "On utilise pour cela un encodage, par exemple le code US-ASCII stipule, pour faire simple, qu’un ‘A’ est représenté par l’octet 65 qui s’écrit en binaire 01000001. \n",
    "\n",
    "Il se trouve qu’il existe plusieurs encodages, bien sûr incompatibles, selon les systèmes et les langues : qui n'a jamais vu apparaître des caractères étranges pour remplacer les caractères accentués, au mileu d'un mail ou autre document numérique ?\n",
    "\n",
    "> **Remarques :**\n",
    "C'est pour cela que la première ligne de vos programmes en Python doit systématiquement rappeler à l'interpréteur avec quel format d'encodage vous avez crée votre programme : `# coding: utf-8`"
   ]
  },
  {
   "cell_type": "markdown",
   "metadata": {},
   "source": [
    "## Un peu d’histoire sur les encodages\n",
    "### Le code ASCII\n",
    "Jusque dans les années 1980, les ordinateurs ne parlaient pour l’essentiel que l’anglais. Dans les années 60, la première vague de standardisation avait créé [l’encodage dit ASCII  (*American Standard Code for Information\n",
    "Interchange*), ou encore US-ASCII](https://fr.wikipedia.org/wiki/American_Standard_Code_for_Information_Interchange).\n",
    "\n",
    "**Le code ASCII s’étend sur 128 valeurs, soit 7 bits, mais est le plus souvent implémenté sur un octet** pour préserver l’alignement, le dernier bit pouvant être utilisé par exemple pour ajouter un code correcteur d’erreur (ce qui à l’époque des modems n’était pas superflu). __Chaque caractère est donc encodé sur un octet (8 bits) en ASCII__.\n",
    "\n",
    "En voici un extrait (caractères 48 à 71) :\n",
    "\n",
    "| Code | Carac | Code | Carac | Code | Carac | Code | Carac | Code | Carac | Code | Carac |\n",
    "|:----:|:-----:|:----:|:-----:|:----:|:-----:|:----:|:-----:|:----:|:-----:|:----:| ----- |\n",
    "| 48   | 0     | 49   | 1     | 50   | 2     | 51   | 3     | 52   | 4     | 53   | 5     |\n",
    "| 54   | 6     | 55   | 7     | 56   | 8     | 57   | 9     | 58   | :     | 59   | ;     |\n",
    "| 60   | <     | 61   | =     | 62   | >     | 63   | ?     | 64   | @     | 65   | A     |\n",
    "| 66   | B     | 67   | C     | 68   | D     | 69   | E     | 70   | F     | 71   | G     |\n",
    "\n",
    "Notons que la table ASCII contient lettres, chiffres, mais aussi des caractères\n",
    "invisibles (tabulation, espace, retour chariot). Elle ne contient aucun\n",
    "caractère accentué.\n",
    "\n",
    "> **Exercice :**\n",
    "Retrouver l’expression codée en binaire avec [la table ASCII](https://fr.wikipedia.org/wiki/American_Standard_Code_for_Information_Interchange#/media/Fichier:ASCII-Table-wide.svg) :\n",
    "\n",
    "> 0100 0010 0111 0010 0110 0001 0111 0110 0110 1111 0010 0001\n",
    "\n",
    "> **Conseil :** la table ASCII code chaque caractère sur un octet."
   ]
  },
  {
   "cell_type": "markdown",
   "metadata": {},
   "source": [
    "### Les encodages ISO\n",
    "Répondant à la nécessité de représenter les caractères accentués et afin de rester compatible avec l'ASCII, des tables d'encodage supplémentaires sont alors apparues. Leurs 128 premiers caractères restent ceux de l'ASCII, et 128 caractères supplémentaires spécifiques à une langue particulière sont ajoutés (le code passe donc de 7 à 8 bits).\n",
    "\n",
    "À chaque langage sa table :\n",
    "\n",
    "- [l'ISO 8859-1](https://fr.wikipedia.org/wiki/ISO/CEI_8859-1), ou *Latin-1*, contient les caractères accentués utilisés dans\n",
    "  les langues latines.\n",
    "- l'ISO 8859-7 contient, outre les 128 caractères de l'ASCII, les caractères\n",
    "  grecs.\n",
    "- l'ISO 8859-15 ou Latin-9, est presque identique au Latin-1 à 8 caractères près (le Latin-9 contient par exemple les caractères œ, Œ et € qui ne sont pas dans la table Latin-1)\n",
    "\n",
    "__La table Latin-1 utilise donc 1 octet (8 bits) pour encoder chaque caractère__.\n",
    "\n",
    "> __Remarques :__ \n",
    "- L'encodage utilisé __ne fait pas partie du contenu du fichier__. Si on se trompe sur l'encodage utilisé, certains caractères seront donc mal interprétés.\n",
    "- À ce stade, le ver était dans le fruit. Depuis cette époque pour ouvrir un fichier il faut connaître son encodage ! Sinon, il arrive que des caractères soient remplacés par d'autres, ce qui peut nuire considérablement à la lisibilité du texte."
   ]
  },
  {
   "cell_type": "markdown",
   "metadata": {},
   "source": [
    "### Le format Unicode\n",
    "Au début des années 90 apparaît la norme [**Unicode**](https://fr.wikipedia.org/wiki/Unicode) qui réunit *tous les caractères* dans une seule table, encore en construction, et qui contient actuellement plus de 135 000 symboles. **Le but est de couvrir tous les besoins**.\n",
    "\n",
    "Actuellement numérotés sur 21 bits, le code unicode n'est pas utilisé directement comme encodage de fichiers (sous peine de voir la taille des fichiers texte multipliés par 3.\n",
    "\n",
    "Ce sont des encodages comme UTF-8 qui permettent actuellement d'utiliser Unicode. Le principe est de coder les caractères courants sur un seul octet, et d'utiliser des séquences d'échappement pour accéder à d'autres parties de la table. **En UTF-8, tous les caractères n'occupent donc pas la même place. Certains sont codés sur 1 octet, et d'autres sur 2, 3 ou 4 octets**.\n",
    "\n",
    "**Actuellement, la bonne pratique est d'utiliser UTF-8 dès que c'est possible**, afin de garantir une bonne interopérabilité, et une durée de vie importante des fichiers.\n",
    "\n",
    "#### Le fonctionnement du format Unicode\n",
    "\n",
    "Techniquement, il s’agit de coder les caractères Unicode sous forme de séquences de un à quatre octet. La norme Unicode définit entre autres un ensemble de caractères. Chaque caractère est repéré dans cet ensemble par un index entier aussi appelé « point de code ». Par exemple le caractère « € » (euro) est le 8365e caractère du répertoire Unicode, son index, ou point de code, est donc 8364 (0x20AC) (on commence à compter à partir de 0).\n",
    "\n",
    "Voici un tableau décrivant comment le format Unicode permet d'utiliser de 1 octet (pour les caractères les plus usuels) jusqu'à 4 octets (pour les caractères les plus rares). Les colonnes de gauche décrivent les intervalles des points de code :\n",
    "\n",
    "> Commentez le tableau ci-dessous, en particulier en cherchant à comprendre l'utilité des bits coloriés en bleu.\n",
    "\n",
    "![Fonctionnement UTF-8](UTF-8.png)\n",
    "\n",
    "> __Remarque :__ chaque $b_i$ correspond à un bit qui permet d'encoder le caractère voulu. Il vaut donc 0 ou 1."
   ]
  },
  {
   "cell_type": "markdown",
   "metadata": {},
   "source": [
    "## L'encodage avec Python\n",
    "\n",
    "**Depuis la version 3, Python représente ses chaînes de caractères en Unicode, et utilise par défaut l'encodage UTF-8 pour écrire des fichiers**.\n",
    "\n",
    "On peut passer d'un caractère à son code unicode par la fonction `ord()` et réciproquement avec la fonction `chr()`."
   ]
  },
  {
   "cell_type": "code",
   "execution_count": null,
   "metadata": {},
   "outputs": [],
   "source": [
    "ord('A')"
   ]
  },
  {
   "cell_type": "code",
   "execution_count": null,
   "metadata": {},
   "outputs": [],
   "source": [
    "chr(65)"
   ]
  },
  {
   "cell_type": "code",
   "execution_count": null,
   "metadata": {},
   "outputs": [],
   "source": [
    "ord('6')"
   ]
  },
  {
   "cell_type": "code",
   "execution_count": null,
   "metadata": {},
   "outputs": [],
   "source": [
    "ord('€')"
   ]
  },
  {
   "cell_type": "markdown",
   "metadata": {},
   "source": [
    "> **Commentaires :**"
   ]
  },
  {
   "cell_type": "markdown",
   "metadata": {},
   "source": [
    "## Décoder du binaire avec Python\n",
    "\n",
    "**Utiliser Python** pour retrouver l’expression codée en binaire avec [**la table Unicode**](https://fr.wikipedia.org/wiki/Unicode) :\n",
    "\n",
    "0100 0010 0111 0010 0110 0001 0111 0110 0110 1111 0010 0001"
   ]
  },
  {
   "cell_type": "code",
   "execution_count": null,
   "metadata": {},
   "outputs": [],
   "source": [
    "message_binaire = '010000100111001001100001011101100110111100100001'\n",
    "\n",
    "'''\n",
    "A vous de jouer...\n",
    "\n",
    "...en trouvant la fonction adéquate pour convertir ce code binaire\n",
    "puis en l'appliquant sur chaque portion de code correspondant\n",
    "à un caractère.\n",
    "\n",
    "Si vous avez plus d'expérience de programmation, essayer de décoder\n",
    "l'ensemble du message binaire en une seule exécution de votre code.\n",
    "'''"
   ]
  },
  {
   "cell_type": "markdown",
   "metadata": {},
   "source": [
    "## Lecture et écriture de fichiers (approfondissement)\n",
    "\n",
    "Il convient d'être vigilant lors de la lecture/écriture de fichiers texte pour bien relire un fichier en spécifiant l'encodage avec lequel il a été encodé (par défaut UTF-8).\n",
    "\n",
    "Un encodage différent peut être spécifié à l'ouverture du fichier en lecture ou en écriture.\n",
    "La liste des encodages standard peut être trouvée dans la [documentation du langage Python](https://docs.python.org/fr/3/library/codecs.html#standard-encodings).\n",
    "\n",
    "> **Activité :**\n",
    "- Voici un programme qui crée un fichier texte au format UTF-8.\n",
    "- Compléter-le pour lire le contenu de ce fichier au format latin1."
   ]
  },
  {
   "cell_type": "code",
   "execution_count": null,
   "metadata": {},
   "outputs": [],
   "source": [
    "with open(\"mon_fichier.txt\", mode='w', encoding='utf8') as f:\n",
    "    f.write(\"Ceci est un texte accentué, enregistré en UTF-8\")\n",
    "\n",
    "# Les deux lignes de code écrites ci-dessus sont à conserver intactes !\n",
    "# Ce code permet de créer un nouveau fichier, codé en UTF-8.\n",
    "#\n",
    "# Il vous faut ajouter des lignes pour lire ce fichier avec l'encodage latin1\n",
    "# Il faut donc utiliser le mode 'r' (read) pour lire le fichier\n",
    "# Afficher ce qui a été lu dans le fichier avec la méthode read(), puis commenter\n",
    "# En cas de difficulté : https://python.doctor/page-lire-ecrire-creer-fichier-python"
   ]
  },
  {
   "cell_type": "markdown",
   "metadata": {},
   "source": [
    "Nous allons maintenant simuler la situation d'un développeur devant remettre aux normes actuelles un vieux fichier, codé au format ISO 8859-1 (latin1).\n",
    "\n",
    "> **Activité** :\n",
    "- Partie préparatoire :\n",
    "  - Ecrire un programme qui crée un fichier texte en latin1\n",
    "- Partie \"simulation d'une remise aux normes UTF-8\" :\n",
    "  - Lire ce fichier en latin1\n",
    "  - Réécrire ce même fichier en UTF-8\n",
    "  - Utiliser un éditeur de texte quelconque pour voir son contenu"
   ]
  },
  {
   "cell_type": "code",
   "execution_count": null,
   "metadata": {},
   "outputs": [],
   "source": []
  },
  {
   "cell_type": "markdown",
   "metadata": {},
   "source": [
    "Et... c'est à peu près tout ce que vous êtes supposé retenir sur les chaînes de caractères en classe de première !\n",
    "\n",
    "... et si on allait un peu plus loin ?  ;-)"
   ]
  },
  {
   "cell_type": "markdown",
   "metadata": {},
   "source": [
    "## Que retenir ?\n",
    "### À minima...\n",
    "\n",
    "- Une chaîne de caractères est une suite de caractères (du texte).\n",
    "- En Python, on note une chaîne de caractères entre guillemets (ex : `\"texte\"`) ou entre apostrophes (ex : `'texte'`).\n",
    "- L'opérateur `+` permet de mettre deux chaînes de caractères bout à bout : c'est une concaténation.\n",
    "- Pour encoder du texte dans une machine numérique, il faut choisir un type d'encodage et utiliser la même norme pour décoder le texte.\n",
    "- Le code ASCII est le premier système d'encodage qui a été utlisé de façon quasi-universelle.\n",
    "- De nos jours, il est fortement conseillé d'utiliser le système unicode UTF-8 pour encoder nos fichiers.\n",
    "- On peut passer d'un caractère à son code unicode par la fonction `ord()` et réciproquement avec la fonction `chr()`.\n",
    "\n",
    "### Au mieux...\n",
    "\n",
    "- Le code ASCII encode un caractère sur 8 bits (un octet) mais seuls les 7 bits de poids les plus faibles sont réellement utilisés.\n",
    "- L'encodage ISO 8859-1, également appelé Latin-1, a lui aussi été beaucoup utilisé car il contient les accents que les européens utilisent.\n",
    "- L'encodage Latin-1 utilise les 8 bits de l'octet tout en conservant le même encodage que l'ASCII sur les 7 premiers bits (ce qui favorise sa compatibilité).\n",
    "- En unicode UTF-8, tous les caractères n'occupent pas la même place. Certains sont codés sur 1 octet, et d'autres sur 2, 3 ou 4 octets.\n",
    "- A l'aide de Python, savoir lire et écrire dans un fichier en tenant compte de l'encodage utilisé (`with open(...) as ...`)."
   ]
  },
  {
   "cell_type": "markdown",
   "metadata": {},
   "source": [
    "---\n",
    "[![Licence CC BY NC SA](https://licensebuttons.net/l/by-nc-sa/3.0/88x31.png \"licence Creative Commons CC BY-NC-SA\")](http://creativecommons.org/licenses/by-nc-sa/3.0/fr/)\n",
    "\n",
    "<p style=\"text-align: center;\">Auteur : David Landry, Lycée Clemenceau - Nantes</p>\n",
    "\n",
    "<p style=\"text-align: center;\">D'après des documents partagés par...</p>\n",
    "\n",
    "<p style=\"text-align: center;\"><a  href=https://www.lecluse.fr/>Olivier Lecluse</a></p>\n",
    "<p style=\"text-align: center;\"><a  href=https://www.fun-mooc.fr/courses/course-v1:UCA+107001+session02/about>Thierry Parmentelat et Arnaud Legout</a></p>\n",
    "<p style=\"text-align: center;\">Equipe pédagoqique DIU EIL de l'académie de Nantes</p>"
   ]
  }
 ],
 "metadata": {
  "kernelspec": {
   "display_name": "Python 3",
   "language": "python",
   "name": "python3"
  },
  "language_info": {
   "codemirror_mode": {
    "name": "ipython",
    "version": 3
   },
   "file_extension": ".py",
   "mimetype": "text/x-python",
   "name": "python",
   "nbconvert_exporter": "python",
   "pygments_lexer": "ipython3",
   "version": "3.8.3"
  }
 },
 "nbformat": 4,
 "nbformat_minor": 2
}
