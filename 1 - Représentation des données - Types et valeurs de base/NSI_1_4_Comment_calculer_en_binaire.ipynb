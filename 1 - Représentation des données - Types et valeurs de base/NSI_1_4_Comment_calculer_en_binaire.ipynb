{
 "cells": [
  {
   "cell_type": "markdown",
   "metadata": {},
   "source": [
    "# Comment calculer en binaire ?\n",
    "## Comment additionner deux nombres binaires ?"
   ]
  },
  {
   "cell_type": "markdown",
   "metadata": {},
   "source": [
    "**Rappel :**\n",
    "Nous avons déjà vu comment additionner 1 à un nombre binaire\n",
    "\n",
    "|  Nombre en décimal |  Nombre en binaire  |        Comment faire pour compter en binaire ?      |\n",
    "| :----------------: |:-------------------:| :--------------------------------------: |\n",
    "|         0          |          0          |    On commence de la même façon, à 0 !   |\n",
    "|         1          |          1          |    Là encore, c'est simple.              |\n",
    "|         2          |         10          |   Le premier rang ayant été rempli, on passe au suivant ! |\n",
    "|         3          |         11          |     On peut remplir le rang 1 donc on le fait     |\n",
    "|         4          |        100          |  Le rang 2 est plein, le rang 1 aussi, on passe au suivant. |\n",
    "|         5          |        101          |  On continue en suivant la même méthode.     |\n",
    "|         6          |        110          |  On continue en suivant la même méthode.     "
   ]
  },
  {
   "cell_type": "markdown",
   "metadata": {},
   "source": [
    "L'addition de deux nombre binaires se fait sur le même principe, en pensant à la retenue.\n",
    "\n",
    "On arrive parfois à des situations simplissime comme ci-dessous, où les retenues sont toujours égales à 0 :\n",
    "\n",
    "![](Addition_binaire_1.png)\n",
    "\n",
    "Mais, le plus souvent, c'est un peu plus compliqué car il faut compter des retenues, ce qui peut avoir pour conséquences de devoir allonger le nombre, résultat de l'addition :\n",
    "\n",
    "![](Addition_binaire_2.png)\n",
    "\n",
    "Dans l'exemple ci-dessus, on constate que qu'un nombre de 4 bits, additionné à un nombre de 3 bits, donne un nombre de 5 bits.\n",
    "\n",
    "> **Remarque :** on pourrait bien entendu normaliser tous ces nombres sur la même quantité de bits, en choisissant une quantité de bits supérieure ou égale au plus grand nombre (ici 5).\n",
    "\n",
    "**A vous de jouer :**\n",
    "\n",
    "Effectuer manuellement (papier / crayon) les additions suivantes :\n",
    "- $(01101)_2 + (10010)_2 = (...)_2$\n",
    "- $(100101001)_2 + (10010010)_2 = (...)_2$\n",
    "- $(11010011101)_2 + (1001011101)_2 = (...)_2$\n",
    "\n",
    "Vérifier avec Python que vos calculs sont corrects. Au besoin, refaire vos calculs."
   ]
  },
  {
   "cell_type": "code",
   "execution_count": null,
   "metadata": {},
   "outputs": [],
   "source": []
  },
  {
   "cell_type": "markdown",
   "metadata": {},
   "source": [
    "## Comment soustraire deux nombres binaires ?\n",
    "La soustraction de deux bits se déroule de la façon suivante : dans le cas d'un soustraction amenant à un chiffre négatif, on ajoute des retenues qui se compensent.\n",
    "\n",
    "En voici un exemple :\n",
    "![](Soustraction-binaire.png)\n",
    "\n",
    "**A vous de jouer :**\n",
    "\n",
    "Effectuer manuellement (papier / crayon) les soustractions suivantes :\n",
    "- $(101)_2 - (010)_2 = (...)_2$\n",
    "- $(100001)_2 - (10010)_2 = (...)_2$\n",
    "- $(100100101)_2 - (11011101)_2 = (...)_2$\n",
    "\n",
    "Vérifier avec Python que vos calculs sont corrects. Au besoin, refaire vos calculs."
   ]
  },
  {
   "cell_type": "code",
   "execution_count": null,
   "metadata": {},
   "outputs": [],
   "source": []
  },
  {
   "cell_type": "markdown",
   "metadata": {},
   "source": [
    "## Comparaisons de nombres binaires\n",
    "De façon plus astucieuse, il faut également être capable de comparer (< > =) en un coup d'oeil deux nombres binaires.\n",
    "\n",
    "**A vous de jouer :**\n",
    "\n",
    "Effectuer **mentalement** les comparaisons suivantes :\n",
    "- $(101)_2$ et $(010)_2$\n",
    "- $(100001)_2$ et $(11110)_2$\n",
    "- $(00100101)_2$ et $(11011101)_2$\n",
    "- $(1000100101)_2$ et $(00011011101)_2$\n",
    "- $(0000000101)_2$ et $(11101)_2$\n",
    "- $(00101)_2$ et $(11011101)_2$\n",
    "- $(1000100001001010)_2$ et $(1000100111011111)_2$\n",
    "\n",
    "Vérifier avec Python que vos comparaisons sont correctes. Au besoin, refaire vos calculs.\n",
    "\n",
    "> **Remarque :** python permet de faire des **comparaisons**, en renvoyant un **booléen** vrai ou faux.\n",
    "\n",
    "Exemples :\n",
    "```python\n",
    ">>> 5 > 12\n",
    "False\n",
    ">>> 5 < 12\n",
    "True\n",
    "```"
   ]
  },
  {
   "cell_type": "code",
   "execution_count": null,
   "metadata": {},
   "outputs": [],
   "source": []
  },
  {
   "cell_type": "markdown",
   "metadata": {},
   "source": [
    "> **Commentaires :**"
   ]
  },
  {
   "cell_type": "markdown",
   "metadata": {},
   "source": [
    "## Comparaisons de nombres hexadécimaux\n",
    "Sur le même principe qu'avec les nombres binaires, comparez des nombres hexadécimaux.\n",
    "\n",
    "**A vous de jouer :**\n",
    "\n",
    "Effectuer mentalement les comparaisons suivantes :\n",
    "- $(2B5)_{16}$ et $(3F)_{16}$\n",
    "- $(FF)_{16}$ et $(111)_{16}$\n",
    "- $(24B3)_{16}$ et $(D571)_{16}$\n",
    "\n",
    "Convertir en hexadécimal les nombres suivants avant de les comparer :\n",
    "- $(00100101)_2$ et $(11011101)_2$\n",
    "- $(100101)_2$ et $(1011101)_2$\n",
    "- $(1000100001001010)_2$ et $(1000100111011111)_2$\n",
    "\n",
    "Vérifier avec Python que vos comparaisons sont correctes. Au besoin, refaire vos calculs."
   ]
  },
  {
   "cell_type": "code",
   "execution_count": null,
   "metadata": {},
   "outputs": [],
   "source": []
  },
  {
   "cell_type": "markdown",
   "metadata": {},
   "source": [
    "Ces types de calculs et de comparaisons sont des grands classiques des questions posées en évaluation, il faut donc absolument s'entraîner sur un grand nombre d'exemple pour gagner du temps lors des examens."
   ]
  },
  {
   "cell_type": "markdown",
   "metadata": {},
   "source": [
    "## Que retenir ?\n",
    "### À minima...\n",
    "\n",
    "- Savoir additionner manuellement (papier / crayon) deux nombres binaires.\n",
    "- Savoir comparer deux nombres binaires.\n",
    "\n",
    "### Au mieux...\n",
    "\n",
    "- Savoir soustraire manuellement (papier / crayon) deux nombres binaires.\n",
    "- Savoir comparer deux nombres hexadécimaux."
   ]
  },
  {
   "cell_type": "markdown",
   "metadata": {},
   "source": [
    "---\n",
    "[![Licence CC BY NC SA](https://licensebuttons.net/l/by-nc-sa/3.0/88x31.png \"licence Creative Commons CC BY-NC-SA\")](http://creativecommons.org/licenses/by-nc-sa/3.0/fr/)\n",
    "\n",
    "<p style=\"text-align: center;\">David Landry, Lycée Clemenceau - Nantes</p>\n",
    "\n",
    "<p style=\"text-align: center;\">D'après un cours partagée par <a  href=https://pixees.fr/informatiquelycee/n_site/nsi_prem.html>David Roche</a> sous la licence CC BY-SA</p>\n",
    "<p style=\"text-align: center;\">Et le blog <a  href=https://mrproof.blogspot.com/2012/10/cours-systemes-de-numeration-conversion.html>mrproof</a></p>\n"
   ]
  }
 ],
 "metadata": {
  "kernelspec": {
   "display_name": "Python 3",
   "language": "python",
   "name": "python3"
  },
  "language_info": {
   "codemirror_mode": {
    "name": "ipython",
    "version": 3
   },
   "file_extension": ".py",
   "mimetype": "text/x-python",
   "name": "python",
   "nbconvert_exporter": "python",
   "pygments_lexer": "ipython3",
   "version": "3.8.3"
  }
 },
 "nbformat": 4,
 "nbformat_minor": 2
}
