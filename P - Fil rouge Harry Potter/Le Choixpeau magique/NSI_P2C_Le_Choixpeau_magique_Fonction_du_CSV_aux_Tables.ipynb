{
 "cells": [
  {
   "cell_type": "markdown",
   "metadata": {},
   "source": [
    "# Le Choixpeau magique\n",
    "\n",
    "## Du CSV vers une table\n",
    "\n",
    "Dans un précedent notebook consacré au \"Choixpeau magique\", nous avons __importé le contenu d'un fichier CSV dans une table structurée comme un tableau de dictionnaires__.\n",
    "\n",
    "On rappelle, ci-dessous, le résultat, appliqué au fichier \"Houses.csv\" : "
   ]
  },
  {
   "cell_type": "code",
   "execution_count": null,
   "metadata": {},
   "outputs": [],
   "source": [
    "houses_tab = [{'House': 'Gryffindor', 'Courage': '9', 'Ambition': '6', 'Intelligence': '5', 'Good': '9'},\n",
    " {'House': 'Ravenclaw', 'Courage': '7', 'Ambition': '5', 'Intelligence': '9', 'Good': '8'},\n",
    " {'House': 'Slytherin', 'Courage': '5', 'Ambition': '9', 'Intelligence': '7', 'Good': '2'},\n",
    " {'House': 'Hufflepuff', 'Courage': '8', 'Ambition': '4', 'Intelligence': '7', 'Good': '9'}]"
   ]
  },
  {
   "cell_type": "markdown",
   "metadata": {},
   "source": [
    "Histoire de se rafraîchir la mémoire, extraire puis afficher :\n",
    "\n",
    "- la valeur de courage des Griffindor\n",
    "- la valeur d'ambition des Ravenclaw\n",
    "- la valeur de \"tendance au bien\" des Slytherin"
   ]
  },
  {
   "cell_type": "code",
   "execution_count": null,
   "metadata": {},
   "outputs": [],
   "source": [
    "for dico in houses_tab:\n",
    "    if dico['House'] == 'Gryffindor':\n",
    "        print(f\"La valeur de courage des Griffindor est de {dico['Courage']}\")\n",
    "    if dico['House'] == 'Ravenclaw':\n",
    "        print(f\"La valeur de courage des Ravenclaw est de {dico['Ambition']}\")\n",
    "    if dico['House'] == 'Slytherin':\n",
    "        print(f\"\"\"La valeur de \"tendance au bien\" des Slytherin est de {dico['Good']}\"\"\")"
   ]
  },
  {
   "cell_type": "markdown",
   "metadata": {},
   "source": [
    "On constate que la dernière difficulté consiste à trouver le bon enregistrement (dictionnaire), celui de la bonne Maison, mais qu'ensuite il est trivial d'en extraire la valeur voulue, grâce à sa clé."
   ]
  },
  {
   "cell_type": "markdown",
   "metadata": {},
   "source": [
    "> __Commentaires :__ la correction du précédent notebook (NSI_P1C) montre qu'un indexage bien choisi permet de s'affranchir de la première difficulté (trouver le bon dictionnaire)."
   ]
  },
  {
   "cell_type": "markdown",
   "metadata": {},
   "source": [
    "## Une fonction pour structurer le projet\n",
    "\n",
    "__Notre projet nécessitera répéter l'import de fichiers CSV, nous allons donc créer une fonction__ pour rendre plus lisible notre code et éviter les copier / coller à inutiles.\n",
    "\n",
    "Coder une fonction `csv_to_table(csv_file)` qui renvoie une table  structurée comme un tableau de dictionnaires lorsque qu'on lui passe en paramètre un fichier CSV bien organisé."
   ]
  },
  {
   "cell_type": "code",
   "execution_count": null,
   "metadata": {
    "scrolled": false
   },
   "outputs": [],
   "source": [
    "def csv_to_table(csv_file):\n",
    "    '''\n",
    "    rôle : extraire les données brutes d'un fichier CSV vers une structure de données de type enregistrement\n",
    "    entrée : chemin et nom du fichier csv à traiter\n",
    "    sortie : enregistrement\n",
    "    préconditions : fichier CSV non vide, avec descripteur. \n",
    "                            Séparateur ; \n",
    "                            String entre \"\n",
    "    postconditions : enregistrement contenant tous les descripteurs et toutes les valeurs du fichier CSV\n",
    "\n",
    "    Cette fonction s'appliquera à Characters.csv, Houses.csv, Questions.csv.\n",
    "\n",
    "    Exemple de sortie attendue pour le fichier Characters.csv :\n",
    "\n",
    "    [{'Id' : '...', 'Name' : '...', 'House':'...',  'Courage':..., 'Ambition':..., ................},\n",
    "    {'Id' : '...', 'Name' : '...', 'House':'...',  'Courage':..., 'Ambition':..., ................},\n",
    "    {'Id' : '...', 'Name' : '...', 'House':'...',  'Courage':..., 'Ambition':..., ................},\n",
    "    ................................\n",
    "    {'Id' : '...', 'Name' : '...', 'House':'...',  'Courage':..., 'Ambition':..., ................}]\n",
    "    '''\n",
    "\n",
    "    with open(csv_file, mode='r', encoding='utf-8') as f:\n",
    "        tab = []\n",
    "        lines = f.readlines()\n",
    "        key_line = lines[0].strip()\n",
    "        keys = key_line.split(';')\n",
    "        for line in lines[1:]:\n",
    "            line = line.strip()\n",
    "            values = line.split(';')\n",
    "            dic = {}\n",
    "            for i in range(len(keys)):\n",
    "                dic[keys[i]] = values[i].strip()\n",
    "            tab.append(dic)\n",
    "    return tab"
   ]
  },
  {
   "cell_type": "markdown",
   "metadata": {},
   "source": [
    "## Test de la fonction `csv_to_table(csv_file)`\n",
    "\n",
    "Tester votre fonction sur le fichier \"Houses.csv\" puis sur \"Characters.csv\"."
   ]
  },
  {
   "cell_type": "code",
   "execution_count": null,
   "metadata": {
    "scrolled": true
   },
   "outputs": [],
   "source": [
    "print(csv_to_table('Houses.csv'))"
   ]
  },
  {
   "cell_type": "code",
   "execution_count": null,
   "metadata": {},
   "outputs": [],
   "source": [
    "characters_table = csv_to_table('Characters.csv')\n",
    "print(characters_table)"
   ]
  },
  {
   "cell_type": "markdown",
   "metadata": {},
   "source": [
    "## Création d'un table réduite\n",
    "\n",
    "Notre choixpeau magique n'aura pas besoin de toutes les caractéristiques des personnages pour faire son choix. Seules les __descripteurs `'Courage', 'Ambition', 'Intelligence' et 'Good'`__ lui seront utile.\n",
    "\n",
    "Nous allons donc __créer une nouvelle table, plus petite__ qui permettra à notre programme de tourner un peu plus vite au moment voulu.\n",
    "\n",
    "Pour faire le lien entre un personnage et ses caractéristiques, nous ne garderons pas le nom du personnage mais uniquement son identificateur `'Id'`.\n",
    "\n",
    "Les quatres caractéristiques du personnage seront stockées sous la forme d'une clé `Characteristics'` et d'une valeur de type `tuple ('Courage', 'Ambition', 'Intelligence' et 'Good')`.\n",
    "\n",
    "Le tableau réduit devra donc être de la forme :\n",
    "\n",
    "```python\n",
    "[{'Id': '1', 'Characteristics': (9, 4, 5, 9)},\n",
    " {'Id': '2', 'Characteristics': (8, 6, 5, 9)},\n",
    " {'Id': '3', 'Characteristics': (9, 6, 9, 9)},\n",
    " ...\n",
    " {'Id': '95', 'Characteristics': (8, 4, 9, 9)}]\n",
    "```\n",
    "\n",
    "> __Remarque :__ cette fonction en profite pour changer le type des valeurs de caractéristiques, de `str` ver `int`. L'`Id` reste de type `str`.\n",
    "\n",
    "__Coder une fonction `reduce_characters_table_for_distance(tab)` qui renvoie une table réduite__ lorsqu'on lui entre en paramètre une table complète des personnages et de leurs caractéristiques.\n",
    "\n",
    "> __Remarque :__ nous verrons ultérieurement pourquoi ce choix de nom de fonction, en particulier sur la notion de distance, essentielle dans la suite de notre projet."
   ]
  },
  {
   "cell_type": "code",
   "execution_count": null,
   "metadata": {},
   "outputs": [],
   "source": [
    "def reduce_characters_table_for_distance(tab):\n",
    "    '''\n",
    "    Renvoie une table réduite des personnages\n",
    "    permettant un traitement plus efficace par la fonction distance()\n",
    "    Renvoie une structure table contenant\n",
    "    un identificateur de personnage et ses 4 caractéristiques dans un tuple\n",
    "    '''\n",
    "    reduce_tab = []\n",
    "    for dic in tab:\n",
    "        reduce_tab.append({'Id': dic['Id'], 'Characteristics': \\\n",
    "            (int(dic['Courage']), int(dic['Ambition']), int(dic['Intelligence']), int(dic['Good']))})\n",
    "    return reduce_tab"
   ]
  },
  {
   "cell_type": "code",
   "execution_count": null,
   "metadata": {},
   "outputs": [],
   "source": [
    "id_tab = reduce_characters_table_for_distance(characters_table)\n",
    "print(id_tab)"
   ]
  },
  {
   "cell_type": "markdown",
   "metadata": {},
   "source": [
    "## Extraire de l'information de nos tables\n",
    "\n",
    "A partir de votre tableau réduit, __extraire puis afficher les caractéristiques de l'Id 35__."
   ]
  },
  {
   "cell_type": "code",
   "execution_count": null,
   "metadata": {},
   "outputs": [],
   "source": [
    "for dico in id_tab:\n",
    "    if dico['Id'] == '35':\n",
    "        print(f\"La valeur de courage de l'Id {dico['Id']} est de {dico['Characteristics'][0]}\")\n",
    "        print(f\"La valeur d'ambition de l'Id {dico['Id']} est de {dico['Characteristics'][1]}\")\n",
    "        print(f\"La valeur d'intelligence de l'Id {dico['Id']} est de {dico['Characteristics'][2]}\")\n",
    "        print(f\"La valeur de tendance au bien de l'Id {dico['Id']} est de {dico['Characteristics'][3]}\")"
   ]
  },
  {
   "cell_type": "markdown",
   "metadata": {},
   "source": [
    "> __Commentaires :__ le numéro d'identité est pratique car normalisé et compact mais il n'est pas très explicite..."
   ]
  },
  {
   "cell_type": "markdown",
   "metadata": {},
   "source": [
    "A partir de vos tableaux, __extraire puis afficher le nom et les caractéristiques de l'Id 35__."
   ]
  },
  {
   "cell_type": "code",
   "execution_count": null,
   "metadata": {},
   "outputs": [],
   "source": [
    "for dico in id_tab:\n",
    "    if dico['Id'] == '35':\n",
    "        for dic in characters_tab:\n",
    "            if dic['Id'] == dico['Id']:\n",
    "                print(f\"La valeur de courage de {dic['Name']} est de {dico['Characteristics'][0]}\")\n",
    "                print(f\"La valeur d'ambition de {dic['Name']} est de {dico['Characteristics'][1]}\")\n",
    "                print(f\"La valeur d'intelligence {dic['Name']} est de {dico['Characteristics'][2]}\")\n",
    "                print(f\"La valeur de tendance au bien de {dic['Name']} est de {dico['Characteristics'][3]}\")"
   ]
  },
  {
   "cell_type": "markdown",
   "metadata": {},
   "source": [
    "> __Commentaires :__ il est nécessaire de parcourir tout le tableau pour trouver la bonne identité, donc le bon personnage."
   ]
  },
  {
   "cell_type": "markdown",
   "metadata": {},
   "source": [
    "## Extraire les caractéristiques à partir d'un nom\n",
    "\n",
    "A partir de vos tableaux, __extraire puis afficher les caractéristiques de Rubeus Hagrid__."
   ]
  },
  {
   "cell_type": "code",
   "execution_count": null,
   "metadata": {},
   "outputs": [],
   "source": [
    "for dic in characters_tab:\n",
    "    if dic['Name'] == 'Rubeus Hagrid':\n",
    "        for dico in id_tab:\n",
    "            if dico['Id'] == dic['Id']:\n",
    "                print(f\"La valeur de courage de {dic['Name']} est de {dico['Characteristics'][0]}\")\n",
    "                print(f\"La valeur d'ambition de {dic['Name']} est de {dico['Characteristics'][1]}\")\n",
    "                print(f\"La valeur d'intelligence {dic['Name']} est de {dico['Characteristics'][2]}\")\n",
    "                print(f\"La valeur de tendance au bien de {dic['Name']} est de {dico['Characteristics'][3]}\")"
   ]
  },
  {
   "cell_type": "markdown",
   "metadata": {},
   "source": [
    "> __Commentaires :__ \n",
    "- ce choix de passer par un numéro d'identification 'Id' est discutable.\n",
    "- là encore, un indexage par nom de personnage aurait amélioré la lisibilité et la performance."
   ]
  },
  {
   "cell_type": "markdown",
   "metadata": {},
   "source": [
    "__Conclusion :__ l'utilisation de fonction reste essentielle pour...\n",
    "- répéter son utilisation au besoin.\n",
    "- améliorer la lisibilité du programme.\n",
    "- améliorer la modularité du programme.\n",
    "- améliorer la maintenabilité du programme."
   ]
  },
  {
   "cell_type": "markdown",
   "metadata": {},
   "source": [
    "---\n",
    "[![Licence CC BY NC SA](https://licensebuttons.net/l/by-nc-sa/3.0/88x31.png \"licence Creative Commons CC BY-NC-SA\")](http://creativecommons.org/licenses/by-nc-sa/3.0/fr/)\n",
    "<p style=\"text-align: center;\">Auteur :</p>\n",
    "<p style=\"text-align: center;\">David Landry, Lycée Clemenceau - Nantes</p>"
   ]
  }
 ],
 "metadata": {
  "kernelspec": {
   "display_name": "Python 3",
   "language": "python",
   "name": "python3"
  },
  "language_info": {
   "codemirror_mode": {
    "name": "ipython",
    "version": 3
   },
   "file_extension": ".py",
   "mimetype": "text/x-python",
   "name": "python",
   "nbconvert_exporter": "python",
   "pygments_lexer": "ipython3",
   "version": "3.8.3"
  }
 },
 "nbformat": 4,
 "nbformat_minor": 2
}
