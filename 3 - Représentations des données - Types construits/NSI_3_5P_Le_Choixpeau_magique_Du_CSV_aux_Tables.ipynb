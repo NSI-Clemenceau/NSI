{
 "cells": [
  {
   "cell_type": "markdown",
   "metadata": {},
   "source": [
    "# Le Choixpeau magique\n",
    "## Les 4 maisons de Poudlard\n",
    "\n",
    "\n",
    "Dans la saga « Harry Potter » de J. K. Rowling, l’école Poudlard a été fondée, au moyen âge, par 4 sorciers :\n",
    "\n",
    "- Godric Gryffondor (en anglais Gryffindor),\n",
    "- Helga Poufsouffle (Hufflepuff),\n",
    "- Rowena Serdaigle (Ravenclaw),\n",
    "- Salazar Serpentard (Slytherin).\n",
    "    \n",
    "Lors de leur première rentrée scolaire, __les jeunes élèves sorciers sont répartis en quatre équipes ou « Maisons »__, portant chacune le nom d’un de ces fondateurs.\n",
    "\n",
    "![Maisons](maisons.png)\n",
    "\n",
    "## Le rôle du Choixpeau magique\n",
    "\n",
    "\n",
    "__Cette répartition est assurée par un personnage en forme de chapeau, appelé « Choixpeau magique »__ (« Sorting hat » en anglais).\n",
    "\n",
    "Pour notre étude, nous allons considérer que __le Choixpeau magique analyse les qualités de « courage », d'« ambition », d'« intelligence », et de « tendance au bien » de l’élève__.\n",
    "\n",
    "Puis __le Choixpeau magique assigne l’élève à la « Maison » qui semble correspondre le mieux à son \"profil\"__.\n",
    "\n",
    "![Choixpeau](choixpeau.png)\n",
    "\n",
    "Pendant l'année, vous aurez régulièrement des activités de cours, des exercices qui porteront sur ce thème. __L'objectif final de ce projet consiste à créer votre propre \"Choipeaux magique\"__.\n",
    "\n",
    "Ce projet étant assez ambitieux, il est nécessaire de le __découper en plusieurs parties__.\n",
    "\n",
    "Nous commencerons par __importer les différents personnages de ce roman, ainsi que leurs caractéristiques__. Pour cela, nous devons déterminer __quelle structure informatique est la meilleure__ pour une utilisation ultérieure facilitée.\n",
    "\n",
    "## Un profil par maison\n",
    "\n",
    "Là encore, pour procéder par étapes progressives, nous essayerons d'importer le contenu d'un fichier plus léger : \"Houses.csv\".\n",
    "\n",
    "Voici le contenu du fichier \"Houses.csv\" :\n",
    "\n",
    "```\n",
    "House;Courage;Ambition;Intelligence;Good\n",
    "Gryffindor;9;6;5;9\n",
    "Ravenclaw;7;5;9;8\n",
    "Slytherin;5;9;7;2\n",
    "Hufflepuff;8;4;7;9\n",
    "```\n",
    "> __Remarques :__ pour une meilleure cohérence avec les données brutes des personnages et dans l'objectif hypothétique d'un meilleur partage sur [les plateformes de forge, de type GitLab](https://framagit.org/), la langue anglaise sera privilégiée.\n",
    "\n",
    "__Ce fichier \"Houses.csv\" contient donc un \"profil\" pour chaque Maison__. Ce profil a été fait de façon subjective et, même s'il sera bien évidemment possible de le changer à l'avenir, il est préférable que nous gardions tous les mêmes données initiales pour mieux travailler ensemble.\n",
    "\n",
    "## Le format CSV\n",
    "\n",
    "__Le format de fichier CSV, pour l’anglais Comma-separated values__, soit « données séparées par des virgules », est un __format texte ouvert__, représentant des données sous forme de __valeurs séparées par des séparateurs__, éventuellement sur plusieurs lignes.\n",
    "Initialement le séparateur était « , », il peut aussi être « ; » ou « | ».\n",
    "\n",
    "Le format CSV est un __format très utilisé pour représenter des données structurées, notamment pour importer ou exporter des données à partir d'une feuille de calculs d'un tableur__. C'est un fichier texte dans lequel __chaque ligne correspond à une ligne du tableau__.\n",
    "\n",
    "## Du CSV vers un tableau\n",
    "\n",
    "> __Remarques :__ Même si les notebooks le permettent, il sera préférable d'__utiliser un IDE plus complet__ pour élaborer un projet tel que celui que nous commençons. L'utilisation de Visual Studio Code peut être un choix judicieux mais il n'est pas obligatoire, simplement recommandé.\n",
    "\n",
    "Coder un script permettant de lire le fichier \"Houses.csv\" et de créer un tableau sous la forme :\n",
    "\n",
    "```python\n",
    "houses_list = ['House;Courage;Ambition;Intelligence;Good',\n",
    "               'Gryffindor;9;6;5;9',\n",
    "               'Ravenclaw;7;5;9;8',\n",
    "               'Slytherin;5;9;7;2',\n",
    "               'Hufflepuff;8;4;7;9']\n",
    "```"
   ]
  },
  {
   "cell_type": "code",
   "execution_count": null,
   "metadata": {
    "scrolled": true
   },
   "outputs": [],
   "source": []
  },
  {
   "cell_type": "markdown",
   "metadata": {},
   "source": [
    "> __Commentaires :__"
   ]
  },
  {
   "cell_type": "markdown",
   "metadata": {},
   "source": [
    "A partir de votre tableau, extraire puis afficher :\n",
    "\n",
    "- la valeur de courage des Gryffindor\n",
    "- la valeur d'intelligence des Slytherin\n",
    "- la valeur d'ambition des Hufflepuff"
   ]
  },
  {
   "cell_type": "code",
   "execution_count": null,
   "metadata": {},
   "outputs": [],
   "source": []
  },
  {
   "cell_type": "markdown",
   "metadata": {},
   "source": [
    "Résumer comment il faut indicer le tableau pour retrouver de l'information sous ce format :\n",
    "\n",
    "- ...\n",
    "- ..."
   ]
  },
  {
   "cell_type": "markdown",
   "metadata": {},
   "source": [
    "> __Commentaires :__"
   ]
  },
  {
   "cell_type": "markdown",
   "metadata": {},
   "source": [
    "## Du CSV vers un tableau à deux dimensions\n",
    "\n",
    "Coder un script permettant de lire le fichier \"Houses.csv\" et de créer un tableau sous la forme :\n",
    "\n",
    "```python\n",
    "houses_2Dlist = \n",
    "[['House', 'Courage', 'Ambition', 'Intelligence', 'Good'],\n",
    " ['Gryffindor', '9', '6', '5', '9'], \n",
    " ['Ravenclaw', '7', '5', '9', '8'],\n",
    " ['Slytherin', '5', '9', '7', '2'], \n",
    " ['Hufflepuff', '8', '4', '7', '9']\n",
    "]\n",
    "```"
   ]
  },
  {
   "cell_type": "code",
   "execution_count": null,
   "metadata": {},
   "outputs": [],
   "source": []
  },
  {
   "cell_type": "markdown",
   "metadata": {},
   "source": [
    "> __Commentaires :__"
   ]
  },
  {
   "cell_type": "markdown",
   "metadata": {},
   "source": [
    "A partir de votre tableau, extraire puis afficher :\n",
    "\n",
    "- la valeur de courage des Hufflepuff\n",
    "- la valeur d'intelligence des Griffindor\n",
    "- la valeur d'ambition des Ravenclaw"
   ]
  },
  {
   "cell_type": "code",
   "execution_count": null,
   "metadata": {},
   "outputs": [],
   "source": []
  },
  {
   "cell_type": "markdown",
   "metadata": {},
   "source": [
    "Résumer comment il faut indicer le tableau pour retrouver de l'information sous ce format :\n",
    "\n",
    "- ...\n",
    "- ..."
   ]
  },
  {
   "cell_type": "markdown",
   "metadata": {},
   "source": [
    "> __Commentaires :__"
   ]
  },
  {
   "cell_type": "markdown",
   "metadata": {},
   "source": [
    "## Du CSV vers une table\n",
    "\n",
    "On appelle __table__ une structure de donnée, un conteneur, composée d'un tableau d'enregistrements. Ici, nous souhaitons créer une table structurée comme un __tableau de dictionnaires__.\n",
    "\n",
    "```python\n",
    "houses_tab = \n",
    "[{'House': 'Gryffindor', 'Courage': '9', 'Ambition': '6', 'Intelligence': '5', 'Good': '9'},\n",
    " {'House': 'Ravenclaw', 'Courage': '7', 'Ambition': '5', 'Intelligence': '9', 'Good': '8'},\n",
    " {'House': 'Slytherin', 'Courage': '5', 'Ambition': '9', 'Intelligence': '7', 'Good': '2'},\n",
    " {'House': 'Hufflepuff', 'Courage': '8', 'Ambition': '4', 'Intelligence': '7', 'Good': '9'}]\n",
    "\n",
    "```"
   ]
  },
  {
   "cell_type": "code",
   "execution_count": null,
   "metadata": {},
   "outputs": [],
   "source": []
  },
  {
   "cell_type": "markdown",
   "metadata": {},
   "source": [
    "A partir de votre tableau, extraire puis afficher :\n",
    "\n",
    "- la valeur de courage des Slytherin\n",
    "- la valeur d'ambition des Griffindor\n",
    "- la valeur de \"tendance au bien\" des Ravenclaw"
   ]
  },
  {
   "cell_type": "code",
   "execution_count": null,
   "metadata": {},
   "outputs": [],
   "source": []
  },
  {
   "cell_type": "markdown",
   "metadata": {},
   "source": [
    "Résumer comment il faut indicer le tableau pour retrouver de l'information sous ce format :\n",
    "\n",
    "- ...\n",
    "- ..."
   ]
  },
  {
   "cell_type": "markdown",
   "metadata": {},
   "source": [
    "> __Commentaires :__"
   ]
  },
  {
   "cell_type": "markdown",
   "metadata": {},
   "source": [
    "## Import des élèves à partir d'un fichier CSV\n",
    "\n",
    "#### Choisir la meilleure structure de données pour importer tous les personnages contenus dans le fichier \"Characters.csv\"\n",
    "\n",
    "> __Remarques :__ \n",
    "- le fichier \"Characters.csv\", contenant les personnages du roman _Harry Potter_ est tiré du [site Kaggle](https://www.kaggle.com/gulsahdemiryurek/harry-potter-dataset), qui répertorie de nombreuses données.\n",
    "- ce fichier était probablement codé en latin1 (ou autre format proche).  Sa lecture en utf-8 pose des problèmes d'affichage et le fichier qui vous est fourni a été préalablement converti en utf-8 pour faciliter votre travail."
   ]
  },
  {
   "cell_type": "code",
   "execution_count": null,
   "metadata": {
    "scrolled": false
   },
   "outputs": [],
   "source": []
  },
  {
   "cell_type": "markdown",
   "metadata": {},
   "source": [
    "A partir de votre tableau, extraire puis afficher :\n",
    "\n",
    "- la Maison de Rose Granger-Weasley\n",
    "- le Patronus de Seamus Finnigan\n",
    "- la couleur des cheveux d'Hermione Jean Granger"
   ]
  },
  {
   "cell_type": "markdown",
   "metadata": {},
   "source": [
    "> __Commentaires :__"
   ]
  },
  {
   "cell_type": "markdown",
   "metadata": {},
   "source": [
    "__Conclusion :__"
   ]
  },
  {
   "cell_type": "markdown",
   "metadata": {},
   "source": [
    "---\n",
    "[![Licence CC BY NC SA](https://licensebuttons.net/l/by-nc-sa/3.0/88x31.png \"licence Creative Commons CC BY-NC-SA\")](http://creativecommons.org/licenses/by-nc-sa/3.0/fr/)\n",
    "<p style=\"text-align: center;\">Auteurs :</p>\n",
    "<p style=\"text-align: center;\">David Landry, Lycée Clemenceau - Nantes</p>\n",
    "<p style=\"text-align: center;\">Hervé Favry, Lycée Léonard de Vinci - Montaigu</p>"
   ]
  }
 ],
 "metadata": {
  "kernelspec": {
   "display_name": "Python 3",
   "language": "python",
   "name": "python3"
  },
  "language_info": {
   "codemirror_mode": {
    "name": "ipython",
    "version": 3
   },
   "file_extension": ".py",
   "mimetype": "text/x-python",
   "name": "python",
   "nbconvert_exporter": "python",
   "pygments_lexer": "ipython3",
   "version": "3.8.3"
  }
 },
 "nbformat": 4,
 "nbformat_minor": 2
}
