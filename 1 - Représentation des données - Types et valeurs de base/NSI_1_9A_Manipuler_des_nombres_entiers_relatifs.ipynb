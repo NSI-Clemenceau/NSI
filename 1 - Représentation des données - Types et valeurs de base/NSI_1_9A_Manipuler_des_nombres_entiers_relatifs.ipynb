{
 "cells": [
  {
   "cell_type": "markdown",
   "metadata": {},
   "source": [
    "# Python pour relativement bien coder \n",
    "\n",
    "## Les entiers naturels, du décimal au binaire\n",
    "\n",
    "L'algorithme consiste à faire des divisions successives par 2 et à regarder le reste. Le reste d'une division par 2 est 0 si le nombre est pair, ou 1 si le nombre est impair. Cela donne les chiffres de notre nombre binaire.\n",
    "\n",
    "Observez l'exemple :\n",
    "\n",
    "| n | Quotient par 2 | reste |\n",
    "|:-:|:--------------:|:-----:|\n",
    "|13|6|1|\n",
    "|6|3|0|\n",
    "|3|1|1|\n",
    "|1|0|1|\n",
    "\n",
    "On s'arrête lorsque le quotient par 2 est nul. Les restes successifs sont 1, 0, 1 et 1 ce qui est justement l'écriture binaire de 13, écrit de la droite vers la gauche (mais vous savez renverser une chaîne de caractère n'est-ce pas ?).\n",
    "\n",
    "Créer la fonction `dec2bin()` :\n",
    "\n",
    "- qui prend en entrée un entier décimal positif.\n",
    "- qui renvoie l'écriture binaire en 8 bits du nombre sous forme d'une liste.\n",
    "\n",
    "> **Exemple :** `dec2bin(13)` devra renvoyer [0, 0, 0, 0, 1, 1, 0, 1]"
   ]
  },
  {
   "cell_type": "code",
   "execution_count": null,
   "metadata": {},
   "outputs": [],
   "source": [
    "# coding: utf-8\n",
    "\n",
    "import doctest\n",
    "\n",
    "def dec2bin(n):\n",
    "    '''\n",
    "    Docstring à compléter\n",
    "    \n",
    "    >>> dec2bin(0)\n",
    "    [0, 0, 0, 0, 0, 0, 0, 0]\n",
    "    >>> dec2bin(255)\n",
    "    [1, 1, 1, 1, 1, 1, 1, 1]\n",
    "    >>> dec2bin(13)\n",
    "    [0, 0, 0, 0, 1, 1, 0, 1]\n",
    "    '''\n",
    "    \n",
    "doctest.testmod()"
   ]
  },
  {
   "cell_type": "markdown",
   "metadata": {},
   "source": [
    "## Les entiers relatifs, du décimal au binaire\n",
    "\n",
    "L'objectif de cet exercice est d'écrire une fonction en Python `dec_relatif_en_binaire()` qui convertit un entier relatif en binaire sur 8 bit.\n",
    "\n",
    "Créer la fonction `dec_relatif_en_binaire()` :\n",
    "\n",
    "- qui prend en entrée un entier décimal positif ou négatif.\n",
    "- qui renvoie l'écriture binaire du nombre sous forme d'une liste.\n",
    "\n",
    "Une possibilité consiste à :\n",
    "\n",
    "1. Ecrire une fonction `inverse_0_et_1()` qui remplace les 1 en 0 et les 0 en 1 dans une liste ne contenant que des 0 et des 1 (on pourra ajouter une assertion pour vérifier cette condition).\n",
    "2. Ecrire une fonction `ajoute_1()` qui ajoute 1 à un nombre binaire représenté dans une liste.\n",
    "3. Utiliser les fonctions `inverse_0_et_1()`, `ajoute_1()`, `dec2bin()` et `abs()` (donnant la valeur absolue d'un nombre) pour créer votre programme. \n",
    "\n",
    "> __Remarque :__ il faudra penser à gérer l'éventuel manque de bits."
   ]
  },
  {
   "cell_type": "code",
   "execution_count": null,
   "metadata": {},
   "outputs": [],
   "source": [
    "# coding: utf-8\n",
    "\n",
    "def inverse_0_et_1(liste):\n",
    "    '''\n",
    "    Docstring à compléter\n",
    "    \n",
    "    >>> inverse_0_et_1([0, 0, 0, 0, 0, 0, 0, 0])\n",
    "    [1, 1, 1, 1, 1, 1, 1, 1]\n",
    "    >>> inverse_0_et_1([1, 1, 1, 1, 1, 1, 1, 1])\n",
    "    [0, 0, 0, 0, 0, 0, 0, 0]\n",
    "    >>> inverse_0_et_1([1, 0, 1, 1, 1, 0, 0, 0])\n",
    "    [0, 1, 0, 0, 0, 1, 1, 1]    \n",
    "    '''\n",
    "    \n",
    "doctest.testmod()"
   ]
  },
  {
   "cell_type": "code",
   "execution_count": null,
   "metadata": {},
   "outputs": [],
   "source": [
    "# coding: utf-8\n",
    "\n",
    "def ajoute_1(liste):\n",
    "    '''\n",
    "    Docstring à compléter\n",
    "\n",
    "    >>> ajoute_1([0, 0, 0, 0, 0, 0, 0, 0])\n",
    "    [0, 0, 0, 0, 0, 0, 0, 1]\n",
    "    >>> ajoute_1([1, 1, 1, 1, 1, 1, 1, 1])\n",
    "    [0, 0, 0, 0, 0, 0, 0, 0]\n",
    "    >>> ajoute_1([1, 0, 1, 1, 1, 0, 0, 0])\n",
    "    [1, 1, 0, 0, 0, 0, 0, 0]\n",
    "    >>> ajoute_1([1, 0, 1, 1, 1, 0, 0, 1])\n",
    "    [1, 1, 0, 0, 0, 0, 1, 0]\n",
    "    '''\n",
    "\n",
    "doctest.testmod()"
   ]
  },
  {
   "cell_type": "code",
   "execution_count": null,
   "metadata": {},
   "outputs": [],
   "source": [
    "# coding: utf-8\n",
    "\n",
    "def dec_relatif_en_binaire(n):\n",
    "    '''\n",
    "    Docstring à compléter\n",
    "    \n",
    "    >>> dec_relatif_en_binaire(0)\n",
    "    [0, 0, 0, 0, 0, 0, 0, 0]\n",
    "    >>> dec_relatif_en_binaire(-1)\n",
    "    [1, 1, 1, 1, 1, 1, 1, 1]\n",
    "    >>> dec_relatif_en_binaire(72)\n",
    "    [0, 1, 0, 0, 1, 0, 0, 0]\n",
    "    >>> dec_relatif_en_binaire(-72)\n",
    "    [1, 0, 1, 1, 1, 0, 0, 0]\n",
    "    >>> dec_relatif_en_binaire(-128)\n",
    "    [1, 0, 0, 0, 0, 0, 0, 0]\n",
    "    >>> dec_relatif_en_binaire(127)\n",
    "    [0, 1, 1, 1, 1, 1, 1, 1]\n",
    "    '''\n",
    "\n",
    "doctest.testmod()"
   ]
  },
  {
   "cell_type": "markdown",
   "metadata": {},
   "source": [
    "## Les entiers relatifs, du binaire au décimal\n",
    "\n",
    "Ecrire une fonction `binaire_en_decimal()` qui a pour argument une liste  correspond à un entier écrit en binaire et qui renvoie l'entier en décimal.\n",
    "\n",
    "> __Remarques :__\n",
    "- le cas des entiers positifs ne devraient pas poser de problème.\n",
    "- dans le cas d'un entier négatif (premier bit égal à 1), il suffit d'utiliser la même méthode mais il faut retirer la valeur 2$^8$ au résultat obtenu car on raisonne ici sur un nombre à 8 bits.\n",
    "\n",
    "|Ecriture binaire|00000000|00000001|...|01111111|10000000|10000001|...|11111111|\n",
    "|:--:|:--:|:--:|:--:|:--:|:--:|:--:|:--:|:--:|\n",
    "|Ecriture décimale|0|1|...|127|-128|-127|...|-1|\n",
    "\n",
    "> __Exemple :__ on constate qu'après 127, on code -128 et non pas 128. Ce -128 correspond bien à 128 - 256."
   ]
  },
  {
   "cell_type": "code",
   "execution_count": null,
   "metadata": {},
   "outputs": [],
   "source": [
    "# coding: utf-8\n",
    "\n",
    "def binaire_en_decimal(liste):\n",
    "    '''\n",
    "    Convertit un nombre binaire relatif, présenté dans une liste,\\\n",
    "    en un nombre décimal relatif.\n",
    "    \n",
    "    Entrée : Liste d'entiers égaux à 0 ou 1\n",
    "    Sortie : Entier relatif\n",
    "    \n",
    "    >>> binaire_en_decimal([0, 0, 0, 0, 0, 0, 0, 0])\n",
    "    0\n",
    "    >>> binaire_en_decimal([1, 1, 1, 1, 1, 1, 1, 1])\n",
    "    -1\n",
    "    >>> binaire_en_decimal([0, 1, 0, 0, 1, 0, 0, 0])\n",
    "    72\n",
    "    >>> binaire_en_decimal([1, 0, 1, 1, 1, 0, 0, 0])\n",
    "    -72\n",
    "    '''\n",
    "    \n",
    "doctest.testmod()"
   ]
  },
  {
   "cell_type": "markdown",
   "metadata": {},
   "source": [
    "## Addition binaire d'entiers relatifs\n",
    "\n",
    "Ecrire une fonction `addition_binaire()` qui renvoie le résultat de la somme de deux nombres binaires sur 8 bits."
   ]
  },
  {
   "cell_type": "code",
   "execution_count": null,
   "metadata": {},
   "outputs": [],
   "source": [
    "# coding: utf-8\n",
    "\n",
    "def addition_binaire(nb1, nb2):\n",
    "    '''\n",
    "    Additionne deux nombre binaires pouvant être positifs ou négatifs\n",
    "    \n",
    "    Entrée : deux listes d'entiers égaux à 0 ou 1\n",
    "    Sortie : Liste d'entiers égaux à 0 ou 1\n",
    "    \n",
    "    >>> addition_binaire([0, 0, 0, 0, 0, 0, 0, 0], [0, 0, 0, 0, 0, 0, 0, 0])\n",
    "    [0, 0, 0, 0, 0, 0, 0, 0]\n",
    "    >>> addition_binaire([1, 1, 1, 1, 1, 1, 1, 1], [1, 1, 1, 1, 1, 1, 1, 1])\n",
    "    [1, 1, 1, 1, 1, 1, 1, 0]\n",
    "    >>> addition_binaire([0, 1, 0, 0, 1, 0, 0, 0], [1, 0, 1, 1, 1, 0, 0, 0])\n",
    "    [0, 0, 0, 0, 0, 0, 0, 0]\n",
    "    >>> addition_binaire([0, 1, 0, 0, 1, 0, 0, 0], [1, 1, 1, 1, 1, 1, 1, 1])\n",
    "    [0, 1, 0, 0, 0, 1, 1, 1]\n",
    "    '''\n",
    "    \n",
    "doctest.testmod()"
   ]
  },
  {
   "cell_type": "markdown",
   "metadata": {},
   "source": [
    "---\n",
    "[![Licence CC BY NC SA](https://licensebuttons.net/l/by-nc-sa/3.0/88x31.png \"licence Creative Commons CC BY-NC-SA\")](http://creativecommons.org/licenses/by-nc-sa/3.0/fr/)\n",
    "\n",
    "<p style=\"text-align: center;\">David Landry, Lycée Clemenceau - Nantes</p>\n",
    "\n",
    "<p style=\"text-align: center;\">D'après des documents partagés par...</p>\n",
    "<p style=\"text-align: center;\"><a  href=https://pixees.fr/informatiquelycee/n_site/nsi_prem.html>David Roche</a>, Lycée Fichet à Bonneville, sous la licence CC BY-SA</p>\n",
    "<p style=\"text-align: center;\"><a  href=https://frederic-junier.org/>Frédéric Junier</a>, Lycée du Parc à Lyon, sous la licence CC BY-NC-SA</p>\n",
    "<p style=\"text-align: center;\"><a  href=http://www.monlyceenumerique.fr/index_nsi.html#premiere>JC. Gérard, T. Lourdet, J. Monteillet, P. Thérèse, sur le site monlyceenumerique.fr</a></p>"
   ]
  }
 ],
 "metadata": {
  "kernelspec": {
   "display_name": "Python 3",
   "language": "python",
   "name": "python3"
  },
  "language_info": {
   "codemirror_mode": {
    "name": "ipython",
    "version": 3
   },
   "file_extension": ".py",
   "mimetype": "text/x-python",
   "name": "python",
   "nbconvert_exporter": "python",
   "pygments_lexer": "ipython3",
   "version": "3.8.3"
  }
 },
 "nbformat": 4,
 "nbformat_minor": 2
}
