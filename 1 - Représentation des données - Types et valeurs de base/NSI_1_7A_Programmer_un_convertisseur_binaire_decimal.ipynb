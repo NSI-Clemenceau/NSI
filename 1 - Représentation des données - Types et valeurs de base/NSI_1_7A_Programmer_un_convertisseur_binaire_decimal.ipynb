{
 "cells": [
  {
   "cell_type": "markdown",
   "metadata": {},
   "source": [
    "# Programmer un convertisseur décimal / binaire"
   ]
  },
  {
   "cell_type": "markdown",
   "metadata": {},
   "source": [
    "On, l'a vu, **python** sait convertir des nombres de binaire en décimal et de décimal en binaire.\n",
    "\n",
    "Nous allons **reprogrammer nos propres fonctions de conversion** pour mieux comprendre la numération... et python !"
   ]
  },
  {
   "cell_type": "markdown",
   "metadata": {},
   "source": [
    "## A vous de jouer\n",
    "Pour vous entraîner, vous allez créer une fonction `somme(n)`\n",
    "- prenant en paramètre un nombre entier `n`\n",
    "- renvoyant la somme des chiffres composant `n`\n",
    "\n",
    "> **Remarques :** \n",
    "- `somme(1234)` devra renvoyer 10 car 1 + 2 + 3 + 4 = 10\n",
    "- rappelez vous que 1 + 2 vaut 3 mais '1' + '2' vaut '12'\n",
    "\n",
    "**Indication :** une des solutions possibles sera de...\n",
    "- convertir `n` en chaîne de caractère\n",
    "- créer une variable nommée `total`\n",
    "- parcourir chaque caractère (au besoin, voir l'aide technique ci-dessous)\n",
    "- ajouter à  `total`, le chiffre correspondant à ce caractère\n",
    "- retourner la valeur de `total`\n",
    "\n",
    "> **Remarques sur les fonctions :**\n",
    "- le nom d'une fonction est définie après `def`\n",
    "- on peut ajouter entre parenthèse des *paramètres*, qui serviront à créer des *variables locales* (n'ayant d'existance qu'au moment de l'execution de cette fonction) pour que cette fonction s'adapte à des situations variées.\n",
    "- on indente (touche TAB du clavier) tout le contenu de la fonction\n",
    "- on peut sortir de l'exécution d'une fonction en lui faisant *renvoyer* une valeur, à l'aide de l'instruction `return`\n",
    "\n",
    "**Aide technique :** à ne lire que si vous manquez d'expérience sur les boucles \n",
    "- vous pourrez parcourir la chaîne de caractère avec une boucle `for`, sur ce modèle : `for chiffre in n:`\n",
    "- après indentation (touche TAB), vous pourrez ainsi manipuler un chiffre différent à chaque tour de boucle."
   ]
  },
  {
   "cell_type": "code",
   "execution_count": null,
   "metadata": {},
   "outputs": [],
   "source": [
    "# coding: utf-8\n",
    "\n",
    "def somme(n):\n",
    "    '''\n",
    "    Description de la fonction (docstring) :\n",
    "    \n",
    "    - Que demande-t-elle en paramètres ?\n",
    "    - Que renvoie-t-elle au final ?\n",
    "    - Bref, que fait-elle ?\n",
    "    '''\n",
    "\n",
    "    # A vous de compléter ..."
   ]
  },
  {
   "cell_type": "markdown",
   "metadata": {},
   "source": [
    "# Convertir un nombre binaire en décimal\n",
    "\n",
    "Vous êtes maintenant armés pour convertir un nombre binaire en décimal. \n",
    "\n",
    "Avant toute chose, avant d'écrire une fonction, on doit se faire une idée très précise de son fonctionnement avec un papier et un crayon.\n",
    "\n",
    "Prenons l'exemple du \"nombre\" `b = '0b1101'`. \n",
    "\n",
    "> **Remarque :** il est étrange de parler de \"nombre\" dans ce cas, sachant qu'il est de type 'string'\n",
    "\n",
    "Pour le convertir en décimal, nous allons le parcourir de la gauche vers la droite et totaliser au fur à mesure le nombre obtenu avec des puissances de 2. Observez la démarche :\n",
    "1. On se débarasse de l'entête, on obtient `b = '1101'`\n",
    "2. On initialise (première affectation) une variable `total`$\\leftarrow$ 0 (notation algorithmique)\n",
    "3. On parcourt `b` de gauche à droite, caractère par caractère à l'aide d'une boucle\n",
    "  - On lit '1'. On ajoute ce 1 à la variable `total` qui vaut maintenant 1\n",
    "  - On lit '1' à nouveau. Avant de l'ajouter à `total`, il faut multiplier `total` par 2 (`10` en binaire) du fait qu'un bit vaut toujours deux fois plus que son voisin de droite.\n",
    "  - `total` vaut donc à présent $2\\times 1 + 1$ soit 3 \n",
    "  - 3 est l'écriture décimale de 11 en binaire donc tout va bien !\n",
    "  - On lit '0'. \n",
    "  - Comme précédemment, on va multiplier `total` par 2 afin de tenir compte du décalage des bits vers la gauche. `total` vaut alors 6. Comme on vient de lire 0, on ajoute rien.\n",
    "  - Pour finir, on lit '1'. On va donc multiplier `total` par 2 et ajouter ce 1, ce qui nous donne $2\\times 6+1$ soit 13\n",
    "4. On renvoie le résultat final `total`, qui vaut 13. "
   ]
  },
  {
   "cell_type": "markdown",
   "metadata": {},
   "source": [
    "Une petite vérification rapide avec Python :"
   ]
  },
  {
   "cell_type": "code",
   "execution_count": null,
   "metadata": {},
   "outputs": [],
   "source": [
    "int('0b1101',2)"
   ]
  },
  {
   "cell_type": "markdown",
   "metadata": {},
   "source": [
    "Pour bien vous imprégner de l'algorithme, appliquez cette même méthode pour convertir `'0b101110'` en décimal sur votre feuille. \n",
    "\n",
    "**Ne validez la cellule suivante qu'une fois le calcul fait à la main**."
   ]
  },
  {
   "cell_type": "code",
   "execution_count": null,
   "metadata": {},
   "outputs": [],
   "source": [
    "int('0b101110',2)"
   ]
  },
  {
   "cell_type": "markdown",
   "metadata": {},
   "source": [
    "Si on résume l'algorithme, il ressemble à ceci :\n",
    "\n",
    "-  tronquer la chaîne b pour enlever '0b'\n",
    "-  Initialiser `total` à 0\n",
    "-  parcourir la chaîne b\n",
    "  -  multiplier `total` par deux et ajouter le chiffre binaire lu\n",
    "-  renvoyer le résultat `total`\n",
    "\n",
    "\n",
    "Il ne vous reste plus qu'à créer la fonction `bin2dec()`\n",
    "- qui prend en entrée une chaîne de caractère au format binaire (comme `'0b1101'`)\n",
    "- qui renvoie l'écriture décimale du nombre\n",
    "\n",
    "Ainsi `bin2dec('0b1101')` devra renvoyer 13\n",
    "\n",
    "A vous de jouer..."
   ]
  },
  {
   "cell_type": "code",
   "execution_count": null,
   "metadata": {},
   "outputs": [],
   "source": [
    "# coding: utf-8\n",
    "\n",
    "def \n",
    "    '''\n",
    "    Docstring à compléter\n",
    "    '''"
   ]
  },
  {
   "cell_type": "markdown",
   "metadata": {},
   "source": [
    "# Convertir un décimal en binaire\n",
    "\n",
    "Nous allons faire maintenant l'opération inverse, c'est à dire passer d'une écriture décimale à binaire :\n",
    "\n",
    "> **Exemple :** `dec2bin(13)` devra renvoyer '0b1101'\n",
    "\n",
    "Pour cette seconde fonction, vous commencerez par vous familiariser avec l'algorithme en le faisant fonctionner à la main sur des exemples. Ce n'est qu'une fois à l'aise avec le calcul à la main que vous pourrez programmer en **python**.\n",
    "\n",
    "L'algorithme consiste à faire des divisions successives par 2 et à regarder le reste. Le reste d'une division par 2 est 0 si le nombre est pair, ou 1 si le nombre est impair. Cela donne les chiffres de notre nombre binaire.\n",
    "\n",
    "Observez l'exemple :\n",
    "\n",
    "| n | Quotient par 2 | reste |\n",
    "|:-:|:--------------:|:-----:|\n",
    "|13|6|1|\n",
    "|6|3|0|\n",
    "|3|1|1|\n",
    "|1|0|1|\n",
    "\n",
    "On s'arrête lorsque le quotient par 2 est nul. Les restes successifs sont 1, 0, 1 et 1 ce qui est justement l'écriture binaire de 13, écrit de la droite vers la gauche (mais vous savez renverser une chaîne de caractère n'est-ce pas ?).\n",
    "\n",
    "> **Rappels :** \n",
    "> - division entière : //\n",
    "> - reste : %\n",
    "\n",
    "Regardez sur cet exemple :"
   ]
  },
  {
   "cell_type": "code",
   "execution_count": null,
   "metadata": {},
   "outputs": [],
   "source": [
    "13 // 2"
   ]
  },
  {
   "cell_type": "code",
   "execution_count": null,
   "metadata": {},
   "outputs": [],
   "source": [
    "13 % 2"
   ]
  },
  {
   "cell_type": "markdown",
   "metadata": {},
   "source": [
    "Le quotient de 13 par 2 est bien 6 et il reste 1.\n",
    "\n",
    "## A vous de jouer.\n",
    "\n",
    "Après vous être exercés sur papier à la conversions de nombres de decimal en binaire, il ne vous reste plus qu'à créer la fonction `dec2bin(n)`\n",
    "\n",
    "- qui prend en entrée un entier décimal\n",
    "- qui renvoie l'écriture binaire du nombre sous forme d'une chaîne '0b....'\n"
   ]
  },
  {
   "cell_type": "code",
   "execution_count": null,
   "metadata": {},
   "outputs": [],
   "source": [
    "# coding: utf-8\n",
    "\n",
    "def \n",
    "    '''\n",
    "    Docstring à compléter\n",
    "    \n",
    "    Pour les plus curieux...\n",
    "    On peut ajouter un test de validation (module doctest à importer).\n",
    "    Pour cela, ajouter plusieurs exemples de ce que la fonction\n",
    "    doit renvoyer, en fonction du paramètre, sous la forme :\n",
    "    >>> somme(1234) # test de la fonction avec l'argument 1234\n",
    "    10              # ce que la fonction doit renvoyer\n",
    "    '''"
   ]
  },
  {
   "cell_type": "markdown",
   "metadata": {},
   "source": [
    "---\n",
    "[![Licence CC BY NC SA](https://licensebuttons.net/l/by-nc-sa/3.0/88x31.png \"licence Creative Commons CC BY-NC-SA\")](http://creativecommons.org/licenses/by-nc-sa/3.0/fr/)\n",
    "\n",
    "<p style=\"text-align: center;\">David Landry, Lycée Clemenceau - Nantes</p>\n",
    "\n",
    "<p style=\"text-align: center;\">D'après un cours partagée par <a  href=https://www.lecluse.fr/>Olivier Lecluse</a></p>\n"
   ]
  }
 ],
 "metadata": {
  "kernelspec": {
   "display_name": "Python 3",
   "language": "python",
   "name": "python3"
  },
  "language_info": {
   "codemirror_mode": {
    "name": "ipython",
    "version": 3
   },
   "file_extension": ".py",
   "mimetype": "text/x-python",
   "name": "python",
   "nbconvert_exporter": "python",
   "pygments_lexer": "ipython3",
   "version": "3.8.3"
  }
 },
 "nbformat": 4,
 "nbformat_minor": 2
}
