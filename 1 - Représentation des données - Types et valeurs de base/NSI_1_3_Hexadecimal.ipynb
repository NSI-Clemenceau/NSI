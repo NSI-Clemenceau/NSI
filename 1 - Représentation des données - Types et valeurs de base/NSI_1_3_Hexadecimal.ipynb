{
 "cells": [
  {
   "cell_type": "markdown",
   "metadata": {},
   "source": [
    "# Pourquoi et comment utiliser une base hexadécimale ?"
   ]
  },
  {
   "cell_type": "markdown",
   "metadata": {},
   "source": [
    "## Mais pourquoi donc utiliser l'hexadécimal ?\n",
    "\n",
    "Le binaire, c'est bien pratique : on peut coder des nombres uniquement avec des 0 et des 1. \n",
    "\n",
    "C'est bien pour représenter des données par signaux électriques, sur les DVD, les disques durs, clés USB, mais dans la vie de tous les jours ce n'est pas facile d'utilisation. Au quotidien, on utilise plutôt la base 10. \n",
    "\n",
    "Le problème c'est qu'en informatique, tout est basé sur le binaire, il est donc plus aisé d'encoder les informations sur un nombre multiple de 2. C'est pourquoi on utilise souvent la base 16, appelé **système hexadécimal** (hexa = 6, déci = 10, 16 = 6 + 10) car 16 est un multiple de 2, et qu'il **permet de représenter 8 bits avec seulement 2 chiffres**. \n",
    "\n",
    "> __Remarque :__ on parle de chiffres même si, on le verra, parmi ces chiffres se trouvent également des lettres.\n",
    "\n",
    "## Mais comment donc utiliser l'hexadécimal ?\n",
    "\n",
    "En base 10, on utilise 10 chiffres. \n",
    "En base 2 (binaire) on utilise seulement 2 chiffres : 0 et 1. \n",
    "Du coup, en base 16, il faut 16 chiffres : 0 1 2 3 4 5 6 7 8 9... et quoi après ? \n",
    "\n",
    "On prend des lettres de l'alphabet. Ce qui donne : **0 1 2 3 4 5 6 7 8 9 A B C D E F**\n",
    "\n",
    "On peut établir une liste de correspondances entre la base 10 et la base 16 (voire même la base 2) :\n",
    "\n",
    "| Binaire (base 2) | Décimal (base 10) | Hexadécimal (base 16) |\n",
    "| :------------: | :-------------: | :-------------: |\n",
    "0|0|0\n",
    "1|1|1\n",
    "10|2|2\n",
    "11|3|3\n",
    "100|4|4\n",
    "101|5|5\n",
    "110|6|6\n",
    "111|7|7\n",
    "1000|8|8\n",
    "1001|9|9\n",
    "1010|10|A\n",
    "1011|11|B\n",
    "1100|12|C\n",
    "1101|13|D\n",
    "1110|14|E\n",
    "1111|15|F\n",
    "\n",
    "Comme vous pouvez le voir, le plus grand chiffre en hexadécimal est F, et il correspond au nombre 15 en décimal et 1111 en binaire : **le plus grand chiffre en hexadécimal est donc encodé sur 4 bits**\n",
    "\n",
    "## Conversions hexadécimales\n",
    "### En passant par le binaire...\n",
    "\n",
    "Pour convertir un nombre binaire en base 16, on regroupe les bits 4 à 4, chaque *nombre* de 4 bits donnant un chiffre hexadécimal. **Un octet est donc codé par deux chiffres hexadécimaux**.\n",
    "\n",
    "À l'inverse, passer d'un nombre hexadécimal à sa représentation binaire se fait en remplaçant chaque chiffre par son équivalent sur 4 bits. \n",
    "\n",
    "Ainsi, $(11011001)_2 = (1101\\ 1001)_2 = (D9)_{16}$, \n",
    "\n",
    "tandis que $(7F)_{16} = (0111\\ 1111)_2 = (01111111)_2$. \n",
    "\n",
    "> **Remarque :**\n",
    "si le nombre binaire de départ n'a pas un nombre de bits multiple de 4, il faut ajouter des zéros en tête (ce qui ne change pas sa valeur), afin de pouvoir les regrouper 4 par 4.\n",
    "\n",
    "### Entraînement manuel aux conversions hexadécimal - binaire - décimal\n",
    "\n",
    "Au brouillon, effectuer les conversions suivantes :\n",
    "\n",
    "> - $(101111011001)_2 = (...)_{16} = (...)_{10}$\n",
    "- $(111011)_2 = (...)_{16} = (...)_{10}$\n",
    "- $(E4)_{16} = (...)_2 = (...)_{10}$\n",
    "- $(1A3F)_{16} = (...)_2 = (...)_{10}$\n",
    "\n",
    "Sachant que :\n",
    "- il existe la fonction `hex()` pour convertir un nombre décimal en hexadécimal\n",
    "- un nombre hexadécimal se note `0x...` (exemple : $(E4)_{16}$ se code `OxE4`)\n",
    "\n",
    "... vérifier dans la cellule ci-dessous que vos conversions sont exactes. Refaire vos conversions en cas d'erreur et corriger votre notebook."
   ]
  },
  {
   "cell_type": "code",
   "execution_count": null,
   "metadata": {},
   "outputs": [],
   "source": []
  },
  {
   "cell_type": "markdown",
   "metadata": {},
   "source": [
    "## Conversions directes de l'hexadécimal au décimal\n",
    "\n",
    "Le principe est le même que pour la conversation \"binaire en décimal\" sauf qu'au lieu d'utiliser des $2^n$ on utilise des $16^n$ :\n",
    "\n",
    "> **Exemple :**\n",
    "- $(12B7)_{16} = 1×16^3 + 2×16^2 + 11×16^1 + 7×16^0$\n",
    "- $(12B7)_{16} = 1×4096 + 2×256 + 11×16 + 7$\n",
    "- $(12B7)_{16} = 4096 + 512 + 176 + 7$ \n",
    "- $(12B7)_{16} = 4791$\n",
    "\n",
    "> **Remarque :**\n",
    "- quand on trouve un B dans le nombre écrit en hexadécimal, on le remplace par un 11 dans le calcul. \n",
    "- c'est exactement la même chose quand on trouve :\n",
    "  - un A, on le remplace par un 10\n",
    "  - un C, on le remplace par un 12\n",
    "  - un D, on le remplace par un 13\n",
    "  - un E, on le remplace par un 14\n",
    "  - un F, on le remplace par un 15\n",
    "\n",
    "### Entraînement manuel aux conversions hexadécimal - décimal\n",
    "\n",
    "Au brouillon, effectuer les conversions suivantes :\n",
    "\n",
    "> - $(F3)_{16} = (...)_{10}$\n",
    "- $(1B87)_{16} = (...)_{10}$\n",
    "- $(AE45)_{16} = (...)_{10}$\n",
    "\n",
    "Vérifier dans la cellule ci-dessous que vos conversions sont exactes à l'aide des fonctions Python vues précédemment. Refaire vos conversions en cas d'erreur et corriger votre notebook."
   ]
  },
  {
   "cell_type": "code",
   "execution_count": null,
   "metadata": {},
   "outputs": [],
   "source": []
  },
  {
   "cell_type": "markdown",
   "metadata": {},
   "source": [
    "## Conversions directes du décimal à l'hexadécimal\n",
    "\n",
    "Pour convertir un nombre décimal en hexadécimal, la méthode est similaire au binaire, sauf que cette fois on divise par 16.\n",
    "\n",
    "> **Exemple :**\n",
    "- 185 = **11** x 16 + **9**\n",
    "- **11** = 0 x 16 + **11** (le 11 décimal étant équivalent au B hexadécimal)\n",
    "- Attention, il faut lire de bas en haut, du dernier reste au premier.\n",
    "- 185 en base 10 vaut donc B9 en base 16.\n",
    "\n",
    "### Entraînement manuel aux conversions décimal - hexadécimal\n",
    "\n",
    "Au brouillon, effectuer les conversions suivantes :\n",
    "\n",
    "> - $(23)_{10} = (...)_{16}$\n",
    "- $(1387)_{10} = (...)_{16}$\n",
    "- $(52468)_{10} = (...)_{16}$\n",
    "\n",
    "Vérifier dans la cellule ci-dessous que vos conversions sont exactes à l'aide des fonctions Python vues précédemment. Refaire vos conversions en cas d'erreur et corriger votre notebook."
   ]
  },
  {
   "cell_type": "code",
   "execution_count": null,
   "metadata": {},
   "outputs": [],
   "source": []
  },
  {
   "cell_type": "markdown",
   "metadata": {},
   "source": [
    "## Que retenir ?\n",
    "### À minima...\n",
    "\n",
    "- Chaque chiffre hexadécimal (0 à F) peut être représenté par un nombre décimal de un ou deux chiffres (0 à 15) ou par un nombre binaire de un à quatre bits (0 à 1111).\n",
    "- Le système hexadécimal permet donc de représenter 8 bits avec seulement 2 chiffres.\n",
    "- Tous ces systèmes (décimal, binaire, hexadécimal,...) ne changent pas les nombres, ce ne sont que des façons déifférentes de représenter un même nombre.\n",
    "- Savoir utiliser la fonction `hex()` pour convertir un nombre en hexadécimal.\n",
    "- Savoir convertir manuellement un nombre binaire vers l'hexadécimal.\n",
    "- Savoir convertir manuellement un nombre décimal vers l'hexadécimal.\n",
    "\n",
    "### Au mieux...\n",
    "\n",
    "- Savoir convertir manuellement de l'hexadécimal vers du binaire et du décimal.\n",
    "- En Python, un nombre hexadécimal se note `0x...` (exemple : $(E4)_{16}$ se code `OxE4`)"
   ]
  },
  {
   "cell_type": "markdown",
   "metadata": {},
   "source": [
    "---\n",
    "[![Licence CC BY NC SA](https://licensebuttons.net/l/by-nc-sa/3.0/88x31.png \"licence Creative Commons CC BY-NC-SA\")](http://creativecommons.org/licenses/by-nc-sa/3.0/fr/)\n",
    "<p style=\"text-align: center;\">Auteur : David Landry, Lycée Clemenceau - Nantes</p>\n",
    "<p style=\"text-align: center;\">D'après des documents partagés par <a  href=https://pixees.fr/informatiquelycee/n_site/nsi_prem.html>Tom Niget et David Roche</a> sous la licence CC BY-SA</p>"
   ]
  }
 ],
 "metadata": {
  "kernelspec": {
   "display_name": "Python 3",
   "language": "python",
   "name": "python3"
  },
  "language_info": {
   "codemirror_mode": {
    "name": "ipython",
    "version": 3
   },
   "file_extension": ".py",
   "mimetype": "text/x-python",
   "name": "python",
   "nbconvert_exporter": "python",
   "pygments_lexer": "ipython3",
   "version": "3.8.3"
  }
 },
 "nbformat": 4,
 "nbformat_minor": 2
}
