{
 "cells": [
  {
   "cell_type": "markdown",
   "metadata": {},
   "source": [
    "# Fusion de tables\n",
    "\n",
    "La fusion de tables consiste à __réunir en une seule table des données__ présentes dans plusieurs tables.\n",
    "\n",
    "Il existe deux grands types de fusion de tables :\n",
    "\n",
    "- __La réunion de tables__ : lorsque les descripteurs des deux tables sont identiques (par exemple dans le cadre de l'obtention de données plus récentes), on peut facilement réunir l'ensemble des données en une seule table.\n",
    "- __La jointure de tables__ : lorsque deux tables ont au moins un descripteur en commun, il est également possible de fusionner ces tables pour créer une nouvelle table comprenant ce descripteur commun et d'autres, au choix.\n",
    "\n",
    "\n",
    "## Pourquoi fusionner des tables ?\n",
    "\n",
    "Reprenons notre table des naissances nantaises...\n",
    "\n",
    "Admettons que nous récupérions un fichier CSV avec __uniquement les naissances nantaises de l'année 2020__, il serait intéressant d'intégrer ces nouvelles données à notre précédente table pour obtenir une __table de données \"mise à jour\"__. Dans ce cas, il faudra procédéer à une __réunion de table__ car on peut considérer comme acquis que __tous les descripteurs soient conservés d'une année sur l'autre__.\n",
    "\n",
    "Considérons maintenant que nous trouvions un autre fichier, ayant pour descripteurs :\n",
    "\n",
    "- des prénoms\n",
    "- leur étymologie\n",
    "- leur histoire\n",
    "- des personnage célèbres ayant porté ce prénom\n",
    "- etc\n",
    "\n",
    "Si on veut créer un site web sur les prénoms, il serait très intéressant d'avoir une table réunissant, à la fois ces dernières données, mais aussi les occurrences de naissance. Dans ce cas, __seul le descripteur \"prénom\" est commun aux deux tables, il faudra donc procéder à une jointure__.\n",
    "\n",
    "## Comment fusionner deux tables ?\n",
    "\n",
    "### Réunion de tables\n",
    "#### Mise à jour d'une table avec des données récentes\n",
    "\n",
    "Vous avez à votre disposition un __fichier avec des données fictives__, crée uniquement pour cette activité NSI : 2020_fictif_prenoms-enfants-nes-nantes.csv\n",
    "\n",
    "Le code suivant crée __deux tables, à partir des deux fichiers__ à notre disposition :"
   ]
  },
  {
   "cell_type": "code",
   "execution_count": null,
   "metadata": {},
   "outputs": [],
   "source": [
    "import csv\n",
    "\n",
    "with open(\"244400404_prenoms-enfants-nes-nantes.csv\", mode='r', encoding='utf-8') as f:\n",
    "    reader = csv.DictReader(f, delimiter=';')\n",
    "    table_naissances = [{key : value for key, value in element.items()} for element in reader]\n",
    "\n",
    "with open(\"2020_fictif_prenoms-enfants-nes-nantes.csv\", mode='r', encoding='utf-8') as f:\n",
    "    reader = csv.DictReader(f, delimiter=';')\n",
    "    table_naissances_2020 = [{key : value for key, value in element.items()} for element in reader]\n",
    "\n",
    "print(table_naissances_2020)"
   ]
  },
  {
   "cell_type": "markdown",
   "metadata": {},
   "source": [
    "L'objectif est de __réunir les données de naissances 2020 à la table créee à partir du fichier de l'open data nantais__.\n",
    "\n",
    "Il faut donc simplement parcourir la table 2020 et ajouter chacun des éléments qu'elle contient à la table principale :"
   ]
  },
  {
   "cell_type": "code",
   "execution_count": null,
   "metadata": {},
   "outputs": [],
   "source": [
    "for bebe in table_naissances_2020:\n",
    "    table_naissances.append(bebe)\n",
    "\n",
    "print(table_naissances)"
   ]
  },
  {
   "cell_type": "markdown",
   "metadata": {},
   "source": [
    "Nous voici donc avec une __nouvelle table, mise à jour__ avec toutes les naissances nantaises de 2001 à 2020. \n",
    "\n",
    "### Jointure de tables\n",
    "\n",
    "> __Remarques :__\n",
    "- l'exemple choisi dans la suite de ce notebook incite à effectuer une jointure sur index plutôt que sur tables. Le principe est toufois le même mais, __si vous préférez étudier une vraie jointure de tables, plus simple, passez directement au prochain notebook, NSI_P4, appliquant une jointure pour le projet \"Choixpeau magique\"__.\n",
    "- la suite de ce notebook n'étant pas simple, les activités y sont directement corrigées. Toutefois, __si vous vous sentez en confiance__, il vous est toujours possible d'effacer le contenu de certaines cellules de code pour faire vous même les activités.\n",
    "\n",
    "Afin de __comparer les naissances nantaises et les naissances rennaises__, nous allons créer une table réunissant les données de ces deux villes. On parle de __jointure de table car elles ont au moins un descripteur en commun : \"Prénom\"__.\n",
    "\n",
    "Nous allons __créer une table permettant de savoir si tel ou tel prénom est davantage donné à Nantes ou à Rennes, année par année__.\n",
    "\n",
    "Nous pouvons reprendre la table nantaise, sous sa forme indexée par prénom.\n",
    "\n",
    "> __Remarque :__ on en profite au passage pour transformer le type des occurrences en entier, ce qui facilitera les comparaisons ultérieures."
   ]
  },
  {
   "cell_type": "code",
   "execution_count": null,
   "metadata": {},
   "outputs": [],
   "source": [
    "import csv\n",
    "\n",
    "with open(\"244400404_prenoms-enfants-nes-nantes.csv\", mode='r', encoding='utf-8') as f:\n",
    "    reader = csv.DictReader(f, delimiter=';')\n",
    "    naissances_nantaises = [{key : value for key, value in element.items()} for element in reader]\n",
    "\n",
    "index_nantais = {}\n",
    "\n",
    "for element in naissances_nantaises:\n",
    "    if element['Prénom'] in index_nantais:\n",
    "        index_nantais[element['Prénom']].update({element['Année de naissance'] : int(float(element['Occurence']))})\n",
    "    else:\n",
    "        index_nantais[element['Prénom']] = {element['Année de naissance'] : int(float(element['Occurence']))}\n",
    "\n",
    "print(index_nantais)"
   ]
  },
  {
   "cell_type": "markdown",
   "metadata": {},
   "source": [
    "Reste à __faire de même avec les données rennaises__, téléchargées à partir du [site d'open data de la Métropole de Rennes](https://data.rennesmetropole.fr/explore/dataset/prenoms-a-rennes/).\n",
    "\n",
    "Nous ne reprendrons que les attributs qui nous intéressent : ceux concernant les prénoms et les occurrences de naissances pour chaque année."
   ]
  },
  {
   "cell_type": "code",
   "execution_count": null,
   "metadata": {},
   "outputs": [],
   "source": [
    "with open(\"prenoms-a-rennes.csv\", mode='r', encoding='utf-8') as f:\n",
    "    reader = csv.DictReader(f, delimiter=';')\n",
    "    naissances_rennaises = [{key : value for key, value in element.items()} for element in reader]\n",
    "\n",
    "index_rennais = {}\n",
    "\n",
    "for element in naissances_rennaises:\n",
    "    if element['Prénom'] in index_rennais:\n",
    "        index_rennais[element['Prénom']].update({element['Année de naissance'] : element['Nombre']})\n",
    "    else:\n",
    "        index_rennais[element['Prénom']] = {element['Année de naissance'] : element['Nombre']}\n",
    "\n",
    "print(index_rennais)"
   ]
  },
  {
   "cell_type": "markdown",
   "metadata": {},
   "source": [
    "Pour __harmoniser les deux tables__, il faut également :\n",
    "\n",
    "- passer en __majuscules__ les prénoms de la table rennaise.\n",
    "- __convertir en entier les occurrences__ de naissance.\n",
    "- rétablir une égalité à propos des prénoms peu donnés. La ville de Nantes ne répertoriant que les prénoms donnés au moins 5 fois dans l'année, il faut __exclure de la table rennaise les prénoms ayant une occurrence inférieure à 5__."
   ]
  },
  {
   "cell_type": "code",
   "execution_count": null,
   "metadata": {
    "scrolled": false
   },
   "outputs": [],
   "source": [
    "index_rennais = {}\n",
    "\n",
    "for element in naissances_rennaises:\n",
    "    if int(element['Nombre']) >= 5:\n",
    "        if element['Prénom'].upper() in index_rennais:\n",
    "            index_rennais[element['Prénom'].upper()].update({element['Année de naissance'] : int(element['Nombre'])})\n",
    "        else:\n",
    "            index_rennais[element['Prénom'].upper()] = {element['Année de naissance'] : int(element['Nombre'])}\n",
    "\n",
    "print(index_rennais)"
   ]
  },
  {
   "cell_type": "markdown",
   "metadata": {},
   "source": [
    "> __Remarque :__ à ce stade, nous pourrions déjà comparer les occurrences de prénoms entre les deux villes, à l'aide des deux tables séparées. Voir ci-dessous."
   ]
  },
  {
   "cell_type": "code",
   "execution_count": null,
   "metadata": {},
   "outputs": [],
   "source": [
    "# Dans quelle ville a-t-on donné naissance au plus de ... en ...\n",
    "\n",
    "prenom = input(\"Saisir un prénom : \")\n",
    "annee = input(\"Saisir une année : \")\n",
    "\n",
    "if prenom.upper() in index_nantais and prenom.upper() in index_rennais:\n",
    "    if annee in index_nantais[prenom.upper()] and annee in index_rennais[prenom.upper()]:\n",
    "        if index_nantais[prenom.upper()][annee] > index_rennais[prenom.upper()][annee]:\n",
    "            print(f\"C'est à Nantes qu'il est né le plus de {prenom} en {annee} : \\\n",
    "                  \\n  - {index_nantais[prenom.upper()][annee]} {prenom} à Nantes\\\n",
    "                  \\n  - {index_rennais[prenom.upper()][annee]} {prenom} à Rennes\")\n",
    "        elif index_nantais[prenom.upper()][annee] < index_rennais[prenom.upper()][annee]:\n",
    "            print(f\"C'est à Rennes qu'il est né le plus de {prenom} en {annee} : \\\n",
    "                  \\n  - {index_rennais[prenom.upper()][annee]} {prenom} à Rennes\\\n",
    "                  \\n  - {index_nantais[prenom.upper()][annee]} {prenom} à Nantes\")\n",
    "        else:\n",
    "            print(f\"Il est né autant de {prenom} à Nantes et Rennes en {annee} : \\\n",
    "            {index_nantais[prenom.upper()][annee]} naissances\")\n",
    "    else:\n",
    "        print(\"Ce prénom n'a pas été donné cette année dans au moins une des villes\")\n",
    "else:\n",
    "    print(\"Ce prénom n'a pas été donné dans au moins une des villes\")"
   ]
  },
  {
   "cell_type": "markdown",
   "metadata": {},
   "source": [
    "Nous avons utilisé les deux index séparément. Toutefois, il peut être plus cohérent d'__avoir l'ensemble de nos données dans une seule table__. Il faut pour cela faire une jointure.\n",
    "\n",
    "Pour effectuer une __jointure entre nos deux index__, nous créerons un nouvel index basé sur la structure suivante :\n",
    "\n",
    "```\n",
    "index_naissances = {{'PRENOM': {'NANTES': {dates et occurrences nantaise}, 'RENNES': {dates et occurrences rennaise}}, ..........................................}\n",
    "```\n",
    "Ce qui permettra de faire des recherches rapides, sous la forme :\n",
    "```\n",
    "index_naissances['PRENOM']['VILLE']['ANNEE']\n",
    "```\n",
    "\n",
    "Le __descriteur commun aux deux tables, sur lequel sera basée la jointure__ est donc `PRENOM`."
   ]
  },
  {
   "cell_type": "code",
   "execution_count": null,
   "metadata": {},
   "outputs": [],
   "source": [
    "index_naissances = {}\n",
    "\n",
    "for prenom_nantais, stats_nantaises in index_nantais.items():\n",
    "    for prenom_rennais, stats_rennaises in index_rennais.items():\n",
    "        if prenom_nantais == prenom_rennais:\n",
    "            index_naissances[prenom_nantais] = {'NANTES': stats_nantaises,\n",
    "                                                'RENNES': stats_rennaises}\n",
    "print(index_naissances)"
   ]
  },
  {
   "cell_type": "markdown",
   "metadata": {},
   "source": [
    "Ce nouvel index permet ainsi de faire des __recherches et des comparaisons rapides__, avec une bonne lisibilité du code.\n",
    "\n",
    "Quelques exemples...."
   ]
  },
  {
   "cell_type": "code",
   "execution_count": null,
   "metadata": {},
   "outputs": [],
   "source": [
    "index_naissances['GARANCE']"
   ]
  },
  {
   "cell_type": "code",
   "execution_count": null,
   "metadata": {
    "scrolled": true
   },
   "outputs": [],
   "source": [
    "index_naissances['GARANCE']['NANTES']"
   ]
  },
  {
   "cell_type": "code",
   "execution_count": null,
   "metadata": {
    "scrolled": false
   },
   "outputs": [],
   "source": [
    "index_naissances['GARANCE']['NANTES']['2018']"
   ]
  },
  {
   "cell_type": "code",
   "execution_count": null,
   "metadata": {
    "scrolled": false
   },
   "outputs": [],
   "source": [
    "index_naissances['GARANCE']['RENNES']['2018']"
   ]
  },
  {
   "cell_type": "code",
   "execution_count": null,
   "metadata": {
    "scrolled": true
   },
   "outputs": [],
   "source": [
    "index_naissances['GARANCE']['NANTES']['2018'] > index_naissances['GARANCE']['RENNES']['2018']"
   ]
  },
  {
   "cell_type": "markdown",
   "metadata": {},
   "source": [
    "## Que retenir ?\n",
    "### À minima...\n",
    "\n",
    "- Lorsqu'on souhaite réunir sur une seule table des données présentes dans plusieurs tables, on doit faire une fusion.\n",
    "- Il existe deux types de fusion de tables :\n",
    "  - la réunion de tables si les descripteurs des deux tables sont strictement identiques.\n",
    "  - la jointure de tables si un ou plusieurs descripteurs sont communs aux deux tables. On choisit alors le descripteur commun qui sera la base de la jointure.\n",
    "- Savoir effectuer une réunion de tables.\n",
    "\n",
    "### Au mieux...\n",
    "\n",
    "- Savoir effectuer une jointure de tables (voir notebook P4)."
   ]
  },
  {
   "cell_type": "markdown",
   "metadata": {},
   "source": [
    "---\n",
    "[![Licence CC BY NC SA](https://licensebuttons.net/l/by-nc-sa/3.0/88x31.png \"licence Creative Commons CC BY-NC-SA\")](http://creativecommons.org/licenses/by-nc-sa/3.0/fr/)\n",
    "<p style=\"text-align: center;\">Auteur : David Landry, Lycée Clemenceau - Nantes</p>"
   ]
  }
 ],
 "metadata": {
  "kernelspec": {
   "display_name": "Python 3",
   "language": "python",
   "name": "python3"
  },
  "language_info": {
   "codemirror_mode": {
    "name": "ipython",
    "version": 3
   },
   "file_extension": ".py",
   "mimetype": "text/x-python",
   "name": "python",
   "nbconvert_exporter": "python",
   "pygments_lexer": "ipython3",
   "version": "3.8.3"
  }
 },
 "nbformat": 4,
 "nbformat_minor": 2
}
